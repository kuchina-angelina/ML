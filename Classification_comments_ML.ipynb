{
  "nbformat": 4,
  "nbformat_minor": 0,
  "metadata": {
    "colab": {
      "provenance": [],
      "collapsed_sections": [
        "_x8LyBgmfmYm",
        "zbwARmT1dQ4R",
        "HPwRM_m6YAW8",
        "Xkl6kKhejM7V",
        "H8o22e8HGlC3",
        "zfZ_mj60wX_x",
        "E7n4M8Oywimq",
        "nQcUJtFRxasQ",
        "Nh6aITSp7t_L",
        "5MHRc5rYACjA",
        "Cpg801pBAETD"
      ]
    },
    "kernelspec": {
      "name": "python3",
      "display_name": "Python 3"
    },
    "language_info": {
      "name": "python"
    }
  },
  "cells": [
    {
      "cell_type": "markdown",
      "source": [
        "##**Лабораторная работа №1. Классификация текстов на реальных данных**\n",
        "Выполнена студентками группы ПИ21-2в Струевой Тамарой и Кучиной Ангелиной"
      ],
      "metadata": {
        "id": "zVLwzbUnfQmH"
      }
    },
    {
      "cell_type": "markdown",
      "source": [
        "Импорт необходимых библиотек"
      ],
      "metadata": {
        "id": "oImqmIBhfhlb"
      }
    },
    {
      "cell_type": "code",
      "execution_count": null,
      "metadata": {
        "id": "NMr3og__L01Q"
      },
      "outputs": [],
      "source": [
        "from requests import get # библиотека для получения данных с сайта\n",
        "from bs4 import BeautifulSoup # библиотека для чтения данных из html\n",
        "import pandas as pd # библиотека для работы с датасетом\n",
        "import numpy as np # библиотека для работы с числами/пустыми значениями\n",
        "import csv # библиотека для записи данных в файл\n",
        "import matplotlib.pyplot as plt # библиотека для визуализации данных\n",
        "\n",
        "from nltk.stem.snowball import RussianStemmer # стемминг\n",
        "from imblearn.over_sampling import RandomOverSampler\n",
        "from sklearn.feature_extraction.text import TfidfVectorizer # векторизация текста\n",
        "from sklearn.metrics import accuracy_score, f1_score # метрики моделей\n",
        "from sklearn.model_selection import train_test_split # разделение выборки\n",
        "from sklearn.model_selection import GridSearchCV # подбор лучших параметров\n",
        "from sklearn.svm import LinearSVC # линейные опорные вектора (модель)\n",
        "from sklearn.linear_model import LogisticRegression # логистическая регрессия (модель)\n",
        "from sklearn.linear_model import SGDClassifier # классификация градиентным спуском (модель)\n",
        "from sklearn.neighbors import KNeighborsClassifier # метод k ближайших соседей (модель)\n",
        "from nltk.corpus import stopwords # стопслова для удаления из текста\n",
        "from nltk.tokenize import word_tokenize # токенизация текста (разбиение на слова/токены)\n",
        "import re #регулярные выражения\n",
        "import time"
      ]
    },
    {
      "cell_type": "code",
      "source": [
        "import nltk\n",
        "nltk.download('punkt')\n",
        "nltk.download('stopwords')"
      ],
      "metadata": {
        "colab": {
          "base_uri": "https://localhost:8080/"
        },
        "id": "NudqWfRLt7ZU",
        "outputId": "50704974-8e47-4d56-eeac-eac4f03f17d5"
      },
      "execution_count": null,
      "outputs": [
        {
          "output_type": "stream",
          "name": "stderr",
          "text": [
            "[nltk_data] Downloading package punkt to /root/nltk_data...\n",
            "[nltk_data]   Unzipping tokenizers/punkt.zip.\n",
            "[nltk_data] Downloading package stopwords to /root/nltk_data...\n",
            "[nltk_data]   Unzipping corpora/stopwords.zip.\n"
          ]
        },
        {
          "output_type": "execute_result",
          "data": {
            "text/plain": [
              "True"
            ]
          },
          "metadata": {},
          "execution_count": 2
        }
      ]
    },
    {
      "cell_type": "markdown",
      "source": [
        "## Автоматический сбор информации с отзывами с сайта banki.ru"
      ],
      "metadata": {
        "id": "_x8LyBgmfmYm"
      }
    },
    {
      "cell_type": "code",
      "source": [
        "base_url = \"https://www.banki.ru/insurance/responses/list/\""
      ],
      "metadata": {
        "id": "Ange8bwUwdLx"
      },
      "execution_count": null,
      "outputs": []
    },
    {
      "cell_type": "code",
      "source": [
        "def parse_source(url):\n",
        "    main_url = 'https://www.banki.ru'\n",
        "    data = {\"header\": [], \"bank\": [], \"review\": [], \"rate\": [], \"date\": []}\n",
        "\n",
        "    i = 1\n",
        "    # нажимакм на конпку «показать еще»\n",
        "    page = get(f\"{url}?page={i}&isMobile=0\")\n",
        "    while (page.status_code == 200 and i < 400):\n",
        "        # читаем код страницы\n",
        "        soup = BeautifulSoup(page.text, \"lxml\")\n",
        "        # получаем тэги со ссылками на карточку отзыва\n",
        "        all_reviews = soup.find_all(\"article\", class_=\"responses__item\")\n",
        "        # print(all_reviews)\n",
        "\n",
        "        # достаем ссылки из тэгов и помещаем их в список\n",
        "        links = []\n",
        "        for href in all_reviews:\n",
        "            links.append(href.find(\"a\", href=True)[\"href\"])\n",
        "\n",
        "        # проход по карточкам с отзывами в списке ссылок\n",
        "        for link in links:\n",
        "            # получаем данные из карточки\n",
        "            result = get(f'{main_url}{link}')\n",
        "            if (page.status_code == 200 and i < 400):\n",
        "                content = result.text\n",
        "                soup = BeautifulSoup(content, 'lxml')\n",
        "                # получение отдельных данных для заполнения датасета\n",
        "\n",
        "                try:\n",
        "                  header = soup.find(\"h1\").text.strip()\n",
        "                  bank = soup.find(\"div\", itemprop=\"itemreviewed\").text.strip()\n",
        "                  review = soup.find(\"div\", class_ = \"article-text response-page__text markup-inside-small markup-inside-small--bullet\").text.strip()\n",
        "                  rate = soup.find(\"span\", class_ = \"rating-grade\").text.strip()\n",
        "                  date = soup.find(\"time\", itemprop=\"dtreviewed\").text.strip()[:-6]\n",
        "                  # print(\"i \", i, header, bank, rate, date, sep=\", \")\n",
        "\n",
        "                  data[\"header\"].append(header)\n",
        "                  data[\"bank\"].append(bank)\n",
        "                  data[\"review\"].append(review)\n",
        "                  data[\"rate\"].append(rate)\n",
        "                  data[\"date\"].append(date)\n",
        "\n",
        "                except AttributeError:\n",
        "                  print(\"&&&\")\n",
        "                  continue\n",
        "        i += 1\n",
        "        page = get(f'https://www.banki.ru/insurance/responses/list/?page={i}&isMobile=0')\n",
        "    return data"
      ],
      "metadata": {
        "id": "ZFt3MtSvTmDU"
      },
      "execution_count": null,
      "outputs": []
    },
    {
      "cell_type": "code",
      "source": [
        "df = pd.DataFrame(parse_source(base_url))"
      ],
      "metadata": {
        "id": "0wFyp1kzPbWG",
        "colab": {
          "base_uri": "https://localhost:8080/"
        },
        "outputId": "b626f4e1-c897-4778-b8d8-e6ef5265f5c9",
        "collapsed": true
      },
      "execution_count": null,
      "outputs": [
        {
          "output_type": "stream",
          "name": "stdout",
          "text": [
            "&&&\n",
            "&&&\n",
            "&&&\n",
            "&&&\n",
            "&&&\n",
            "&&&\n",
            "&&&\n",
            "&&&\n",
            "&&&\n",
            "&&&\n",
            "&&&\n",
            "&&&\n",
            "&&&\n",
            "&&&\n",
            "&&&\n",
            "&&&\n",
            "&&&\n",
            "&&&\n",
            "&&&\n",
            "&&&\n",
            "&&&\n",
            "&&&\n",
            "&&&\n",
            "&&&\n",
            "&&&\n",
            "&&&\n",
            "&&&\n",
            "&&&\n",
            "&&&\n",
            "&&&\n",
            "&&&\n",
            "&&&\n",
            "&&&\n",
            "&&&\n",
            "&&&\n",
            "&&&\n",
            "&&&\n",
            "&&&\n",
            "&&&\n",
            "&&&\n",
            "&&&\n",
            "&&&\n",
            "&&&\n",
            "&&&\n",
            "&&&\n",
            "&&&\n",
            "&&&\n",
            "&&&\n",
            "&&&\n",
            "&&&\n",
            "&&&\n",
            "&&&\n",
            "&&&\n",
            "&&&\n",
            "&&&\n",
            "&&&\n",
            "&&&\n",
            "&&&\n",
            "&&&\n",
            "&&&\n",
            "&&&\n",
            "&&&\n",
            "&&&\n",
            "&&&\n",
            "&&&\n",
            "&&&\n",
            "&&&\n",
            "&&&\n",
            "&&&\n",
            "&&&\n",
            "&&&\n",
            "&&&\n",
            "&&&\n",
            "&&&\n",
            "&&&\n",
            "&&&\n",
            "&&&\n",
            "&&&\n",
            "&&&\n",
            "&&&\n",
            "&&&\n",
            "&&&\n",
            "&&&\n",
            "&&&\n",
            "&&&\n",
            "&&&\n",
            "&&&\n",
            "&&&\n",
            "&&&\n",
            "&&&\n",
            "&&&\n",
            "&&&\n",
            "&&&\n",
            "&&&\n",
            "&&&\n",
            "&&&\n",
            "&&&\n",
            "&&&\n",
            "&&&\n",
            "&&&\n",
            "&&&\n",
            "&&&\n",
            "&&&\n",
            "&&&\n",
            "&&&\n",
            "&&&\n",
            "&&&\n",
            "&&&\n",
            "&&&\n",
            "&&&\n",
            "&&&\n",
            "&&&\n",
            "&&&\n",
            "&&&\n",
            "&&&\n",
            "&&&\n",
            "&&&\n",
            "&&&\n",
            "&&&\n",
            "&&&\n",
            "&&&\n",
            "&&&\n",
            "&&&\n",
            "&&&\n",
            "&&&\n",
            "&&&\n",
            "&&&\n",
            "&&&\n",
            "&&&\n",
            "&&&\n",
            "&&&\n",
            "&&&\n",
            "&&&\n",
            "&&&\n",
            "&&&\n",
            "&&&\n",
            "&&&\n",
            "&&&\n",
            "&&&\n",
            "&&&\n",
            "&&&\n",
            "&&&\n",
            "&&&\n",
            "&&&\n",
            "&&&\n",
            "&&&\n",
            "&&&\n",
            "&&&\n",
            "&&&\n",
            "&&&\n",
            "&&&\n",
            "&&&\n",
            "&&&\n",
            "&&&\n",
            "&&&\n",
            "&&&\n",
            "&&&\n",
            "&&&\n",
            "&&&\n",
            "&&&\n",
            "&&&\n",
            "&&&\n",
            "&&&\n",
            "&&&\n",
            "&&&\n",
            "&&&\n",
            "&&&\n",
            "&&&\n",
            "&&&\n",
            "&&&\n",
            "&&&\n",
            "&&&\n",
            "&&&\n",
            "&&&\n",
            "&&&\n",
            "&&&\n",
            "&&&\n",
            "&&&\n",
            "&&&\n",
            "&&&\n",
            "&&&\n",
            "&&&\n",
            "&&&\n",
            "&&&\n",
            "&&&\n",
            "&&&\n",
            "&&&\n",
            "&&&\n",
            "&&&\n",
            "&&&\n",
            "&&&\n",
            "&&&\n",
            "&&&\n",
            "&&&\n",
            "&&&\n",
            "&&&\n",
            "&&&\n",
            "&&&\n",
            "&&&\n",
            "&&&\n",
            "&&&\n",
            "&&&\n",
            "&&&\n",
            "&&&\n",
            "&&&\n",
            "&&&\n",
            "&&&\n",
            "&&&\n",
            "&&&\n",
            "&&&\n",
            "&&&\n",
            "&&&\n",
            "&&&\n",
            "&&&\n",
            "&&&\n",
            "&&&\n",
            "&&&\n",
            "&&&\n",
            "&&&\n",
            "&&&\n",
            "&&&\n",
            "&&&\n",
            "&&&\n",
            "&&&\n",
            "&&&\n",
            "&&&\n",
            "&&&\n",
            "&&&\n",
            "&&&\n",
            "&&&\n",
            "&&&\n",
            "&&&\n",
            "&&&\n",
            "&&&\n",
            "&&&\n",
            "&&&\n",
            "&&&\n",
            "&&&\n",
            "&&&\n",
            "&&&\n",
            "&&&\n",
            "&&&\n",
            "&&&\n",
            "&&&\n",
            "&&&\n",
            "&&&\n",
            "&&&\n",
            "&&&\n",
            "&&&\n",
            "&&&\n",
            "&&&\n",
            "&&&\n",
            "&&&\n",
            "&&&\n",
            "&&&\n",
            "&&&\n",
            "&&&\n",
            "&&&\n",
            "&&&\n",
            "&&&\n",
            "&&&\n",
            "&&&\n",
            "&&&\n",
            "&&&\n",
            "&&&\n",
            "&&&\n",
            "&&&\n",
            "&&&\n",
            "&&&\n",
            "&&&\n",
            "&&&\n",
            "&&&\n",
            "&&&\n",
            "&&&\n",
            "&&&\n",
            "&&&\n",
            "&&&\n",
            "&&&\n",
            "&&&\n",
            "&&&\n",
            "&&&\n",
            "&&&\n",
            "&&&\n",
            "&&&\n",
            "&&&\n",
            "&&&\n",
            "&&&\n",
            "&&&\n",
            "&&&\n",
            "&&&\n",
            "&&&\n",
            "&&&\n",
            "&&&\n",
            "&&&\n",
            "&&&\n",
            "&&&\n",
            "&&&\n",
            "&&&\n",
            "&&&\n",
            "&&&\n",
            "&&&\n",
            "&&&\n",
            "&&&\n",
            "&&&\n",
            "&&&\n",
            "&&&\n",
            "&&&\n",
            "&&&\n",
            "&&&\n",
            "&&&\n",
            "&&&\n",
            "&&&\n",
            "&&&\n",
            "&&&\n",
            "&&&\n",
            "&&&\n",
            "&&&\n",
            "&&&\n",
            "&&&\n",
            "&&&\n",
            "&&&\n",
            "&&&\n",
            "&&&\n",
            "&&&\n",
            "&&&\n",
            "&&&\n",
            "&&&\n",
            "&&&\n",
            "&&&\n",
            "&&&\n",
            "&&&\n",
            "&&&\n",
            "&&&\n",
            "&&&\n",
            "&&&\n",
            "&&&\n",
            "&&&\n",
            "&&&\n",
            "&&&\n",
            "&&&\n",
            "&&&\n",
            "&&&\n",
            "&&&\n",
            "&&&\n",
            "&&&\n",
            "&&&\n",
            "&&&\n",
            "&&&\n",
            "&&&\n",
            "&&&\n",
            "&&&\n",
            "&&&\n",
            "&&&\n",
            "&&&\n",
            "&&&\n",
            "&&&\n",
            "&&&\n",
            "&&&\n",
            "&&&\n",
            "&&&\n",
            "&&&\n",
            "&&&\n",
            "&&&\n",
            "&&&\n",
            "&&&\n",
            "&&&\n",
            "&&&\n",
            "&&&\n",
            "&&&\n",
            "&&&\n",
            "&&&\n",
            "&&&\n",
            "&&&\n",
            "&&&\n",
            "&&&\n",
            "&&&\n",
            "&&&\n",
            "&&&\n",
            "&&&\n",
            "&&&\n",
            "&&&\n",
            "&&&\n",
            "&&&\n",
            "&&&\n",
            "&&&\n",
            "&&&\n",
            "&&&\n",
            "&&&\n",
            "&&&\n",
            "&&&\n",
            "&&&\n",
            "&&&\n",
            "&&&\n",
            "&&&\n",
            "&&&\n",
            "&&&\n",
            "&&&\n",
            "&&&\n",
            "&&&\n",
            "&&&\n",
            "&&&\n",
            "&&&\n",
            "&&&\n",
            "&&&\n",
            "&&&\n",
            "&&&\n",
            "&&&\n",
            "&&&\n",
            "&&&\n",
            "&&&\n",
            "&&&\n",
            "&&&\n",
            "&&&\n",
            "&&&\n"
          ]
        }
      ]
    },
    {
      "cell_type": "code",
      "source": [
        "df"
      ],
      "metadata": {
        "colab": {
          "base_uri": "https://localhost:8080/",
          "height": 423
        },
        "id": "_x_fYomfbt0A",
        "outputId": "8c69c80d-f56a-483b-f16f-f656dc9208c0"
      },
      "execution_count": null,
      "outputs": [
        {
          "output_type": "execute_result",
          "data": {
            "text/plain": [
              "                                                 header  \\\n",
              "0                            Хорошая страховая компания   \n",
              "1                                          За стразовку   \n",
              "2                        Как я пришел за ОСАГО в Т-Банк   \n",
              "3                                         ОСАГО+КАСКОGO   \n",
              "4             Обман сбербанк страхование семейный актив   \n",
              "...                                                 ...   \n",
              "9556  Мне предоставили хорошую скидку на страховку ж...   \n",
              "9557                              Мой выбор - Ренессанс   \n",
              "9558                               Защита в пути, КАСКО   \n",
              "9559                          Нет возврата по страховке   \n",
              "9560                                       Самые лучшие   \n",
              "\n",
              "                            bank  \\\n",
              "0                  Т-Страхование   \n",
              "1         Совкомбанк Страхование   \n",
              "2                  Т-Страхование   \n",
              "3               АльфаСтрахование   \n",
              "4     Сбербанк страхование жизни   \n",
              "...                          ...   \n",
              "9556               Т-Страхование   \n",
              "9557                   Ренессанс   \n",
              "9558        Сбербанк страхование   \n",
              "9559     Хоум Кредит Страхование   \n",
              "9560               Т-Страхование   \n",
              "\n",
              "                                                 review rate        date  \n",
              "0     Оформили каско и не пожалели !  Когда случилос...    5  22.09.2024  \n",
              "1     Самая дешёвая страховка из всех, в Совкомбанк....    4  22.09.2024  \n",
              "2     Здравствуйте уважаемые СММщики Т-Банка. Пришел...    1  22.09.2024  \n",
              "3     Добрый вечер, один свой автомобиль застраховал...    5  22.09.2024  \n",
              "4     Дорогие человеки,ни в коем случае не связывайт...    1  22.09.2024  \n",
              "...                                                 ...  ...         ...  \n",
              "9556  Позвонили с Тинькофф Страхования. У меня оформ...    5  20.01.2024  \n",
              "9557  Здравствуйте! Не всегда принято оставлять поло...    5  20.01.2024  \n",
              "9558  26.12.23 приобрёл автомобиль в кредит в Драйв ...    1  20.01.2024  \n",
              "9559  Помогите пожалуйста , взял кредит и сразу отка...    1  20.01.2024  \n",
              "9560  20.01.24 произошло ДТП, примерно в 10.00, вызв...    5  20.01.2024  \n",
              "\n",
              "[9561 rows x 5 columns]"
            ],
            "text/html": [
              "\n",
              "  <div id=\"df-787d54c8-9987-430f-8411-b2f3ceb93d3e\" class=\"colab-df-container\">\n",
              "    <div>\n",
              "<style scoped>\n",
              "    .dataframe tbody tr th:only-of-type {\n",
              "        vertical-align: middle;\n",
              "    }\n",
              "\n",
              "    .dataframe tbody tr th {\n",
              "        vertical-align: top;\n",
              "    }\n",
              "\n",
              "    .dataframe thead th {\n",
              "        text-align: right;\n",
              "    }\n",
              "</style>\n",
              "<table border=\"1\" class=\"dataframe\">\n",
              "  <thead>\n",
              "    <tr style=\"text-align: right;\">\n",
              "      <th></th>\n",
              "      <th>header</th>\n",
              "      <th>bank</th>\n",
              "      <th>review</th>\n",
              "      <th>rate</th>\n",
              "      <th>date</th>\n",
              "    </tr>\n",
              "  </thead>\n",
              "  <tbody>\n",
              "    <tr>\n",
              "      <th>0</th>\n",
              "      <td>Хорошая страховая компания</td>\n",
              "      <td>Т-Страхование</td>\n",
              "      <td>Оформили каско и не пожалели !  Когда случилос...</td>\n",
              "      <td>5</td>\n",
              "      <td>22.09.2024</td>\n",
              "    </tr>\n",
              "    <tr>\n",
              "      <th>1</th>\n",
              "      <td>За стразовку</td>\n",
              "      <td>Совкомбанк Страхование</td>\n",
              "      <td>Самая дешёвая страховка из всех, в Совкомбанк....</td>\n",
              "      <td>4</td>\n",
              "      <td>22.09.2024</td>\n",
              "    </tr>\n",
              "    <tr>\n",
              "      <th>2</th>\n",
              "      <td>Как я пришел за ОСАГО в Т-Банк</td>\n",
              "      <td>Т-Страхование</td>\n",
              "      <td>Здравствуйте уважаемые СММщики Т-Банка. Пришел...</td>\n",
              "      <td>1</td>\n",
              "      <td>22.09.2024</td>\n",
              "    </tr>\n",
              "    <tr>\n",
              "      <th>3</th>\n",
              "      <td>ОСАГО+КАСКОGO</td>\n",
              "      <td>АльфаСтрахование</td>\n",
              "      <td>Добрый вечер, один свой автомобиль застраховал...</td>\n",
              "      <td>5</td>\n",
              "      <td>22.09.2024</td>\n",
              "    </tr>\n",
              "    <tr>\n",
              "      <th>4</th>\n",
              "      <td>Обман сбербанк страхование семейный актив</td>\n",
              "      <td>Сбербанк страхование жизни</td>\n",
              "      <td>Дорогие человеки,ни в коем случае не связывайт...</td>\n",
              "      <td>1</td>\n",
              "      <td>22.09.2024</td>\n",
              "    </tr>\n",
              "    <tr>\n",
              "      <th>...</th>\n",
              "      <td>...</td>\n",
              "      <td>...</td>\n",
              "      <td>...</td>\n",
              "      <td>...</td>\n",
              "      <td>...</td>\n",
              "    </tr>\n",
              "    <tr>\n",
              "      <th>9556</th>\n",
              "      <td>Мне предоставили хорошую скидку на страховку ж...</td>\n",
              "      <td>Т-Страхование</td>\n",
              "      <td>Позвонили с Тинькофф Страхования. У меня оформ...</td>\n",
              "      <td>5</td>\n",
              "      <td>20.01.2024</td>\n",
              "    </tr>\n",
              "    <tr>\n",
              "      <th>9557</th>\n",
              "      <td>Мой выбор - Ренессанс</td>\n",
              "      <td>Ренессанс</td>\n",
              "      <td>Здравствуйте! Не всегда принято оставлять поло...</td>\n",
              "      <td>5</td>\n",
              "      <td>20.01.2024</td>\n",
              "    </tr>\n",
              "    <tr>\n",
              "      <th>9558</th>\n",
              "      <td>Защита в пути, КАСКО</td>\n",
              "      <td>Сбербанк страхование</td>\n",
              "      <td>26.12.23 приобрёл автомобиль в кредит в Драйв ...</td>\n",
              "      <td>1</td>\n",
              "      <td>20.01.2024</td>\n",
              "    </tr>\n",
              "    <tr>\n",
              "      <th>9559</th>\n",
              "      <td>Нет возврата по страховке</td>\n",
              "      <td>Хоум Кредит Страхование</td>\n",
              "      <td>Помогите пожалуйста , взял кредит и сразу отка...</td>\n",
              "      <td>1</td>\n",
              "      <td>20.01.2024</td>\n",
              "    </tr>\n",
              "    <tr>\n",
              "      <th>9560</th>\n",
              "      <td>Самые лучшие</td>\n",
              "      <td>Т-Страхование</td>\n",
              "      <td>20.01.24 произошло ДТП, примерно в 10.00, вызв...</td>\n",
              "      <td>5</td>\n",
              "      <td>20.01.2024</td>\n",
              "    </tr>\n",
              "  </tbody>\n",
              "</table>\n",
              "<p>9561 rows × 5 columns</p>\n",
              "</div>\n",
              "    <div class=\"colab-df-buttons\">\n",
              "\n",
              "  <div class=\"colab-df-container\">\n",
              "    <button class=\"colab-df-convert\" onclick=\"convertToInteractive('df-787d54c8-9987-430f-8411-b2f3ceb93d3e')\"\n",
              "            title=\"Convert this dataframe to an interactive table.\"\n",
              "            style=\"display:none;\">\n",
              "\n",
              "  <svg xmlns=\"http://www.w3.org/2000/svg\" height=\"24px\" viewBox=\"0 -960 960 960\">\n",
              "    <path d=\"M120-120v-720h720v720H120Zm60-500h600v-160H180v160Zm220 220h160v-160H400v160Zm0 220h160v-160H400v160ZM180-400h160v-160H180v160Zm440 0h160v-160H620v160ZM180-180h160v-160H180v160Zm440 0h160v-160H620v160Z\"/>\n",
              "  </svg>\n",
              "    </button>\n",
              "\n",
              "  <style>\n",
              "    .colab-df-container {\n",
              "      display:flex;\n",
              "      gap: 12px;\n",
              "    }\n",
              "\n",
              "    .colab-df-convert {\n",
              "      background-color: #E8F0FE;\n",
              "      border: none;\n",
              "      border-radius: 50%;\n",
              "      cursor: pointer;\n",
              "      display: none;\n",
              "      fill: #1967D2;\n",
              "      height: 32px;\n",
              "      padding: 0 0 0 0;\n",
              "      width: 32px;\n",
              "    }\n",
              "\n",
              "    .colab-df-convert:hover {\n",
              "      background-color: #E2EBFA;\n",
              "      box-shadow: 0px 1px 2px rgba(60, 64, 67, 0.3), 0px 1px 3px 1px rgba(60, 64, 67, 0.15);\n",
              "      fill: #174EA6;\n",
              "    }\n",
              "\n",
              "    .colab-df-buttons div {\n",
              "      margin-bottom: 4px;\n",
              "    }\n",
              "\n",
              "    [theme=dark] .colab-df-convert {\n",
              "      background-color: #3B4455;\n",
              "      fill: #D2E3FC;\n",
              "    }\n",
              "\n",
              "    [theme=dark] .colab-df-convert:hover {\n",
              "      background-color: #434B5C;\n",
              "      box-shadow: 0px 1px 3px 1px rgba(0, 0, 0, 0.15);\n",
              "      filter: drop-shadow(0px 1px 2px rgba(0, 0, 0, 0.3));\n",
              "      fill: #FFFFFF;\n",
              "    }\n",
              "  </style>\n",
              "\n",
              "    <script>\n",
              "      const buttonEl =\n",
              "        document.querySelector('#df-787d54c8-9987-430f-8411-b2f3ceb93d3e button.colab-df-convert');\n",
              "      buttonEl.style.display =\n",
              "        google.colab.kernel.accessAllowed ? 'block' : 'none';\n",
              "\n",
              "      async function convertToInteractive(key) {\n",
              "        const element = document.querySelector('#df-787d54c8-9987-430f-8411-b2f3ceb93d3e');\n",
              "        const dataTable =\n",
              "          await google.colab.kernel.invokeFunction('convertToInteractive',\n",
              "                                                    [key], {});\n",
              "        if (!dataTable) return;\n",
              "\n",
              "        const docLinkHtml = 'Like what you see? Visit the ' +\n",
              "          '<a target=\"_blank\" href=https://colab.research.google.com/notebooks/data_table.ipynb>data table notebook</a>'\n",
              "          + ' to learn more about interactive tables.';\n",
              "        element.innerHTML = '';\n",
              "        dataTable['output_type'] = 'display_data';\n",
              "        await google.colab.output.renderOutput(dataTable, element);\n",
              "        const docLink = document.createElement('div');\n",
              "        docLink.innerHTML = docLinkHtml;\n",
              "        element.appendChild(docLink);\n",
              "      }\n",
              "    </script>\n",
              "  </div>\n",
              "\n",
              "\n",
              "<div id=\"df-e16ae002-ccd4-4705-a952-01510d252203\">\n",
              "  <button class=\"colab-df-quickchart\" onclick=\"quickchart('df-e16ae002-ccd4-4705-a952-01510d252203')\"\n",
              "            title=\"Suggest charts\"\n",
              "            style=\"display:none;\">\n",
              "\n",
              "<svg xmlns=\"http://www.w3.org/2000/svg\" height=\"24px\"viewBox=\"0 0 24 24\"\n",
              "     width=\"24px\">\n",
              "    <g>\n",
              "        <path d=\"M19 3H5c-1.1 0-2 .9-2 2v14c0 1.1.9 2 2 2h14c1.1 0 2-.9 2-2V5c0-1.1-.9-2-2-2zM9 17H7v-7h2v7zm4 0h-2V7h2v10zm4 0h-2v-4h2v4z\"/>\n",
              "    </g>\n",
              "</svg>\n",
              "  </button>\n",
              "\n",
              "<style>\n",
              "  .colab-df-quickchart {\n",
              "      --bg-color: #E8F0FE;\n",
              "      --fill-color: #1967D2;\n",
              "      --hover-bg-color: #E2EBFA;\n",
              "      --hover-fill-color: #174EA6;\n",
              "      --disabled-fill-color: #AAA;\n",
              "      --disabled-bg-color: #DDD;\n",
              "  }\n",
              "\n",
              "  [theme=dark] .colab-df-quickchart {\n",
              "      --bg-color: #3B4455;\n",
              "      --fill-color: #D2E3FC;\n",
              "      --hover-bg-color: #434B5C;\n",
              "      --hover-fill-color: #FFFFFF;\n",
              "      --disabled-bg-color: #3B4455;\n",
              "      --disabled-fill-color: #666;\n",
              "  }\n",
              "\n",
              "  .colab-df-quickchart {\n",
              "    background-color: var(--bg-color);\n",
              "    border: none;\n",
              "    border-radius: 50%;\n",
              "    cursor: pointer;\n",
              "    display: none;\n",
              "    fill: var(--fill-color);\n",
              "    height: 32px;\n",
              "    padding: 0;\n",
              "    width: 32px;\n",
              "  }\n",
              "\n",
              "  .colab-df-quickchart:hover {\n",
              "    background-color: var(--hover-bg-color);\n",
              "    box-shadow: 0 1px 2px rgba(60, 64, 67, 0.3), 0 1px 3px 1px rgba(60, 64, 67, 0.15);\n",
              "    fill: var(--button-hover-fill-color);\n",
              "  }\n",
              "\n",
              "  .colab-df-quickchart-complete:disabled,\n",
              "  .colab-df-quickchart-complete:disabled:hover {\n",
              "    background-color: var(--disabled-bg-color);\n",
              "    fill: var(--disabled-fill-color);\n",
              "    box-shadow: none;\n",
              "  }\n",
              "\n",
              "  .colab-df-spinner {\n",
              "    border: 2px solid var(--fill-color);\n",
              "    border-color: transparent;\n",
              "    border-bottom-color: var(--fill-color);\n",
              "    animation:\n",
              "      spin 1s steps(1) infinite;\n",
              "  }\n",
              "\n",
              "  @keyframes spin {\n",
              "    0% {\n",
              "      border-color: transparent;\n",
              "      border-bottom-color: var(--fill-color);\n",
              "      border-left-color: var(--fill-color);\n",
              "    }\n",
              "    20% {\n",
              "      border-color: transparent;\n",
              "      border-left-color: var(--fill-color);\n",
              "      border-top-color: var(--fill-color);\n",
              "    }\n",
              "    30% {\n",
              "      border-color: transparent;\n",
              "      border-left-color: var(--fill-color);\n",
              "      border-top-color: var(--fill-color);\n",
              "      border-right-color: var(--fill-color);\n",
              "    }\n",
              "    40% {\n",
              "      border-color: transparent;\n",
              "      border-right-color: var(--fill-color);\n",
              "      border-top-color: var(--fill-color);\n",
              "    }\n",
              "    60% {\n",
              "      border-color: transparent;\n",
              "      border-right-color: var(--fill-color);\n",
              "    }\n",
              "    80% {\n",
              "      border-color: transparent;\n",
              "      border-right-color: var(--fill-color);\n",
              "      border-bottom-color: var(--fill-color);\n",
              "    }\n",
              "    90% {\n",
              "      border-color: transparent;\n",
              "      border-bottom-color: var(--fill-color);\n",
              "    }\n",
              "  }\n",
              "</style>\n",
              "\n",
              "  <script>\n",
              "    async function quickchart(key) {\n",
              "      const quickchartButtonEl =\n",
              "        document.querySelector('#' + key + ' button');\n",
              "      quickchartButtonEl.disabled = true;  // To prevent multiple clicks.\n",
              "      quickchartButtonEl.classList.add('colab-df-spinner');\n",
              "      try {\n",
              "        const charts = await google.colab.kernel.invokeFunction(\n",
              "            'suggestCharts', [key], {});\n",
              "      } catch (error) {\n",
              "        console.error('Error during call to suggestCharts:', error);\n",
              "      }\n",
              "      quickchartButtonEl.classList.remove('colab-df-spinner');\n",
              "      quickchartButtonEl.classList.add('colab-df-quickchart-complete');\n",
              "    }\n",
              "    (() => {\n",
              "      let quickchartButtonEl =\n",
              "        document.querySelector('#df-e16ae002-ccd4-4705-a952-01510d252203 button');\n",
              "      quickchartButtonEl.style.display =\n",
              "        google.colab.kernel.accessAllowed ? 'block' : 'none';\n",
              "    })();\n",
              "  </script>\n",
              "</div>\n",
              "    </div>\n",
              "  </div>\n"
            ],
            "application/vnd.google.colaboratory.intrinsic+json": {
              "type": "dataframe",
              "variable_name": "df",
              "summary": "{\n  \"name\": \"df\",\n  \"rows\": 9561,\n  \"fields\": [\n    {\n      \"column\": \"header\",\n      \"properties\": {\n        \"dtype\": \"string\",\n        \"num_unique_values\": 7105,\n        \"samples\": [\n          \"\\u041c\\u043e\\u043b\\u0447\\u0430\\u0442, \\u0431\\u0435\\u0437 \\u0432\\u0435\\u0434\\u043e\\u043c\\u0430 \\u043c\\u0435\\u043d\\u044f\\u044e\\u0442 \\u0441\\u043f\\u043e\\u0441\\u043e\\u0431 \\u0432\\u043e\\u0437\\u043c\\u0435\\u0449\\u0435\\u043d\\u0438\\u044f, \\u043f\\u0435\\u0440\\u0435\\u0432\\u043e\\u0434\\u044f\\u0442 \\u0434\\u0435\\u043d\\u044c\\u0433\\u0438 \\u043d\\u0435\\u043f\\u043e\\u043d\\u044f\\u0442\\u043d\\u043e \\u043a\\u0443\\u0434\\u0430\",\n          \"\\u041d\\u0435 \\u043f\\u0435\\u0440\\u0432\\u044b\\u0439 \\u0433\\u043e\\u0434 \\u0438\\u0445 \\u043a\\u043b\\u0438\\u0435\\u043d\\u0442\",\n          \"\\u0421\\u0442\\u0440\\u0430\\u0445\\u043e\\u0432\\u0430\\u044f \\u0432\\u044b\\u043f\\u043b\\u0430\\u0442\\u0430 \\u043f\\u043e \\u041e\\u0421\\u0410\\u0413\\u041e \\u043e\\u0442 \\u0422\\u0438\\u043d\\u044c\\u043a\\u043e\\u0444\\u0444 \\u0421\\u0442\\u0440\\u0430\\u0445\\u043e\\u0432\\u0430\\u043d\\u0438\\u0435\"\n        ],\n        \"semantic_type\": \"\",\n        \"description\": \"\"\n      }\n    },\n    {\n      \"column\": \"bank\",\n      \"properties\": {\n        \"dtype\": \"category\",\n        \"num_unique_values\": 65,\n        \"samples\": [\n          \"\\u0421\\u041e\\u0413\\u0410\\u0417-\\u041c\\u0435\\u0434\",\n          \"\\u0420\\u0443\\u0441\\u0441\\u043a\\u0438\\u0439 \\u0421\\u0442\\u0430\\u043d\\u0434\\u0430\\u0440\\u0442 \\u0421\\u0442\\u0440\\u0430\\u0445\\u043e\\u0432\\u0430\\u043d\\u0438\\u0435\",\n          \"\\u0422-\\u0421\\u0442\\u0440\\u0430\\u0445\\u043e\\u0432\\u0430\\u043d\\u0438\\u0435\"\n        ],\n        \"semantic_type\": \"\",\n        \"description\": \"\"\n      }\n    },\n    {\n      \"column\": \"review\",\n      \"properties\": {\n        \"dtype\": \"string\",\n        \"num_unique_values\": 9551,\n        \"samples\": [\n          \"\\u0414\\u043e\\u0431\\u0440\\u044b\\u0439 \\u0434\\u0435\\u043d\\u044c.\\u00a0 \\u041a\\u043e\\u0433\\u0434\\u0430 \\u0437\\u0430\\u043a\\u0430\\u0437\\u044b\\u0432\\u0430\\u043b\\u0430 \\u0433\\u0430\\u0440\\u0430\\u043d\\u0442\\u0438\\u0439\\u043d\\u043e\\u0435 \\u043f\\u0438\\u0441\\u044c\\u043c\\u043e \\u0432 \\u0441\\u0442\\u0440\\u0430\\u0445\\u043e\\u0432\\u043e\\u0439 \\u043c\\u043d\\u0435 \\u043f\\u043e\\u0441\\u043e\\u0432\\u0435\\u0442\\u043e\\u0432\\u0430\\u043b\\u0438 \\u0432\\u044b\\u0431\\u0440\\u0430\\u0442\\u044c \\u0434\\u0440\\u0443\\u0433\\u043e\\u0435 \\u043c\\u0435\\u0434. \\u0443\\u0447\\u0435\\u0440\\u0435\\u0436\\u043b\\u0435\\u043d\\u0438\\u0435 \\u0438\\u0437 \\u0441\\u043f\\u0438\\u0441\\u043a\\u0430, \\u0445\\u043e\\u0442\\u044f \\u043e\\u0433\\u0440\\u0430\\u043d\\u0438\\u0447\\u0435\\u043d \\u043f\\u043e \\u043f\\u0440\\u043e\\u0433\\u0440\\u0430\\u043c\\u043c\\u0435 \\u043d\\u0435\\u0442. \\u0412 \\u0434\\u0430\\u043b\\u044c\\u043d\\u0435\\u0439\\u0448\\u0435\\u043c, \\u043f\\u043e\\u0441\\u043b\\u0435 \\u043f\\u043e\\u0441\\u0435\\u0449\\u0435\\u043d\\u0438\\u044f \\u0432\\u0440\\u0430\\u0447\\u0430, \\u0443\\u0436\\u0435 5\\u0439 \\u0434\\u0435\\u043d\\u044c \\u0441\\u043e\\u0433\\u043b\\u0430\\u0441\\u043e\\u0432\\u044b\\u0432\\u0430\\u044e\\u0442 \\u0433\\u0430\\u0440\\u0430\\u043d\\u0442\\u0438\\u0439\\u043d\\u043e\\u0435 \\u043f\\u0438\\u0441\\u044c\\u043c\\u043e \\u0441\\u043e\\u0433\\u043b\\u0430\\u0441\\u043d\\u043e \\u043f\\u043b\\u0430\\u043d\\u0443 \\u043b\\u0435\\u0447\\u0435\\u043d\\u0438\\u044f, \\u043f\\u0440\\u0438 \\u0437\\u0432\\u043e\\u043d\\u043a\\u0435 \\u0432 \\u0441\\u0442\\u0440\\u0430\\u0445\\u043e\\u0432\\u0443\\u044e \\u043e\\u0442\\u0432\\u0435\\u0447\\u0430\\u044e\\u0442 \\u0447\\u0442\\u043e \\u0433\\u0430\\u0440\\u0430\\u043d\\u0442\\u0438\\u0439\\u043d\\u044b\\u0439 \\u043f\\u0438\\u0441\\u044c\\u043c\\u0430 \\u0440\\u0430\\u0441\\u0441\\u043c\\u0430\\u0442\\u0440\\u0438\\u0432\\u0430\\u044e\\u0442\\u0441\\u044f \\u0432 \\u0442\\u0435\\u0447\\u0435\\u043d\\u0438\\u0438 5 \\u0440\\u0430\\u0431\\u043e\\u0447\\u0438\\u0445 \\u0434\\u043d\\u0435\\u0439....\\u0434\\u043b\\u044f \\u0447\\u0435\\u0433\\u043e \\u0414\\u041c\\u0421, \\u0443 \\u043c\\u0435\\u043d\\u044f \\u043f\\u043e\\u043d\\u0438\\u043c\\u0430\\u043d\\u0438\\u044f \\u043d\\u0435\\u0442. \\u041e\\u0442\\u0432\\u0440\\u0430\\u0442\\u0438\\u0442\\u0435\\u043b\\u044c\\u043d\\u0430\\u044f \\u043a\\u043e\\u043c\\u043f\\u0430\\u043d\\u0438\\u044f.\",\n          \"\\u0421\\u043b\\u0430\\u0432\\u0430 \\u0411\\u043e\\u0433\\u0443 \\u043d\\u0435 \\u043d\\u0430\\u0441\\u0442\\u0443\\u043f\\u0438\\u043b \\u0441\\u0442\\u0440\\u0430\\u0445\\u043e\\u0432\\u043e\\u0439 \\u0441\\u043b\\u0443\\u0447\\u0430\\u0439.\",\n          \"\\u0412 \\u043f\\u0440\\u043e\\u0448\\u043b\\u043e\\u043c \\u0433\\u043e\\u0434\\u0443 \\u0437\\u0430\\u0441\\u0442\\u0440\\u0430\\u0445\\u043e\\u0432\\u0430\\u043b \\u043a\\u0432\\u0430\\u0440\\u0442\\u0438\\u0440\\u0443 \\u0432 \\u0422\\u0438\\u043d\\u044c\\u043a\\u043e\\u0444\\u0444 \\u0441\\u0442\\u0440\\u0430\\u0445\\u043e\\u0432\\u0430\\u043d\\u0438\\u0435. \\u0421\\u0442\\u0440\\u0430\\u0445\\u043e\\u0432\\u0430\\u043b\\u0441\\u044f \\u0447\\u0435\\u0440\\u0435\\u0437 \\u0441\\u0430\\u0439\\u0442, \\u043f\\u043e\\u043b\\u0438\\u0441 \\u043f\\u0440\\u0438\\u0448\\u0435\\u043b \\u043d\\u0430 \\u043f\\u043e\\u0447\\u0442\\u0443. \\u0412 \\u043d\\u043e\\u0432\\u043e\\u0433\\u043e\\u0434\\u043d\\u0438\\u0435 \\u043f\\u0440\\u0430\\u0437\\u0434\\u043d\\u0438\\u043a\\u0438 \\u0432\\u043e \\u0432\\u0440\\u0435\\u043c\\u044f \\u0441\\u0438\\u043b\\u044c\\u043d\\u044b\\u0445 \\u043c\\u043e\\u0440\\u043e\\u0437\\u043e\\u0432 \\u0443 \\u0432\\u0435\\u0440\\u0445\\u043d\\u0438\\u0445 \\u0441\\u043e\\u0441\\u0435\\u0434\\u0435\\u0439 (\\u0447\\u0435\\u0440\\u0435\\u0437 \\u044d\\u0442\\u0430\\u0436) \\u043f\\u0440\\u043e\\u0440\\u0432\\u0430\\u043b\\u043e \\u0431\\u0430\\u0442\\u0430\\u0440\\u0435\\u0438 \\u043e\\u0442\\u043e\\u043f\\u043b\\u0435\\u043d\\u0438\\u044f. \\u0411\\u044b\\u043b\\u043e \\u0437\\u0430\\u043b\\u0438\\u0442\\u043e \\u043d\\u0435\\u0441\\u043a\\u043e\\u043b\\u044c\\u043a\\u043e \\u043a\\u0432\\u0430\\u0440\\u0442\\u0438\\u0440, \\u0432 \\u0442\\u043e\\u043c \\u0447\\u0438\\u0441\\u043b\\u0435 \\u0438 \\u043c\\u043e\\u044f \\u043a\\u0432\\u0430\\u0440\\u0442\\u0438\\u0440\\u0430. \\u0427\\u0435\\u0440\\u0435\\u0437 \\u0433\\u043e\\u0440\\u044f\\u0447\\u0443\\u044e \\u043b\\u0438\\u043d\\u0438\\u044e \\u044f \\u0441\\u043e\\u043e\\u0431\\u0449\\u0438\\u043b \\u043e \\u0441\\u0442\\u0440\\u0430\\u0445\\u043e\\u0432\\u043e\\u043c \\u0441\\u043b\\u0443\\u0447\\u0430\\u0435, \\u043c\\u043d\\u0435 \\u0441\\u0440\\u0430\\u0437\\u0443 \\u043d\\u0430\\u0437\\u043d\\u0430\\u0447\\u0438\\u043b\\u0438 \\u0441\\u0442\\u0440\\u0430\\u0445\\u043e\\u0432\\u043e\\u0433\\u043e \\u043c\\u0435\\u043d\\u0435\\u0434\\u0436\\u0435\\u0440\\u0430, \\u043a\\u043e\\u0442\\u043e\\u0440\\u0430\\u044f \\u043f\\u0440\\u0438\\u0441\\u043b\\u0430\\u043b\\u0430 \\u0441\\u043f\\u0438\\u0441\\u043e\\u043a \\u0442\\u0440\\u0435\\u0431\\u0443\\u0435\\u043c\\u044b\\u0445 \\u0434\\u043e\\u043a\\u0443\\u043c\\u0435\\u043d\\u0442\\u043e\\u0432. \\u041f\\u043e\\u0441\\u043b\\u0435 \\u043f\\u043e\\u043b\\u0443\\u0447\\u0435\\u043d\\u0438\\u044f \\u0430\\u043a\\u0442\\u0430 \\u043e\\u0442 \\u0443\\u043f\\u0440\\u0430\\u0432\\u043b\\u044f\\u044e\\u0449\\u0435\\u0439 \\u043a\\u043e\\u043c\\u043f\\u0430\\u043d\\u0438\\u0438 \\u0441\\u043e \\u043c\\u043d\\u043e\\u0439 \\u0441\\u0432\\u044f\\u0437\\u0430\\u043b\\u0430\\u0441\\u044c \\u0438 \\u043f\\u0440\\u0438\\u0441\\u043b\\u0430\\u043b\\u0438 \\u043d\\u0435\\u0437\\u0430\\u0432\\u0438\\u0441\\u0438\\u043c\\u043e\\u0433\\u043e \\u044d\\u043a\\u0441\\u043f\\u0435\\u0440\\u0442\\u0430, \\u043a\\u043e\\u0442\\u043e\\u0440\\u044b\\u0439 \\u0437\\u0430\\u0444\\u0438\\u043a\\u0441\\u0438\\u0440\\u043e\\u0432\\u0430\\u043b \\u0432\\u0441\\u0435 \\u043f\\u043e\\u0432\\u0440\\u0435\\u0436\\u0434\\u0435\\u043d\\u0438\\u044f \\u0438 \\u0441\\u043e\\u0441\\u0442\\u0430\\u0432\\u0438\\u043b \\u0430\\u043a\\u0442. \\u0412 \\u0442\\u0435\\u0447\\u0435\\u043d\\u0438\\u0435 \\u043d\\u0435\\u0434\\u0435\\u043b\\u0438 \\u0441\\u0442\\u0440\\u0430\\u0445\\u043e\\u0432\\u0430\\u044f \\u043a\\u043e\\u043c\\u043f\\u0430\\u043d\\u0438\\u044f \\u043e\\u0446\\u0435\\u043d\\u0438\\u043b\\u0430 \\u0441\\u0442\\u043e\\u0438\\u043c\\u043e\\u0441\\u0442\\u044c \\u0443\\u0449\\u0435\\u0440\\u0431\\u0430 \\u0438 \\u043f\\u0440\\u0438\\u0441\\u043b\\u0430\\u043b\\u0430 \\u0441\\u0432\\u043e\\u044e \\u043e\\u0446\\u0435\\u043d\\u043a\\u0443. \\u041e\\u0446\\u0435\\u043d\\u043a\\u0430 \\u0432\\u043f\\u043e\\u043b\\u043d\\u0435 \\u0430\\u0434\\u0435\\u043a\\u0432\\u0430\\u0442\\u043d\\u0430\\u044f, \\u044f \\u0441 \\u043d\\u0435\\u0439 \\u0441\\u043e\\u0433\\u043b\\u0430\\u0441\\u0438\\u043b\\u0441\\u044f \\u0438 \\u0431\\u0443\\u043a\\u0432\\u0430\\u043b\\u044c\\u043d\\u043e \\u043d\\u0430 \\u0441\\u043b\\u0435\\u0434\\u0443\\u044e\\u0449\\u0438\\u0439 \\u0434\\u0435\\u043d\\u044c \\u043d\\u0430 \\u043c\\u043e\\u0439 \\u0441\\u0447\\u0435\\u0442 \\u043f\\u043e\\u0441\\u0442\\u0443\\u043f\\u0438\\u043b\\u0438 \\u0434\\u0435\\u043d\\u044c\\u0433\\u0438. \\u0411\\u044b\\u043b \\u043f\\u0440\\u0438\\u044f\\u0442\\u043d\\u043e \\u0443\\u0434\\u0438\\u0432\\u043b\\u0435\\u043d \\u0442\\u0430\\u043a\\u0438\\u043c \\u043f\\u043e\\u0434\\u0445\\u043e\\u0434\\u043e\\u043c \\u0438 \\u043e\\u043f\\u0435\\u0440\\u0430\\u0442\\u0438\\u0432\\u043d\\u043e\\u0441\\u0442\\u044c\\u044e \\u0440\\u0435\\u0448\\u0435\\u043d\\u0438\\u044f, \\u043c\\u043e\\u0433\\u0443 \\u0440\\u0435\\u043a\\u043e\\u043c\\u0435\\u043d\\u0434\\u043e\\u0432\\u0430\\u0442\\u044c \\u0422\\u0438\\u043d\\u044c\\u043a\\u043e\\u0444\\u0444 \\u0441\\u0442\\u0440\\u0430\\u0445\\u043e\\u0432\\u0430\\u043d\\u0438\\u0435 \\u043a\\u0430\\u043a \\u043d\\u0430\\u0434\\u0435\\u0436\\u043d\\u043e\\u0433\\u043e \\u043f\\u0430\\u0440\\u0442\\u043d\\u0435\\u0440\\u0430. \\u041e\\u0442\\u0434\\u0435\\u043b\\u044c\\u043d\\u043e\\u0435 \\u0441\\u043f\\u0430\\u0441\\u0438\\u0431\\u043e \\u043c\\u0435\\u043d\\u0435\\u0434\\u0436\\u0435\\u0440\\u0443 \\u0410\\u043d\\u0430\\u0441\\u0442\\u0430\\u0441\\u0438\\u0438 \\u0437\\u0430 \\u043f\\u0440\\u043e\\u0444\\u0435\\u0441\\u0441\\u0438\\u043e\\u043d\\u0430\\u043b\\u044c\\u043d\\u0443\\u044e \\u0440\\u0430\\u0431\\u043e\\u0442\\u0443.\"\n        ],\n        \"semantic_type\": \"\",\n        \"description\": \"\"\n      }\n    },\n    {\n      \"column\": \"rate\",\n      \"properties\": {\n        \"dtype\": \"category\",\n        \"num_unique_values\": 5,\n        \"samples\": [\n          \"4\",\n          \"3\",\n          \"1\"\n        ],\n        \"semantic_type\": \"\",\n        \"description\": \"\"\n      }\n    },\n    {\n      \"column\": \"date\",\n      \"properties\": {\n        \"dtype\": \"category\",\n        \"num_unique_values\": 485,\n        \"samples\": [\n          \"23.02.2024\",\n          \"25.01.202\",\n          \"23.06.202\"\n        ],\n        \"semantic_type\": \"\",\n        \"description\": \"\"\n      }\n    }\n  ]\n}"
            }
          },
          "metadata": {},
          "execution_count": 22
        }
      ]
    },
    {
      "cell_type": "markdown",
      "source": [
        "### Запись данных в файл"
      ],
      "metadata": {
        "id": "nJ7WJQRFX8qP"
      }
    },
    {
      "cell_type": "markdown",
      "source": [
        "Запишем данные, собранные выше, в файл, чтобы было удобнее и быстрее их доставать."
      ],
      "metadata": {
        "id": "jcZ8_8bjkIEA"
      }
    },
    {
      "cell_type": "code",
      "source": [
        "filename = \"insurance_reviews.csv\"\n",
        "df.to_csv(filename, index=False)"
      ],
      "metadata": {
        "id": "by5hmH7SML1-"
      },
      "execution_count": null,
      "outputs": []
    },
    {
      "cell_type": "markdown",
      "source": [
        "## Загрузка датасета"
      ],
      "metadata": {
        "id": "zbwARmT1dQ4R"
      }
    },
    {
      "cell_type": "markdown",
      "source": [
        "Читаем датасет из файла, так как код парсинга работает долго…"
      ],
      "metadata": {
        "id": "azFz2D1HdZvU"
      }
    },
    {
      "cell_type": "code",
      "source": [
        "df = pd.read_csv(\"insurance_reviews.csv\")\n",
        "df"
      ],
      "metadata": {
        "id": "rr7ZkmOEdRPt",
        "colab": {
          "base_uri": "https://localhost:8080/"
        },
        "outputId": "3ee731bb-0f95-4655-c847-3cd1668f8061"
      },
      "execution_count": null,
      "outputs": [
        {
          "output_type": "execute_result",
          "data": {
            "text/plain": [
              "                                                 header  \\\n",
              "0                            Хорошая страховая компания   \n",
              "1                                          За стразовку   \n",
              "2                        Как я пришел за ОСАГО в Т-Банк   \n",
              "3                                         ОСАГО+КАСКОGO   \n",
              "4             Обман сбербанк страхование семейный актив   \n",
              "...                                                 ...   \n",
              "9556  Мне предоставили хорошую скидку на страховку ж...   \n",
              "9557                              Мой выбор - Ренессанс   \n",
              "9558                               Защита в пути, КАСКО   \n",
              "9559                          Нет возврата по страховке   \n",
              "9560                                       Самые лучшие   \n",
              "\n",
              "                            bank  \\\n",
              "0                  Т-Страхование   \n",
              "1         Совкомбанк Страхование   \n",
              "2                  Т-Страхование   \n",
              "3               АльфаСтрахование   \n",
              "4     Сбербанк страхование жизни   \n",
              "...                          ...   \n",
              "9556               Т-Страхование   \n",
              "9557                   Ренессанс   \n",
              "9558        Сбербанк страхование   \n",
              "9559     Хоум Кредит Страхование   \n",
              "9560               Т-Страхование   \n",
              "\n",
              "                                                 review  rate        date  \n",
              "0     Оформили каско и не пожалели !  Когда случилос...     5  22.09.2024  \n",
              "1     Самая дешёвая страховка из всех, в Совкомбанк....     4  22.09.2024  \n",
              "2     Здравствуйте уважаемые СММщики Т-Банка. Пришел...     1  22.09.2024  \n",
              "3     Добрый вечер, один свой автомобиль застраховал...     5  22.09.2024  \n",
              "4     Дорогие человеки,ни в коем случае не связывайт...     1  22.09.2024  \n",
              "...                                                 ...   ...         ...  \n",
              "9556  Позвонили с Тинькофф Страхования. У меня оформ...     5  20.01.2024  \n",
              "9557  Здравствуйте! Не всегда принято оставлять поло...     5  20.01.2024  \n",
              "9558  26.12.23 приобрёл автомобиль в кредит в Драйв ...     1  20.01.2024  \n",
              "9559  Помогите пожалуйста , взял кредит и сразу отка...     1  20.01.2024  \n",
              "9560  20.01.24 произошло ДТП, примерно в 10.00, вызв...     5  20.01.2024  \n",
              "\n",
              "[9561 rows x 5 columns]"
            ],
            "text/html": [
              "\n",
              "  <div id=\"df-45739c22-8282-4c6a-b35a-313bc3ef99a6\" class=\"colab-df-container\">\n",
              "    <div>\n",
              "<style scoped>\n",
              "    .dataframe tbody tr th:only-of-type {\n",
              "        vertical-align: middle;\n",
              "    }\n",
              "\n",
              "    .dataframe tbody tr th {\n",
              "        vertical-align: top;\n",
              "    }\n",
              "\n",
              "    .dataframe thead th {\n",
              "        text-align: right;\n",
              "    }\n",
              "</style>\n",
              "<table border=\"1\" class=\"dataframe\">\n",
              "  <thead>\n",
              "    <tr style=\"text-align: right;\">\n",
              "      <th></th>\n",
              "      <th>header</th>\n",
              "      <th>bank</th>\n",
              "      <th>review</th>\n",
              "      <th>rate</th>\n",
              "      <th>date</th>\n",
              "    </tr>\n",
              "  </thead>\n",
              "  <tbody>\n",
              "    <tr>\n",
              "      <th>0</th>\n",
              "      <td>Хорошая страховая компания</td>\n",
              "      <td>Т-Страхование</td>\n",
              "      <td>Оформили каско и не пожалели !  Когда случилос...</td>\n",
              "      <td>5</td>\n",
              "      <td>22.09.2024</td>\n",
              "    </tr>\n",
              "    <tr>\n",
              "      <th>1</th>\n",
              "      <td>За стразовку</td>\n",
              "      <td>Совкомбанк Страхование</td>\n",
              "      <td>Самая дешёвая страховка из всех, в Совкомбанк....</td>\n",
              "      <td>4</td>\n",
              "      <td>22.09.2024</td>\n",
              "    </tr>\n",
              "    <tr>\n",
              "      <th>2</th>\n",
              "      <td>Как я пришел за ОСАГО в Т-Банк</td>\n",
              "      <td>Т-Страхование</td>\n",
              "      <td>Здравствуйте уважаемые СММщики Т-Банка. Пришел...</td>\n",
              "      <td>1</td>\n",
              "      <td>22.09.2024</td>\n",
              "    </tr>\n",
              "    <tr>\n",
              "      <th>3</th>\n",
              "      <td>ОСАГО+КАСКОGO</td>\n",
              "      <td>АльфаСтрахование</td>\n",
              "      <td>Добрый вечер, один свой автомобиль застраховал...</td>\n",
              "      <td>5</td>\n",
              "      <td>22.09.2024</td>\n",
              "    </tr>\n",
              "    <tr>\n",
              "      <th>4</th>\n",
              "      <td>Обман сбербанк страхование семейный актив</td>\n",
              "      <td>Сбербанк страхование жизни</td>\n",
              "      <td>Дорогие человеки,ни в коем случае не связывайт...</td>\n",
              "      <td>1</td>\n",
              "      <td>22.09.2024</td>\n",
              "    </tr>\n",
              "    <tr>\n",
              "      <th>...</th>\n",
              "      <td>...</td>\n",
              "      <td>...</td>\n",
              "      <td>...</td>\n",
              "      <td>...</td>\n",
              "      <td>...</td>\n",
              "    </tr>\n",
              "    <tr>\n",
              "      <th>9556</th>\n",
              "      <td>Мне предоставили хорошую скидку на страховку ж...</td>\n",
              "      <td>Т-Страхование</td>\n",
              "      <td>Позвонили с Тинькофф Страхования. У меня оформ...</td>\n",
              "      <td>5</td>\n",
              "      <td>20.01.2024</td>\n",
              "    </tr>\n",
              "    <tr>\n",
              "      <th>9557</th>\n",
              "      <td>Мой выбор - Ренессанс</td>\n",
              "      <td>Ренессанс</td>\n",
              "      <td>Здравствуйте! Не всегда принято оставлять поло...</td>\n",
              "      <td>5</td>\n",
              "      <td>20.01.2024</td>\n",
              "    </tr>\n",
              "    <tr>\n",
              "      <th>9558</th>\n",
              "      <td>Защита в пути, КАСКО</td>\n",
              "      <td>Сбербанк страхование</td>\n",
              "      <td>26.12.23 приобрёл автомобиль в кредит в Драйв ...</td>\n",
              "      <td>1</td>\n",
              "      <td>20.01.2024</td>\n",
              "    </tr>\n",
              "    <tr>\n",
              "      <th>9559</th>\n",
              "      <td>Нет возврата по страховке</td>\n",
              "      <td>Хоум Кредит Страхование</td>\n",
              "      <td>Помогите пожалуйста , взял кредит и сразу отка...</td>\n",
              "      <td>1</td>\n",
              "      <td>20.01.2024</td>\n",
              "    </tr>\n",
              "    <tr>\n",
              "      <th>9560</th>\n",
              "      <td>Самые лучшие</td>\n",
              "      <td>Т-Страхование</td>\n",
              "      <td>20.01.24 произошло ДТП, примерно в 10.00, вызв...</td>\n",
              "      <td>5</td>\n",
              "      <td>20.01.2024</td>\n",
              "    </tr>\n",
              "  </tbody>\n",
              "</table>\n",
              "<p>9561 rows × 5 columns</p>\n",
              "</div>\n",
              "    <div class=\"colab-df-buttons\">\n",
              "\n",
              "  <div class=\"colab-df-container\">\n",
              "    <button class=\"colab-df-convert\" onclick=\"convertToInteractive('df-45739c22-8282-4c6a-b35a-313bc3ef99a6')\"\n",
              "            title=\"Convert this dataframe to an interactive table.\"\n",
              "            style=\"display:none;\">\n",
              "\n",
              "  <svg xmlns=\"http://www.w3.org/2000/svg\" height=\"24px\" viewBox=\"0 -960 960 960\">\n",
              "    <path d=\"M120-120v-720h720v720H120Zm60-500h600v-160H180v160Zm220 220h160v-160H400v160Zm0 220h160v-160H400v160ZM180-400h160v-160H180v160Zm440 0h160v-160H620v160ZM180-180h160v-160H180v160Zm440 0h160v-160H620v160Z\"/>\n",
              "  </svg>\n",
              "    </button>\n",
              "\n",
              "  <style>\n",
              "    .colab-df-container {\n",
              "      display:flex;\n",
              "      gap: 12px;\n",
              "    }\n",
              "\n",
              "    .colab-df-convert {\n",
              "      background-color: #E8F0FE;\n",
              "      border: none;\n",
              "      border-radius: 50%;\n",
              "      cursor: pointer;\n",
              "      display: none;\n",
              "      fill: #1967D2;\n",
              "      height: 32px;\n",
              "      padding: 0 0 0 0;\n",
              "      width: 32px;\n",
              "    }\n",
              "\n",
              "    .colab-df-convert:hover {\n",
              "      background-color: #E2EBFA;\n",
              "      box-shadow: 0px 1px 2px rgba(60, 64, 67, 0.3), 0px 1px 3px 1px rgba(60, 64, 67, 0.15);\n",
              "      fill: #174EA6;\n",
              "    }\n",
              "\n",
              "    .colab-df-buttons div {\n",
              "      margin-bottom: 4px;\n",
              "    }\n",
              "\n",
              "    [theme=dark] .colab-df-convert {\n",
              "      background-color: #3B4455;\n",
              "      fill: #D2E3FC;\n",
              "    }\n",
              "\n",
              "    [theme=dark] .colab-df-convert:hover {\n",
              "      background-color: #434B5C;\n",
              "      box-shadow: 0px 1px 3px 1px rgba(0, 0, 0, 0.15);\n",
              "      filter: drop-shadow(0px 1px 2px rgba(0, 0, 0, 0.3));\n",
              "      fill: #FFFFFF;\n",
              "    }\n",
              "  </style>\n",
              "\n",
              "    <script>\n",
              "      const buttonEl =\n",
              "        document.querySelector('#df-45739c22-8282-4c6a-b35a-313bc3ef99a6 button.colab-df-convert');\n",
              "      buttonEl.style.display =\n",
              "        google.colab.kernel.accessAllowed ? 'block' : 'none';\n",
              "\n",
              "      async function convertToInteractive(key) {\n",
              "        const element = document.querySelector('#df-45739c22-8282-4c6a-b35a-313bc3ef99a6');\n",
              "        const dataTable =\n",
              "          await google.colab.kernel.invokeFunction('convertToInteractive',\n",
              "                                                    [key], {});\n",
              "        if (!dataTable) return;\n",
              "\n",
              "        const docLinkHtml = 'Like what you see? Visit the ' +\n",
              "          '<a target=\"_blank\" href=https://colab.research.google.com/notebooks/data_table.ipynb>data table notebook</a>'\n",
              "          + ' to learn more about interactive tables.';\n",
              "        element.innerHTML = '';\n",
              "        dataTable['output_type'] = 'display_data';\n",
              "        await google.colab.output.renderOutput(dataTable, element);\n",
              "        const docLink = document.createElement('div');\n",
              "        docLink.innerHTML = docLinkHtml;\n",
              "        element.appendChild(docLink);\n",
              "      }\n",
              "    </script>\n",
              "  </div>\n",
              "\n",
              "\n",
              "<div id=\"df-1ea902f7-29ba-45ac-9d2f-9c2cad54d5f3\">\n",
              "  <button class=\"colab-df-quickchart\" onclick=\"quickchart('df-1ea902f7-29ba-45ac-9d2f-9c2cad54d5f3')\"\n",
              "            title=\"Suggest charts\"\n",
              "            style=\"display:none;\">\n",
              "\n",
              "<svg xmlns=\"http://www.w3.org/2000/svg\" height=\"24px\"viewBox=\"0 0 24 24\"\n",
              "     width=\"24px\">\n",
              "    <g>\n",
              "        <path d=\"M19 3H5c-1.1 0-2 .9-2 2v14c0 1.1.9 2 2 2h14c1.1 0 2-.9 2-2V5c0-1.1-.9-2-2-2zM9 17H7v-7h2v7zm4 0h-2V7h2v10zm4 0h-2v-4h2v4z\"/>\n",
              "    </g>\n",
              "</svg>\n",
              "  </button>\n",
              "\n",
              "<style>\n",
              "  .colab-df-quickchart {\n",
              "      --bg-color: #E8F0FE;\n",
              "      --fill-color: #1967D2;\n",
              "      --hover-bg-color: #E2EBFA;\n",
              "      --hover-fill-color: #174EA6;\n",
              "      --disabled-fill-color: #AAA;\n",
              "      --disabled-bg-color: #DDD;\n",
              "  }\n",
              "\n",
              "  [theme=dark] .colab-df-quickchart {\n",
              "      --bg-color: #3B4455;\n",
              "      --fill-color: #D2E3FC;\n",
              "      --hover-bg-color: #434B5C;\n",
              "      --hover-fill-color: #FFFFFF;\n",
              "      --disabled-bg-color: #3B4455;\n",
              "      --disabled-fill-color: #666;\n",
              "  }\n",
              "\n",
              "  .colab-df-quickchart {\n",
              "    background-color: var(--bg-color);\n",
              "    border: none;\n",
              "    border-radius: 50%;\n",
              "    cursor: pointer;\n",
              "    display: none;\n",
              "    fill: var(--fill-color);\n",
              "    height: 32px;\n",
              "    padding: 0;\n",
              "    width: 32px;\n",
              "  }\n",
              "\n",
              "  .colab-df-quickchart:hover {\n",
              "    background-color: var(--hover-bg-color);\n",
              "    box-shadow: 0 1px 2px rgba(60, 64, 67, 0.3), 0 1px 3px 1px rgba(60, 64, 67, 0.15);\n",
              "    fill: var(--button-hover-fill-color);\n",
              "  }\n",
              "\n",
              "  .colab-df-quickchart-complete:disabled,\n",
              "  .colab-df-quickchart-complete:disabled:hover {\n",
              "    background-color: var(--disabled-bg-color);\n",
              "    fill: var(--disabled-fill-color);\n",
              "    box-shadow: none;\n",
              "  }\n",
              "\n",
              "  .colab-df-spinner {\n",
              "    border: 2px solid var(--fill-color);\n",
              "    border-color: transparent;\n",
              "    border-bottom-color: var(--fill-color);\n",
              "    animation:\n",
              "      spin 1s steps(1) infinite;\n",
              "  }\n",
              "\n",
              "  @keyframes spin {\n",
              "    0% {\n",
              "      border-color: transparent;\n",
              "      border-bottom-color: var(--fill-color);\n",
              "      border-left-color: var(--fill-color);\n",
              "    }\n",
              "    20% {\n",
              "      border-color: transparent;\n",
              "      border-left-color: var(--fill-color);\n",
              "      border-top-color: var(--fill-color);\n",
              "    }\n",
              "    30% {\n",
              "      border-color: transparent;\n",
              "      border-left-color: var(--fill-color);\n",
              "      border-top-color: var(--fill-color);\n",
              "      border-right-color: var(--fill-color);\n",
              "    }\n",
              "    40% {\n",
              "      border-color: transparent;\n",
              "      border-right-color: var(--fill-color);\n",
              "      border-top-color: var(--fill-color);\n",
              "    }\n",
              "    60% {\n",
              "      border-color: transparent;\n",
              "      border-right-color: var(--fill-color);\n",
              "    }\n",
              "    80% {\n",
              "      border-color: transparent;\n",
              "      border-right-color: var(--fill-color);\n",
              "      border-bottom-color: var(--fill-color);\n",
              "    }\n",
              "    90% {\n",
              "      border-color: transparent;\n",
              "      border-bottom-color: var(--fill-color);\n",
              "    }\n",
              "  }\n",
              "</style>\n",
              "\n",
              "  <script>\n",
              "    async function quickchart(key) {\n",
              "      const quickchartButtonEl =\n",
              "        document.querySelector('#' + key + ' button');\n",
              "      quickchartButtonEl.disabled = true;  // To prevent multiple clicks.\n",
              "      quickchartButtonEl.classList.add('colab-df-spinner');\n",
              "      try {\n",
              "        const charts = await google.colab.kernel.invokeFunction(\n",
              "            'suggestCharts', [key], {});\n",
              "      } catch (error) {\n",
              "        console.error('Error during call to suggestCharts:', error);\n",
              "      }\n",
              "      quickchartButtonEl.classList.remove('colab-df-spinner');\n",
              "      quickchartButtonEl.classList.add('colab-df-quickchart-complete');\n",
              "    }\n",
              "    (() => {\n",
              "      let quickchartButtonEl =\n",
              "        document.querySelector('#df-1ea902f7-29ba-45ac-9d2f-9c2cad54d5f3 button');\n",
              "      quickchartButtonEl.style.display =\n",
              "        google.colab.kernel.accessAllowed ? 'block' : 'none';\n",
              "    })();\n",
              "  </script>\n",
              "</div>\n",
              "    </div>\n",
              "  </div>\n"
            ],
            "application/vnd.google.colaboratory.intrinsic+json": {
              "type": "dataframe",
              "variable_name": "df",
              "summary": "{\n  \"name\": \"df\",\n  \"rows\": 9561,\n  \"fields\": [\n    {\n      \"column\": \"header\",\n      \"properties\": {\n        \"dtype\": \"string\",\n        \"num_unique_values\": 7105,\n        \"samples\": [\n          \"\\u041c\\u043e\\u043b\\u0447\\u0430\\u0442, \\u0431\\u0435\\u0437 \\u0432\\u0435\\u0434\\u043e\\u043c\\u0430 \\u043c\\u0435\\u043d\\u044f\\u044e\\u0442 \\u0441\\u043f\\u043e\\u0441\\u043e\\u0431 \\u0432\\u043e\\u0437\\u043c\\u0435\\u0449\\u0435\\u043d\\u0438\\u044f, \\u043f\\u0435\\u0440\\u0435\\u0432\\u043e\\u0434\\u044f\\u0442 \\u0434\\u0435\\u043d\\u044c\\u0433\\u0438 \\u043d\\u0435\\u043f\\u043e\\u043d\\u044f\\u0442\\u043d\\u043e \\u043a\\u0443\\u0434\\u0430\",\n          \"\\u041d\\u0435 \\u043f\\u0435\\u0440\\u0432\\u044b\\u0439 \\u0433\\u043e\\u0434 \\u0438\\u0445 \\u043a\\u043b\\u0438\\u0435\\u043d\\u0442\",\n          \"\\u0421\\u0442\\u0440\\u0430\\u0445\\u043e\\u0432\\u0430\\u044f \\u0432\\u044b\\u043f\\u043b\\u0430\\u0442\\u0430 \\u043f\\u043e \\u041e\\u0421\\u0410\\u0413\\u041e \\u043e\\u0442 \\u0422\\u0438\\u043d\\u044c\\u043a\\u043e\\u0444\\u0444 \\u0421\\u0442\\u0440\\u0430\\u0445\\u043e\\u0432\\u0430\\u043d\\u0438\\u0435\"\n        ],\n        \"semantic_type\": \"\",\n        \"description\": \"\"\n      }\n    },\n    {\n      \"column\": \"bank\",\n      \"properties\": {\n        \"dtype\": \"category\",\n        \"num_unique_values\": 65,\n        \"samples\": [\n          \"\\u0421\\u041e\\u0413\\u0410\\u0417-\\u041c\\u0435\\u0434\",\n          \"\\u0420\\u0443\\u0441\\u0441\\u043a\\u0438\\u0439 \\u0421\\u0442\\u0430\\u043d\\u0434\\u0430\\u0440\\u0442 \\u0421\\u0442\\u0440\\u0430\\u0445\\u043e\\u0432\\u0430\\u043d\\u0438\\u0435\",\n          \"\\u0422-\\u0421\\u0442\\u0440\\u0430\\u0445\\u043e\\u0432\\u0430\\u043d\\u0438\\u0435\"\n        ],\n        \"semantic_type\": \"\",\n        \"description\": \"\"\n      }\n    },\n    {\n      \"column\": \"review\",\n      \"properties\": {\n        \"dtype\": \"string\",\n        \"num_unique_values\": 9551,\n        \"samples\": [\n          \"\\u0414\\u043e\\u0431\\u0440\\u044b\\u0439 \\u0434\\u0435\\u043d\\u044c.\\u00a0 \\u041a\\u043e\\u0433\\u0434\\u0430 \\u0437\\u0430\\u043a\\u0430\\u0437\\u044b\\u0432\\u0430\\u043b\\u0430 \\u0433\\u0430\\u0440\\u0430\\u043d\\u0442\\u0438\\u0439\\u043d\\u043e\\u0435 \\u043f\\u0438\\u0441\\u044c\\u043c\\u043e \\u0432 \\u0441\\u0442\\u0440\\u0430\\u0445\\u043e\\u0432\\u043e\\u0439 \\u043c\\u043d\\u0435 \\u043f\\u043e\\u0441\\u043e\\u0432\\u0435\\u0442\\u043e\\u0432\\u0430\\u043b\\u0438 \\u0432\\u044b\\u0431\\u0440\\u0430\\u0442\\u044c \\u0434\\u0440\\u0443\\u0433\\u043e\\u0435 \\u043c\\u0435\\u0434. \\u0443\\u0447\\u0435\\u0440\\u0435\\u0436\\u043b\\u0435\\u043d\\u0438\\u0435 \\u0438\\u0437 \\u0441\\u043f\\u0438\\u0441\\u043a\\u0430, \\u0445\\u043e\\u0442\\u044f \\u043e\\u0433\\u0440\\u0430\\u043d\\u0438\\u0447\\u0435\\u043d \\u043f\\u043e \\u043f\\u0440\\u043e\\u0433\\u0440\\u0430\\u043c\\u043c\\u0435 \\u043d\\u0435\\u0442. \\u0412 \\u0434\\u0430\\u043b\\u044c\\u043d\\u0435\\u0439\\u0448\\u0435\\u043c, \\u043f\\u043e\\u0441\\u043b\\u0435 \\u043f\\u043e\\u0441\\u0435\\u0449\\u0435\\u043d\\u0438\\u044f \\u0432\\u0440\\u0430\\u0447\\u0430, \\u0443\\u0436\\u0435 5\\u0439 \\u0434\\u0435\\u043d\\u044c \\u0441\\u043e\\u0433\\u043b\\u0430\\u0441\\u043e\\u0432\\u044b\\u0432\\u0430\\u044e\\u0442 \\u0433\\u0430\\u0440\\u0430\\u043d\\u0442\\u0438\\u0439\\u043d\\u043e\\u0435 \\u043f\\u0438\\u0441\\u044c\\u043c\\u043e \\u0441\\u043e\\u0433\\u043b\\u0430\\u0441\\u043d\\u043e \\u043f\\u043b\\u0430\\u043d\\u0443 \\u043b\\u0435\\u0447\\u0435\\u043d\\u0438\\u044f, \\u043f\\u0440\\u0438 \\u0437\\u0432\\u043e\\u043d\\u043a\\u0435 \\u0432 \\u0441\\u0442\\u0440\\u0430\\u0445\\u043e\\u0432\\u0443\\u044e \\u043e\\u0442\\u0432\\u0435\\u0447\\u0430\\u044e\\u0442 \\u0447\\u0442\\u043e \\u0433\\u0430\\u0440\\u0430\\u043d\\u0442\\u0438\\u0439\\u043d\\u044b\\u0439 \\u043f\\u0438\\u0441\\u044c\\u043c\\u0430 \\u0440\\u0430\\u0441\\u0441\\u043c\\u0430\\u0442\\u0440\\u0438\\u0432\\u0430\\u044e\\u0442\\u0441\\u044f \\u0432 \\u0442\\u0435\\u0447\\u0435\\u043d\\u0438\\u0438 5 \\u0440\\u0430\\u0431\\u043e\\u0447\\u0438\\u0445 \\u0434\\u043d\\u0435\\u0439....\\u0434\\u043b\\u044f \\u0447\\u0435\\u0433\\u043e \\u0414\\u041c\\u0421, \\u0443 \\u043c\\u0435\\u043d\\u044f \\u043f\\u043e\\u043d\\u0438\\u043c\\u0430\\u043d\\u0438\\u044f \\u043d\\u0435\\u0442. \\u041e\\u0442\\u0432\\u0440\\u0430\\u0442\\u0438\\u0442\\u0435\\u043b\\u044c\\u043d\\u0430\\u044f \\u043a\\u043e\\u043c\\u043f\\u0430\\u043d\\u0438\\u044f.\",\n          \"\\u0421\\u043b\\u0430\\u0432\\u0430 \\u0411\\u043e\\u0433\\u0443 \\u043d\\u0435 \\u043d\\u0430\\u0441\\u0442\\u0443\\u043f\\u0438\\u043b \\u0441\\u0442\\u0440\\u0430\\u0445\\u043e\\u0432\\u043e\\u0439 \\u0441\\u043b\\u0443\\u0447\\u0430\\u0439.\",\n          \"\\u0412 \\u043f\\u0440\\u043e\\u0448\\u043b\\u043e\\u043c \\u0433\\u043e\\u0434\\u0443 \\u0437\\u0430\\u0441\\u0442\\u0440\\u0430\\u0445\\u043e\\u0432\\u0430\\u043b \\u043a\\u0432\\u0430\\u0440\\u0442\\u0438\\u0440\\u0443 \\u0432 \\u0422\\u0438\\u043d\\u044c\\u043a\\u043e\\u0444\\u0444 \\u0441\\u0442\\u0440\\u0430\\u0445\\u043e\\u0432\\u0430\\u043d\\u0438\\u0435. \\u0421\\u0442\\u0440\\u0430\\u0445\\u043e\\u0432\\u0430\\u043b\\u0441\\u044f \\u0447\\u0435\\u0440\\u0435\\u0437 \\u0441\\u0430\\u0439\\u0442, \\u043f\\u043e\\u043b\\u0438\\u0441 \\u043f\\u0440\\u0438\\u0448\\u0435\\u043b \\u043d\\u0430 \\u043f\\u043e\\u0447\\u0442\\u0443. \\u0412 \\u043d\\u043e\\u0432\\u043e\\u0433\\u043e\\u0434\\u043d\\u0438\\u0435 \\u043f\\u0440\\u0430\\u0437\\u0434\\u043d\\u0438\\u043a\\u0438 \\u0432\\u043e \\u0432\\u0440\\u0435\\u043c\\u044f \\u0441\\u0438\\u043b\\u044c\\u043d\\u044b\\u0445 \\u043c\\u043e\\u0440\\u043e\\u0437\\u043e\\u0432 \\u0443 \\u0432\\u0435\\u0440\\u0445\\u043d\\u0438\\u0445 \\u0441\\u043e\\u0441\\u0435\\u0434\\u0435\\u0439 (\\u0447\\u0435\\u0440\\u0435\\u0437 \\u044d\\u0442\\u0430\\u0436) \\u043f\\u0440\\u043e\\u0440\\u0432\\u0430\\u043b\\u043e \\u0431\\u0430\\u0442\\u0430\\u0440\\u0435\\u0438 \\u043e\\u0442\\u043e\\u043f\\u043b\\u0435\\u043d\\u0438\\u044f. \\u0411\\u044b\\u043b\\u043e \\u0437\\u0430\\u043b\\u0438\\u0442\\u043e \\u043d\\u0435\\u0441\\u043a\\u043e\\u043b\\u044c\\u043a\\u043e \\u043a\\u0432\\u0430\\u0440\\u0442\\u0438\\u0440, \\u0432 \\u0442\\u043e\\u043c \\u0447\\u0438\\u0441\\u043b\\u0435 \\u0438 \\u043c\\u043e\\u044f \\u043a\\u0432\\u0430\\u0440\\u0442\\u0438\\u0440\\u0430. \\u0427\\u0435\\u0440\\u0435\\u0437 \\u0433\\u043e\\u0440\\u044f\\u0447\\u0443\\u044e \\u043b\\u0438\\u043d\\u0438\\u044e \\u044f \\u0441\\u043e\\u043e\\u0431\\u0449\\u0438\\u043b \\u043e \\u0441\\u0442\\u0440\\u0430\\u0445\\u043e\\u0432\\u043e\\u043c \\u0441\\u043b\\u0443\\u0447\\u0430\\u0435, \\u043c\\u043d\\u0435 \\u0441\\u0440\\u0430\\u0437\\u0443 \\u043d\\u0430\\u0437\\u043d\\u0430\\u0447\\u0438\\u043b\\u0438 \\u0441\\u0442\\u0440\\u0430\\u0445\\u043e\\u0432\\u043e\\u0433\\u043e \\u043c\\u0435\\u043d\\u0435\\u0434\\u0436\\u0435\\u0440\\u0430, \\u043a\\u043e\\u0442\\u043e\\u0440\\u0430\\u044f \\u043f\\u0440\\u0438\\u0441\\u043b\\u0430\\u043b\\u0430 \\u0441\\u043f\\u0438\\u0441\\u043e\\u043a \\u0442\\u0440\\u0435\\u0431\\u0443\\u0435\\u043c\\u044b\\u0445 \\u0434\\u043e\\u043a\\u0443\\u043c\\u0435\\u043d\\u0442\\u043e\\u0432. \\u041f\\u043e\\u0441\\u043b\\u0435 \\u043f\\u043e\\u043b\\u0443\\u0447\\u0435\\u043d\\u0438\\u044f \\u0430\\u043a\\u0442\\u0430 \\u043e\\u0442 \\u0443\\u043f\\u0440\\u0430\\u0432\\u043b\\u044f\\u044e\\u0449\\u0435\\u0439 \\u043a\\u043e\\u043c\\u043f\\u0430\\u043d\\u0438\\u0438 \\u0441\\u043e \\u043c\\u043d\\u043e\\u0439 \\u0441\\u0432\\u044f\\u0437\\u0430\\u043b\\u0430\\u0441\\u044c \\u0438 \\u043f\\u0440\\u0438\\u0441\\u043b\\u0430\\u043b\\u0438 \\u043d\\u0435\\u0437\\u0430\\u0432\\u0438\\u0441\\u0438\\u043c\\u043e\\u0433\\u043e \\u044d\\u043a\\u0441\\u043f\\u0435\\u0440\\u0442\\u0430, \\u043a\\u043e\\u0442\\u043e\\u0440\\u044b\\u0439 \\u0437\\u0430\\u0444\\u0438\\u043a\\u0441\\u0438\\u0440\\u043e\\u0432\\u0430\\u043b \\u0432\\u0441\\u0435 \\u043f\\u043e\\u0432\\u0440\\u0435\\u0436\\u0434\\u0435\\u043d\\u0438\\u044f \\u0438 \\u0441\\u043e\\u0441\\u0442\\u0430\\u0432\\u0438\\u043b \\u0430\\u043a\\u0442. \\u0412 \\u0442\\u0435\\u0447\\u0435\\u043d\\u0438\\u0435 \\u043d\\u0435\\u0434\\u0435\\u043b\\u0438 \\u0441\\u0442\\u0440\\u0430\\u0445\\u043e\\u0432\\u0430\\u044f \\u043a\\u043e\\u043c\\u043f\\u0430\\u043d\\u0438\\u044f \\u043e\\u0446\\u0435\\u043d\\u0438\\u043b\\u0430 \\u0441\\u0442\\u043e\\u0438\\u043c\\u043e\\u0441\\u0442\\u044c \\u0443\\u0449\\u0435\\u0440\\u0431\\u0430 \\u0438 \\u043f\\u0440\\u0438\\u0441\\u043b\\u0430\\u043b\\u0430 \\u0441\\u0432\\u043e\\u044e \\u043e\\u0446\\u0435\\u043d\\u043a\\u0443. \\u041e\\u0446\\u0435\\u043d\\u043a\\u0430 \\u0432\\u043f\\u043e\\u043b\\u043d\\u0435 \\u0430\\u0434\\u0435\\u043a\\u0432\\u0430\\u0442\\u043d\\u0430\\u044f, \\u044f \\u0441 \\u043d\\u0435\\u0439 \\u0441\\u043e\\u0433\\u043b\\u0430\\u0441\\u0438\\u043b\\u0441\\u044f \\u0438 \\u0431\\u0443\\u043a\\u0432\\u0430\\u043b\\u044c\\u043d\\u043e \\u043d\\u0430 \\u0441\\u043b\\u0435\\u0434\\u0443\\u044e\\u0449\\u0438\\u0439 \\u0434\\u0435\\u043d\\u044c \\u043d\\u0430 \\u043c\\u043e\\u0439 \\u0441\\u0447\\u0435\\u0442 \\u043f\\u043e\\u0441\\u0442\\u0443\\u043f\\u0438\\u043b\\u0438 \\u0434\\u0435\\u043d\\u044c\\u0433\\u0438. \\u0411\\u044b\\u043b \\u043f\\u0440\\u0438\\u044f\\u0442\\u043d\\u043e \\u0443\\u0434\\u0438\\u0432\\u043b\\u0435\\u043d \\u0442\\u0430\\u043a\\u0438\\u043c \\u043f\\u043e\\u0434\\u0445\\u043e\\u0434\\u043e\\u043c \\u0438 \\u043e\\u043f\\u0435\\u0440\\u0430\\u0442\\u0438\\u0432\\u043d\\u043e\\u0441\\u0442\\u044c\\u044e \\u0440\\u0435\\u0448\\u0435\\u043d\\u0438\\u044f, \\u043c\\u043e\\u0433\\u0443 \\u0440\\u0435\\u043a\\u043e\\u043c\\u0435\\u043d\\u0434\\u043e\\u0432\\u0430\\u0442\\u044c \\u0422\\u0438\\u043d\\u044c\\u043a\\u043e\\u0444\\u0444 \\u0441\\u0442\\u0440\\u0430\\u0445\\u043e\\u0432\\u0430\\u043d\\u0438\\u0435 \\u043a\\u0430\\u043a \\u043d\\u0430\\u0434\\u0435\\u0436\\u043d\\u043e\\u0433\\u043e \\u043f\\u0430\\u0440\\u0442\\u043d\\u0435\\u0440\\u0430. \\u041e\\u0442\\u0434\\u0435\\u043b\\u044c\\u043d\\u043e\\u0435 \\u0441\\u043f\\u0430\\u0441\\u0438\\u0431\\u043e \\u043c\\u0435\\u043d\\u0435\\u0434\\u0436\\u0435\\u0440\\u0443 \\u0410\\u043d\\u0430\\u0441\\u0442\\u0430\\u0441\\u0438\\u0438 \\u0437\\u0430 \\u043f\\u0440\\u043e\\u0444\\u0435\\u0441\\u0441\\u0438\\u043e\\u043d\\u0430\\u043b\\u044c\\u043d\\u0443\\u044e \\u0440\\u0430\\u0431\\u043e\\u0442\\u0443.\"\n        ],\n        \"semantic_type\": \"\",\n        \"description\": \"\"\n      }\n    },\n    {\n      \"column\": \"rate\",\n      \"properties\": {\n        \"dtype\": \"number\",\n        \"std\": 1,\n        \"min\": 1,\n        \"max\": 5,\n        \"num_unique_values\": 5,\n        \"samples\": [\n          4,\n          3,\n          1\n        ],\n        \"semantic_type\": \"\",\n        \"description\": \"\"\n      }\n    },\n    {\n      \"column\": \"date\",\n      \"properties\": {\n        \"dtype\": \"category\",\n        \"num_unique_values\": 485,\n        \"samples\": [\n          \"23.02.2024\",\n          \"25.01.202\",\n          \"23.06.202\"\n        ],\n        \"semantic_type\": \"\",\n        \"description\": \"\"\n      }\n    }\n  ]\n}"
            }
          },
          "metadata": {},
          "execution_count": 3
        }
      ]
    },
    {
      "cell_type": "markdown",
      "source": [
        "## Обработка данных"
      ],
      "metadata": {
        "id": "HPwRM_m6YAW8"
      }
    },
    {
      "cell_type": "markdown",
      "source": [
        "Изучим датасет и выведем его описательную характкристику. Обработаем/очистим данные для того, чтобы было удобнее их анализировать и визуализировать."
      ],
      "metadata": {
        "id": "v643tg3Y2Sj_"
      }
    },
    {
      "cell_type": "code",
      "source": [
        "# выведем размерность датасета\n",
        "df.shape"
      ],
      "metadata": {
        "colab": {
          "base_uri": "https://localhost:8080/"
        },
        "id": "wvH0h_bJ3mPF",
        "outputId": "a46127a0-dfe8-432e-f2e7-04b4dcc66fab"
      },
      "execution_count": null,
      "outputs": [
        {
          "output_type": "execute_result",
          "data": {
            "text/plain": [
              "(9561, 5)"
            ]
          },
          "metadata": {},
          "execution_count": 4
        }
      ]
    },
    {
      "cell_type": "code",
      "source": [
        "# выведем типы данных столбцов\n",
        "df.dtypes"
      ],
      "metadata": {
        "colab": {
          "base_uri": "https://localhost:8080/",
          "height": 240
        },
        "id": "8P2_9poc3sh0",
        "outputId": "30a84ccb-4c6a-4a09-b74a-87b421b91107"
      },
      "execution_count": null,
      "outputs": [
        {
          "output_type": "execute_result",
          "data": {
            "text/plain": [
              "header    object\n",
              "bank      object\n",
              "review    object\n",
              "rate       int64\n",
              "date      object\n",
              "dtype: object"
            ],
            "text/html": [
              "<div>\n",
              "<style scoped>\n",
              "    .dataframe tbody tr th:only-of-type {\n",
              "        vertical-align: middle;\n",
              "    }\n",
              "\n",
              "    .dataframe tbody tr th {\n",
              "        vertical-align: top;\n",
              "    }\n",
              "\n",
              "    .dataframe thead th {\n",
              "        text-align: right;\n",
              "    }\n",
              "</style>\n",
              "<table border=\"1\" class=\"dataframe\">\n",
              "  <thead>\n",
              "    <tr style=\"text-align: right;\">\n",
              "      <th></th>\n",
              "      <th>0</th>\n",
              "    </tr>\n",
              "  </thead>\n",
              "  <tbody>\n",
              "    <tr>\n",
              "      <th>header</th>\n",
              "      <td>object</td>\n",
              "    </tr>\n",
              "    <tr>\n",
              "      <th>bank</th>\n",
              "      <td>object</td>\n",
              "    </tr>\n",
              "    <tr>\n",
              "      <th>review</th>\n",
              "      <td>object</td>\n",
              "    </tr>\n",
              "    <tr>\n",
              "      <th>rate</th>\n",
              "      <td>int64</td>\n",
              "    </tr>\n",
              "    <tr>\n",
              "      <th>date</th>\n",
              "      <td>object</td>\n",
              "    </tr>\n",
              "  </tbody>\n",
              "</table>\n",
              "</div><br><label><b>dtype:</b> object</label>"
            ]
          },
          "metadata": {},
          "execution_count": 5
        }
      ]
    },
    {
      "cell_type": "code",
      "source": [
        "# выведем основные статистические показатели столбца с оценками\n",
        "df.describe()"
      ],
      "metadata": {
        "colab": {
          "base_uri": "https://localhost:8080/",
          "height": 300
        },
        "id": "8OtVRCW42YuD",
        "outputId": "f66a666d-0b41-472b-b839-8cab901d9422"
      },
      "execution_count": null,
      "outputs": [
        {
          "output_type": "execute_result",
          "data": {
            "text/plain": [
              "              rate\n",
              "count  9561.000000\n",
              "mean      3.579856\n",
              "std       1.865433\n",
              "min       1.000000\n",
              "25%       1.000000\n",
              "50%       5.000000\n",
              "75%       5.000000\n",
              "max       5.000000"
            ],
            "text/html": [
              "\n",
              "  <div id=\"df-7fe5cbcb-9c6d-48a9-8257-cfac50f76332\" class=\"colab-df-container\">\n",
              "    <div>\n",
              "<style scoped>\n",
              "    .dataframe tbody tr th:only-of-type {\n",
              "        vertical-align: middle;\n",
              "    }\n",
              "\n",
              "    .dataframe tbody tr th {\n",
              "        vertical-align: top;\n",
              "    }\n",
              "\n",
              "    .dataframe thead th {\n",
              "        text-align: right;\n",
              "    }\n",
              "</style>\n",
              "<table border=\"1\" class=\"dataframe\">\n",
              "  <thead>\n",
              "    <tr style=\"text-align: right;\">\n",
              "      <th></th>\n",
              "      <th>rate</th>\n",
              "    </tr>\n",
              "  </thead>\n",
              "  <tbody>\n",
              "    <tr>\n",
              "      <th>count</th>\n",
              "      <td>9561.000000</td>\n",
              "    </tr>\n",
              "    <tr>\n",
              "      <th>mean</th>\n",
              "      <td>3.579856</td>\n",
              "    </tr>\n",
              "    <tr>\n",
              "      <th>std</th>\n",
              "      <td>1.865433</td>\n",
              "    </tr>\n",
              "    <tr>\n",
              "      <th>min</th>\n",
              "      <td>1.000000</td>\n",
              "    </tr>\n",
              "    <tr>\n",
              "      <th>25%</th>\n",
              "      <td>1.000000</td>\n",
              "    </tr>\n",
              "    <tr>\n",
              "      <th>50%</th>\n",
              "      <td>5.000000</td>\n",
              "    </tr>\n",
              "    <tr>\n",
              "      <th>75%</th>\n",
              "      <td>5.000000</td>\n",
              "    </tr>\n",
              "    <tr>\n",
              "      <th>max</th>\n",
              "      <td>5.000000</td>\n",
              "    </tr>\n",
              "  </tbody>\n",
              "</table>\n",
              "</div>\n",
              "    <div class=\"colab-df-buttons\">\n",
              "\n",
              "  <div class=\"colab-df-container\">\n",
              "    <button class=\"colab-df-convert\" onclick=\"convertToInteractive('df-7fe5cbcb-9c6d-48a9-8257-cfac50f76332')\"\n",
              "            title=\"Convert this dataframe to an interactive table.\"\n",
              "            style=\"display:none;\">\n",
              "\n",
              "  <svg xmlns=\"http://www.w3.org/2000/svg\" height=\"24px\" viewBox=\"0 -960 960 960\">\n",
              "    <path d=\"M120-120v-720h720v720H120Zm60-500h600v-160H180v160Zm220 220h160v-160H400v160Zm0 220h160v-160H400v160ZM180-400h160v-160H180v160Zm440 0h160v-160H620v160ZM180-180h160v-160H180v160Zm440 0h160v-160H620v160Z\"/>\n",
              "  </svg>\n",
              "    </button>\n",
              "\n",
              "  <style>\n",
              "    .colab-df-container {\n",
              "      display:flex;\n",
              "      gap: 12px;\n",
              "    }\n",
              "\n",
              "    .colab-df-convert {\n",
              "      background-color: #E8F0FE;\n",
              "      border: none;\n",
              "      border-radius: 50%;\n",
              "      cursor: pointer;\n",
              "      display: none;\n",
              "      fill: #1967D2;\n",
              "      height: 32px;\n",
              "      padding: 0 0 0 0;\n",
              "      width: 32px;\n",
              "    }\n",
              "\n",
              "    .colab-df-convert:hover {\n",
              "      background-color: #E2EBFA;\n",
              "      box-shadow: 0px 1px 2px rgba(60, 64, 67, 0.3), 0px 1px 3px 1px rgba(60, 64, 67, 0.15);\n",
              "      fill: #174EA6;\n",
              "    }\n",
              "\n",
              "    .colab-df-buttons div {\n",
              "      margin-bottom: 4px;\n",
              "    }\n",
              "\n",
              "    [theme=dark] .colab-df-convert {\n",
              "      background-color: #3B4455;\n",
              "      fill: #D2E3FC;\n",
              "    }\n",
              "\n",
              "    [theme=dark] .colab-df-convert:hover {\n",
              "      background-color: #434B5C;\n",
              "      box-shadow: 0px 1px 3px 1px rgba(0, 0, 0, 0.15);\n",
              "      filter: drop-shadow(0px 1px 2px rgba(0, 0, 0, 0.3));\n",
              "      fill: #FFFFFF;\n",
              "    }\n",
              "  </style>\n",
              "\n",
              "    <script>\n",
              "      const buttonEl =\n",
              "        document.querySelector('#df-7fe5cbcb-9c6d-48a9-8257-cfac50f76332 button.colab-df-convert');\n",
              "      buttonEl.style.display =\n",
              "        google.colab.kernel.accessAllowed ? 'block' : 'none';\n",
              "\n",
              "      async function convertToInteractive(key) {\n",
              "        const element = document.querySelector('#df-7fe5cbcb-9c6d-48a9-8257-cfac50f76332');\n",
              "        const dataTable =\n",
              "          await google.colab.kernel.invokeFunction('convertToInteractive',\n",
              "                                                    [key], {});\n",
              "        if (!dataTable) return;\n",
              "\n",
              "        const docLinkHtml = 'Like what you see? Visit the ' +\n",
              "          '<a target=\"_blank\" href=https://colab.research.google.com/notebooks/data_table.ipynb>data table notebook</a>'\n",
              "          + ' to learn more about interactive tables.';\n",
              "        element.innerHTML = '';\n",
              "        dataTable['output_type'] = 'display_data';\n",
              "        await google.colab.output.renderOutput(dataTable, element);\n",
              "        const docLink = document.createElement('div');\n",
              "        docLink.innerHTML = docLinkHtml;\n",
              "        element.appendChild(docLink);\n",
              "      }\n",
              "    </script>\n",
              "  </div>\n",
              "\n",
              "\n",
              "<div id=\"df-8b4cbd56-d987-48c0-acce-9e9acc2fb2c9\">\n",
              "  <button class=\"colab-df-quickchart\" onclick=\"quickchart('df-8b4cbd56-d987-48c0-acce-9e9acc2fb2c9')\"\n",
              "            title=\"Suggest charts\"\n",
              "            style=\"display:none;\">\n",
              "\n",
              "<svg xmlns=\"http://www.w3.org/2000/svg\" height=\"24px\"viewBox=\"0 0 24 24\"\n",
              "     width=\"24px\">\n",
              "    <g>\n",
              "        <path d=\"M19 3H5c-1.1 0-2 .9-2 2v14c0 1.1.9 2 2 2h14c1.1 0 2-.9 2-2V5c0-1.1-.9-2-2-2zM9 17H7v-7h2v7zm4 0h-2V7h2v10zm4 0h-2v-4h2v4z\"/>\n",
              "    </g>\n",
              "</svg>\n",
              "  </button>\n",
              "\n",
              "<style>\n",
              "  .colab-df-quickchart {\n",
              "      --bg-color: #E8F0FE;\n",
              "      --fill-color: #1967D2;\n",
              "      --hover-bg-color: #E2EBFA;\n",
              "      --hover-fill-color: #174EA6;\n",
              "      --disabled-fill-color: #AAA;\n",
              "      --disabled-bg-color: #DDD;\n",
              "  }\n",
              "\n",
              "  [theme=dark] .colab-df-quickchart {\n",
              "      --bg-color: #3B4455;\n",
              "      --fill-color: #D2E3FC;\n",
              "      --hover-bg-color: #434B5C;\n",
              "      --hover-fill-color: #FFFFFF;\n",
              "      --disabled-bg-color: #3B4455;\n",
              "      --disabled-fill-color: #666;\n",
              "  }\n",
              "\n",
              "  .colab-df-quickchart {\n",
              "    background-color: var(--bg-color);\n",
              "    border: none;\n",
              "    border-radius: 50%;\n",
              "    cursor: pointer;\n",
              "    display: none;\n",
              "    fill: var(--fill-color);\n",
              "    height: 32px;\n",
              "    padding: 0;\n",
              "    width: 32px;\n",
              "  }\n",
              "\n",
              "  .colab-df-quickchart:hover {\n",
              "    background-color: var(--hover-bg-color);\n",
              "    box-shadow: 0 1px 2px rgba(60, 64, 67, 0.3), 0 1px 3px 1px rgba(60, 64, 67, 0.15);\n",
              "    fill: var(--button-hover-fill-color);\n",
              "  }\n",
              "\n",
              "  .colab-df-quickchart-complete:disabled,\n",
              "  .colab-df-quickchart-complete:disabled:hover {\n",
              "    background-color: var(--disabled-bg-color);\n",
              "    fill: var(--disabled-fill-color);\n",
              "    box-shadow: none;\n",
              "  }\n",
              "\n",
              "  .colab-df-spinner {\n",
              "    border: 2px solid var(--fill-color);\n",
              "    border-color: transparent;\n",
              "    border-bottom-color: var(--fill-color);\n",
              "    animation:\n",
              "      spin 1s steps(1) infinite;\n",
              "  }\n",
              "\n",
              "  @keyframes spin {\n",
              "    0% {\n",
              "      border-color: transparent;\n",
              "      border-bottom-color: var(--fill-color);\n",
              "      border-left-color: var(--fill-color);\n",
              "    }\n",
              "    20% {\n",
              "      border-color: transparent;\n",
              "      border-left-color: var(--fill-color);\n",
              "      border-top-color: var(--fill-color);\n",
              "    }\n",
              "    30% {\n",
              "      border-color: transparent;\n",
              "      border-left-color: var(--fill-color);\n",
              "      border-top-color: var(--fill-color);\n",
              "      border-right-color: var(--fill-color);\n",
              "    }\n",
              "    40% {\n",
              "      border-color: transparent;\n",
              "      border-right-color: var(--fill-color);\n",
              "      border-top-color: var(--fill-color);\n",
              "    }\n",
              "    60% {\n",
              "      border-color: transparent;\n",
              "      border-right-color: var(--fill-color);\n",
              "    }\n",
              "    80% {\n",
              "      border-color: transparent;\n",
              "      border-right-color: var(--fill-color);\n",
              "      border-bottom-color: var(--fill-color);\n",
              "    }\n",
              "    90% {\n",
              "      border-color: transparent;\n",
              "      border-bottom-color: var(--fill-color);\n",
              "    }\n",
              "  }\n",
              "</style>\n",
              "\n",
              "  <script>\n",
              "    async function quickchart(key) {\n",
              "      const quickchartButtonEl =\n",
              "        document.querySelector('#' + key + ' button');\n",
              "      quickchartButtonEl.disabled = true;  // To prevent multiple clicks.\n",
              "      quickchartButtonEl.classList.add('colab-df-spinner');\n",
              "      try {\n",
              "        const charts = await google.colab.kernel.invokeFunction(\n",
              "            'suggestCharts', [key], {});\n",
              "      } catch (error) {\n",
              "        console.error('Error during call to suggestCharts:', error);\n",
              "      }\n",
              "      quickchartButtonEl.classList.remove('colab-df-spinner');\n",
              "      quickchartButtonEl.classList.add('colab-df-quickchart-complete');\n",
              "    }\n",
              "    (() => {\n",
              "      let quickchartButtonEl =\n",
              "        document.querySelector('#df-8b4cbd56-d987-48c0-acce-9e9acc2fb2c9 button');\n",
              "      quickchartButtonEl.style.display =\n",
              "        google.colab.kernel.accessAllowed ? 'block' : 'none';\n",
              "    })();\n",
              "  </script>\n",
              "</div>\n",
              "    </div>\n",
              "  </div>\n"
            ],
            "application/vnd.google.colaboratory.intrinsic+json": {
              "type": "dataframe",
              "summary": "{\n  \"name\": \"df\",\n  \"rows\": 8,\n  \"fields\": [\n    {\n      \"column\": \"rate\",\n      \"properties\": {\n        \"dtype\": \"number\",\n        \"std\": 3379.1907599437873,\n        \"min\": 1.0,\n        \"max\": 9561.0,\n        \"num_unique_values\": 5,\n        \"samples\": [\n          3.579855663633511,\n          5.0,\n          1.8654332004094756\n        ],\n        \"semantic_type\": \"\",\n        \"description\": \"\"\n      }\n    }\n  ]\n}"
            }
          },
          "metadata": {},
          "execution_count": 6
        }
      ]
    },
    {
      "cell_type": "code",
      "source": [
        "# выведем количество уникальных значений датасета по столбцам\n",
        "df.nunique()"
      ],
      "metadata": {
        "colab": {
          "base_uri": "https://localhost:8080/",
          "height": 240
        },
        "id": "iG_xJZI12Yow",
        "outputId": "ddafd07a-16bd-4062-a8dd-e25381cef2ef"
      },
      "execution_count": null,
      "outputs": [
        {
          "output_type": "execute_result",
          "data": {
            "text/plain": [
              "header    7105\n",
              "bank        65\n",
              "review    9551\n",
              "rate         5\n",
              "date       485\n",
              "dtype: int64"
            ],
            "text/html": [
              "<div>\n",
              "<style scoped>\n",
              "    .dataframe tbody tr th:only-of-type {\n",
              "        vertical-align: middle;\n",
              "    }\n",
              "\n",
              "    .dataframe tbody tr th {\n",
              "        vertical-align: top;\n",
              "    }\n",
              "\n",
              "    .dataframe thead th {\n",
              "        text-align: right;\n",
              "    }\n",
              "</style>\n",
              "<table border=\"1\" class=\"dataframe\">\n",
              "  <thead>\n",
              "    <tr style=\"text-align: right;\">\n",
              "      <th></th>\n",
              "      <th>0</th>\n",
              "    </tr>\n",
              "  </thead>\n",
              "  <tbody>\n",
              "    <tr>\n",
              "      <th>header</th>\n",
              "      <td>7105</td>\n",
              "    </tr>\n",
              "    <tr>\n",
              "      <th>bank</th>\n",
              "      <td>65</td>\n",
              "    </tr>\n",
              "    <tr>\n",
              "      <th>review</th>\n",
              "      <td>9551</td>\n",
              "    </tr>\n",
              "    <tr>\n",
              "      <th>rate</th>\n",
              "      <td>5</td>\n",
              "    </tr>\n",
              "    <tr>\n",
              "      <th>date</th>\n",
              "      <td>485</td>\n",
              "    </tr>\n",
              "  </tbody>\n",
              "</table>\n",
              "</div><br><label><b>dtype:</b> int64</label>"
            ]
          },
          "metadata": {},
          "execution_count": 7
        }
      ]
    },
    {
      "cell_type": "code",
      "source": [
        "# проверим количество повторяющихся отзывов\n",
        "df[\"review\"].duplicated().sum()"
      ],
      "metadata": {
        "colab": {
          "base_uri": "https://localhost:8080/"
        },
        "id": "zSftK-Hx6Hg4",
        "outputId": "dce40332-d9ae-474e-9aea-c4dfae04bb0a"
      },
      "execution_count": null,
      "outputs": [
        {
          "output_type": "execute_result",
          "data": {
            "text/plain": [
              "10"
            ]
          },
          "metadata": {},
          "execution_count": 8
        }
      ]
    },
    {
      "cell_type": "code",
      "source": [
        "# выведем количество пустых значений датасета по столбцам\n",
        "df.isna().sum()"
      ],
      "metadata": {
        "colab": {
          "base_uri": "https://localhost:8080/",
          "height": 240
        },
        "id": "5h7uawk34CF7",
        "outputId": "835130bc-a04e-4663-a1e7-e150c6de0917"
      },
      "execution_count": null,
      "outputs": [
        {
          "output_type": "execute_result",
          "data": {
            "text/plain": [
              "header    0\n",
              "bank      0\n",
              "review    0\n",
              "rate      0\n",
              "date      0\n",
              "dtype: int64"
            ],
            "text/html": [
              "<div>\n",
              "<style scoped>\n",
              "    .dataframe tbody tr th:only-of-type {\n",
              "        vertical-align: middle;\n",
              "    }\n",
              "\n",
              "    .dataframe tbody tr th {\n",
              "        vertical-align: top;\n",
              "    }\n",
              "\n",
              "    .dataframe thead th {\n",
              "        text-align: right;\n",
              "    }\n",
              "</style>\n",
              "<table border=\"1\" class=\"dataframe\">\n",
              "  <thead>\n",
              "    <tr style=\"text-align: right;\">\n",
              "      <th></th>\n",
              "      <th>0</th>\n",
              "    </tr>\n",
              "  </thead>\n",
              "  <tbody>\n",
              "    <tr>\n",
              "      <th>header</th>\n",
              "      <td>0</td>\n",
              "    </tr>\n",
              "    <tr>\n",
              "      <th>bank</th>\n",
              "      <td>0</td>\n",
              "    </tr>\n",
              "    <tr>\n",
              "      <th>review</th>\n",
              "      <td>0</td>\n",
              "    </tr>\n",
              "    <tr>\n",
              "      <th>rate</th>\n",
              "      <td>0</td>\n",
              "    </tr>\n",
              "    <tr>\n",
              "      <th>date</th>\n",
              "      <td>0</td>\n",
              "    </tr>\n",
              "  </tbody>\n",
              "</table>\n",
              "</div><br><label><b>dtype:</b> int64</label>"
            ]
          },
          "metadata": {},
          "execution_count": 9
        }
      ]
    },
    {
      "cell_type": "markdown",
      "source": [
        "В результате изучения датасета и его наполнения выяснилось:\n",
        "\n",
        "* размерность датасета - `(9561, 5)`;\n",
        "* оценка указана в числовом формате `int64`, остальные столбцы - `object`;\n",
        "* средняя оценка по отзывам - `3,58`;\n",
        "* из 9561 отзывов уникальными являются 9551, 10 отзывов - дубликаты;\n",
        "* нулевые значения отсутствуют;\n",
        "* количество банков/организаций в датасете - `65`.\n",
        "\n",
        "Следовательно, дубликаты необходимо удалить. Далее будет обработка и очистка данных."
      ],
      "metadata": {
        "id": "BR8lC7vh5DaB"
      }
    },
    {
      "cell_type": "code",
      "source": [
        "# удаляем дубликаты отзывов\n",
        "df.drop_duplicates(subset=\"review\", inplace=True)\n",
        "df"
      ],
      "metadata": {
        "colab": {
          "base_uri": "https://localhost:8080/",
          "height": 423
        },
        "id": "EnHO1fS82YhU",
        "outputId": "e6d8a4d0-aca1-47bd-fa47-3c8ac63b537a"
      },
      "execution_count": null,
      "outputs": [
        {
          "output_type": "execute_result",
          "data": {
            "text/plain": [
              "                                                 header  \\\n",
              "0                            Хорошая страховая компания   \n",
              "1                                          За стразовку   \n",
              "2                        Как я пришел за ОСАГО в Т-Банк   \n",
              "3                                         ОСАГО+КАСКОGO   \n",
              "4             Обман сбербанк страхование семейный актив   \n",
              "...                                                 ...   \n",
              "9556  Мне предоставили хорошую скидку на страховку ж...   \n",
              "9557                              Мой выбор - Ренессанс   \n",
              "9558                               Защита в пути, КАСКО   \n",
              "9559                          Нет возврата по страховке   \n",
              "9560                                       Самые лучшие   \n",
              "\n",
              "                            bank  \\\n",
              "0                  Т-Страхование   \n",
              "1         Совкомбанк Страхование   \n",
              "2                  Т-Страхование   \n",
              "3               АльфаСтрахование   \n",
              "4     Сбербанк страхование жизни   \n",
              "...                          ...   \n",
              "9556               Т-Страхование   \n",
              "9557                   Ренессанс   \n",
              "9558        Сбербанк страхование   \n",
              "9559     Хоум Кредит Страхование   \n",
              "9560               Т-Страхование   \n",
              "\n",
              "                                                 review  rate        date  \n",
              "0     Оформили каско и не пожалели !  Когда случилос...     5  22.09.2024  \n",
              "1     Самая дешёвая страховка из всех, в Совкомбанк....     4  22.09.2024  \n",
              "2     Здравствуйте уважаемые СММщики Т-Банка. Пришел...     1  22.09.2024  \n",
              "3     Добрый вечер, один свой автомобиль застраховал...     5  22.09.2024  \n",
              "4     Дорогие человеки,ни в коем случае не связывайт...     1  22.09.2024  \n",
              "...                                                 ...   ...         ...  \n",
              "9556  Позвонили с Тинькофф Страхования. У меня оформ...     5  20.01.2024  \n",
              "9557  Здравствуйте! Не всегда принято оставлять поло...     5  20.01.2024  \n",
              "9558  26.12.23 приобрёл автомобиль в кредит в Драйв ...     1  20.01.2024  \n",
              "9559  Помогите пожалуйста , взял кредит и сразу отка...     1  20.01.2024  \n",
              "9560  20.01.24 произошло ДТП, примерно в 10.00, вызв...     5  20.01.2024  \n",
              "\n",
              "[9551 rows x 5 columns]"
            ],
            "text/html": [
              "\n",
              "  <div id=\"df-83a1f76e-859f-4b9e-8be6-0f61e893f0ad\" class=\"colab-df-container\">\n",
              "    <div>\n",
              "<style scoped>\n",
              "    .dataframe tbody tr th:only-of-type {\n",
              "        vertical-align: middle;\n",
              "    }\n",
              "\n",
              "    .dataframe tbody tr th {\n",
              "        vertical-align: top;\n",
              "    }\n",
              "\n",
              "    .dataframe thead th {\n",
              "        text-align: right;\n",
              "    }\n",
              "</style>\n",
              "<table border=\"1\" class=\"dataframe\">\n",
              "  <thead>\n",
              "    <tr style=\"text-align: right;\">\n",
              "      <th></th>\n",
              "      <th>header</th>\n",
              "      <th>bank</th>\n",
              "      <th>review</th>\n",
              "      <th>rate</th>\n",
              "      <th>date</th>\n",
              "    </tr>\n",
              "  </thead>\n",
              "  <tbody>\n",
              "    <tr>\n",
              "      <th>0</th>\n",
              "      <td>Хорошая страховая компания</td>\n",
              "      <td>Т-Страхование</td>\n",
              "      <td>Оформили каско и не пожалели !  Когда случилос...</td>\n",
              "      <td>5</td>\n",
              "      <td>22.09.2024</td>\n",
              "    </tr>\n",
              "    <tr>\n",
              "      <th>1</th>\n",
              "      <td>За стразовку</td>\n",
              "      <td>Совкомбанк Страхование</td>\n",
              "      <td>Самая дешёвая страховка из всех, в Совкомбанк....</td>\n",
              "      <td>4</td>\n",
              "      <td>22.09.2024</td>\n",
              "    </tr>\n",
              "    <tr>\n",
              "      <th>2</th>\n",
              "      <td>Как я пришел за ОСАГО в Т-Банк</td>\n",
              "      <td>Т-Страхование</td>\n",
              "      <td>Здравствуйте уважаемые СММщики Т-Банка. Пришел...</td>\n",
              "      <td>1</td>\n",
              "      <td>22.09.2024</td>\n",
              "    </tr>\n",
              "    <tr>\n",
              "      <th>3</th>\n",
              "      <td>ОСАГО+КАСКОGO</td>\n",
              "      <td>АльфаСтрахование</td>\n",
              "      <td>Добрый вечер, один свой автомобиль застраховал...</td>\n",
              "      <td>5</td>\n",
              "      <td>22.09.2024</td>\n",
              "    </tr>\n",
              "    <tr>\n",
              "      <th>4</th>\n",
              "      <td>Обман сбербанк страхование семейный актив</td>\n",
              "      <td>Сбербанк страхование жизни</td>\n",
              "      <td>Дорогие человеки,ни в коем случае не связывайт...</td>\n",
              "      <td>1</td>\n",
              "      <td>22.09.2024</td>\n",
              "    </tr>\n",
              "    <tr>\n",
              "      <th>...</th>\n",
              "      <td>...</td>\n",
              "      <td>...</td>\n",
              "      <td>...</td>\n",
              "      <td>...</td>\n",
              "      <td>...</td>\n",
              "    </tr>\n",
              "    <tr>\n",
              "      <th>9556</th>\n",
              "      <td>Мне предоставили хорошую скидку на страховку ж...</td>\n",
              "      <td>Т-Страхование</td>\n",
              "      <td>Позвонили с Тинькофф Страхования. У меня оформ...</td>\n",
              "      <td>5</td>\n",
              "      <td>20.01.2024</td>\n",
              "    </tr>\n",
              "    <tr>\n",
              "      <th>9557</th>\n",
              "      <td>Мой выбор - Ренессанс</td>\n",
              "      <td>Ренессанс</td>\n",
              "      <td>Здравствуйте! Не всегда принято оставлять поло...</td>\n",
              "      <td>5</td>\n",
              "      <td>20.01.2024</td>\n",
              "    </tr>\n",
              "    <tr>\n",
              "      <th>9558</th>\n",
              "      <td>Защита в пути, КАСКО</td>\n",
              "      <td>Сбербанк страхование</td>\n",
              "      <td>26.12.23 приобрёл автомобиль в кредит в Драйв ...</td>\n",
              "      <td>1</td>\n",
              "      <td>20.01.2024</td>\n",
              "    </tr>\n",
              "    <tr>\n",
              "      <th>9559</th>\n",
              "      <td>Нет возврата по страховке</td>\n",
              "      <td>Хоум Кредит Страхование</td>\n",
              "      <td>Помогите пожалуйста , взял кредит и сразу отка...</td>\n",
              "      <td>1</td>\n",
              "      <td>20.01.2024</td>\n",
              "    </tr>\n",
              "    <tr>\n",
              "      <th>9560</th>\n",
              "      <td>Самые лучшие</td>\n",
              "      <td>Т-Страхование</td>\n",
              "      <td>20.01.24 произошло ДТП, примерно в 10.00, вызв...</td>\n",
              "      <td>5</td>\n",
              "      <td>20.01.2024</td>\n",
              "    </tr>\n",
              "  </tbody>\n",
              "</table>\n",
              "<p>9551 rows × 5 columns</p>\n",
              "</div>\n",
              "    <div class=\"colab-df-buttons\">\n",
              "\n",
              "  <div class=\"colab-df-container\">\n",
              "    <button class=\"colab-df-convert\" onclick=\"convertToInteractive('df-83a1f76e-859f-4b9e-8be6-0f61e893f0ad')\"\n",
              "            title=\"Convert this dataframe to an interactive table.\"\n",
              "            style=\"display:none;\">\n",
              "\n",
              "  <svg xmlns=\"http://www.w3.org/2000/svg\" height=\"24px\" viewBox=\"0 -960 960 960\">\n",
              "    <path d=\"M120-120v-720h720v720H120Zm60-500h600v-160H180v160Zm220 220h160v-160H400v160Zm0 220h160v-160H400v160ZM180-400h160v-160H180v160Zm440 0h160v-160H620v160ZM180-180h160v-160H180v160Zm440 0h160v-160H620v160Z\"/>\n",
              "  </svg>\n",
              "    </button>\n",
              "\n",
              "  <style>\n",
              "    .colab-df-container {\n",
              "      display:flex;\n",
              "      gap: 12px;\n",
              "    }\n",
              "\n",
              "    .colab-df-convert {\n",
              "      background-color: #E8F0FE;\n",
              "      border: none;\n",
              "      border-radius: 50%;\n",
              "      cursor: pointer;\n",
              "      display: none;\n",
              "      fill: #1967D2;\n",
              "      height: 32px;\n",
              "      padding: 0 0 0 0;\n",
              "      width: 32px;\n",
              "    }\n",
              "\n",
              "    .colab-df-convert:hover {\n",
              "      background-color: #E2EBFA;\n",
              "      box-shadow: 0px 1px 2px rgba(60, 64, 67, 0.3), 0px 1px 3px 1px rgba(60, 64, 67, 0.15);\n",
              "      fill: #174EA6;\n",
              "    }\n",
              "\n",
              "    .colab-df-buttons div {\n",
              "      margin-bottom: 4px;\n",
              "    }\n",
              "\n",
              "    [theme=dark] .colab-df-convert {\n",
              "      background-color: #3B4455;\n",
              "      fill: #D2E3FC;\n",
              "    }\n",
              "\n",
              "    [theme=dark] .colab-df-convert:hover {\n",
              "      background-color: #434B5C;\n",
              "      box-shadow: 0px 1px 3px 1px rgba(0, 0, 0, 0.15);\n",
              "      filter: drop-shadow(0px 1px 2px rgba(0, 0, 0, 0.3));\n",
              "      fill: #FFFFFF;\n",
              "    }\n",
              "  </style>\n",
              "\n",
              "    <script>\n",
              "      const buttonEl =\n",
              "        document.querySelector('#df-83a1f76e-859f-4b9e-8be6-0f61e893f0ad button.colab-df-convert');\n",
              "      buttonEl.style.display =\n",
              "        google.colab.kernel.accessAllowed ? 'block' : 'none';\n",
              "\n",
              "      async function convertToInteractive(key) {\n",
              "        const element = document.querySelector('#df-83a1f76e-859f-4b9e-8be6-0f61e893f0ad');\n",
              "        const dataTable =\n",
              "          await google.colab.kernel.invokeFunction('convertToInteractive',\n",
              "                                                    [key], {});\n",
              "        if (!dataTable) return;\n",
              "\n",
              "        const docLinkHtml = 'Like what you see? Visit the ' +\n",
              "          '<a target=\"_blank\" href=https://colab.research.google.com/notebooks/data_table.ipynb>data table notebook</a>'\n",
              "          + ' to learn more about interactive tables.';\n",
              "        element.innerHTML = '';\n",
              "        dataTable['output_type'] = 'display_data';\n",
              "        await google.colab.output.renderOutput(dataTable, element);\n",
              "        const docLink = document.createElement('div');\n",
              "        docLink.innerHTML = docLinkHtml;\n",
              "        element.appendChild(docLink);\n",
              "      }\n",
              "    </script>\n",
              "  </div>\n",
              "\n",
              "\n",
              "<div id=\"df-97723c10-2678-4d12-ae67-b437ff6dc133\">\n",
              "  <button class=\"colab-df-quickchart\" onclick=\"quickchart('df-97723c10-2678-4d12-ae67-b437ff6dc133')\"\n",
              "            title=\"Suggest charts\"\n",
              "            style=\"display:none;\">\n",
              "\n",
              "<svg xmlns=\"http://www.w3.org/2000/svg\" height=\"24px\"viewBox=\"0 0 24 24\"\n",
              "     width=\"24px\">\n",
              "    <g>\n",
              "        <path d=\"M19 3H5c-1.1 0-2 .9-2 2v14c0 1.1.9 2 2 2h14c1.1 0 2-.9 2-2V5c0-1.1-.9-2-2-2zM9 17H7v-7h2v7zm4 0h-2V7h2v10zm4 0h-2v-4h2v4z\"/>\n",
              "    </g>\n",
              "</svg>\n",
              "  </button>\n",
              "\n",
              "<style>\n",
              "  .colab-df-quickchart {\n",
              "      --bg-color: #E8F0FE;\n",
              "      --fill-color: #1967D2;\n",
              "      --hover-bg-color: #E2EBFA;\n",
              "      --hover-fill-color: #174EA6;\n",
              "      --disabled-fill-color: #AAA;\n",
              "      --disabled-bg-color: #DDD;\n",
              "  }\n",
              "\n",
              "  [theme=dark] .colab-df-quickchart {\n",
              "      --bg-color: #3B4455;\n",
              "      --fill-color: #D2E3FC;\n",
              "      --hover-bg-color: #434B5C;\n",
              "      --hover-fill-color: #FFFFFF;\n",
              "      --disabled-bg-color: #3B4455;\n",
              "      --disabled-fill-color: #666;\n",
              "  }\n",
              "\n",
              "  .colab-df-quickchart {\n",
              "    background-color: var(--bg-color);\n",
              "    border: none;\n",
              "    border-radius: 50%;\n",
              "    cursor: pointer;\n",
              "    display: none;\n",
              "    fill: var(--fill-color);\n",
              "    height: 32px;\n",
              "    padding: 0;\n",
              "    width: 32px;\n",
              "  }\n",
              "\n",
              "  .colab-df-quickchart:hover {\n",
              "    background-color: var(--hover-bg-color);\n",
              "    box-shadow: 0 1px 2px rgba(60, 64, 67, 0.3), 0 1px 3px 1px rgba(60, 64, 67, 0.15);\n",
              "    fill: var(--button-hover-fill-color);\n",
              "  }\n",
              "\n",
              "  .colab-df-quickchart-complete:disabled,\n",
              "  .colab-df-quickchart-complete:disabled:hover {\n",
              "    background-color: var(--disabled-bg-color);\n",
              "    fill: var(--disabled-fill-color);\n",
              "    box-shadow: none;\n",
              "  }\n",
              "\n",
              "  .colab-df-spinner {\n",
              "    border: 2px solid var(--fill-color);\n",
              "    border-color: transparent;\n",
              "    border-bottom-color: var(--fill-color);\n",
              "    animation:\n",
              "      spin 1s steps(1) infinite;\n",
              "  }\n",
              "\n",
              "  @keyframes spin {\n",
              "    0% {\n",
              "      border-color: transparent;\n",
              "      border-bottom-color: var(--fill-color);\n",
              "      border-left-color: var(--fill-color);\n",
              "    }\n",
              "    20% {\n",
              "      border-color: transparent;\n",
              "      border-left-color: var(--fill-color);\n",
              "      border-top-color: var(--fill-color);\n",
              "    }\n",
              "    30% {\n",
              "      border-color: transparent;\n",
              "      border-left-color: var(--fill-color);\n",
              "      border-top-color: var(--fill-color);\n",
              "      border-right-color: var(--fill-color);\n",
              "    }\n",
              "    40% {\n",
              "      border-color: transparent;\n",
              "      border-right-color: var(--fill-color);\n",
              "      border-top-color: var(--fill-color);\n",
              "    }\n",
              "    60% {\n",
              "      border-color: transparent;\n",
              "      border-right-color: var(--fill-color);\n",
              "    }\n",
              "    80% {\n",
              "      border-color: transparent;\n",
              "      border-right-color: var(--fill-color);\n",
              "      border-bottom-color: var(--fill-color);\n",
              "    }\n",
              "    90% {\n",
              "      border-color: transparent;\n",
              "      border-bottom-color: var(--fill-color);\n",
              "    }\n",
              "  }\n",
              "</style>\n",
              "\n",
              "  <script>\n",
              "    async function quickchart(key) {\n",
              "      const quickchartButtonEl =\n",
              "        document.querySelector('#' + key + ' button');\n",
              "      quickchartButtonEl.disabled = true;  // To prevent multiple clicks.\n",
              "      quickchartButtonEl.classList.add('colab-df-spinner');\n",
              "      try {\n",
              "        const charts = await google.colab.kernel.invokeFunction(\n",
              "            'suggestCharts', [key], {});\n",
              "      } catch (error) {\n",
              "        console.error('Error during call to suggestCharts:', error);\n",
              "      }\n",
              "      quickchartButtonEl.classList.remove('colab-df-spinner');\n",
              "      quickchartButtonEl.classList.add('colab-df-quickchart-complete');\n",
              "    }\n",
              "    (() => {\n",
              "      let quickchartButtonEl =\n",
              "        document.querySelector('#df-97723c10-2678-4d12-ae67-b437ff6dc133 button');\n",
              "      quickchartButtonEl.style.display =\n",
              "        google.colab.kernel.accessAllowed ? 'block' : 'none';\n",
              "    })();\n",
              "  </script>\n",
              "</div>\n",
              "    </div>\n",
              "  </div>\n"
            ],
            "application/vnd.google.colaboratory.intrinsic+json": {
              "type": "dataframe",
              "variable_name": "df",
              "summary": "{\n  \"name\": \"df\",\n  \"rows\": 9551,\n  \"fields\": [\n    {\n      \"column\": \"header\",\n      \"properties\": {\n        \"dtype\": \"string\",\n        \"num_unique_values\": 7103,\n        \"samples\": [\n          \"\\u0421\\u0442\\u0440\\u0430\\u0445\\u043e\\u0432\\u043a\\u0430 \\u043f\\u043e \\u041e\\u0421\\u0410\\u0413\\u041e (\\u0415\\u0432\\u0440\\u043e\\u043f\\u0440\\u043e\\u0442\\u043e\\u043a\\u043e\\u043b)\",\n          \"\\u041a\\u043e\\u043d\\u0441\\u0443\\u043b\\u044c\\u0442\\u0438\\u0440\\u0443\\u0439\\u0441\\u044f \\u0443 \\u0441\\u0432\\u043e\\u0435\\u0433\\u043e \\u0432\\u0440\\u0430\\u0447\\u0430 \\u0438 \\u043f\\u043e\\u043a\\u0443\\u043f\\u0430\\u0439 \\u0437\\u0430 \\u0441\\u0432\\u043e\\u0438 \\u0434\\u0435\\u043d\\u044c\\u0433\\u0438\",\n          \"\\u041d\\u0435 \\u0432\\u0437\\u0434\\u0443\\u043c\\u0430\\u0439\\u0442\\u0435 \\u0434\\u0430\\u0436\\u0435 \\u0441\\u0442\\u0440\\u0430\\u0445\\u043e\\u0432\\u0430\\u0442\\u044c \\u0441\\u0432\\u043e\\u0439 \\u0430\\u0432\\u0442\\u043e!\"\n        ],\n        \"semantic_type\": \"\",\n        \"description\": \"\"\n      }\n    },\n    {\n      \"column\": \"bank\",\n      \"properties\": {\n        \"dtype\": \"category\",\n        \"num_unique_values\": 65,\n        \"samples\": [\n          \"\\u0421\\u041e\\u0413\\u0410\\u0417-\\u041c\\u0435\\u0434\",\n          \"\\u0420\\u0443\\u0441\\u0441\\u043a\\u0438\\u0439 \\u0421\\u0442\\u0430\\u043d\\u0434\\u0430\\u0440\\u0442 \\u0421\\u0442\\u0440\\u0430\\u0445\\u043e\\u0432\\u0430\\u043d\\u0438\\u0435\",\n          \"\\u0422-\\u0421\\u0442\\u0440\\u0430\\u0445\\u043e\\u0432\\u0430\\u043d\\u0438\\u0435\"\n        ],\n        \"semantic_type\": \"\",\n        \"description\": \"\"\n      }\n    },\n    {\n      \"column\": \"review\",\n      \"properties\": {\n        \"dtype\": \"string\",\n        \"num_unique_values\": 9551,\n        \"samples\": [\n          \"\\u0414\\u043e\\u0431\\u0440\\u044b\\u0439 \\u0434\\u0435\\u043d\\u044c.\\u00a0 \\u041a\\u043e\\u0433\\u0434\\u0430 \\u0437\\u0430\\u043a\\u0430\\u0437\\u044b\\u0432\\u0430\\u043b\\u0430 \\u0433\\u0430\\u0440\\u0430\\u043d\\u0442\\u0438\\u0439\\u043d\\u043e\\u0435 \\u043f\\u0438\\u0441\\u044c\\u043c\\u043e \\u0432 \\u0441\\u0442\\u0440\\u0430\\u0445\\u043e\\u0432\\u043e\\u0439 \\u043c\\u043d\\u0435 \\u043f\\u043e\\u0441\\u043e\\u0432\\u0435\\u0442\\u043e\\u0432\\u0430\\u043b\\u0438 \\u0432\\u044b\\u0431\\u0440\\u0430\\u0442\\u044c \\u0434\\u0440\\u0443\\u0433\\u043e\\u0435 \\u043c\\u0435\\u0434. \\u0443\\u0447\\u0435\\u0440\\u0435\\u0436\\u043b\\u0435\\u043d\\u0438\\u0435 \\u0438\\u0437 \\u0441\\u043f\\u0438\\u0441\\u043a\\u0430, \\u0445\\u043e\\u0442\\u044f \\u043e\\u0433\\u0440\\u0430\\u043d\\u0438\\u0447\\u0435\\u043d \\u043f\\u043e \\u043f\\u0440\\u043e\\u0433\\u0440\\u0430\\u043c\\u043c\\u0435 \\u043d\\u0435\\u0442. \\u0412 \\u0434\\u0430\\u043b\\u044c\\u043d\\u0435\\u0439\\u0448\\u0435\\u043c, \\u043f\\u043e\\u0441\\u043b\\u0435 \\u043f\\u043e\\u0441\\u0435\\u0449\\u0435\\u043d\\u0438\\u044f \\u0432\\u0440\\u0430\\u0447\\u0430, \\u0443\\u0436\\u0435 5\\u0439 \\u0434\\u0435\\u043d\\u044c \\u0441\\u043e\\u0433\\u043b\\u0430\\u0441\\u043e\\u0432\\u044b\\u0432\\u0430\\u044e\\u0442 \\u0433\\u0430\\u0440\\u0430\\u043d\\u0442\\u0438\\u0439\\u043d\\u043e\\u0435 \\u043f\\u0438\\u0441\\u044c\\u043c\\u043e \\u0441\\u043e\\u0433\\u043b\\u0430\\u0441\\u043d\\u043e \\u043f\\u043b\\u0430\\u043d\\u0443 \\u043b\\u0435\\u0447\\u0435\\u043d\\u0438\\u044f, \\u043f\\u0440\\u0438 \\u0437\\u0432\\u043e\\u043d\\u043a\\u0435 \\u0432 \\u0441\\u0442\\u0440\\u0430\\u0445\\u043e\\u0432\\u0443\\u044e \\u043e\\u0442\\u0432\\u0435\\u0447\\u0430\\u044e\\u0442 \\u0447\\u0442\\u043e \\u0433\\u0430\\u0440\\u0430\\u043d\\u0442\\u0438\\u0439\\u043d\\u044b\\u0439 \\u043f\\u0438\\u0441\\u044c\\u043c\\u0430 \\u0440\\u0430\\u0441\\u0441\\u043c\\u0430\\u0442\\u0440\\u0438\\u0432\\u0430\\u044e\\u0442\\u0441\\u044f \\u0432 \\u0442\\u0435\\u0447\\u0435\\u043d\\u0438\\u0438 5 \\u0440\\u0430\\u0431\\u043e\\u0447\\u0438\\u0445 \\u0434\\u043d\\u0435\\u0439....\\u0434\\u043b\\u044f \\u0447\\u0435\\u0433\\u043e \\u0414\\u041c\\u0421, \\u0443 \\u043c\\u0435\\u043d\\u044f \\u043f\\u043e\\u043d\\u0438\\u043c\\u0430\\u043d\\u0438\\u044f \\u043d\\u0435\\u0442. \\u041e\\u0442\\u0432\\u0440\\u0430\\u0442\\u0438\\u0442\\u0435\\u043b\\u044c\\u043d\\u0430\\u044f \\u043a\\u043e\\u043c\\u043f\\u0430\\u043d\\u0438\\u044f.\",\n          \"\\u0421\\u043b\\u0430\\u0432\\u0430 \\u0411\\u043e\\u0433\\u0443 \\u043d\\u0435 \\u043d\\u0430\\u0441\\u0442\\u0443\\u043f\\u0438\\u043b \\u0441\\u0442\\u0440\\u0430\\u0445\\u043e\\u0432\\u043e\\u0439 \\u0441\\u043b\\u0443\\u0447\\u0430\\u0439.\",\n          \"\\u0412 \\u043f\\u0440\\u043e\\u0448\\u043b\\u043e\\u043c \\u0433\\u043e\\u0434\\u0443 \\u0437\\u0430\\u0441\\u0442\\u0440\\u0430\\u0445\\u043e\\u0432\\u0430\\u043b \\u043a\\u0432\\u0430\\u0440\\u0442\\u0438\\u0440\\u0443 \\u0432 \\u0422\\u0438\\u043d\\u044c\\u043a\\u043e\\u0444\\u0444 \\u0441\\u0442\\u0440\\u0430\\u0445\\u043e\\u0432\\u0430\\u043d\\u0438\\u0435. \\u0421\\u0442\\u0440\\u0430\\u0445\\u043e\\u0432\\u0430\\u043b\\u0441\\u044f \\u0447\\u0435\\u0440\\u0435\\u0437 \\u0441\\u0430\\u0439\\u0442, \\u043f\\u043e\\u043b\\u0438\\u0441 \\u043f\\u0440\\u0438\\u0448\\u0435\\u043b \\u043d\\u0430 \\u043f\\u043e\\u0447\\u0442\\u0443. \\u0412 \\u043d\\u043e\\u0432\\u043e\\u0433\\u043e\\u0434\\u043d\\u0438\\u0435 \\u043f\\u0440\\u0430\\u0437\\u0434\\u043d\\u0438\\u043a\\u0438 \\u0432\\u043e \\u0432\\u0440\\u0435\\u043c\\u044f \\u0441\\u0438\\u043b\\u044c\\u043d\\u044b\\u0445 \\u043c\\u043e\\u0440\\u043e\\u0437\\u043e\\u0432 \\u0443 \\u0432\\u0435\\u0440\\u0445\\u043d\\u0438\\u0445 \\u0441\\u043e\\u0441\\u0435\\u0434\\u0435\\u0439 (\\u0447\\u0435\\u0440\\u0435\\u0437 \\u044d\\u0442\\u0430\\u0436) \\u043f\\u0440\\u043e\\u0440\\u0432\\u0430\\u043b\\u043e \\u0431\\u0430\\u0442\\u0430\\u0440\\u0435\\u0438 \\u043e\\u0442\\u043e\\u043f\\u043b\\u0435\\u043d\\u0438\\u044f. \\u0411\\u044b\\u043b\\u043e \\u0437\\u0430\\u043b\\u0438\\u0442\\u043e \\u043d\\u0435\\u0441\\u043a\\u043e\\u043b\\u044c\\u043a\\u043e \\u043a\\u0432\\u0430\\u0440\\u0442\\u0438\\u0440, \\u0432 \\u0442\\u043e\\u043c \\u0447\\u0438\\u0441\\u043b\\u0435 \\u0438 \\u043c\\u043e\\u044f \\u043a\\u0432\\u0430\\u0440\\u0442\\u0438\\u0440\\u0430. \\u0427\\u0435\\u0440\\u0435\\u0437 \\u0433\\u043e\\u0440\\u044f\\u0447\\u0443\\u044e \\u043b\\u0438\\u043d\\u0438\\u044e \\u044f \\u0441\\u043e\\u043e\\u0431\\u0449\\u0438\\u043b \\u043e \\u0441\\u0442\\u0440\\u0430\\u0445\\u043e\\u0432\\u043e\\u043c \\u0441\\u043b\\u0443\\u0447\\u0430\\u0435, \\u043c\\u043d\\u0435 \\u0441\\u0440\\u0430\\u0437\\u0443 \\u043d\\u0430\\u0437\\u043d\\u0430\\u0447\\u0438\\u043b\\u0438 \\u0441\\u0442\\u0440\\u0430\\u0445\\u043e\\u0432\\u043e\\u0433\\u043e \\u043c\\u0435\\u043d\\u0435\\u0434\\u0436\\u0435\\u0440\\u0430, \\u043a\\u043e\\u0442\\u043e\\u0440\\u0430\\u044f \\u043f\\u0440\\u0438\\u0441\\u043b\\u0430\\u043b\\u0430 \\u0441\\u043f\\u0438\\u0441\\u043e\\u043a \\u0442\\u0440\\u0435\\u0431\\u0443\\u0435\\u043c\\u044b\\u0445 \\u0434\\u043e\\u043a\\u0443\\u043c\\u0435\\u043d\\u0442\\u043e\\u0432. \\u041f\\u043e\\u0441\\u043b\\u0435 \\u043f\\u043e\\u043b\\u0443\\u0447\\u0435\\u043d\\u0438\\u044f \\u0430\\u043a\\u0442\\u0430 \\u043e\\u0442 \\u0443\\u043f\\u0440\\u0430\\u0432\\u043b\\u044f\\u044e\\u0449\\u0435\\u0439 \\u043a\\u043e\\u043c\\u043f\\u0430\\u043d\\u0438\\u0438 \\u0441\\u043e \\u043c\\u043d\\u043e\\u0439 \\u0441\\u0432\\u044f\\u0437\\u0430\\u043b\\u0430\\u0441\\u044c \\u0438 \\u043f\\u0440\\u0438\\u0441\\u043b\\u0430\\u043b\\u0438 \\u043d\\u0435\\u0437\\u0430\\u0432\\u0438\\u0441\\u0438\\u043c\\u043e\\u0433\\u043e \\u044d\\u043a\\u0441\\u043f\\u0435\\u0440\\u0442\\u0430, \\u043a\\u043e\\u0442\\u043e\\u0440\\u044b\\u0439 \\u0437\\u0430\\u0444\\u0438\\u043a\\u0441\\u0438\\u0440\\u043e\\u0432\\u0430\\u043b \\u0432\\u0441\\u0435 \\u043f\\u043e\\u0432\\u0440\\u0435\\u0436\\u0434\\u0435\\u043d\\u0438\\u044f \\u0438 \\u0441\\u043e\\u0441\\u0442\\u0430\\u0432\\u0438\\u043b \\u0430\\u043a\\u0442. \\u0412 \\u0442\\u0435\\u0447\\u0435\\u043d\\u0438\\u0435 \\u043d\\u0435\\u0434\\u0435\\u043b\\u0438 \\u0441\\u0442\\u0440\\u0430\\u0445\\u043e\\u0432\\u0430\\u044f \\u043a\\u043e\\u043c\\u043f\\u0430\\u043d\\u0438\\u044f \\u043e\\u0446\\u0435\\u043d\\u0438\\u043b\\u0430 \\u0441\\u0442\\u043e\\u0438\\u043c\\u043e\\u0441\\u0442\\u044c \\u0443\\u0449\\u0435\\u0440\\u0431\\u0430 \\u0438 \\u043f\\u0440\\u0438\\u0441\\u043b\\u0430\\u043b\\u0430 \\u0441\\u0432\\u043e\\u044e \\u043e\\u0446\\u0435\\u043d\\u043a\\u0443. \\u041e\\u0446\\u0435\\u043d\\u043a\\u0430 \\u0432\\u043f\\u043e\\u043b\\u043d\\u0435 \\u0430\\u0434\\u0435\\u043a\\u0432\\u0430\\u0442\\u043d\\u0430\\u044f, \\u044f \\u0441 \\u043d\\u0435\\u0439 \\u0441\\u043e\\u0433\\u043b\\u0430\\u0441\\u0438\\u043b\\u0441\\u044f \\u0438 \\u0431\\u0443\\u043a\\u0432\\u0430\\u043b\\u044c\\u043d\\u043e \\u043d\\u0430 \\u0441\\u043b\\u0435\\u0434\\u0443\\u044e\\u0449\\u0438\\u0439 \\u0434\\u0435\\u043d\\u044c \\u043d\\u0430 \\u043c\\u043e\\u0439 \\u0441\\u0447\\u0435\\u0442 \\u043f\\u043e\\u0441\\u0442\\u0443\\u043f\\u0438\\u043b\\u0438 \\u0434\\u0435\\u043d\\u044c\\u0433\\u0438. \\u0411\\u044b\\u043b \\u043f\\u0440\\u0438\\u044f\\u0442\\u043d\\u043e \\u0443\\u0434\\u0438\\u0432\\u043b\\u0435\\u043d \\u0442\\u0430\\u043a\\u0438\\u043c \\u043f\\u043e\\u0434\\u0445\\u043e\\u0434\\u043e\\u043c \\u0438 \\u043e\\u043f\\u0435\\u0440\\u0430\\u0442\\u0438\\u0432\\u043d\\u043e\\u0441\\u0442\\u044c\\u044e \\u0440\\u0435\\u0448\\u0435\\u043d\\u0438\\u044f, \\u043c\\u043e\\u0433\\u0443 \\u0440\\u0435\\u043a\\u043e\\u043c\\u0435\\u043d\\u0434\\u043e\\u0432\\u0430\\u0442\\u044c \\u0422\\u0438\\u043d\\u044c\\u043a\\u043e\\u0444\\u0444 \\u0441\\u0442\\u0440\\u0430\\u0445\\u043e\\u0432\\u0430\\u043d\\u0438\\u0435 \\u043a\\u0430\\u043a \\u043d\\u0430\\u0434\\u0435\\u0436\\u043d\\u043e\\u0433\\u043e \\u043f\\u0430\\u0440\\u0442\\u043d\\u0435\\u0440\\u0430. \\u041e\\u0442\\u0434\\u0435\\u043b\\u044c\\u043d\\u043e\\u0435 \\u0441\\u043f\\u0430\\u0441\\u0438\\u0431\\u043e \\u043c\\u0435\\u043d\\u0435\\u0434\\u0436\\u0435\\u0440\\u0443 \\u0410\\u043d\\u0430\\u0441\\u0442\\u0430\\u0441\\u0438\\u0438 \\u0437\\u0430 \\u043f\\u0440\\u043e\\u0444\\u0435\\u0441\\u0441\\u0438\\u043e\\u043d\\u0430\\u043b\\u044c\\u043d\\u0443\\u044e \\u0440\\u0430\\u0431\\u043e\\u0442\\u0443.\"\n        ],\n        \"semantic_type\": \"\",\n        \"description\": \"\"\n      }\n    },\n    {\n      \"column\": \"rate\",\n      \"properties\": {\n        \"dtype\": \"number\",\n        \"std\": 1,\n        \"min\": 1,\n        \"max\": 5,\n        \"num_unique_values\": 5,\n        \"samples\": [\n          4,\n          3,\n          1\n        ],\n        \"semantic_type\": \"\",\n        \"description\": \"\"\n      }\n    },\n    {\n      \"column\": \"date\",\n      \"properties\": {\n        \"dtype\": \"category\",\n        \"num_unique_values\": 485,\n        \"samples\": [\n          \"23.02.2024\",\n          \"25.01.202\",\n          \"23.06.202\"\n        ],\n        \"semantic_type\": \"\",\n        \"description\": \"\"\n      }\n    }\n  ]\n}"
            }
          },
          "metadata": {},
          "execution_count": 10
        }
      ]
    },
    {
      "cell_type": "code",
      "source": [
        "# изменение формата столбца даты с обходом и заменой строк, в которых дата указана некорректно\n",
        "# (некорректные данные будут заменены на значение NaT)\n",
        "df[\"date\"] = pd.to_datetime(df[\"date\"], format=\"%d.%m.%Y\", errors='coerce')\n",
        "df"
      ],
      "metadata": {
        "colab": {
          "base_uri": "https://localhost:8080/",
          "height": 423
        },
        "id": "Q2dzjkYk8flX",
        "outputId": "a07f1830-940f-4c71-e110-a622dcbd9e2c"
      },
      "execution_count": null,
      "outputs": [
        {
          "output_type": "execute_result",
          "data": {
            "text/plain": [
              "                                                 header  \\\n",
              "0                            Хорошая страховая компания   \n",
              "1                                          За стразовку   \n",
              "2                        Как я пришел за ОСАГО в Т-Банк   \n",
              "3                                         ОСАГО+КАСКОGO   \n",
              "4             Обман сбербанк страхование семейный актив   \n",
              "...                                                 ...   \n",
              "9556  Мне предоставили хорошую скидку на страховку ж...   \n",
              "9557                              Мой выбор - Ренессанс   \n",
              "9558                               Защита в пути, КАСКО   \n",
              "9559                          Нет возврата по страховке   \n",
              "9560                                       Самые лучшие   \n",
              "\n",
              "                            bank  \\\n",
              "0                  Т-Страхование   \n",
              "1         Совкомбанк Страхование   \n",
              "2                  Т-Страхование   \n",
              "3               АльфаСтрахование   \n",
              "4     Сбербанк страхование жизни   \n",
              "...                          ...   \n",
              "9556               Т-Страхование   \n",
              "9557                   Ренессанс   \n",
              "9558        Сбербанк страхование   \n",
              "9559     Хоум Кредит Страхование   \n",
              "9560               Т-Страхование   \n",
              "\n",
              "                                                 review  rate       date  \n",
              "0     Оформили каско и не пожалели !  Когда случилос...     5 2024-09-22  \n",
              "1     Самая дешёвая страховка из всех, в Совкомбанк....     4 2024-09-22  \n",
              "2     Здравствуйте уважаемые СММщики Т-Банка. Пришел...     1 2024-09-22  \n",
              "3     Добрый вечер, один свой автомобиль застраховал...     5 2024-09-22  \n",
              "4     Дорогие человеки,ни в коем случае не связывайт...     1 2024-09-22  \n",
              "...                                                 ...   ...        ...  \n",
              "9556  Позвонили с Тинькофф Страхования. У меня оформ...     5 2024-01-20  \n",
              "9557  Здравствуйте! Не всегда принято оставлять поло...     5 2024-01-20  \n",
              "9558  26.12.23 приобрёл автомобиль в кредит в Драйв ...     1 2024-01-20  \n",
              "9559  Помогите пожалуйста , взял кредит и сразу отка...     1 2024-01-20  \n",
              "9560  20.01.24 произошло ДТП, примерно в 10.00, вызв...     5 2024-01-20  \n",
              "\n",
              "[9551 rows x 5 columns]"
            ],
            "text/html": [
              "\n",
              "  <div id=\"df-77744c12-1440-4a8d-b923-9e8b2cbf5ba7\" class=\"colab-df-container\">\n",
              "    <div>\n",
              "<style scoped>\n",
              "    .dataframe tbody tr th:only-of-type {\n",
              "        vertical-align: middle;\n",
              "    }\n",
              "\n",
              "    .dataframe tbody tr th {\n",
              "        vertical-align: top;\n",
              "    }\n",
              "\n",
              "    .dataframe thead th {\n",
              "        text-align: right;\n",
              "    }\n",
              "</style>\n",
              "<table border=\"1\" class=\"dataframe\">\n",
              "  <thead>\n",
              "    <tr style=\"text-align: right;\">\n",
              "      <th></th>\n",
              "      <th>header</th>\n",
              "      <th>bank</th>\n",
              "      <th>review</th>\n",
              "      <th>rate</th>\n",
              "      <th>date</th>\n",
              "    </tr>\n",
              "  </thead>\n",
              "  <tbody>\n",
              "    <tr>\n",
              "      <th>0</th>\n",
              "      <td>Хорошая страховая компания</td>\n",
              "      <td>Т-Страхование</td>\n",
              "      <td>Оформили каско и не пожалели !  Когда случилос...</td>\n",
              "      <td>5</td>\n",
              "      <td>2024-09-22</td>\n",
              "    </tr>\n",
              "    <tr>\n",
              "      <th>1</th>\n",
              "      <td>За стразовку</td>\n",
              "      <td>Совкомбанк Страхование</td>\n",
              "      <td>Самая дешёвая страховка из всех, в Совкомбанк....</td>\n",
              "      <td>4</td>\n",
              "      <td>2024-09-22</td>\n",
              "    </tr>\n",
              "    <tr>\n",
              "      <th>2</th>\n",
              "      <td>Как я пришел за ОСАГО в Т-Банк</td>\n",
              "      <td>Т-Страхование</td>\n",
              "      <td>Здравствуйте уважаемые СММщики Т-Банка. Пришел...</td>\n",
              "      <td>1</td>\n",
              "      <td>2024-09-22</td>\n",
              "    </tr>\n",
              "    <tr>\n",
              "      <th>3</th>\n",
              "      <td>ОСАГО+КАСКОGO</td>\n",
              "      <td>АльфаСтрахование</td>\n",
              "      <td>Добрый вечер, один свой автомобиль застраховал...</td>\n",
              "      <td>5</td>\n",
              "      <td>2024-09-22</td>\n",
              "    </tr>\n",
              "    <tr>\n",
              "      <th>4</th>\n",
              "      <td>Обман сбербанк страхование семейный актив</td>\n",
              "      <td>Сбербанк страхование жизни</td>\n",
              "      <td>Дорогие человеки,ни в коем случае не связывайт...</td>\n",
              "      <td>1</td>\n",
              "      <td>2024-09-22</td>\n",
              "    </tr>\n",
              "    <tr>\n",
              "      <th>...</th>\n",
              "      <td>...</td>\n",
              "      <td>...</td>\n",
              "      <td>...</td>\n",
              "      <td>...</td>\n",
              "      <td>...</td>\n",
              "    </tr>\n",
              "    <tr>\n",
              "      <th>9556</th>\n",
              "      <td>Мне предоставили хорошую скидку на страховку ж...</td>\n",
              "      <td>Т-Страхование</td>\n",
              "      <td>Позвонили с Тинькофф Страхования. У меня оформ...</td>\n",
              "      <td>5</td>\n",
              "      <td>2024-01-20</td>\n",
              "    </tr>\n",
              "    <tr>\n",
              "      <th>9557</th>\n",
              "      <td>Мой выбор - Ренессанс</td>\n",
              "      <td>Ренессанс</td>\n",
              "      <td>Здравствуйте! Не всегда принято оставлять поло...</td>\n",
              "      <td>5</td>\n",
              "      <td>2024-01-20</td>\n",
              "    </tr>\n",
              "    <tr>\n",
              "      <th>9558</th>\n",
              "      <td>Защита в пути, КАСКО</td>\n",
              "      <td>Сбербанк страхование</td>\n",
              "      <td>26.12.23 приобрёл автомобиль в кредит в Драйв ...</td>\n",
              "      <td>1</td>\n",
              "      <td>2024-01-20</td>\n",
              "    </tr>\n",
              "    <tr>\n",
              "      <th>9559</th>\n",
              "      <td>Нет возврата по страховке</td>\n",
              "      <td>Хоум Кредит Страхование</td>\n",
              "      <td>Помогите пожалуйста , взял кредит и сразу отка...</td>\n",
              "      <td>1</td>\n",
              "      <td>2024-01-20</td>\n",
              "    </tr>\n",
              "    <tr>\n",
              "      <th>9560</th>\n",
              "      <td>Самые лучшие</td>\n",
              "      <td>Т-Страхование</td>\n",
              "      <td>20.01.24 произошло ДТП, примерно в 10.00, вызв...</td>\n",
              "      <td>5</td>\n",
              "      <td>2024-01-20</td>\n",
              "    </tr>\n",
              "  </tbody>\n",
              "</table>\n",
              "<p>9551 rows × 5 columns</p>\n",
              "</div>\n",
              "    <div class=\"colab-df-buttons\">\n",
              "\n",
              "  <div class=\"colab-df-container\">\n",
              "    <button class=\"colab-df-convert\" onclick=\"convertToInteractive('df-77744c12-1440-4a8d-b923-9e8b2cbf5ba7')\"\n",
              "            title=\"Convert this dataframe to an interactive table.\"\n",
              "            style=\"display:none;\">\n",
              "\n",
              "  <svg xmlns=\"http://www.w3.org/2000/svg\" height=\"24px\" viewBox=\"0 -960 960 960\">\n",
              "    <path d=\"M120-120v-720h720v720H120Zm60-500h600v-160H180v160Zm220 220h160v-160H400v160Zm0 220h160v-160H400v160ZM180-400h160v-160H180v160Zm440 0h160v-160H620v160ZM180-180h160v-160H180v160Zm440 0h160v-160H620v160Z\"/>\n",
              "  </svg>\n",
              "    </button>\n",
              "\n",
              "  <style>\n",
              "    .colab-df-container {\n",
              "      display:flex;\n",
              "      gap: 12px;\n",
              "    }\n",
              "\n",
              "    .colab-df-convert {\n",
              "      background-color: #E8F0FE;\n",
              "      border: none;\n",
              "      border-radius: 50%;\n",
              "      cursor: pointer;\n",
              "      display: none;\n",
              "      fill: #1967D2;\n",
              "      height: 32px;\n",
              "      padding: 0 0 0 0;\n",
              "      width: 32px;\n",
              "    }\n",
              "\n",
              "    .colab-df-convert:hover {\n",
              "      background-color: #E2EBFA;\n",
              "      box-shadow: 0px 1px 2px rgba(60, 64, 67, 0.3), 0px 1px 3px 1px rgba(60, 64, 67, 0.15);\n",
              "      fill: #174EA6;\n",
              "    }\n",
              "\n",
              "    .colab-df-buttons div {\n",
              "      margin-bottom: 4px;\n",
              "    }\n",
              "\n",
              "    [theme=dark] .colab-df-convert {\n",
              "      background-color: #3B4455;\n",
              "      fill: #D2E3FC;\n",
              "    }\n",
              "\n",
              "    [theme=dark] .colab-df-convert:hover {\n",
              "      background-color: #434B5C;\n",
              "      box-shadow: 0px 1px 3px 1px rgba(0, 0, 0, 0.15);\n",
              "      filter: drop-shadow(0px 1px 2px rgba(0, 0, 0, 0.3));\n",
              "      fill: #FFFFFF;\n",
              "    }\n",
              "  </style>\n",
              "\n",
              "    <script>\n",
              "      const buttonEl =\n",
              "        document.querySelector('#df-77744c12-1440-4a8d-b923-9e8b2cbf5ba7 button.colab-df-convert');\n",
              "      buttonEl.style.display =\n",
              "        google.colab.kernel.accessAllowed ? 'block' : 'none';\n",
              "\n",
              "      async function convertToInteractive(key) {\n",
              "        const element = document.querySelector('#df-77744c12-1440-4a8d-b923-9e8b2cbf5ba7');\n",
              "        const dataTable =\n",
              "          await google.colab.kernel.invokeFunction('convertToInteractive',\n",
              "                                                    [key], {});\n",
              "        if (!dataTable) return;\n",
              "\n",
              "        const docLinkHtml = 'Like what you see? Visit the ' +\n",
              "          '<a target=\"_blank\" href=https://colab.research.google.com/notebooks/data_table.ipynb>data table notebook</a>'\n",
              "          + ' to learn more about interactive tables.';\n",
              "        element.innerHTML = '';\n",
              "        dataTable['output_type'] = 'display_data';\n",
              "        await google.colab.output.renderOutput(dataTable, element);\n",
              "        const docLink = document.createElement('div');\n",
              "        docLink.innerHTML = docLinkHtml;\n",
              "        element.appendChild(docLink);\n",
              "      }\n",
              "    </script>\n",
              "  </div>\n",
              "\n",
              "\n",
              "<div id=\"df-57ca14ee-5f6f-4f04-9a80-dc261707f8ba\">\n",
              "  <button class=\"colab-df-quickchart\" onclick=\"quickchart('df-57ca14ee-5f6f-4f04-9a80-dc261707f8ba')\"\n",
              "            title=\"Suggest charts\"\n",
              "            style=\"display:none;\">\n",
              "\n",
              "<svg xmlns=\"http://www.w3.org/2000/svg\" height=\"24px\"viewBox=\"0 0 24 24\"\n",
              "     width=\"24px\">\n",
              "    <g>\n",
              "        <path d=\"M19 3H5c-1.1 0-2 .9-2 2v14c0 1.1.9 2 2 2h14c1.1 0 2-.9 2-2V5c0-1.1-.9-2-2-2zM9 17H7v-7h2v7zm4 0h-2V7h2v10zm4 0h-2v-4h2v4z\"/>\n",
              "    </g>\n",
              "</svg>\n",
              "  </button>\n",
              "\n",
              "<style>\n",
              "  .colab-df-quickchart {\n",
              "      --bg-color: #E8F0FE;\n",
              "      --fill-color: #1967D2;\n",
              "      --hover-bg-color: #E2EBFA;\n",
              "      --hover-fill-color: #174EA6;\n",
              "      --disabled-fill-color: #AAA;\n",
              "      --disabled-bg-color: #DDD;\n",
              "  }\n",
              "\n",
              "  [theme=dark] .colab-df-quickchart {\n",
              "      --bg-color: #3B4455;\n",
              "      --fill-color: #D2E3FC;\n",
              "      --hover-bg-color: #434B5C;\n",
              "      --hover-fill-color: #FFFFFF;\n",
              "      --disabled-bg-color: #3B4455;\n",
              "      --disabled-fill-color: #666;\n",
              "  }\n",
              "\n",
              "  .colab-df-quickchart {\n",
              "    background-color: var(--bg-color);\n",
              "    border: none;\n",
              "    border-radius: 50%;\n",
              "    cursor: pointer;\n",
              "    display: none;\n",
              "    fill: var(--fill-color);\n",
              "    height: 32px;\n",
              "    padding: 0;\n",
              "    width: 32px;\n",
              "  }\n",
              "\n",
              "  .colab-df-quickchart:hover {\n",
              "    background-color: var(--hover-bg-color);\n",
              "    box-shadow: 0 1px 2px rgba(60, 64, 67, 0.3), 0 1px 3px 1px rgba(60, 64, 67, 0.15);\n",
              "    fill: var(--button-hover-fill-color);\n",
              "  }\n",
              "\n",
              "  .colab-df-quickchart-complete:disabled,\n",
              "  .colab-df-quickchart-complete:disabled:hover {\n",
              "    background-color: var(--disabled-bg-color);\n",
              "    fill: var(--disabled-fill-color);\n",
              "    box-shadow: none;\n",
              "  }\n",
              "\n",
              "  .colab-df-spinner {\n",
              "    border: 2px solid var(--fill-color);\n",
              "    border-color: transparent;\n",
              "    border-bottom-color: var(--fill-color);\n",
              "    animation:\n",
              "      spin 1s steps(1) infinite;\n",
              "  }\n",
              "\n",
              "  @keyframes spin {\n",
              "    0% {\n",
              "      border-color: transparent;\n",
              "      border-bottom-color: var(--fill-color);\n",
              "      border-left-color: var(--fill-color);\n",
              "    }\n",
              "    20% {\n",
              "      border-color: transparent;\n",
              "      border-left-color: var(--fill-color);\n",
              "      border-top-color: var(--fill-color);\n",
              "    }\n",
              "    30% {\n",
              "      border-color: transparent;\n",
              "      border-left-color: var(--fill-color);\n",
              "      border-top-color: var(--fill-color);\n",
              "      border-right-color: var(--fill-color);\n",
              "    }\n",
              "    40% {\n",
              "      border-color: transparent;\n",
              "      border-right-color: var(--fill-color);\n",
              "      border-top-color: var(--fill-color);\n",
              "    }\n",
              "    60% {\n",
              "      border-color: transparent;\n",
              "      border-right-color: var(--fill-color);\n",
              "    }\n",
              "    80% {\n",
              "      border-color: transparent;\n",
              "      border-right-color: var(--fill-color);\n",
              "      border-bottom-color: var(--fill-color);\n",
              "    }\n",
              "    90% {\n",
              "      border-color: transparent;\n",
              "      border-bottom-color: var(--fill-color);\n",
              "    }\n",
              "  }\n",
              "</style>\n",
              "\n",
              "  <script>\n",
              "    async function quickchart(key) {\n",
              "      const quickchartButtonEl =\n",
              "        document.querySelector('#' + key + ' button');\n",
              "      quickchartButtonEl.disabled = true;  // To prevent multiple clicks.\n",
              "      quickchartButtonEl.classList.add('colab-df-spinner');\n",
              "      try {\n",
              "        const charts = await google.colab.kernel.invokeFunction(\n",
              "            'suggestCharts', [key], {});\n",
              "      } catch (error) {\n",
              "        console.error('Error during call to suggestCharts:', error);\n",
              "      }\n",
              "      quickchartButtonEl.classList.remove('colab-df-spinner');\n",
              "      quickchartButtonEl.classList.add('colab-df-quickchart-complete');\n",
              "    }\n",
              "    (() => {\n",
              "      let quickchartButtonEl =\n",
              "        document.querySelector('#df-57ca14ee-5f6f-4f04-9a80-dc261707f8ba button');\n",
              "      quickchartButtonEl.style.display =\n",
              "        google.colab.kernel.accessAllowed ? 'block' : 'none';\n",
              "    })();\n",
              "  </script>\n",
              "</div>\n",
              "    </div>\n",
              "  </div>\n"
            ],
            "application/vnd.google.colaboratory.intrinsic+json": {
              "type": "dataframe",
              "variable_name": "df",
              "summary": "{\n  \"name\": \"df\",\n  \"rows\": 9551,\n  \"fields\": [\n    {\n      \"column\": \"header\",\n      \"properties\": {\n        \"dtype\": \"string\",\n        \"num_unique_values\": 7103,\n        \"samples\": [\n          \"\\u0421\\u0442\\u0440\\u0430\\u0445\\u043e\\u0432\\u043a\\u0430 \\u043f\\u043e \\u041e\\u0421\\u0410\\u0413\\u041e (\\u0415\\u0432\\u0440\\u043e\\u043f\\u0440\\u043e\\u0442\\u043e\\u043a\\u043e\\u043b)\",\n          \"\\u041a\\u043e\\u043d\\u0441\\u0443\\u043b\\u044c\\u0442\\u0438\\u0440\\u0443\\u0439\\u0441\\u044f \\u0443 \\u0441\\u0432\\u043e\\u0435\\u0433\\u043e \\u0432\\u0440\\u0430\\u0447\\u0430 \\u0438 \\u043f\\u043e\\u043a\\u0443\\u043f\\u0430\\u0439 \\u0437\\u0430 \\u0441\\u0432\\u043e\\u0438 \\u0434\\u0435\\u043d\\u044c\\u0433\\u0438\",\n          \"\\u041d\\u0435 \\u0432\\u0437\\u0434\\u0443\\u043c\\u0430\\u0439\\u0442\\u0435 \\u0434\\u0430\\u0436\\u0435 \\u0441\\u0442\\u0440\\u0430\\u0445\\u043e\\u0432\\u0430\\u0442\\u044c \\u0441\\u0432\\u043e\\u0439 \\u0430\\u0432\\u0442\\u043e!\"\n        ],\n        \"semantic_type\": \"\",\n        \"description\": \"\"\n      }\n    },\n    {\n      \"column\": \"bank\",\n      \"properties\": {\n        \"dtype\": \"category\",\n        \"num_unique_values\": 65,\n        \"samples\": [\n          \"\\u0421\\u041e\\u0413\\u0410\\u0417-\\u041c\\u0435\\u0434\",\n          \"\\u0420\\u0443\\u0441\\u0441\\u043a\\u0438\\u0439 \\u0421\\u0442\\u0430\\u043d\\u0434\\u0430\\u0440\\u0442 \\u0421\\u0442\\u0440\\u0430\\u0445\\u043e\\u0432\\u0430\\u043d\\u0438\\u0435\",\n          \"\\u0422-\\u0421\\u0442\\u0440\\u0430\\u0445\\u043e\\u0432\\u0430\\u043d\\u0438\\u0435\"\n        ],\n        \"semantic_type\": \"\",\n        \"description\": \"\"\n      }\n    },\n    {\n      \"column\": \"review\",\n      \"properties\": {\n        \"dtype\": \"string\",\n        \"num_unique_values\": 9551,\n        \"samples\": [\n          \"\\u0414\\u043e\\u0431\\u0440\\u044b\\u0439 \\u0434\\u0435\\u043d\\u044c.\\u00a0 \\u041a\\u043e\\u0433\\u0434\\u0430 \\u0437\\u0430\\u043a\\u0430\\u0437\\u044b\\u0432\\u0430\\u043b\\u0430 \\u0433\\u0430\\u0440\\u0430\\u043d\\u0442\\u0438\\u0439\\u043d\\u043e\\u0435 \\u043f\\u0438\\u0441\\u044c\\u043c\\u043e \\u0432 \\u0441\\u0442\\u0440\\u0430\\u0445\\u043e\\u0432\\u043e\\u0439 \\u043c\\u043d\\u0435 \\u043f\\u043e\\u0441\\u043e\\u0432\\u0435\\u0442\\u043e\\u0432\\u0430\\u043b\\u0438 \\u0432\\u044b\\u0431\\u0440\\u0430\\u0442\\u044c \\u0434\\u0440\\u0443\\u0433\\u043e\\u0435 \\u043c\\u0435\\u0434. \\u0443\\u0447\\u0435\\u0440\\u0435\\u0436\\u043b\\u0435\\u043d\\u0438\\u0435 \\u0438\\u0437 \\u0441\\u043f\\u0438\\u0441\\u043a\\u0430, \\u0445\\u043e\\u0442\\u044f \\u043e\\u0433\\u0440\\u0430\\u043d\\u0438\\u0447\\u0435\\u043d \\u043f\\u043e \\u043f\\u0440\\u043e\\u0433\\u0440\\u0430\\u043c\\u043c\\u0435 \\u043d\\u0435\\u0442. \\u0412 \\u0434\\u0430\\u043b\\u044c\\u043d\\u0435\\u0439\\u0448\\u0435\\u043c, \\u043f\\u043e\\u0441\\u043b\\u0435 \\u043f\\u043e\\u0441\\u0435\\u0449\\u0435\\u043d\\u0438\\u044f \\u0432\\u0440\\u0430\\u0447\\u0430, \\u0443\\u0436\\u0435 5\\u0439 \\u0434\\u0435\\u043d\\u044c \\u0441\\u043e\\u0433\\u043b\\u0430\\u0441\\u043e\\u0432\\u044b\\u0432\\u0430\\u044e\\u0442 \\u0433\\u0430\\u0440\\u0430\\u043d\\u0442\\u0438\\u0439\\u043d\\u043e\\u0435 \\u043f\\u0438\\u0441\\u044c\\u043c\\u043e \\u0441\\u043e\\u0433\\u043b\\u0430\\u0441\\u043d\\u043e \\u043f\\u043b\\u0430\\u043d\\u0443 \\u043b\\u0435\\u0447\\u0435\\u043d\\u0438\\u044f, \\u043f\\u0440\\u0438 \\u0437\\u0432\\u043e\\u043d\\u043a\\u0435 \\u0432 \\u0441\\u0442\\u0440\\u0430\\u0445\\u043e\\u0432\\u0443\\u044e \\u043e\\u0442\\u0432\\u0435\\u0447\\u0430\\u044e\\u0442 \\u0447\\u0442\\u043e \\u0433\\u0430\\u0440\\u0430\\u043d\\u0442\\u0438\\u0439\\u043d\\u044b\\u0439 \\u043f\\u0438\\u0441\\u044c\\u043c\\u0430 \\u0440\\u0430\\u0441\\u0441\\u043c\\u0430\\u0442\\u0440\\u0438\\u0432\\u0430\\u044e\\u0442\\u0441\\u044f \\u0432 \\u0442\\u0435\\u0447\\u0435\\u043d\\u0438\\u0438 5 \\u0440\\u0430\\u0431\\u043e\\u0447\\u0438\\u0445 \\u0434\\u043d\\u0435\\u0439....\\u0434\\u043b\\u044f \\u0447\\u0435\\u0433\\u043e \\u0414\\u041c\\u0421, \\u0443 \\u043c\\u0435\\u043d\\u044f \\u043f\\u043e\\u043d\\u0438\\u043c\\u0430\\u043d\\u0438\\u044f \\u043d\\u0435\\u0442. \\u041e\\u0442\\u0432\\u0440\\u0430\\u0442\\u0438\\u0442\\u0435\\u043b\\u044c\\u043d\\u0430\\u044f \\u043a\\u043e\\u043c\\u043f\\u0430\\u043d\\u0438\\u044f.\",\n          \"\\u0421\\u043b\\u0430\\u0432\\u0430 \\u0411\\u043e\\u0433\\u0443 \\u043d\\u0435 \\u043d\\u0430\\u0441\\u0442\\u0443\\u043f\\u0438\\u043b \\u0441\\u0442\\u0440\\u0430\\u0445\\u043e\\u0432\\u043e\\u0439 \\u0441\\u043b\\u0443\\u0447\\u0430\\u0439.\",\n          \"\\u0412 \\u043f\\u0440\\u043e\\u0448\\u043b\\u043e\\u043c \\u0433\\u043e\\u0434\\u0443 \\u0437\\u0430\\u0441\\u0442\\u0440\\u0430\\u0445\\u043e\\u0432\\u0430\\u043b \\u043a\\u0432\\u0430\\u0440\\u0442\\u0438\\u0440\\u0443 \\u0432 \\u0422\\u0438\\u043d\\u044c\\u043a\\u043e\\u0444\\u0444 \\u0441\\u0442\\u0440\\u0430\\u0445\\u043e\\u0432\\u0430\\u043d\\u0438\\u0435. \\u0421\\u0442\\u0440\\u0430\\u0445\\u043e\\u0432\\u0430\\u043b\\u0441\\u044f \\u0447\\u0435\\u0440\\u0435\\u0437 \\u0441\\u0430\\u0439\\u0442, \\u043f\\u043e\\u043b\\u0438\\u0441 \\u043f\\u0440\\u0438\\u0448\\u0435\\u043b \\u043d\\u0430 \\u043f\\u043e\\u0447\\u0442\\u0443. \\u0412 \\u043d\\u043e\\u0432\\u043e\\u0433\\u043e\\u0434\\u043d\\u0438\\u0435 \\u043f\\u0440\\u0430\\u0437\\u0434\\u043d\\u0438\\u043a\\u0438 \\u0432\\u043e \\u0432\\u0440\\u0435\\u043c\\u044f \\u0441\\u0438\\u043b\\u044c\\u043d\\u044b\\u0445 \\u043c\\u043e\\u0440\\u043e\\u0437\\u043e\\u0432 \\u0443 \\u0432\\u0435\\u0440\\u0445\\u043d\\u0438\\u0445 \\u0441\\u043e\\u0441\\u0435\\u0434\\u0435\\u0439 (\\u0447\\u0435\\u0440\\u0435\\u0437 \\u044d\\u0442\\u0430\\u0436) \\u043f\\u0440\\u043e\\u0440\\u0432\\u0430\\u043b\\u043e \\u0431\\u0430\\u0442\\u0430\\u0440\\u0435\\u0438 \\u043e\\u0442\\u043e\\u043f\\u043b\\u0435\\u043d\\u0438\\u044f. \\u0411\\u044b\\u043b\\u043e \\u0437\\u0430\\u043b\\u0438\\u0442\\u043e \\u043d\\u0435\\u0441\\u043a\\u043e\\u043b\\u044c\\u043a\\u043e \\u043a\\u0432\\u0430\\u0440\\u0442\\u0438\\u0440, \\u0432 \\u0442\\u043e\\u043c \\u0447\\u0438\\u0441\\u043b\\u0435 \\u0438 \\u043c\\u043e\\u044f \\u043a\\u0432\\u0430\\u0440\\u0442\\u0438\\u0440\\u0430. \\u0427\\u0435\\u0440\\u0435\\u0437 \\u0433\\u043e\\u0440\\u044f\\u0447\\u0443\\u044e \\u043b\\u0438\\u043d\\u0438\\u044e \\u044f \\u0441\\u043e\\u043e\\u0431\\u0449\\u0438\\u043b \\u043e \\u0441\\u0442\\u0440\\u0430\\u0445\\u043e\\u0432\\u043e\\u043c \\u0441\\u043b\\u0443\\u0447\\u0430\\u0435, \\u043c\\u043d\\u0435 \\u0441\\u0440\\u0430\\u0437\\u0443 \\u043d\\u0430\\u0437\\u043d\\u0430\\u0447\\u0438\\u043b\\u0438 \\u0441\\u0442\\u0440\\u0430\\u0445\\u043e\\u0432\\u043e\\u0433\\u043e \\u043c\\u0435\\u043d\\u0435\\u0434\\u0436\\u0435\\u0440\\u0430, \\u043a\\u043e\\u0442\\u043e\\u0440\\u0430\\u044f \\u043f\\u0440\\u0438\\u0441\\u043b\\u0430\\u043b\\u0430 \\u0441\\u043f\\u0438\\u0441\\u043e\\u043a \\u0442\\u0440\\u0435\\u0431\\u0443\\u0435\\u043c\\u044b\\u0445 \\u0434\\u043e\\u043a\\u0443\\u043c\\u0435\\u043d\\u0442\\u043e\\u0432. \\u041f\\u043e\\u0441\\u043b\\u0435 \\u043f\\u043e\\u043b\\u0443\\u0447\\u0435\\u043d\\u0438\\u044f \\u0430\\u043a\\u0442\\u0430 \\u043e\\u0442 \\u0443\\u043f\\u0440\\u0430\\u0432\\u043b\\u044f\\u044e\\u0449\\u0435\\u0439 \\u043a\\u043e\\u043c\\u043f\\u0430\\u043d\\u0438\\u0438 \\u0441\\u043e \\u043c\\u043d\\u043e\\u0439 \\u0441\\u0432\\u044f\\u0437\\u0430\\u043b\\u0430\\u0441\\u044c \\u0438 \\u043f\\u0440\\u0438\\u0441\\u043b\\u0430\\u043b\\u0438 \\u043d\\u0435\\u0437\\u0430\\u0432\\u0438\\u0441\\u0438\\u043c\\u043e\\u0433\\u043e \\u044d\\u043a\\u0441\\u043f\\u0435\\u0440\\u0442\\u0430, \\u043a\\u043e\\u0442\\u043e\\u0440\\u044b\\u0439 \\u0437\\u0430\\u0444\\u0438\\u043a\\u0441\\u0438\\u0440\\u043e\\u0432\\u0430\\u043b \\u0432\\u0441\\u0435 \\u043f\\u043e\\u0432\\u0440\\u0435\\u0436\\u0434\\u0435\\u043d\\u0438\\u044f \\u0438 \\u0441\\u043e\\u0441\\u0442\\u0430\\u0432\\u0438\\u043b \\u0430\\u043a\\u0442. \\u0412 \\u0442\\u0435\\u0447\\u0435\\u043d\\u0438\\u0435 \\u043d\\u0435\\u0434\\u0435\\u043b\\u0438 \\u0441\\u0442\\u0440\\u0430\\u0445\\u043e\\u0432\\u0430\\u044f \\u043a\\u043e\\u043c\\u043f\\u0430\\u043d\\u0438\\u044f \\u043e\\u0446\\u0435\\u043d\\u0438\\u043b\\u0430 \\u0441\\u0442\\u043e\\u0438\\u043c\\u043e\\u0441\\u0442\\u044c \\u0443\\u0449\\u0435\\u0440\\u0431\\u0430 \\u0438 \\u043f\\u0440\\u0438\\u0441\\u043b\\u0430\\u043b\\u0430 \\u0441\\u0432\\u043e\\u044e \\u043e\\u0446\\u0435\\u043d\\u043a\\u0443. \\u041e\\u0446\\u0435\\u043d\\u043a\\u0430 \\u0432\\u043f\\u043e\\u043b\\u043d\\u0435 \\u0430\\u0434\\u0435\\u043a\\u0432\\u0430\\u0442\\u043d\\u0430\\u044f, \\u044f \\u0441 \\u043d\\u0435\\u0439 \\u0441\\u043e\\u0433\\u043b\\u0430\\u0441\\u0438\\u043b\\u0441\\u044f \\u0438 \\u0431\\u0443\\u043a\\u0432\\u0430\\u043b\\u044c\\u043d\\u043e \\u043d\\u0430 \\u0441\\u043b\\u0435\\u0434\\u0443\\u044e\\u0449\\u0438\\u0439 \\u0434\\u0435\\u043d\\u044c \\u043d\\u0430 \\u043c\\u043e\\u0439 \\u0441\\u0447\\u0435\\u0442 \\u043f\\u043e\\u0441\\u0442\\u0443\\u043f\\u0438\\u043b\\u0438 \\u0434\\u0435\\u043d\\u044c\\u0433\\u0438. \\u0411\\u044b\\u043b \\u043f\\u0440\\u0438\\u044f\\u0442\\u043d\\u043e \\u0443\\u0434\\u0438\\u0432\\u043b\\u0435\\u043d \\u0442\\u0430\\u043a\\u0438\\u043c \\u043f\\u043e\\u0434\\u0445\\u043e\\u0434\\u043e\\u043c \\u0438 \\u043e\\u043f\\u0435\\u0440\\u0430\\u0442\\u0438\\u0432\\u043d\\u043e\\u0441\\u0442\\u044c\\u044e \\u0440\\u0435\\u0448\\u0435\\u043d\\u0438\\u044f, \\u043c\\u043e\\u0433\\u0443 \\u0440\\u0435\\u043a\\u043e\\u043c\\u0435\\u043d\\u0434\\u043e\\u0432\\u0430\\u0442\\u044c \\u0422\\u0438\\u043d\\u044c\\u043a\\u043e\\u0444\\u0444 \\u0441\\u0442\\u0440\\u0430\\u0445\\u043e\\u0432\\u0430\\u043d\\u0438\\u0435 \\u043a\\u0430\\u043a \\u043d\\u0430\\u0434\\u0435\\u0436\\u043d\\u043e\\u0433\\u043e \\u043f\\u0430\\u0440\\u0442\\u043d\\u0435\\u0440\\u0430. \\u041e\\u0442\\u0434\\u0435\\u043b\\u044c\\u043d\\u043e\\u0435 \\u0441\\u043f\\u0430\\u0441\\u0438\\u0431\\u043e \\u043c\\u0435\\u043d\\u0435\\u0434\\u0436\\u0435\\u0440\\u0443 \\u0410\\u043d\\u0430\\u0441\\u0442\\u0430\\u0441\\u0438\\u0438 \\u0437\\u0430 \\u043f\\u0440\\u043e\\u0444\\u0435\\u0441\\u0441\\u0438\\u043e\\u043d\\u0430\\u043b\\u044c\\u043d\\u0443\\u044e \\u0440\\u0430\\u0431\\u043e\\u0442\\u0443.\"\n        ],\n        \"semantic_type\": \"\",\n        \"description\": \"\"\n      }\n    },\n    {\n      \"column\": \"rate\",\n      \"properties\": {\n        \"dtype\": \"number\",\n        \"std\": 1,\n        \"min\": 1,\n        \"max\": 5,\n        \"num_unique_values\": 5,\n        \"samples\": [\n          4,\n          3,\n          1\n        ],\n        \"semantic_type\": \"\",\n        \"description\": \"\"\n      }\n    },\n    {\n      \"column\": \"date\",\n      \"properties\": {\n        \"dtype\": \"date\",\n        \"min\": \"2024-01-20 00:00:00\",\n        \"max\": \"2024-09-22 00:00:00\",\n        \"num_unique_values\": 247,\n        \"samples\": [\n          \"2024-08-20 00:00:00\",\n          \"2024-09-16 00:00:00\",\n          \"2024-03-25 00:00:00\"\n        ],\n        \"semantic_type\": \"\",\n        \"description\": \"\"\n      }\n    }\n  ]\n}"
            }
          },
          "metadata": {},
          "execution_count": 11
        }
      ]
    },
    {
      "cell_type": "markdown",
      "source": [
        "При изменении формата данных обнаружилось, что не во всех строках указана корректная дата.\n",
        "Посмотрим, сколько строк содержат ошибочные данные и удалим."
      ],
      "metadata": {
        "id": "gJWjQg45_SPx"
      }
    },
    {
      "cell_type": "code",
      "source": [
        "# количество строк с некорректной датой\n",
        "df[\"date\"].isna().sum()"
      ],
      "metadata": {
        "colab": {
          "base_uri": "https://localhost:8080/"
        },
        "id": "SGht5rlT_FBS",
        "outputId": "9dd89aab-1d0c-46e8-c0b4-c636cd15d01a"
      },
      "execution_count": null,
      "outputs": [
        {
          "output_type": "execute_result",
          "data": {
            "text/plain": [
              "1395"
            ]
          },
          "metadata": {},
          "execution_count": 12
        }
      ]
    },
    {
      "cell_type": "code",
      "source": [
        "df.dropna(axis=0, subset=\"date\", inplace=True)\n",
        "df"
      ],
      "metadata": {
        "colab": {
          "base_uri": "https://localhost:8080/",
          "height": 423
        },
        "id": "SGCizK8S_tv2",
        "outputId": "2062e840-9b23-4ac8-b05c-bd2f4418eb76"
      },
      "execution_count": null,
      "outputs": [
        {
          "output_type": "execute_result",
          "data": {
            "text/plain": [
              "                                                 header  \\\n",
              "0                            Хорошая страховая компания   \n",
              "1                                          За стразовку   \n",
              "2                        Как я пришел за ОСАГО в Т-Банк   \n",
              "3                                         ОСАГО+КАСКОGO   \n",
              "4             Обман сбербанк страхование семейный актив   \n",
              "...                                                 ...   \n",
              "9556  Мне предоставили хорошую скидку на страховку ж...   \n",
              "9557                              Мой выбор - Ренессанс   \n",
              "9558                               Защита в пути, КАСКО   \n",
              "9559                          Нет возврата по страховке   \n",
              "9560                                       Самые лучшие   \n",
              "\n",
              "                            bank  \\\n",
              "0                  Т-Страхование   \n",
              "1         Совкомбанк Страхование   \n",
              "2                  Т-Страхование   \n",
              "3               АльфаСтрахование   \n",
              "4     Сбербанк страхование жизни   \n",
              "...                          ...   \n",
              "9556               Т-Страхование   \n",
              "9557                   Ренессанс   \n",
              "9558        Сбербанк страхование   \n",
              "9559     Хоум Кредит Страхование   \n",
              "9560               Т-Страхование   \n",
              "\n",
              "                                                 review  rate       date  \n",
              "0     Оформили каско и не пожалели !  Когда случилос...     5 2024-09-22  \n",
              "1     Самая дешёвая страховка из всех, в Совкомбанк....     4 2024-09-22  \n",
              "2     Здравствуйте уважаемые СММщики Т-Банка. Пришел...     1 2024-09-22  \n",
              "3     Добрый вечер, один свой автомобиль застраховал...     5 2024-09-22  \n",
              "4     Дорогие человеки,ни в коем случае не связывайт...     1 2024-09-22  \n",
              "...                                                 ...   ...        ...  \n",
              "9556  Позвонили с Тинькофф Страхования. У меня оформ...     5 2024-01-20  \n",
              "9557  Здравствуйте! Не всегда принято оставлять поло...     5 2024-01-20  \n",
              "9558  26.12.23 приобрёл автомобиль в кредит в Драйв ...     1 2024-01-20  \n",
              "9559  Помогите пожалуйста , взял кредит и сразу отка...     1 2024-01-20  \n",
              "9560  20.01.24 произошло ДТП, примерно в 10.00, вызв...     5 2024-01-20  \n",
              "\n",
              "[8156 rows x 5 columns]"
            ],
            "text/html": [
              "\n",
              "  <div id=\"df-0433009a-f97f-4dcb-b19b-df869f011be4\" class=\"colab-df-container\">\n",
              "    <div>\n",
              "<style scoped>\n",
              "    .dataframe tbody tr th:only-of-type {\n",
              "        vertical-align: middle;\n",
              "    }\n",
              "\n",
              "    .dataframe tbody tr th {\n",
              "        vertical-align: top;\n",
              "    }\n",
              "\n",
              "    .dataframe thead th {\n",
              "        text-align: right;\n",
              "    }\n",
              "</style>\n",
              "<table border=\"1\" class=\"dataframe\">\n",
              "  <thead>\n",
              "    <tr style=\"text-align: right;\">\n",
              "      <th></th>\n",
              "      <th>header</th>\n",
              "      <th>bank</th>\n",
              "      <th>review</th>\n",
              "      <th>rate</th>\n",
              "      <th>date</th>\n",
              "    </tr>\n",
              "  </thead>\n",
              "  <tbody>\n",
              "    <tr>\n",
              "      <th>0</th>\n",
              "      <td>Хорошая страховая компания</td>\n",
              "      <td>Т-Страхование</td>\n",
              "      <td>Оформили каско и не пожалели !  Когда случилос...</td>\n",
              "      <td>5</td>\n",
              "      <td>2024-09-22</td>\n",
              "    </tr>\n",
              "    <tr>\n",
              "      <th>1</th>\n",
              "      <td>За стразовку</td>\n",
              "      <td>Совкомбанк Страхование</td>\n",
              "      <td>Самая дешёвая страховка из всех, в Совкомбанк....</td>\n",
              "      <td>4</td>\n",
              "      <td>2024-09-22</td>\n",
              "    </tr>\n",
              "    <tr>\n",
              "      <th>2</th>\n",
              "      <td>Как я пришел за ОСАГО в Т-Банк</td>\n",
              "      <td>Т-Страхование</td>\n",
              "      <td>Здравствуйте уважаемые СММщики Т-Банка. Пришел...</td>\n",
              "      <td>1</td>\n",
              "      <td>2024-09-22</td>\n",
              "    </tr>\n",
              "    <tr>\n",
              "      <th>3</th>\n",
              "      <td>ОСАГО+КАСКОGO</td>\n",
              "      <td>АльфаСтрахование</td>\n",
              "      <td>Добрый вечер, один свой автомобиль застраховал...</td>\n",
              "      <td>5</td>\n",
              "      <td>2024-09-22</td>\n",
              "    </tr>\n",
              "    <tr>\n",
              "      <th>4</th>\n",
              "      <td>Обман сбербанк страхование семейный актив</td>\n",
              "      <td>Сбербанк страхование жизни</td>\n",
              "      <td>Дорогие человеки,ни в коем случае не связывайт...</td>\n",
              "      <td>1</td>\n",
              "      <td>2024-09-22</td>\n",
              "    </tr>\n",
              "    <tr>\n",
              "      <th>...</th>\n",
              "      <td>...</td>\n",
              "      <td>...</td>\n",
              "      <td>...</td>\n",
              "      <td>...</td>\n",
              "      <td>...</td>\n",
              "    </tr>\n",
              "    <tr>\n",
              "      <th>9556</th>\n",
              "      <td>Мне предоставили хорошую скидку на страховку ж...</td>\n",
              "      <td>Т-Страхование</td>\n",
              "      <td>Позвонили с Тинькофф Страхования. У меня оформ...</td>\n",
              "      <td>5</td>\n",
              "      <td>2024-01-20</td>\n",
              "    </tr>\n",
              "    <tr>\n",
              "      <th>9557</th>\n",
              "      <td>Мой выбор - Ренессанс</td>\n",
              "      <td>Ренессанс</td>\n",
              "      <td>Здравствуйте! Не всегда принято оставлять поло...</td>\n",
              "      <td>5</td>\n",
              "      <td>2024-01-20</td>\n",
              "    </tr>\n",
              "    <tr>\n",
              "      <th>9558</th>\n",
              "      <td>Защита в пути, КАСКО</td>\n",
              "      <td>Сбербанк страхование</td>\n",
              "      <td>26.12.23 приобрёл автомобиль в кредит в Драйв ...</td>\n",
              "      <td>1</td>\n",
              "      <td>2024-01-20</td>\n",
              "    </tr>\n",
              "    <tr>\n",
              "      <th>9559</th>\n",
              "      <td>Нет возврата по страховке</td>\n",
              "      <td>Хоум Кредит Страхование</td>\n",
              "      <td>Помогите пожалуйста , взял кредит и сразу отка...</td>\n",
              "      <td>1</td>\n",
              "      <td>2024-01-20</td>\n",
              "    </tr>\n",
              "    <tr>\n",
              "      <th>9560</th>\n",
              "      <td>Самые лучшие</td>\n",
              "      <td>Т-Страхование</td>\n",
              "      <td>20.01.24 произошло ДТП, примерно в 10.00, вызв...</td>\n",
              "      <td>5</td>\n",
              "      <td>2024-01-20</td>\n",
              "    </tr>\n",
              "  </tbody>\n",
              "</table>\n",
              "<p>8156 rows × 5 columns</p>\n",
              "</div>\n",
              "    <div class=\"colab-df-buttons\">\n",
              "\n",
              "  <div class=\"colab-df-container\">\n",
              "    <button class=\"colab-df-convert\" onclick=\"convertToInteractive('df-0433009a-f97f-4dcb-b19b-df869f011be4')\"\n",
              "            title=\"Convert this dataframe to an interactive table.\"\n",
              "            style=\"display:none;\">\n",
              "\n",
              "  <svg xmlns=\"http://www.w3.org/2000/svg\" height=\"24px\" viewBox=\"0 -960 960 960\">\n",
              "    <path d=\"M120-120v-720h720v720H120Zm60-500h600v-160H180v160Zm220 220h160v-160H400v160Zm0 220h160v-160H400v160ZM180-400h160v-160H180v160Zm440 0h160v-160H620v160ZM180-180h160v-160H180v160Zm440 0h160v-160H620v160Z\"/>\n",
              "  </svg>\n",
              "    </button>\n",
              "\n",
              "  <style>\n",
              "    .colab-df-container {\n",
              "      display:flex;\n",
              "      gap: 12px;\n",
              "    }\n",
              "\n",
              "    .colab-df-convert {\n",
              "      background-color: #E8F0FE;\n",
              "      border: none;\n",
              "      border-radius: 50%;\n",
              "      cursor: pointer;\n",
              "      display: none;\n",
              "      fill: #1967D2;\n",
              "      height: 32px;\n",
              "      padding: 0 0 0 0;\n",
              "      width: 32px;\n",
              "    }\n",
              "\n",
              "    .colab-df-convert:hover {\n",
              "      background-color: #E2EBFA;\n",
              "      box-shadow: 0px 1px 2px rgba(60, 64, 67, 0.3), 0px 1px 3px 1px rgba(60, 64, 67, 0.15);\n",
              "      fill: #174EA6;\n",
              "    }\n",
              "\n",
              "    .colab-df-buttons div {\n",
              "      margin-bottom: 4px;\n",
              "    }\n",
              "\n",
              "    [theme=dark] .colab-df-convert {\n",
              "      background-color: #3B4455;\n",
              "      fill: #D2E3FC;\n",
              "    }\n",
              "\n",
              "    [theme=dark] .colab-df-convert:hover {\n",
              "      background-color: #434B5C;\n",
              "      box-shadow: 0px 1px 3px 1px rgba(0, 0, 0, 0.15);\n",
              "      filter: drop-shadow(0px 1px 2px rgba(0, 0, 0, 0.3));\n",
              "      fill: #FFFFFF;\n",
              "    }\n",
              "  </style>\n",
              "\n",
              "    <script>\n",
              "      const buttonEl =\n",
              "        document.querySelector('#df-0433009a-f97f-4dcb-b19b-df869f011be4 button.colab-df-convert');\n",
              "      buttonEl.style.display =\n",
              "        google.colab.kernel.accessAllowed ? 'block' : 'none';\n",
              "\n",
              "      async function convertToInteractive(key) {\n",
              "        const element = document.querySelector('#df-0433009a-f97f-4dcb-b19b-df869f011be4');\n",
              "        const dataTable =\n",
              "          await google.colab.kernel.invokeFunction('convertToInteractive',\n",
              "                                                    [key], {});\n",
              "        if (!dataTable) return;\n",
              "\n",
              "        const docLinkHtml = 'Like what you see? Visit the ' +\n",
              "          '<a target=\"_blank\" href=https://colab.research.google.com/notebooks/data_table.ipynb>data table notebook</a>'\n",
              "          + ' to learn more about interactive tables.';\n",
              "        element.innerHTML = '';\n",
              "        dataTable['output_type'] = 'display_data';\n",
              "        await google.colab.output.renderOutput(dataTable, element);\n",
              "        const docLink = document.createElement('div');\n",
              "        docLink.innerHTML = docLinkHtml;\n",
              "        element.appendChild(docLink);\n",
              "      }\n",
              "    </script>\n",
              "  </div>\n",
              "\n",
              "\n",
              "<div id=\"df-3ad9134f-d574-4198-8894-cf3d311bb0c8\">\n",
              "  <button class=\"colab-df-quickchart\" onclick=\"quickchart('df-3ad9134f-d574-4198-8894-cf3d311bb0c8')\"\n",
              "            title=\"Suggest charts\"\n",
              "            style=\"display:none;\">\n",
              "\n",
              "<svg xmlns=\"http://www.w3.org/2000/svg\" height=\"24px\"viewBox=\"0 0 24 24\"\n",
              "     width=\"24px\">\n",
              "    <g>\n",
              "        <path d=\"M19 3H5c-1.1 0-2 .9-2 2v14c0 1.1.9 2 2 2h14c1.1 0 2-.9 2-2V5c0-1.1-.9-2-2-2zM9 17H7v-7h2v7zm4 0h-2V7h2v10zm4 0h-2v-4h2v4z\"/>\n",
              "    </g>\n",
              "</svg>\n",
              "  </button>\n",
              "\n",
              "<style>\n",
              "  .colab-df-quickchart {\n",
              "      --bg-color: #E8F0FE;\n",
              "      --fill-color: #1967D2;\n",
              "      --hover-bg-color: #E2EBFA;\n",
              "      --hover-fill-color: #174EA6;\n",
              "      --disabled-fill-color: #AAA;\n",
              "      --disabled-bg-color: #DDD;\n",
              "  }\n",
              "\n",
              "  [theme=dark] .colab-df-quickchart {\n",
              "      --bg-color: #3B4455;\n",
              "      --fill-color: #D2E3FC;\n",
              "      --hover-bg-color: #434B5C;\n",
              "      --hover-fill-color: #FFFFFF;\n",
              "      --disabled-bg-color: #3B4455;\n",
              "      --disabled-fill-color: #666;\n",
              "  }\n",
              "\n",
              "  .colab-df-quickchart {\n",
              "    background-color: var(--bg-color);\n",
              "    border: none;\n",
              "    border-radius: 50%;\n",
              "    cursor: pointer;\n",
              "    display: none;\n",
              "    fill: var(--fill-color);\n",
              "    height: 32px;\n",
              "    padding: 0;\n",
              "    width: 32px;\n",
              "  }\n",
              "\n",
              "  .colab-df-quickchart:hover {\n",
              "    background-color: var(--hover-bg-color);\n",
              "    box-shadow: 0 1px 2px rgba(60, 64, 67, 0.3), 0 1px 3px 1px rgba(60, 64, 67, 0.15);\n",
              "    fill: var(--button-hover-fill-color);\n",
              "  }\n",
              "\n",
              "  .colab-df-quickchart-complete:disabled,\n",
              "  .colab-df-quickchart-complete:disabled:hover {\n",
              "    background-color: var(--disabled-bg-color);\n",
              "    fill: var(--disabled-fill-color);\n",
              "    box-shadow: none;\n",
              "  }\n",
              "\n",
              "  .colab-df-spinner {\n",
              "    border: 2px solid var(--fill-color);\n",
              "    border-color: transparent;\n",
              "    border-bottom-color: var(--fill-color);\n",
              "    animation:\n",
              "      spin 1s steps(1) infinite;\n",
              "  }\n",
              "\n",
              "  @keyframes spin {\n",
              "    0% {\n",
              "      border-color: transparent;\n",
              "      border-bottom-color: var(--fill-color);\n",
              "      border-left-color: var(--fill-color);\n",
              "    }\n",
              "    20% {\n",
              "      border-color: transparent;\n",
              "      border-left-color: var(--fill-color);\n",
              "      border-top-color: var(--fill-color);\n",
              "    }\n",
              "    30% {\n",
              "      border-color: transparent;\n",
              "      border-left-color: var(--fill-color);\n",
              "      border-top-color: var(--fill-color);\n",
              "      border-right-color: var(--fill-color);\n",
              "    }\n",
              "    40% {\n",
              "      border-color: transparent;\n",
              "      border-right-color: var(--fill-color);\n",
              "      border-top-color: var(--fill-color);\n",
              "    }\n",
              "    60% {\n",
              "      border-color: transparent;\n",
              "      border-right-color: var(--fill-color);\n",
              "    }\n",
              "    80% {\n",
              "      border-color: transparent;\n",
              "      border-right-color: var(--fill-color);\n",
              "      border-bottom-color: var(--fill-color);\n",
              "    }\n",
              "    90% {\n",
              "      border-color: transparent;\n",
              "      border-bottom-color: var(--fill-color);\n",
              "    }\n",
              "  }\n",
              "</style>\n",
              "\n",
              "  <script>\n",
              "    async function quickchart(key) {\n",
              "      const quickchartButtonEl =\n",
              "        document.querySelector('#' + key + ' button');\n",
              "      quickchartButtonEl.disabled = true;  // To prevent multiple clicks.\n",
              "      quickchartButtonEl.classList.add('colab-df-spinner');\n",
              "      try {\n",
              "        const charts = await google.colab.kernel.invokeFunction(\n",
              "            'suggestCharts', [key], {});\n",
              "      } catch (error) {\n",
              "        console.error('Error during call to suggestCharts:', error);\n",
              "      }\n",
              "      quickchartButtonEl.classList.remove('colab-df-spinner');\n",
              "      quickchartButtonEl.classList.add('colab-df-quickchart-complete');\n",
              "    }\n",
              "    (() => {\n",
              "      let quickchartButtonEl =\n",
              "        document.querySelector('#df-3ad9134f-d574-4198-8894-cf3d311bb0c8 button');\n",
              "      quickchartButtonEl.style.display =\n",
              "        google.colab.kernel.accessAllowed ? 'block' : 'none';\n",
              "    })();\n",
              "  </script>\n",
              "</div>\n",
              "    </div>\n",
              "  </div>\n"
            ],
            "application/vnd.google.colaboratory.intrinsic+json": {
              "type": "dataframe",
              "variable_name": "df",
              "summary": "{\n  \"name\": \"df\",\n  \"rows\": 8156,\n  \"fields\": [\n    {\n      \"column\": \"header\",\n      \"properties\": {\n        \"dtype\": \"string\",\n        \"num_unique_values\": 6103,\n        \"samples\": [\n          \"\\u0418\\u0437 \\u043f\\u0435\\u0440\\u0432\\u044b\\u0445 \\u0432\\u043f\\u0435\\u0447\\u0430\\u0442\\u043b\\u0435\\u043d\\u0438\\u0439, \\u0447\\u0442\\u043e \\u044d\\u0442\\u043e \\u0441\\u043e\\u043c\\u043d\\u0438\\u0442\\u0435\\u043b\\u044c\\u043d\\u0430\\u044f \\u043a\\u043e\\u043d\\u0442\\u043e\\u0440\\u0430\",\n          \"\\u041f\\u0440\\u043e\\u0444\\u0435\\u0441\\u0441\\u0438\\u043e\\u043d\\u0430\\u043b\\u044b \\u0441\\u0432\\u043e\\u0435\\u0433\\u043e \\u0434\\u0435\\u043b\\u0430\",\n          \"\\u041d\\u0435\\u043f\\u0440\\u0438\\u044f\\u0442\\u043d\\u044b\\u0439 \\u0441\\u044e\\u0440\\u043f\\u0440\\u0438\\u0437 \\u043e\\u0442 \\u0422-\\u0441\\u0442\\u0440\\u0430\\u0445\\u043e\\u0432\\u0430\\u043d\\u0438\\u044f - \\u043f\\u043e\\u0442\\u0435\\u0440\\u044f \\u043b\\u043e\\u044f\\u043b\\u044c\\u043d\\u043e\\u0441\\u0442\\u0438\"\n        ],\n        \"semantic_type\": \"\",\n        \"description\": \"\"\n      }\n    },\n    {\n      \"column\": \"bank\",\n      \"properties\": {\n        \"dtype\": \"category\",\n        \"num_unique_values\": 65,\n        \"samples\": [\n          \"\\u041c\\u0435\\u0434\\u0438\\u0446\\u0438\\u043d\\u0441\\u043a\\u0430\\u044f \\u0430\\u043a\\u0446\\u0438\\u043e\\u043d\\u0435\\u0440\\u043d\\u0430\\u044f \\u0441\\u0442\\u0440\\u0430\\u0445\\u043e\\u0432\\u0430\\u044f \\u043a\\u043e\\u043c\\u043f\\u0430\\u043d\\u0438\\u044f (\\u041c\\u0410\\u041a\\u0421-\\u041c)\",\n          \"\\u041a\\u0430\\u043f\\u0438\\u0442\\u0430\\u043b \\u041c\\u0421 (\\u0420\\u0413\\u0421-\\u041c\\u0435\\u0434\\u0438\\u0446\\u0438\\u043d\\u0430)\",\n          \"\\u0422-\\u0421\\u0442\\u0440\\u0430\\u0445\\u043e\\u0432\\u0430\\u043d\\u0438\\u0435\"\n        ],\n        \"semantic_type\": \"\",\n        \"description\": \"\"\n      }\n    },\n    {\n      \"column\": \"review\",\n      \"properties\": {\n        \"dtype\": \"string\",\n        \"num_unique_values\": 8156,\n        \"samples\": [\n          \"OSG-24-135216\\u00a0\\u00a0\\u0420\\u0430\\u043d\\u0435\\u0435 \\u043d\\u0438\\u043a\\u043e\\u0433\\u0434\\u0430 \\u043d\\u0435 \\u043f\\u0438\\u0441\\u0430\\u043b \\u043e\\u0442\\u0437\\u044b\\u0432\\u044b \\u043e \\u0431\\u0430\\u043d\\u043a\\u0430\\u0445 \\u0438 \\u0441\\u0442\\u0440\\u0430\\u0445\\u043e\\u0432\\u044b\\u0445 \\u043a\\u043e\\u043c\\u043f\\u0430\\u043d\\u0438\\u044f\\u0445, \\u0441 \\u043a\\u043e\\u0442\\u043e\\u0440\\u044b\\u043c\\u0438 \\u043f\\u0440\\u0438\\u0445\\u043e\\u0434\\u0438\\u043b\\u043e\\u0441\\u044c \\u0440\\u0430\\u0431\\u043e\\u0442\\u0430\\u0442\\u044c. \\u041d\\u043e \\u0432 \\u044d\\u0442\\u043e\\u0442 \\u0440\\u0430\\u0437 \\u043d\\u0435 \\u043c\\u043e\\u0433\\u0443 \\u0443\\u0434\\u0435\\u0440\\u0436\\u0430\\u0442\\u044c\\u0441\\u044f \\u0438 \\u0445\\u043e\\u0447\\u0443 \\u043f\\u043e\\u0434\\u0435\\u043b\\u0438\\u0442\\u044c\\u0441\\u044f \\u0441\\u0432\\u043e\\u0438\\u043c \\u0432\\u043f\\u0435\\u0447\\u0430\\u0442\\u043b\\u0435\\u043d\\u0438\\u0435\\u043c \\u043e \\u043a\\u043e\\u043c\\u043f\\u0430\\u043d\\u0438\\u0438 \\\"\\u0422\\u0438\\u043d\\u044c\\u043a\\u043e\\u0444\\u0444 \\u0421\\u0442\\u0440\\u0430\\u0445\\u043e\\u0432\\u0430\\u043d\\u0438\\u0435\\\" \\u0438 \\u0435\\u0435 \\u0441\\u043e\\u0442\\u0440\\u0443\\u0434\\u043d\\u0438\\u043a\\u0430\\u0445, \\u0441 \\u043a\\u043e\\u0442\\u043e\\u0440\\u044b\\u043c\\u0438 \\u044f \\u0440\\u0430\\u0431\\u043e\\u0442\\u0430\\u043b \\u043f\\u043e \\u0441\\u0442\\u0440\\u0430\\u0445\\u043e\\u0432\\u043e\\u043c\\u0443 \\u0441\\u043e\\u0431\\u044b\\u0442\\u0438\\u044e (\\u0414\\u0422\\u041f 13.05.2024), \\u043a\\u043e\\u0442\\u043e\\u0440\\u044b\\u0435 \\u043e\\u043a\\u0430\\u0437\\u0430\\u043b\\u0438 \\u043c\\u043d\\u0435 \\u0432\\u0441\\u0435\\u0441\\u0442\\u043e\\u0440\\u043e\\u043d\\u043d\\u044e\\u044e \\u043f\\u043e\\u043c\\u043e\\u0449\\u044c, \\u043f\\u043e\\u0434\\u0434\\u0435\\u0440\\u0436\\u043a\\u0443 \\u0438 \\u0441\\u043e\\u043f\\u0440\\u043e\\u0432\\u043e\\u0436\\u0434\\u0435\\u043d\\u0438\\u0435 \\u043d\\u0430 \\u043a\\u0430\\u0436\\u0434\\u043e\\u043c \\u044d\\u0442\\u0430\\u043f\\u0435 \\u0443\\u0440\\u0435\\u0433\\u0443\\u043b\\u0438\\u0440\\u043e\\u0432\\u0430\\u043d\\u0438\\u044f \\u0441\\u0442\\u0440\\u0430\\u0445\\u043e\\u0432\\u043e\\u0433\\u043e \\u0441\\u043b\\u0443\\u0447\\u0430\\u044f. \\u00a0 \\u00a0 \\u0418\\u0442\\u0430\\u043a, \\u043d\\u0435 \\u0443\\u0441\\u043f\\u0435\\u0432 \\u0437\\u0430\\u043a\\u043e\\u043d\\u0447\\u0438\\u0442\\u044c \\u0440\\u0430\\u0431\\u043e\\u0442\\u0443 \\u0432 \\u043c\\u043e\\u0431\\u0438\\u043b\\u044c\\u043d\\u043e\\u043c \\u043f\\u0440\\u0438\\u043b\\u043e\\u0436\\u0435\\u043d\\u0438\\u0438 \\\"\\u0422-\\u0411\\u0430\\u043d\\u043a\\\", \\u0441 \\u043f\\u043e\\u043c\\u043e\\u0449\\u044c\\u044e \\u043a\\u043e\\u0442\\u043e\\u0440\\u043e\\u0433\\u043e \\u044f \\\"\\u0437\\u0430\\u0433\\u0440\\u0443\\u0437\\u0438\\u043b\\\" \\u0434\\u043e\\u043a\\u0443\\u043c\\u0435\\u043d\\u0442\\u044b \\u043e \\u0414\\u0422\\u041f \\u0438 \\u0444\\u043e\\u0442\\u043e \\u043f\\u043e\\u0432\\u0440\\u0435\\u0436\\u0434\\u0435\\u043d\\u0438\\u0439 \\u0430\\u0432\\u0442\\u043e\\u043c\\u043e\\u0431\\u0438\\u043b\\u044f, \\u043c\\u043d\\u0435 \\u043f\\u0440\\u0438\\u0448\\u043b\\u043e \\u0441\\u043e\\u043e\\u0431\\u0449\\u0435\\u043d\\u0438\\u0435 (\\u0443\\u0432\\u0435\\u0434\\u043e\\u043c\\u043b\\u0435\\u043d\\u0438\\u0435), \\u0432 \\u043a\\u043e\\u0442\\u043e\\u0440\\u043e\\u043c \\u0431\\u044b\\u043b \\u0440\\u0430\\u0441\\u043f\\u0438\\u0441\\u0430\\u043d \\u0432\\u0435\\u0441\\u044c \\u0430\\u043b\\u0433\\u043e\\u0440\\u0438\\u0442\\u043c \\u043c\\u043e\\u0438\\u0445 \\u0434\\u0430\\u043b\\u044c\\u043d\\u0435\\u0439\\u0448\\u0438\\u0445 \\u0434\\u0435\\u0439\\u0441\\u0442\\u0432\\u0438\\u0439 \\u043f\\u043e \\u0443\\u0440\\u0435\\u0433\\u0443\\u043b\\u0438\\u0440\\u043e\\u0432\\u0430\\u043d\\u0438\\u044e \\u0443\\u043a\\u0430\\u0437\\u0430\\u043d\\u043d\\u043e\\u0433\\u043e \\u0441\\u0442\\u0440\\u0430\\u0445\\u043e\\u0432\\u043e\\u0433\\u043e \\u0441\\u043e\\u0431\\u044b\\u0442\\u0438\\u044f. \\u0412\\u0441\\u0435 \\u0431\\u044b\\u043b\\u043e \\u043e\\u043f\\u0438\\u0441\\u0430\\u043d\\u043e \\u043e\\u0447\\u0435\\u043d\\u044c \\u043f\\u043e\\u0434\\u0440\\u043e\\u0431\\u043d\\u043e \\u0438 \\u043f\\u043e\\u043d\\u044f\\u0442\\u043d\\u043e, \\u0447\\u0435\\u0442\\u043a\\u043e \\u0438 \\u043b\\u0430\\u043a\\u043e\\u043d\\u0438\\u0447\\u043d\\u043e.\\u00a0 \\u00a0\\u0417\\u0430\\u0431\\u0435\\u0433\\u0430\\u044f \\u0432\\u043f\\u0435\\u0440\\u0435\\u0434, \\u0445\\u043e\\u0442\\u0435\\u043b\\u043e\\u0441\\u044c \\u0441\\u043a\\u0430\\u0437\\u0430\\u0442\\u044c \\u043e\\u0433\\u0440\\u043e\\u043c\\u043d\\u043e\\u0435 \\u0441\\u043f\\u0430\\u0441\\u0438\\u0431\\u043e \\u0432\\u0441\\u0435\\u043c, \\u043a\\u0442\\u043e \\u0441\\u043e \\u043c\\u043d\\u043e\\u0439 \\u0440\\u0430\\u0431\\u043e\\u0442\\u0430\\u043b, \\u043f\\u043e\\u0442\\u043e\\u043c\\u0443 \\u0447\\u0442\\u043e \\u0441 \\u043f\\u0435\\u0440\\u0432\\u043e\\u0433\\u043e \\u0436\\u0435 \\u0441\\u043e\\u043e\\u0431\\u0449\\u0435\\u043d\\u0438\\u044f \\u0441\\u0442\\u0430\\u043b\\u043e \\u043f\\u043e\\u043d\\u044f\\u0442\\u043d\\u043e, \\u0447\\u0442\\u043e \\u0440\\u0430\\u0431\\u043e\\u0442\\u0430\\u0442\\u044c \\u044f \\u0431\\u0443\\u0434\\u0443 \\u0441 \\u043a\\u043e\\u043c\\u0430\\u043d\\u0434\\u043e\\u0439 \\u043d\\u0430\\u0441\\u0442\\u043e\\u044f\\u0449\\u0438\\u0445 \\u043f\\u0440\\u043e\\u0444\\u0435\\u0441\\u0441\\u0438\\u043e\\u043d\\u0430\\u043b\\u043e\\u0432. \\u041e\\u0441\\u043e\\u0431\\u0430\\u044f \\u0431\\u043b\\u0430\\u0433\\u043e\\u0434\\u0430\\u0440\\u043d\\u043e\\u0441\\u0442\\u044c \\u043c\\u0435\\u043d\\u0435\\u0434\\u0436\\u0435\\u0440\\u0443 \\u043f\\u043e \\u0443\\u0440\\u0435\\u0433\\u0443\\u043b\\u0438\\u0440\\u043e\\u0432\\u0430\\u043d\\u0438\\u044e \\\"\\u0422\\u0438\\u043d\\u044c\\u043a\\u043e\\u0444\\u0444-\\u0421\\u0442\\u0440\\u0430\\u0445\\u043e\\u0432\\u0430\\u043d\\u0438\\u0435\\\" \\u042e\\u043b\\u0438\\u0438 \\u041c., \\u043a\\u043e\\u0442\\u043e\\u0440\\u0430\\u044f \\u043d\\u0430 \\u043f\\u0440\\u043e\\u0442\\u044f\\u0436\\u0435\\u043d\\u0438\\u0438 \\u0432\\u0441\\u0435\\u0433\\u043e \\u0432\\u0440\\u0435\\u043c\\u0435\\u043d\\u0438 \\u0440\\u0430\\u0437\\u0440\\u0435\\u0448\\u0435\\u043d\\u0438\\u044f \\u043c\\u043e\\u0435\\u0433\\u043e \\u0434\\u0435\\u043b\\u0430 \\u0431\\u044b\\u043b\\u0430 \\u0434\\u043e\\u0441\\u0442\\u0443\\u043f\\u043d\\u0430 \\u0434\\u043b\\u044f \\u043a\\u043e\\u043d\\u0441\\u0443\\u043b\\u044c\\u0442\\u0430\\u0446\\u0438\\u0439. \\u041d\\u0438\\u0447\\u0435\\u0433\\u043e \\u043d\\u0435 \\u043d\\u0430\\u0432\\u044f\\u0437\\u044b\\u0432\\u0430\\u044f, \\u043d\\u0435 \\u0433\\u043e\\u0432\\u043e\\u0440\\u044f \\u043b\\u0438\\u0448\\u043d\\u0435\\u0439 \\u0438\\u043d\\u0444\\u043e\\u0440\\u043c\\u0430\\u0446\\u0438\\u0438, \\u043e\\u043d\\u0430 \\u0447\\u0435\\u0442\\u043a\\u043e \\u0438 \\u0430\\u0440\\u0433\\u0443\\u043c\\u0435\\u043d\\u0442\\u0438\\u0440\\u043e\\u0432\\u0430\\u043d\\u043e \\u043e\\u0442\\u0432\\u0435\\u0447\\u0430\\u043b\\u0430 \\u043d\\u0430 \\u0432\\u0441\\u0435 \\u043c\\u043e\\u0438 \\u0432\\u043e\\u043f\\u0440\\u043e\\u0441\\u044b, \\u0434\\u0430\\u0432\\u0430\\u043b\\u0430 \\u0441\\u043e\\u0432\\u0435\\u0442\\u044b \\u043f\\u043e \\u043c\\u043e\\u0438\\u043c \\u0434\\u0430\\u043b\\u044c\\u043d\\u0435\\u0439\\u0448\\u0438\\u043c \\u0434\\u0435\\u0439\\u0441\\u0442\\u0432\\u0438\\u044f\\u043c, \\u043f\\u043e\\u0434\\u0441\\u043a\\u0430\\u0437\\u044b\\u0432\\u0430\\u043b\\u0430 \\u043f\\u043e \\u0441\\u043f\\u043e\\u0441\\u043e\\u0431\\u0430\\u043c \\u0438 \\u0432\\u0430\\u0440\\u0438\\u0430\\u043d\\u0442\\u0430\\u043c \\u0443\\u0440\\u0435\\u0433\\u0443\\u043b\\u0438\\u0440\\u043e\\u0432\\u0430\\u043d\\u0438\\u044f \\u0441\\u0442\\u0440\\u0430\\u0445\\u043e\\u0432\\u043e\\u0433\\u043e \\u0441\\u043b\\u0443\\u0447\\u0430\\u044f, \\u0440\\u0430\\u0437\\u0432\\u0435\\u044f\\u043b\\u0430 \\u0431\\u043e\\u043b\\u044c\\u0448\\u0438\\u043d\\u0441\\u0442\\u0432\\u043e \\u043c\\u043e\\u0438\\u0445 \\u0441\\u043e\\u043c\\u043d\\u0435\\u043d\\u0438\\u0439, \\u043e\\u0431\\u0441\\u0443\\u0434\\u0438\\u043b\\u0430 \\u0441\\u043e \\u043c\\u043d\\u043e\\u0439 \\u0434\\u043e\\u043f\\u043e\\u043b\\u043d\\u0438\\u0442\\u0435\\u043b\\u044c\\u043d\\u0443\\u044e \\u0440\\u0430\\u0431\\u043e\\u0442\\u0443 \\u044d\\u043a\\u0441\\u043f\\u0435\\u0440\\u0442\\u0430, \\u043a\\u043e\\u0442\\u043e\\u0440\\u043e\\u0433\\u043e \\u043c\\u043e\\u0436\\u043d\\u043e \\u0431\\u044b\\u043b\\u043e \\u043f\\u0440\\u0438\\u0432\\u043b\\u0435\\u0447\\u044c \\u0434\\u043b\\u044f \\u043e\\u0446\\u0435\\u043d\\u043a\\u0438 \\u0441\\u043a\\u0440\\u044b\\u0442\\u044b\\u0445 \\u043f\\u043e\\u0432\\u0440\\u0435\\u0436\\u0434\\u0435\\u043d\\u0438\\u0439 \\u0430\\u0432\\u0442\\u043e\\u043c\\u043e\\u0431\\u0438\\u043b\\u044f, \\u043f\\u043e\\u043b\\u0443\\u0447\\u0435\\u043d\\u043d\\u044b\\u0445 \\u043f\\u0440\\u0438 \\u0414\\u0422\\u041f, \\u0431\\u044b\\u043b\\u0430 \\u043e\\u0447\\u0435\\u043d\\u044c \\u043a\\u043e\\u043c\\u043f\\u0435\\u0442\\u0435\\u043d\\u0442\\u043d\\u043e\\u0439, \\u0432\\u0435\\u0436\\u043b\\u0438\\u0432\\u043e\\u0439 \\u0438 \\u043a\\u043e\\u0440\\u0440\\u0435\\u043a\\u0442\\u043d\\u043e\\u0439. \\u041f\\u0440\\u0435\\u0434\\u043b\\u043e\\u0436\\u0435\\u043d\\u043d\\u044b\\u0439 \\u043c\\u043d\\u043e\\u044e \\u0432\\u0430\\u0440\\u0438\\u0430\\u043d\\u0442 \\u0432\\u0437\\u0430\\u0438\\u043c\\u043e\\u043e\\u0442\\u043d\\u043e\\u0448\\u0435\\u043d\\u0438\\u0439 \\u043f\\u043e \\u0444\\u043e\\u0440\\u043c\\u0435 \\u0434\\u043e\\u0432\\u0435\\u0440\\u0435\\u043d\\u043d\\u043e\\u0441\\u0442\\u0438 \\u043e\\u0442 \\u0441\\u043e\\u0431\\u0441\\u0442\\u0432\\u0435\\u043d\\u043d\\u0438\\u043a\\u0430 \\u0430\\u0432\\u0442\\u043e\\u043c\\u043e\\u0431\\u0438\\u043b\\u044f \\u043a\\u0440\\u0430\\u0439\\u043d\\u0435 \\u043e\\u043f\\u0435\\u0440\\u0430\\u0442\\u0438\\u0432\\u043d\\u043e \\u043e\\u0431\\u0441\\u0443\\u0434\\u0438\\u043b\\u0430 \\u0441 \\u0440\\u0443\\u043a\\u043e\\u0432\\u043e\\u0434\\u0441\\u0442\\u0432\\u043e\\u043c \\u043a\\u043e\\u043c\\u043f\\u0430\\u043d\\u0438\\u0438, \\u043a\\u043e\\u0442\\u043e\\u0440\\u043e\\u0435 \\u043e\\u0434\\u043e\\u0431\\u0440\\u0438\\u043b\\u043e \\u0442\\u0430\\u043a\\u043e\\u0439 \\u0444\\u043e\\u0440\\u043c\\u0430\\u0442. \\u00a0 \\u00a0\\u0421\\u043f\\u0430\\u0441\\u0438\\u0431\\u043e \\u0435\\u0439 \\u0437\\u0430 \\u0435\\u0435 \\u043d\\u0435\\u043f\\u0440\\u043e\\u0441\\u0442\\u0443\\u044e, \\u043d\\u043e \\u043e\\u0447\\u0435\\u043d\\u044c \\u0432\\u0430\\u0436\\u043d\\u0443\\u044e, \\u043d\\u0443\\u0436\\u043d\\u0443\\u044e \\u0438 \\u0432\\u043e\\u0441\\u0442\\u0440\\u0435\\u0431\\u043e\\u0432\\u0430\\u043d\\u043d\\u0443\\u044e \\u0440\\u0430\\u0431\\u043e\\u0442\\u0443. \\u0418\\u043c\\u0435\\u043d\\u043d\\u043e \\u043f\\u043e\\u0441\\u043b\\u0435 \\u043d\\u0435\\u0441\\u043a\\u043e\\u043b\\u044c\\u043a\\u0438\\u0445 \\u043f\\u0435\\u0440\\u0432\\u044b\\u0445 \\u043e\\u0431\\u0449\\u0435\\u043d\\u0438\\u0439 \\u0441 \\u043d\\u0435\\u0439, \\u043f\\u043e\\u044f\\u0432\\u0438\\u043b\\u043e\\u0441\\u044c \\u0442\\u0430\\u043a\\u043e\\u0435 \\u0447\\u0443\\u0432\\u0441\\u0442\\u0432\\u043e, \\u0447\\u0442\\u043e \\u043f\\u0440\\u0438\\u0435\\u043c\\u043b\\u0435\\u043c\\u044b\\u0439 \\u0432\\u0430\\u0440\\u0438\\u0430\\u043d\\u0442 \\u043d\\u0435\\u043e\\u0431\\u0445\\u043e\\u0434\\u0438\\u043c\\u043e\\u0433\\u043e \\u0440\\u0435\\u0448\\u0435\\u043d\\u0438\\u044f \\u0432 \\u043c\\u043e\\u0435\\u0439 \\u043d\\u0435\\u043f\\u0440\\u043e\\u0441\\u0442\\u043e\\u0439 \\u0441\\u0438\\u0442\\u0443\\u0430\\u0446\\u0438\\u0438 \\u043c\\u044b \\u043e\\u0431\\u044f\\u0437\\u0430\\u0442\\u0435\\u043b\\u044c\\u043d\\u043e \\u043d\\u0430\\u0439\\u0434\\u0435\\u043c.\\u00a0 \\u00a0\\u0422\\u0430\\u043a\\u0436\\u0435 \\u0445\\u043e\\u0442\\u0435\\u043b\\u043e\\u0441\\u044c \\u043f\\u043e\\u0431\\u043b\\u0430\\u0433\\u043e\\u0434\\u0430\\u0440\\u0438\\u0442\\u044c \\u0435\\u0449\\u0435 \\u043e\\u0434\\u043d\\u043e\\u0433\\u043e \\u043f\\u0440\\u0435\\u0434\\u0441\\u0442\\u0430\\u0432\\u0438\\u0442\\u0435\\u043b\\u044f \\\"\\u0422\\u0438\\u043d\\u044c\\u043a\\u043e\\u0444\\u0444-\\u0421\\u0442\\u0440\\u0430\\u0445\\u043e\\u0432\\u0430\\u043d\\u0438\\u0435\\\" \\u2013 \\u041e\\u043b\\u044c\\u0433\\u0443 \\u0413., \\u043a\\u043e\\u0442\\u043e\\u0440\\u0430\\u044f \\u043f\\u043e\\u0441\\u043b\\u0435 \\u043c\\u043e\\u0435\\u0439 \\u0434\\u043e\\u043f\\u043e\\u043b\\u043d\\u0438\\u0442\\u0435\\u043b\\u044c\\u043d\\u043e\\u0439 \\u043f\\u0440\\u043e\\u0441\\u044c\\u0431\\u044b \\u043e\\u0447\\u0435\\u043d\\u044c \\u043e\\u043f\\u0435\\u0440\\u0430\\u0442\\u0438\\u0432\\u043d\\u043e \\u0441\\u043a\\u043e\\u0440\\u0440\\u0435\\u043a\\u0442\\u0438\\u0440\\u043e\\u0432\\u0430\\u043b\\u0430 \\u0441\\u0432\\u043e\\u0439 \\u0433\\u0440\\u0430\\u0444\\u0438\\u043a \\u0438 \\u043c\\u0430\\u0440\\u0448\\u0440\\u0443\\u0442 \\u0438 \\u0434\\u043e\\u0441\\u0442\\u0430\\u0432\\u0438\\u043b\\u0430 \\u043c\\u043d\\u0435 \\u0434\\u043e\\u043a\\u0443\\u043c\\u0435\\u043d\\u0442\\u044b, \\u0441\\u043e\\u0433\\u043b\\u0430\\u0448\\u0435\\u043d\\u0438\\u0435 \\u0434\\u043b\\u044f \\u043e\\u043a\\u043e\\u043d\\u0447\\u0430\\u0442\\u0435\\u043b\\u044c\\u043d\\u043e\\u0433\\u043e \\u043f\\u043e\\u0434\\u043f\\u0438\\u0441\\u0430\\u043d\\u0438\\u044f \\u0438 \\u0437\\u0430\\u0432\\u0435\\u0440\\u0448\\u0435\\u043d\\u0438\\u044f \\u043e\\u0444\\u043e\\u0440\\u043c\\u043b\\u0435\\u043d\\u0438\\u044f \\u0432\\u043e\\u0437\\u043c\\u0435\\u0449\\u0435\\u043d\\u0438\\u044f \\u043f\\u043e \\u0441\\u0442\\u0440\\u0430\\u0445\\u043e\\u0432\\u043e\\u043c\\u0443 \\u0441\\u043b\\u0443\\u0447\\u0430\\u044e. \\u0410 \\u0442\\u0430\\u043a\\u0436\\u0435 \\u0434\\u043e\\u043f\\u043e\\u043b\\u043d\\u0438\\u0442\\u0435\\u043b\\u044c\\u043d\\u043e \\u043f\\u0440\\u043e\\u043a\\u043e\\u043d\\u0441\\u0443\\u043b\\u044c\\u0442\\u0438\\u0440\\u043e\\u0432\\u0430\\u043b\\u0430 \\u043f\\u043e \\\"\\u043f\\u0440\\u043e\\u0434\\u0443\\u043a\\u0442\\u0430\\u043c\\\", \\u043a\\u043e\\u0442\\u043e\\u0440\\u044b\\u0435 \\u043f\\u0440\\u0435\\u0434\\u043b\\u0430\\u0433\\u0430\\u0435\\u0442 \\u0441\\u0432\\u043e\\u0438\\u043c \\u043a\\u043b\\u0438\\u0435\\u043d\\u0442\\u0430\\u043c \\\"\\u0422-\\u0411\\u0430\\u043d\\u043a\\\".\\u00a0\\u00a0\\u00a0\\u00a0 \\u00a0\\u0421\\u043f\\u0430\\u0441\\u0438\\u0431\\u043e \\u0432\\u0441\\u0435\\u043c, \\u043a\\u0442\\u043e \\u0441 \\u043c\\u043d\\u043e\\u0439 \\u0440\\u0430\\u0431\\u043e\\u0442\\u0430\\u043b! \\u0418\\u043c\\u0435\\u043d\\u043d\\u043e \\u0442\\u0430\\u043a\\u0438\\u0435 \\u0432\\u044b\\u0441\\u043e\\u043a\\u043e\\u043a\\u043b\\u0430\\u0441\\u0441\\u043d\\u044b\\u0435 \\u0441\\u043f\\u0435\\u0446\\u0438\\u0430\\u043b\\u0438\\u0441\\u0442\\u044b \\u0441\\u043e\\u0437\\u0434\\u0430\\u044e\\u0442 \\u043f\\u043e\\u043b\\u043e\\u0436\\u0438\\u0442\\u0435\\u043b\\u044c\\u043d\\u044b\\u0439 \\u0438\\u043c\\u0438\\u0434\\u0436 \\u043a\\u043e\\u043c\\u043f\\u0430\\u043d\\u0438\\u0438 \\u0438, \\u0432 \\u043a\\u043e\\u043d\\u0435\\u0447\\u043d\\u043e\\u043c \\u0438\\u0442\\u043e\\u0433\\u0435, \\u043f\\u043e\\u043c\\u043e\\u0433\\u0430\\u044e\\u0442 \\u0435\\u0439 \\u043f\\u0440\\u0438\\u0432\\u043b\\u0435\\u043a\\u0430\\u0442\\u044c \\u043d\\u043e\\u0432\\u044b\\u0445 \\u043a\\u043b\\u0438\\u0435\\u043d\\u0442\\u043e\\u0432. \\u0425\\u043e\\u0442\\u0435\\u043b\\u043e\\u0441\\u044c, \\u0447\\u0442\\u043e\\u0431\\u044b \\u0431\\u044b \\u0440\\u0443\\u043a\\u043e\\u0432\\u043e\\u0434\\u0441\\u0442\\u0432\\u043e \\u043a\\u043e\\u043c\\u043f\\u0430\\u043d\\u0438\\u0438 \\u043e\\u0442\\u043c\\u0435\\u0442\\u0438\\u043b\\u043e \\u043d\\u0430\\u0441\\u0442\\u043e\\u044f\\u0449\\u0438\\u0439 \\u043f\\u0440\\u043e\\u0444\\u0435\\u0441\\u0441\\u0438\\u043e\\u043d\\u0430\\u043b\\u0438\\u0437\\u043c \\u0438 \\u0434\\u043e\\u0431\\u0440\\u043e\\u0441\\u043e\\u0432\\u0435\\u0441\\u0442\\u043d\\u043e\\u0435 \\u043e\\u0442\\u043d\\u043e\\u0448\\u0435\\u043d\\u0438\\u0435 \\u0443\\u043a\\u0430\\u0437\\u0430\\u043d\\u043d\\u044b\\u0445 \\u0441\\u043e\\u0442\\u0440\\u0443\\u0434\\u043d\\u0438\\u043a\\u043e\\u0432 \\u043a \\u0441\\u0432\\u043e\\u0435\\u043c\\u0443 \\u0434\\u0435\\u043b\\u0443, \\u043f\\u043e\\u043e\\u0449\\u0440\\u0438\\u0432 \\u0438\\u0445 \\u0437\\u0430 \\u043f\\u043e\\u043b\\u0435\\u0437\\u043d\\u044b\\u0439 \\u0438 \\u043d\\u0435\\u043f\\u0440\\u0435\\u0440\\u044b\\u0432\\u043d\\u044b\\u0439 \\u0442\\u0440\\u0443\\u0434!\",\n          \"\\u041f\\u043e\\u043f\\u0430\\u043b\\u0430 \\u0432 \\u0414\\u0422\\u041f 20.02.24. \\u042f \\u0432\\u0438\\u043d\\u043e\\u0432\\u043d\\u0438\\u043a. \\u0412 \\u043f\\u0440\\u0438\\u043b\\u043e\\u0436\\u0435\\u043d\\u0438\\u0438 \\u0422-\\u0431\\u0430\\u043d\\u043a\\u0430 \\u043e\\u0442\\u043e\\u0431\\u0440\\u0430\\u0436\\u0430\\u043b\\u0438\\u0441\\u044c 2 \\u043f\\u043e\\u043b\\u0438\\u0441\\u0430 (\\u0438 \\u0432\\u0432\\u0435\\u0440\\u0445\\u0443 \\u0431\\u044b\\u043b \\u0441\\u0440\\u043e\\u043a \\u0443 \\u043e\\u0434\\u043d\\u043e\\u0433\\u043e \\u0434\\u043e \\u0430\\u043f\\u0440\\u0435\\u043b\\u044f 24 \\u0443 \\u0432\\u0442\\u043e\\u0440\\u043e\\u0433\\u043e \\u0434\\u043e \\u043d\\u043e\\u044f\\u0431\\u0440\\u044f 24), \\u0442.\\u043a \\u043d\\u0435 \\u043c\\u043e\\u0433\\u043b\\u0430 \\u043f\\u043e\\u043d\\u044f\\u0442\\u044c \\u043a\\u0430\\u043a\\u043e\\u0439 \\u0438\\u0437 \\u043d\\u0438\\u0445 \\u043d\\u0435\\u043e\\u0431\\u0445\\u043e\\u0434\\u0438\\u043c \\u043f\\u0440\\u0435\\u0434\\u043e\\u0441\\u0442\\u0430\\u0432\\u0438\\u043b\\u0430 \\u0438\\u0445 \\u0441\\u043e\\u0442\\u0440\\u0443\\u0434\\u043d\\u0438\\u043a\\u0430\\u043c \\u0433\\u0438\\u0431\\u0434\\u0434 \\u0447\\u0442\\u043e\\u0431\\u044b \\u043e\\u043d\\u0438 \\u0441\\u0430\\u043c\\u0438 \\u0440\\u0430\\u0437\\u043e\\u0431\\u0440\\u0430\\u043b\\u0438\\u0441\\u044c \\u0438 \\u043f\\u0440\\u043e\\u0432\\u0435\\u0440\\u0438\\u043b\\u0438 \\u043a\\u0430\\u043a\\u043e\\u0439 \\u043a\\u043e\\u043d\\u043a\\u0440\\u0435\\u0442\\u043d\\u043e \\u043d\\u0443\\u0436\\u0435\\u043d. \\u041e\\u043d\\u0438 \\u0432\\u043d\\u043e\\u0441\\u0438\\u043b\\u0438 \\u0434\\u0430\\u043d\\u043d\\u044b\\u0435 \\u043f\\u043e\\u043b\\u0438\\u0441\\u0430 \\u0438 \\u0441\\u043e\\u043e\\u0442\\u0432\\u0435\\u0442\\u0441\\u0442\\u0432\\u0435\\u043d\\u043d\\u043e \\u0432\\u044b\\u043f\\u0438\\u0441\\u044b\\u0432\\u0430\\u043b\\u0438 \\u043d\\u043e\\u043c\\u0435\\u0440 \\u043e\\u0441\\u0430\\u0433\\u043e. \\u0421\\u043f\\u0443\\u0441\\u0442\\u044f \\u0432\\u043d\\u0438\\u043c\\u0430\\u043d\\u0438\\u0435 6!!!! \\u043c\\u0435\\u0441\\u044f\\u0446\\u0435\\u0432 \\u043c\\u043d\\u0435 \\u043f\\u0440\\u0438\\u0445\\u043e\\u0434\\u0438\\u0442 \\u0434\\u043e\\u0441\\u0443\\u0434\\u0435\\u0431\\u043d\\u0430\\u044f \\u043f\\u0440\\u0435\\u0442\\u0435\\u043d\\u0437\\u0438\\u044f \\u043f\\u043e \\u0443\\u0431\\u044b\\u0442\\u043a\\u0443 \\u2116 OSG-24-068915 \\u043d\\u0430 40 \\u0442\\u044b\\u0441\\u044f\\u0447 \\u043e\\u0442 \\u0422-\\u0431\\u0430\\u043d\\u043a\\u0430!!! \\u042f\\u043a\\u043e\\u0431\\u044b \\u043c\\u043e\\u0439 \\u043f\\u043e\\u043b\\u0438\\u0441 \\u0431\\u044b\\u043b \\u043f\\u0440\\u043e\\u0441\\u0440\\u043e\\u0447\\u0435\\u043d \\u043d\\u0430 \\u043c\\u043e\\u043c\\u0435\\u043d\\u0442 \\u0414\\u0422\\u041f \\u0438 \\u0442\\u0443 \\u0441\\u0443\\u043c\\u043c\\u0443 \\u043a\\u043e\\u0442\\u043e\\u0440\\u0443\\u044e \\u043e\\u043d\\u0438 \\u0432\\u043e\\u0437\\u043c\\u0435\\u0441\\u0442\\u0438\\u043b\\u0438 \\u043f\\u043e\\u0442\\u0435\\u0440\\u043f\\u0435\\u0432\\u0448\\u0438\\u043c\\u0443 \\u043e\\u043d\\u0438 \\u0442\\u0440\\u0435\\u0431\\u0443\\u044e\\u0442 \\u0441 \\u043c\\u0435\\u043d\\u044f!!! \\u041f\\u0440\\u0438 \\u0442\\u043e\\u043c \\u0447\\u0442\\u043e \\u043e\\u043d\\u0438 \\u043f\\u0440\\u0435\\u043a\\u0440\\u0430\\u0441\\u043d\\u043e \\u0432\\u0438\\u0434\\u044f\\u0442 \\u0447\\u0442\\u043e \\u0432 \\u043f\\u0440\\u0438\\u043b\\u043e\\u0436\\u0435\\u043d\\u0438\\u0438 \\u0435\\u0441\\u0442\\u044c \\u043f\\u043e\\u043b\\u0438\\u0441 \\u043a\\u043e\\u0442\\u043e\\u0440\\u044b\\u0439 \\u0434\\u0435\\u0439\\u0441\\u0442\\u0432\\u0443\\u0435\\u0442 \\u0441 \\u043d\\u043e\\u044f\\u0431\\u0440\\u044f 23 \\u0433\\u043e\\u0434\\u0430 \\u043f\\u043e \\u043d\\u043e\\u044f\\u0431\\u0440\\u044c 24!!! \\u0421\\u043b\\u0435\\u0434\\u043e\\u0432\\u0430\\u0442\\u0435\\u043b\\u044c\\u043d\\u043e \\u0441\\u043e\\u0442\\u0440\\u0443\\u0434\\u043d\\u0438\\u043a\\u0438 \\u0433\\u0438\\u0431\\u0434\\u0434 \\u043e\\u0448\\u0438\\u0431\\u043b\\u0438\\u0441\\u044c \\u0432 \\u043d\\u043e\\u043c\\u0435\\u0440\\u0435 \\u043f\\u0440\\u0438 \\u0437\\u0430\\u043f\\u043e\\u043b\\u043d\\u0435\\u043d\\u0438\\u0438 \\u0438 \\u0443\\u043a\\u0430\\u0437\\u0430\\u043b\\u0438 \\u0442\\u043e\\u0442 \\u0433\\u0434\\u0435 \\u0432\\u0432\\u0435\\u0440\\u0445\\u0443 \\u0431\\u044b\\u043b\\u0430 \\u0434\\u0430\\u0442\\u0430 \\u043f\\u043e \\u0430\\u043f\\u0440\\u0435\\u043b\\u044c 24, \\u0445\\u043e\\u0442\\u044f \\u043a\\u0430\\u043a \\u044f \\u0441\\u0435\\u0439\\u0447\\u0430\\u0441 \\u043f\\u043e\\u043d\\u0438\\u043c\\u0430\\u044e \\u0434\\u043e\\u043b\\u0436\\u043d\\u044b \\u0431\\u044b\\u043b\\u0438 \\u0443\\u0447\\u0435\\u0441\\u0442\\u044c \\u0434\\u0430\\u0442\\u044b \\u0441\\u043d\\u0438\\u0437\\u0443 \\u0433\\u0434\\u0435 \\u0441\\u0440\\u043e\\u043a \\u0434\\u0435\\u0439\\u0441\\u0442\\u0432\\u0438\\u044f, \\u043d\\u043e \\u0442\\u043e\\u0433\\u0434\\u0430 \\u0432\\u043e\\u0437\\u043d\\u0438\\u043a\\u0430\\u044e\\u0442 \\u0441\\u043b\\u0435\\u0434\\u0443\\u044e\\u0449\\u0438\\u0435 \\u0432\\u043e\\u043f\\u0440\\u043e\\u0441\\u044b: 1. \\u041d\\u0430 \\u043a\\u0430\\u043a\\u043e\\u043c \\u043e\\u0441\\u043d\\u043e\\u0432\\u0430\\u043d\\u0438\\u0438 \\u043f\\u0440\\u043e\\u0438\\u0437\\u0432\\u043e\\u0434\\u0438\\u043b\\u0438\\u0441\\u044c \\u0432\\u044b\\u043f\\u043b\\u0430\\u0442\\u0430 \\u043f\\u043e\\u0442\\u0435\\u0440\\u043f\\u0435\\u0432\\u0448\\u0438\\u043c\\u0443 \\u0435\\u0441\\u043b\\u0438 \\u043f\\u043e\\u043b\\u0438\\u0441 \\u0443\\u043a\\u0430\\u0437\\u0430\\u043d \\u0431\\u044b\\u043b \\u0441\\u0442\\u0430\\u0440\\u044b\\u0439 \\u043e\\u0441\\u0430\\u0433\\u043e \\u0438 \\u043e\\u043d \\u0438\\u0441\\u0442\\u0451\\u043a \\u043d\\u0430 \\u043c\\u043e\\u043c\\u0435\\u043d\\u0442 \\u0414\\u0422\\u041f?2. \\u0421\\u043e\\u0442\\u0440\\u0443\\u0434\\u043d\\u0438\\u043a\\u0438 \\u043f\\u0440\\u0435\\u043a\\u0440\\u0430\\u0441\\u043d\\u043e \\u0432\\u0438\\u0434\\u0435\\u043b\\u0438 \\u043d\\u0430\\u043b\\u0438\\u0447\\u0438\\u0435 \\u0432 \\u043f\\u0440\\u0438\\u043b\\u043e\\u0436\\u0435\\u043d\\u0438\\u0438 \\u0422-\\u0431\\u0430\\u043d\\u043a\\u0430 2-\\u0445 \\u043f\\u043b\\u044e\\u0441\\u043e\\u0432 \\u0441\\u0442\\u0440\\u0430\\u0445\\u043e\\u0432\\u0430\\u043d\\u0438\\u044f! 1 \\u043f\\u043e\\u043b\\u0438\\u0441 \\u0434\\u0435\\u0439\\u0441\\u0442\\u0432\\u0443\\u044e\\u0449\\u0438\\u0439, 2 \\u043f\\u043e\\u043b\\u0438\\u0441 \\u0441 \\u0438\\u0441\\u0442\\u0435\\u043a\\u0448\\u0438\\u043c \\u0441\\u0440\\u043e\\u043a\\u043e\\u043c \\u0432\\u0438\\u0441\\u0435\\u043b \\u0432 \\u043f\\u0440\\u0438\\u043b\\u043e\\u0436\\u0435\\u043d\\u0438\\u0438 \\u0432\\u043f\\u043b\\u043e\\u0442\\u044c \\u0434\\u043e \\u0430\\u043f\\u0440\\u0435\\u043b\\u044f 24 \\u0433\\u043e\\u0434\\u0430, \\u043a\\u043e\\u0433\\u0434\\u0430 \\u0443\\u0436\\u0435 \\u043f\\u0440\\u043e\\u0448\\u043b\\u0438 \\u0432\\u0441\\u0435 \\u0432\\u044b\\u043f\\u043b\\u0430\\u0442\\u044b \\u043f\\u043e\\u0442\\u0435\\u0440\\u043f\\u0435\\u0432\\u0448\\u0435\\u0439 \\u0441\\u0442\\u043e\\u0440\\u043e\\u043d\\u0435!!! \\u041f\\u043e \\u0437\\u0430\\u043a\\u043e\\u043d\\u0443 \\u043d\\u043e\\u043c\\u0435\\u0440 \\u043f\\u043e\\u043b\\u0438\\u0441\\u0430\\u00a0 \\u0441\\u043f\\u043e\\u043a\\u043e\\u0439\\u043d\\u043e \\u043c\\u043e\\u0436\\u043d\\u043e \\u0438\\u0441\\u043f\\u0440\\u0430\\u0432\\u0438\\u0442\\u044c \\u0432 \\u043f\\u0440\\u043e\\u0442\\u043e\\u043a\\u043e\\u043b\\u0435 \\u0414\\u0422\\u041f \\u0434\\u0430\\u0436\\u0435 \\u0447\\u0435\\u0440\\u0435\\u0437 \\u0432\\u0440\\u0435\\u043c\\u044f!\\u00a03. \\u041f\\u043e\\u0447\\u0435\\u043c\\u0443 \\u0431\\u0430\\u043d\\u043a \\u043d\\u0435 \\u043e\\u0431\\u0440\\u0430\\u0442\\u0438\\u043b\\u0441\\u044f \\u0437\\u0430 \\u043f\\u0440\\u0435\\u0434\\u043e\\u0441\\u0442\\u0430\\u0432\\u043b\\u0435\\u043d\\u0438\\u0435\\u043c \\u043a\\u043e\\u0440\\u0440\\u0435\\u043a\\u0442\\u043d\\u044b\\u0445 \\u0434\\u0430\\u043d\\u043d\\u044b\\u0445 \\u0434\\u043e \\u0432\\u044b\\u043f\\u043b\\u0430\\u0442\\u044b \\u043f\\u043e\\u0441\\u0442\\u0440\\u0430\\u0434\\u0430\\u0432\\u0448\\u0435\\u043c\\u0443??? \\u0411\\u0430\\u043d\\u043a \\u0441\\u0430\\u043c\\u043e\\u0441\\u0442\\u043e\\u044f\\u0442\\u0435\\u043b\\u044c\\u043d\\u043e \\u043c\\u043e\\u0433 \\u0432\\u043d\\u0435\\u0441\\u0442\\u0438 \\u043a\\u043e\\u0440\\u0440\\u0435\\u043a\\u0442\\u043d\\u044b\\u0435 \\u0434\\u0430\\u043d\\u043d\\u044b\\u0435, \\u0438\\u043b\\u0438 \\u043f\\u043e\\u043f\\u0440\\u043e\\u0441\\u0438\\u0442\\u044c \\u043f\\u043e\\u0442\\u0435\\u0440\\u043f\\u0435\\u0432\\u0448\\u0435\\u0433\\u043e \\u043f\\u0440\\u0435\\u0434\\u043e\\u0441\\u0442\\u0430\\u0432\\u0438\\u0442\\u044c \\u0434\\u0435\\u0439\\u0441\\u0442\\u0432\\u0443\\u044e\\u0449\\u0438\\u0439 \\u043f\\u043e\\u043b\\u0438\\u0441 \\u043e\\u0441\\u0430\\u0433\\u043e \\u0442.\\u043a \\u043c\\u044b \\u0431\\u044b\\u043b\\u0438 \\u0441 \\u043d\\u0438\\u043c \\u043d\\u0430 \\u0441\\u0432\\u044f\\u0437\\u0438 \\u0438 \\u043e\\u043d \\u0443\\u043a\\u0430\\u0437\\u0430\\u043b \\u0447\\u0442\\u043e \\u0432\\u0441\\u0435 \\u0432\\u044b\\u043f\\u043b\\u0430\\u0442\\u044b \\u043f\\u0440\\u043e\\u0448\\u043b\\u0438 \\u0431\\u0435\\u0437 \\u043f\\u0440\\u043e\\u0431\\u043b\\u0435\\u043c \\u0438 \\u043d\\u0435\\u0442 \\u043d\\u0435\\u043e\\u0431\\u0445\\u043e\\u0434\\u0438\\u043c\\u043e\\u0441\\u0442\\u0438 \\u043f\\u0440\\u0435\\u0434\\u043e\\u0441\\u0442\\u0430\\u0432\\u043b\\u044f\\u0442\\u044c \\u0434\\u043e\\u043f\\u043e\\u043b\\u043d\\u0438\\u0442\\u0435\\u043b\\u044c\\u043d\\u044b\\u0435 \\u0434\\u0430\\u043d\\u043d\\u044b\\u0435 \\u043f\\u043e \\u0434\\u0442\\u043f, \\u0442\\u043a \\u0438\\u0445 \\u043d\\u0438\\u043a\\u0442\\u043e \\u043d\\u0435 \\u0437\\u0430\\u043f\\u0440\\u0430\\u0448\\u0438\\u0432\\u0430\\u043b!\\u00a0\\u0421\\u043e\\u0437\\u0434\\u0430\\u0451\\u0442\\u0441\\u044f \\u0432\\u043f\\u0435\\u0447\\u0430\\u0442\\u043b\\u0435\\u043d\\u0438\\u0435 \\u0447\\u0442\\u043e \\u0431\\u0430\\u043d\\u043a \\u043d\\u0430\\u043c\\u0435\\u0440\\u0435\\u043d\\u043d\\u043e \\u0438\\u0433\\u043d\\u043e\\u0440\\u0438\\u0440\\u043e\\u0432\\u0430\\u043b \\u043e\\u0447\\u0435\\u0432\\u0438\\u0434\\u043d\\u0443\\u044e \\u043e\\u0448\\u0438\\u0431\\u043a\\u0443 \\u0432 \\u043f\\u0440\\u043e\\u0442\\u043e\\u043a\\u043e\\u043b\\u0435 \\u0438 \\u043d\\u0435 \\u0441\\u043e\\u043e\\u0431\\u0449\\u0438\\u043b \\u043e\\u0431 \\u044d\\u0442\\u043e\\u043c \\u043a\\u043b\\u0438\\u0435\\u043d\\u0442\\u0443!\\u041f\\u0440\\u043e\\u0448\\u0443 \\u043f\\u0438\\u0441\\u044c\\u043c\\u0435\\u043d\\u043d\\u043e \\u043e\\u0442\\u043e\\u0437\\u0432\\u0430\\u0442\\u044c \\u043f\\u0440\\u0435\\u0442\\u0435\\u043d\\u0437\\u0438\\u044e \\u0438 \\u0440\\u0435\\u0448\\u0438\\u0442\\u044c \\u0432\\u043e\\u043f\\u0440\\u043e\\u0441!\",\n          \"\\u041a\\u0430\\u043a \\u0445\\u043e\\u0440\\u043e\\u0448\\u043e, \\u0447\\u0442\\u043e \\u0432 \\u0441\\u0432\\u043e\\u0435 \\u0432\\u0440\\u0435\\u043c\\u044f \\u043e\\u0444\\u043e\\u0440\\u043c\\u0438\\u043b\\u0430 \\u041e\\u0421\\u0410\\u0413\\u041e \\u0432 \\u044d\\u0442\\u043e\\u0439 \\u043a\\u043e\\u043c\\u043f\\u0430\\u043d\\u0438\\u0438. \\u041d\\u0430 \\u0441\\u0430\\u0439\\u0442\\u0435 \\u043e\\u0444\\u043e\\u0440\\u043c\\u043b\\u044f\\u043b\\u0430, \\u043d\\u043e \\u0434\\u043e\\u043f\\u043e\\u043b\\u043d\\u0438\\u0442\\u0435\\u043b\\u044c\\u043d\\u043e \\u043a\\u043e\\u043d\\u0441\\u0443\\u043b\\u044c\\u0442\\u0438\\u0440\\u043e\\u0432\\u0430\\u043b\\u0430\\u0441\\u044c \\u0438 \\u0441 \\u043c\\u0435\\u043d\\u0435\\u0434\\u0436\\u0435\\u0440\\u043e\\u043c. \\u041f\\u043e\\u043f\\u0430\\u043b\\u0430 \\u0432 \\u0414\\u0422\\u041f \\u043d\\u0435\\u0434\\u0430\\u0432\\u043d\\u043e, \\u0442\\u0430\\u043a \\u043a\\u0430\\u043a \\u043b\\u043e\\u043f\\u043d\\u0443\\u043b\\u043e \\u043a\\u043e\\u043b\\u0435\\u0441\\u043e \\u043f\\u0440\\u044f\\u043c\\u043e \\u0432\\u043e \\u0432\\u0440\\u0435\\u043c\\u044f \\u0434\\u0432\\u0438\\u0436\\u0435\\u043d\\u0438\\u044f. \\u041b\\u044e\\u0434\\u0438 \\u043d\\u0435 \\u043f\\u043e\\u0441\\u0442\\u0440\\u0430\\u0434\\u0430\\u043b\\u0438, \\u0430 \\u043c\\u0430\\u0448\\u0438\\u043d\\u0430\\u043c \\u0434\\u043e\\u0441\\u0442\\u0430\\u043b\\u043e\\u0441\\u044c \\u2013 \\u0438 \\u043c\\u043e\\u0435\\u0439, \\u0438 \\u0432\\u0442\\u043e\\u0440\\u043e\\u0433\\u043e \\u0443\\u0447\\u0430\\u0441\\u0442\\u043d\\u0438\\u043a\\u0430. \\u0421\\u0440\\u0430\\u0437\\u0443 \\u0432 \\u043f\\u0440\\u0438\\u043b\\u043e\\u0436\\u0435\\u043d\\u0438\\u0438 \\u043e\\u0441\\u0442\\u0430\\u0432\\u0438\\u043b\\u0430 \\u0437\\u0430\\u044f\\u0432\\u043a\\u0443 \\u043e \\u0441\\u0442\\u0440\\u0430\\u0445\\u043e\\u0432\\u043e\\u043c \\u0441\\u043b\\u0443\\u0447\\u0430\\u0435. \\u0421\\u043e \\u043c\\u043d\\u043e\\u0439 \\u0441\\u0432\\u044f\\u0437\\u0430\\u043b\\u0441\\u044f \\u043c\\u0435\\u043d\\u0435\\u0434\\u0436\\u0435\\u0440, \\u043a\\u043e\\u0442\\u043e\\u0440\\u044b\\u0439 \\u0438 \\u043e\\u0431\\u044a\\u044f\\u0441\\u043d\\u0438\\u043b, \\u0447\\u0442\\u043e \\u043c\\u043d\\u0435 \\u043d\\u0443\\u0436\\u043d\\u043e \\u0434\\u0435\\u043b\\u0430\\u0442\\u044c \\u0434\\u0430\\u043b\\u044c\\u0448\\u0435. \\u0421\\u043b\\u0435\\u0434\\u0443\\u044f \\u0438\\u043d\\u0441\\u0442\\u0440\\u0443\\u043a\\u0446\\u0438\\u044f\\u043c, \\u0432\\u044b\\u043f\\u043e\\u043b\\u043d\\u0438\\u043b\\u0430 \\u0432\\u0441\\u0435 \\u0434\\u0435\\u0439\\u0441\\u0442\\u0432\\u0438\\u044f. \\u0423\\u0449\\u0435\\u0440\\u0431 \\u0432\\u0442\\u043e\\u0440\\u043e\\u043c\\u0443 \\u0443\\u0447\\u0430\\u0441\\u0442\\u043d\\u0438\\u043a\\u0443 \\u0414\\u0422\\u041f \\u043a\\u043e\\u043c\\u043f\\u0435\\u043d\\u0441\\u0438\\u0440\\u043e\\u0432\\u0430\\u043b\\u0438 \\u0432 \\u043f\\u043e\\u043b\\u043d\\u043e\\u043c \\u0440\\u0430\\u0437\\u043c\\u0435\\u0440\\u0435. \\u041a\\u043e \\u043c\\u043d\\u0435 \\u043f\\u0440\\u0438\\u0442\\u0435\\u043d\\u0437\\u0438\\u0439 \\u0443 \\u043f\\u043e\\u0441\\u0442\\u0440\\u0430\\u0434\\u0430\\u0432\\u0448\\u0435\\u0433\\u043e \\u043d\\u0435 \\u0431\\u044b\\u043b\\u043e.\"\n        ],\n        \"semantic_type\": \"\",\n        \"description\": \"\"\n      }\n    },\n    {\n      \"column\": \"rate\",\n      \"properties\": {\n        \"dtype\": \"number\",\n        \"std\": 1,\n        \"min\": 1,\n        \"max\": 5,\n        \"num_unique_values\": 5,\n        \"samples\": [\n          4,\n          3,\n          1\n        ],\n        \"semantic_type\": \"\",\n        \"description\": \"\"\n      }\n    },\n    {\n      \"column\": \"date\",\n      \"properties\": {\n        \"dtype\": \"date\",\n        \"min\": \"2024-01-20 00:00:00\",\n        \"max\": \"2024-09-22 00:00:00\",\n        \"num_unique_values\": 247,\n        \"samples\": [\n          \"2024-08-20 00:00:00\",\n          \"2024-09-16 00:00:00\",\n          \"2024-03-25 00:00:00\"\n        ],\n        \"semantic_type\": \"\",\n        \"description\": \"\"\n      }\n    }\n  ]\n}"
            }
          },
          "metadata": {},
          "execution_count": 13
        }
      ]
    },
    {
      "cell_type": "markdown",
      "source": [
        "Проверим количество отзывов для каждой организации и удалим те, у которых количество отзывов меньше 100."
      ],
      "metadata": {
        "id": "a1UENLq8P_PH"
      }
    },
    {
      "cell_type": "code",
      "source": [
        "df_bank = df.groupby(\"bank\").review.count().sort_values()\n",
        "df_bank"
      ],
      "metadata": {
        "colab": {
          "base_uri": "https://localhost:8080/",
          "height": 489
        },
        "id": "d1jA0tFUPaeW",
        "outputId": "84304b7c-93ae-4cb4-f98d-4c23e33146f4"
      },
      "execution_count": null,
      "outputs": [
        {
          "output_type": "execute_result",
          "data": {
            "text/plain": [
              "bank\n",
              "Ак Барс Страхование                      1\n",
              "Росбанк Страхование                      1\n",
              "РБ Страхование Жизни                     1\n",
              "Ю-Лайф                                   1\n",
              "НКО ПОВС «Страховой дом «Платинум»       1\n",
              "                                      ... \n",
              "Ренессанс Жизнь                        383\n",
              "АльфаСтрахование-Жизнь                 399\n",
              "Сбербанк страхование                   939\n",
              "Совкомбанк Страхование                 985\n",
              "Т-Страхование                         2207\n",
              "Name: review, Length: 65, dtype: int64"
            ],
            "text/html": [
              "<div>\n",
              "<style scoped>\n",
              "    .dataframe tbody tr th:only-of-type {\n",
              "        vertical-align: middle;\n",
              "    }\n",
              "\n",
              "    .dataframe tbody tr th {\n",
              "        vertical-align: top;\n",
              "    }\n",
              "\n",
              "    .dataframe thead th {\n",
              "        text-align: right;\n",
              "    }\n",
              "</style>\n",
              "<table border=\"1\" class=\"dataframe\">\n",
              "  <thead>\n",
              "    <tr style=\"text-align: right;\">\n",
              "      <th></th>\n",
              "      <th>review</th>\n",
              "    </tr>\n",
              "    <tr>\n",
              "      <th>bank</th>\n",
              "      <th></th>\n",
              "    </tr>\n",
              "  </thead>\n",
              "  <tbody>\n",
              "    <tr>\n",
              "      <th>Ак Барс Страхование</th>\n",
              "      <td>1</td>\n",
              "    </tr>\n",
              "    <tr>\n",
              "      <th>Росбанк Страхование</th>\n",
              "      <td>1</td>\n",
              "    </tr>\n",
              "    <tr>\n",
              "      <th>РБ Страхование Жизни</th>\n",
              "      <td>1</td>\n",
              "    </tr>\n",
              "    <tr>\n",
              "      <th>Ю-Лайф</th>\n",
              "      <td>1</td>\n",
              "    </tr>\n",
              "    <tr>\n",
              "      <th>НКО ПОВС «Страховой дом «Платинум»</th>\n",
              "      <td>1</td>\n",
              "    </tr>\n",
              "    <tr>\n",
              "      <th>...</th>\n",
              "      <td>...</td>\n",
              "    </tr>\n",
              "    <tr>\n",
              "      <th>Ренессанс Жизнь</th>\n",
              "      <td>383</td>\n",
              "    </tr>\n",
              "    <tr>\n",
              "      <th>АльфаСтрахование-Жизнь</th>\n",
              "      <td>399</td>\n",
              "    </tr>\n",
              "    <tr>\n",
              "      <th>Сбербанк страхование</th>\n",
              "      <td>939</td>\n",
              "    </tr>\n",
              "    <tr>\n",
              "      <th>Совкомбанк Страхование</th>\n",
              "      <td>985</td>\n",
              "    </tr>\n",
              "    <tr>\n",
              "      <th>Т-Страхование</th>\n",
              "      <td>2207</td>\n",
              "    </tr>\n",
              "  </tbody>\n",
              "</table>\n",
              "<p>65 rows × 1 columns</p>\n",
              "</div><br><label><b>dtype:</b> int64</label>"
            ]
          },
          "metadata": {},
          "execution_count": 14
        }
      ]
    },
    {
      "cell_type": "code",
      "source": [
        "# получение спсика оорганизаций, у которых меньше 100 отзывов\n",
        "organizations_less_100_reviews = df_bank.loc[df_bank.index.isin(df_bank.where(df_bank < 100).dropna().index)].index\n",
        "organizations_less_100_reviews"
      ],
      "metadata": {
        "colab": {
          "base_uri": "https://localhost:8080/"
        },
        "id": "9lGfoP2zQcVp",
        "outputId": "d6a2ecb4-eb5b-4631-9fcd-cff43debf672"
      },
      "execution_count": null,
      "outputs": [
        {
          "output_type": "execute_result",
          "data": {
            "text/plain": [
              "Index(['Ак Барс Страхование', 'Росбанк Страхование', 'РБ Страхование Жизни',\n",
              "       'Ю-Лайф', 'НКО ПОВС «Страховой дом «Платинум»',\n",
              "       'Страховая фирма «Адонис»', 'Зетта Страхование жизни',\n",
              "       'Зетта Страхование (бывшая СК «Альянс»)', 'Дефанс Страхование',\n",
              "       'ПСБ Страхование', 'Пари',\n",
              "       'Медицинская акционерная страховая компания (МАКС-М)',\n",
              "       'Капитал МС (РГС-Медицина)', 'Двадцать первый век',\n",
              "       'Русский Стандарт Страхование', 'АльфаСтрахование-ОМС',\n",
              "       'ДЕЛО ЖИЗНИ (НСГ Страхование жизни)', 'Инсайт',\n",
              "       'Русское страховое общество «Евроинс»', 'Бестиншур',\n",
              "       'Инлайф страхование жизни', 'РЕСО-Мед', 'ППФ Страхование жизни',\n",
              "       'Страховая бизнес группа', 'Газпром Страхование', 'Ингосстрах-Жизнь',\n",
              "       'Объединенная страховая компания', 'Спасские ворота',\n",
              "       'РСХБ-Страхование жизни', 'Энергогарант', 'БКС Страхование жизни',\n",
              "       'РСХБ-Страхование', 'СОГАЗ-Мед', 'ВСК-Линия жизни',\n",
              "       'Хоум Кредит Страхование', 'СК ГАЙДЕ', 'Капитал-Полис', 'Астро-Волга',\n",
              "       'МАКС-Жизнь', 'Согласие-Вита', 'СК «Пульс»', 'МАКС', 'Д2 Страхование',\n",
              "       'Гелиос', 'СОГАЗ-Жизнь', 'Абсолют Страхование', 'Зетта Страхование',\n",
              "       'Югория', 'Росгосстрах Жизнь', 'РЕСО-Гарантия', 'Согласие'],\n",
              "      dtype='object', name='bank')"
            ]
          },
          "metadata": {},
          "execution_count": 15
        }
      ]
    },
    {
      "cell_type": "code",
      "source": [
        "# удаление отзывов огранизаций, у которых количество отзывов меньше 100, из датасета\n",
        "# df.bank.isin(organizations_less_100_reviews)\n",
        "# data[data.marks.isin(list1) == False]\n",
        "df = df[df.bank.isin(list(organizations_less_100_reviews)) == False]\n",
        "df"
      ],
      "metadata": {
        "colab": {
          "base_uri": "https://localhost:8080/",
          "height": 423
        },
        "id": "WTXw_WY4TZLh",
        "outputId": "e1696fe6-8909-4e7b-9d10-562f4b06c7f5"
      },
      "execution_count": null,
      "outputs": [
        {
          "output_type": "execute_result",
          "data": {
            "text/plain": [
              "                                                 header  \\\n",
              "0                            Хорошая страховая компания   \n",
              "1                                          За стразовку   \n",
              "2                        Как я пришел за ОСАГО в Т-Банк   \n",
              "3                                         ОСАГО+КАСКОGO   \n",
              "4             Обман сбербанк страхование семейный актив   \n",
              "...                                                 ...   \n",
              "9554                               Тинькофф страхование   \n",
              "9556  Мне предоставили хорошую скидку на страховку ж...   \n",
              "9557                              Мой выбор - Ренессанс   \n",
              "9558                               Защита в пути, КАСКО   \n",
              "9560                                       Самые лучшие   \n",
              "\n",
              "                            bank  \\\n",
              "0                  Т-Страхование   \n",
              "1         Совкомбанк Страхование   \n",
              "2                  Т-Страхование   \n",
              "3               АльфаСтрахование   \n",
              "4     Сбербанк страхование жизни   \n",
              "...                          ...   \n",
              "9554               Т-Страхование   \n",
              "9556               Т-Страхование   \n",
              "9557                   Ренессанс   \n",
              "9558        Сбербанк страхование   \n",
              "9560               Т-Страхование   \n",
              "\n",
              "                                                 review  rate       date  \n",
              "0     Оформили каско и не пожалели !  Когда случилос...     5 2024-09-22  \n",
              "1     Самая дешёвая страховка из всех, в Совкомбанк....     4 2024-09-22  \n",
              "2     Здравствуйте уважаемые СММщики Т-Банка. Пришел...     1 2024-09-22  \n",
              "3     Добрый вечер, один свой автомобиль застраховал...     5 2024-09-22  \n",
              "4     Дорогие человеки,ни в коем случае не связывайт...     1 2024-09-22  \n",
              "...                                                 ...   ...        ...  \n",
              "9554  Все прошло быстро, деньги поступили на карту у...     5 2024-01-21  \n",
              "9556  Позвонили с Тинькофф Страхования. У меня оформ...     5 2024-01-20  \n",
              "9557  Здравствуйте! Не всегда принято оставлять поло...     5 2024-01-20  \n",
              "9558  26.12.23 приобрёл автомобиль в кредит в Драйв ...     1 2024-01-20  \n",
              "9560  20.01.24 произошло ДТП, примерно в 10.00, вызв...     5 2024-01-20  \n",
              "\n",
              "[7430 rows x 5 columns]"
            ],
            "text/html": [
              "\n",
              "  <div id=\"df-c9ab6d71-e872-4b8f-b633-0e1c101ab0d1\" class=\"colab-df-container\">\n",
              "    <div>\n",
              "<style scoped>\n",
              "    .dataframe tbody tr th:only-of-type {\n",
              "        vertical-align: middle;\n",
              "    }\n",
              "\n",
              "    .dataframe tbody tr th {\n",
              "        vertical-align: top;\n",
              "    }\n",
              "\n",
              "    .dataframe thead th {\n",
              "        text-align: right;\n",
              "    }\n",
              "</style>\n",
              "<table border=\"1\" class=\"dataframe\">\n",
              "  <thead>\n",
              "    <tr style=\"text-align: right;\">\n",
              "      <th></th>\n",
              "      <th>header</th>\n",
              "      <th>bank</th>\n",
              "      <th>review</th>\n",
              "      <th>rate</th>\n",
              "      <th>date</th>\n",
              "    </tr>\n",
              "  </thead>\n",
              "  <tbody>\n",
              "    <tr>\n",
              "      <th>0</th>\n",
              "      <td>Хорошая страховая компания</td>\n",
              "      <td>Т-Страхование</td>\n",
              "      <td>Оформили каско и не пожалели !  Когда случилос...</td>\n",
              "      <td>5</td>\n",
              "      <td>2024-09-22</td>\n",
              "    </tr>\n",
              "    <tr>\n",
              "      <th>1</th>\n",
              "      <td>За стразовку</td>\n",
              "      <td>Совкомбанк Страхование</td>\n",
              "      <td>Самая дешёвая страховка из всех, в Совкомбанк....</td>\n",
              "      <td>4</td>\n",
              "      <td>2024-09-22</td>\n",
              "    </tr>\n",
              "    <tr>\n",
              "      <th>2</th>\n",
              "      <td>Как я пришел за ОСАГО в Т-Банк</td>\n",
              "      <td>Т-Страхование</td>\n",
              "      <td>Здравствуйте уважаемые СММщики Т-Банка. Пришел...</td>\n",
              "      <td>1</td>\n",
              "      <td>2024-09-22</td>\n",
              "    </tr>\n",
              "    <tr>\n",
              "      <th>3</th>\n",
              "      <td>ОСАГО+КАСКОGO</td>\n",
              "      <td>АльфаСтрахование</td>\n",
              "      <td>Добрый вечер, один свой автомобиль застраховал...</td>\n",
              "      <td>5</td>\n",
              "      <td>2024-09-22</td>\n",
              "    </tr>\n",
              "    <tr>\n",
              "      <th>4</th>\n",
              "      <td>Обман сбербанк страхование семейный актив</td>\n",
              "      <td>Сбербанк страхование жизни</td>\n",
              "      <td>Дорогие человеки,ни в коем случае не связывайт...</td>\n",
              "      <td>1</td>\n",
              "      <td>2024-09-22</td>\n",
              "    </tr>\n",
              "    <tr>\n",
              "      <th>...</th>\n",
              "      <td>...</td>\n",
              "      <td>...</td>\n",
              "      <td>...</td>\n",
              "      <td>...</td>\n",
              "      <td>...</td>\n",
              "    </tr>\n",
              "    <tr>\n",
              "      <th>9554</th>\n",
              "      <td>Тинькофф страхование</td>\n",
              "      <td>Т-Страхование</td>\n",
              "      <td>Все прошло быстро, деньги поступили на карту у...</td>\n",
              "      <td>5</td>\n",
              "      <td>2024-01-21</td>\n",
              "    </tr>\n",
              "    <tr>\n",
              "      <th>9556</th>\n",
              "      <td>Мне предоставили хорошую скидку на страховку ж...</td>\n",
              "      <td>Т-Страхование</td>\n",
              "      <td>Позвонили с Тинькофф Страхования. У меня оформ...</td>\n",
              "      <td>5</td>\n",
              "      <td>2024-01-20</td>\n",
              "    </tr>\n",
              "    <tr>\n",
              "      <th>9557</th>\n",
              "      <td>Мой выбор - Ренессанс</td>\n",
              "      <td>Ренессанс</td>\n",
              "      <td>Здравствуйте! Не всегда принято оставлять поло...</td>\n",
              "      <td>5</td>\n",
              "      <td>2024-01-20</td>\n",
              "    </tr>\n",
              "    <tr>\n",
              "      <th>9558</th>\n",
              "      <td>Защита в пути, КАСКО</td>\n",
              "      <td>Сбербанк страхование</td>\n",
              "      <td>26.12.23 приобрёл автомобиль в кредит в Драйв ...</td>\n",
              "      <td>1</td>\n",
              "      <td>2024-01-20</td>\n",
              "    </tr>\n",
              "    <tr>\n",
              "      <th>9560</th>\n",
              "      <td>Самые лучшие</td>\n",
              "      <td>Т-Страхование</td>\n",
              "      <td>20.01.24 произошло ДТП, примерно в 10.00, вызв...</td>\n",
              "      <td>5</td>\n",
              "      <td>2024-01-20</td>\n",
              "    </tr>\n",
              "  </tbody>\n",
              "</table>\n",
              "<p>7430 rows × 5 columns</p>\n",
              "</div>\n",
              "    <div class=\"colab-df-buttons\">\n",
              "\n",
              "  <div class=\"colab-df-container\">\n",
              "    <button class=\"colab-df-convert\" onclick=\"convertToInteractive('df-c9ab6d71-e872-4b8f-b633-0e1c101ab0d1')\"\n",
              "            title=\"Convert this dataframe to an interactive table.\"\n",
              "            style=\"display:none;\">\n",
              "\n",
              "  <svg xmlns=\"http://www.w3.org/2000/svg\" height=\"24px\" viewBox=\"0 -960 960 960\">\n",
              "    <path d=\"M120-120v-720h720v720H120Zm60-500h600v-160H180v160Zm220 220h160v-160H400v160Zm0 220h160v-160H400v160ZM180-400h160v-160H180v160Zm440 0h160v-160H620v160ZM180-180h160v-160H180v160Zm440 0h160v-160H620v160Z\"/>\n",
              "  </svg>\n",
              "    </button>\n",
              "\n",
              "  <style>\n",
              "    .colab-df-container {\n",
              "      display:flex;\n",
              "      gap: 12px;\n",
              "    }\n",
              "\n",
              "    .colab-df-convert {\n",
              "      background-color: #E8F0FE;\n",
              "      border: none;\n",
              "      border-radius: 50%;\n",
              "      cursor: pointer;\n",
              "      display: none;\n",
              "      fill: #1967D2;\n",
              "      height: 32px;\n",
              "      padding: 0 0 0 0;\n",
              "      width: 32px;\n",
              "    }\n",
              "\n",
              "    .colab-df-convert:hover {\n",
              "      background-color: #E2EBFA;\n",
              "      box-shadow: 0px 1px 2px rgba(60, 64, 67, 0.3), 0px 1px 3px 1px rgba(60, 64, 67, 0.15);\n",
              "      fill: #174EA6;\n",
              "    }\n",
              "\n",
              "    .colab-df-buttons div {\n",
              "      margin-bottom: 4px;\n",
              "    }\n",
              "\n",
              "    [theme=dark] .colab-df-convert {\n",
              "      background-color: #3B4455;\n",
              "      fill: #D2E3FC;\n",
              "    }\n",
              "\n",
              "    [theme=dark] .colab-df-convert:hover {\n",
              "      background-color: #434B5C;\n",
              "      box-shadow: 0px 1px 3px 1px rgba(0, 0, 0, 0.15);\n",
              "      filter: drop-shadow(0px 1px 2px rgba(0, 0, 0, 0.3));\n",
              "      fill: #FFFFFF;\n",
              "    }\n",
              "  </style>\n",
              "\n",
              "    <script>\n",
              "      const buttonEl =\n",
              "        document.querySelector('#df-c9ab6d71-e872-4b8f-b633-0e1c101ab0d1 button.colab-df-convert');\n",
              "      buttonEl.style.display =\n",
              "        google.colab.kernel.accessAllowed ? 'block' : 'none';\n",
              "\n",
              "      async function convertToInteractive(key) {\n",
              "        const element = document.querySelector('#df-c9ab6d71-e872-4b8f-b633-0e1c101ab0d1');\n",
              "        const dataTable =\n",
              "          await google.colab.kernel.invokeFunction('convertToInteractive',\n",
              "                                                    [key], {});\n",
              "        if (!dataTable) return;\n",
              "\n",
              "        const docLinkHtml = 'Like what you see? Visit the ' +\n",
              "          '<a target=\"_blank\" href=https://colab.research.google.com/notebooks/data_table.ipynb>data table notebook</a>'\n",
              "          + ' to learn more about interactive tables.';\n",
              "        element.innerHTML = '';\n",
              "        dataTable['output_type'] = 'display_data';\n",
              "        await google.colab.output.renderOutput(dataTable, element);\n",
              "        const docLink = document.createElement('div');\n",
              "        docLink.innerHTML = docLinkHtml;\n",
              "        element.appendChild(docLink);\n",
              "      }\n",
              "    </script>\n",
              "  </div>\n",
              "\n",
              "\n",
              "<div id=\"df-a9d3f3f4-a293-4e21-8b72-37a6e838838b\">\n",
              "  <button class=\"colab-df-quickchart\" onclick=\"quickchart('df-a9d3f3f4-a293-4e21-8b72-37a6e838838b')\"\n",
              "            title=\"Suggest charts\"\n",
              "            style=\"display:none;\">\n",
              "\n",
              "<svg xmlns=\"http://www.w3.org/2000/svg\" height=\"24px\"viewBox=\"0 0 24 24\"\n",
              "     width=\"24px\">\n",
              "    <g>\n",
              "        <path d=\"M19 3H5c-1.1 0-2 .9-2 2v14c0 1.1.9 2 2 2h14c1.1 0 2-.9 2-2V5c0-1.1-.9-2-2-2zM9 17H7v-7h2v7zm4 0h-2V7h2v10zm4 0h-2v-4h2v4z\"/>\n",
              "    </g>\n",
              "</svg>\n",
              "  </button>\n",
              "\n",
              "<style>\n",
              "  .colab-df-quickchart {\n",
              "      --bg-color: #E8F0FE;\n",
              "      --fill-color: #1967D2;\n",
              "      --hover-bg-color: #E2EBFA;\n",
              "      --hover-fill-color: #174EA6;\n",
              "      --disabled-fill-color: #AAA;\n",
              "      --disabled-bg-color: #DDD;\n",
              "  }\n",
              "\n",
              "  [theme=dark] .colab-df-quickchart {\n",
              "      --bg-color: #3B4455;\n",
              "      --fill-color: #D2E3FC;\n",
              "      --hover-bg-color: #434B5C;\n",
              "      --hover-fill-color: #FFFFFF;\n",
              "      --disabled-bg-color: #3B4455;\n",
              "      --disabled-fill-color: #666;\n",
              "  }\n",
              "\n",
              "  .colab-df-quickchart {\n",
              "    background-color: var(--bg-color);\n",
              "    border: none;\n",
              "    border-radius: 50%;\n",
              "    cursor: pointer;\n",
              "    display: none;\n",
              "    fill: var(--fill-color);\n",
              "    height: 32px;\n",
              "    padding: 0;\n",
              "    width: 32px;\n",
              "  }\n",
              "\n",
              "  .colab-df-quickchart:hover {\n",
              "    background-color: var(--hover-bg-color);\n",
              "    box-shadow: 0 1px 2px rgba(60, 64, 67, 0.3), 0 1px 3px 1px rgba(60, 64, 67, 0.15);\n",
              "    fill: var(--button-hover-fill-color);\n",
              "  }\n",
              "\n",
              "  .colab-df-quickchart-complete:disabled,\n",
              "  .colab-df-quickchart-complete:disabled:hover {\n",
              "    background-color: var(--disabled-bg-color);\n",
              "    fill: var(--disabled-fill-color);\n",
              "    box-shadow: none;\n",
              "  }\n",
              "\n",
              "  .colab-df-spinner {\n",
              "    border: 2px solid var(--fill-color);\n",
              "    border-color: transparent;\n",
              "    border-bottom-color: var(--fill-color);\n",
              "    animation:\n",
              "      spin 1s steps(1) infinite;\n",
              "  }\n",
              "\n",
              "  @keyframes spin {\n",
              "    0% {\n",
              "      border-color: transparent;\n",
              "      border-bottom-color: var(--fill-color);\n",
              "      border-left-color: var(--fill-color);\n",
              "    }\n",
              "    20% {\n",
              "      border-color: transparent;\n",
              "      border-left-color: var(--fill-color);\n",
              "      border-top-color: var(--fill-color);\n",
              "    }\n",
              "    30% {\n",
              "      border-color: transparent;\n",
              "      border-left-color: var(--fill-color);\n",
              "      border-top-color: var(--fill-color);\n",
              "      border-right-color: var(--fill-color);\n",
              "    }\n",
              "    40% {\n",
              "      border-color: transparent;\n",
              "      border-right-color: var(--fill-color);\n",
              "      border-top-color: var(--fill-color);\n",
              "    }\n",
              "    60% {\n",
              "      border-color: transparent;\n",
              "      border-right-color: var(--fill-color);\n",
              "    }\n",
              "    80% {\n",
              "      border-color: transparent;\n",
              "      border-right-color: var(--fill-color);\n",
              "      border-bottom-color: var(--fill-color);\n",
              "    }\n",
              "    90% {\n",
              "      border-color: transparent;\n",
              "      border-bottom-color: var(--fill-color);\n",
              "    }\n",
              "  }\n",
              "</style>\n",
              "\n",
              "  <script>\n",
              "    async function quickchart(key) {\n",
              "      const quickchartButtonEl =\n",
              "        document.querySelector('#' + key + ' button');\n",
              "      quickchartButtonEl.disabled = true;  // To prevent multiple clicks.\n",
              "      quickchartButtonEl.classList.add('colab-df-spinner');\n",
              "      try {\n",
              "        const charts = await google.colab.kernel.invokeFunction(\n",
              "            'suggestCharts', [key], {});\n",
              "      } catch (error) {\n",
              "        console.error('Error during call to suggestCharts:', error);\n",
              "      }\n",
              "      quickchartButtonEl.classList.remove('colab-df-spinner');\n",
              "      quickchartButtonEl.classList.add('colab-df-quickchart-complete');\n",
              "    }\n",
              "    (() => {\n",
              "      let quickchartButtonEl =\n",
              "        document.querySelector('#df-a9d3f3f4-a293-4e21-8b72-37a6e838838b button');\n",
              "      quickchartButtonEl.style.display =\n",
              "        google.colab.kernel.accessAllowed ? 'block' : 'none';\n",
              "    })();\n",
              "  </script>\n",
              "</div>\n",
              "    </div>\n",
              "  </div>\n"
            ],
            "application/vnd.google.colaboratory.intrinsic+json": {
              "type": "dataframe",
              "variable_name": "df",
              "summary": "{\n  \"name\": \"df\",\n  \"rows\": 7430,\n  \"fields\": [\n    {\n      \"column\": \"header\",\n      \"properties\": {\n        \"dtype\": \"string\",\n        \"num_unique_values\": 5528,\n        \"samples\": [\n          \"\\u041f\\u0440\\u043e\\u0433\\u0440\\u0430\\u043c\\u043c\\u0430 \\u0441\\u0442\\u0440\\u0430\\u0445\\u043e\\u0432\\u0430\\u043d\\u0438\\u044f \\u0436\\u0438\\u0437\\u043d\\u0438 \\u0420\\u0435\\u043d\\u0435\\u0441\\u0441\\u0430\\u043d\\u0441 \\u0421\\u043c\\u0430\\u0440\\u0442\",\n          \"\\u0418\\u0437\\u043c\\u0435\\u043d\\u0435\\u043d\\u0438\\u044f \\u0432 \\u041e\\u0421\\u0410\\u0413\\u041e\",\n          \"\\u0421\\u0442\\u0440\\u0430\\u0445\\u043e\\u0432\\u0430\\u043d\\u0438\\u0435 \\u0436\\u0438\\u0437\\u043d\\u0438 \\u043f\\u043e \\u0438\\u043f\\u043e\\u0442\\u0435\\u043a\\u0438\"\n        ],\n        \"semantic_type\": \"\",\n        \"description\": \"\"\n      }\n    },\n    {\n      \"column\": \"bank\",\n      \"properties\": {\n        \"dtype\": \"category\",\n        \"num_unique_values\": 14,\n        \"samples\": [\n          \"\\u0420\\u0435\\u043d\\u0435\\u0441\\u0441\\u0430\\u043d\\u0441\",\n          \"\\u0410\\u043b\\u044c\\u0444\\u0430\\u0421\\u0442\\u0440\\u0430\\u0445\\u043e\\u0432\\u0430\\u043d\\u0438\\u0435-\\u0416\\u0438\\u0437\\u043d\\u044c\",\n          \"\\u0422-\\u0421\\u0442\\u0440\\u0430\\u0445\\u043e\\u0432\\u0430\\u043d\\u0438\\u0435\"\n        ],\n        \"semantic_type\": \"\",\n        \"description\": \"\"\n      }\n    },\n    {\n      \"column\": \"review\",\n      \"properties\": {\n        \"dtype\": \"string\",\n        \"num_unique_values\": 7430,\n        \"samples\": [\n          \"\\u0414\\u043e\\u0431\\u0440\\u044b\\u0439 \\u0434\\u0435\\u043d\\u044c. \\u041e\\u0444\\u043e\\u0440\\u043c\\u043b\\u044f\\u043b \\u0441\\u0442\\u0440\\u0430\\u0445\\u043e\\u0432\\u043a\\u0443 \\u043d\\u0430 \\u043c\\u0430\\u0448\\u0438\\u043d\\u0443 \\u0432 \\u043a\\u043e\\u043c\\u043f\\u0430\\u043d\\u0438\\u0438 \\u0422\\u0438\\u043d\\u044c\\u043a\\u043e\\u0444\\u0444, \\u0442\\u0435\\u043f\\u0435\\u0440\\u044c \\u0422-\\u0411\\u0430\\u043d\\u043a \\u0438 \\u0432 \\u043f\\u043e\\u0434\\u0430\\u0440\\u043e\\u043a \\u043f\\u043e\\u043b\\u0443\\u0447\\u0438\\u043b \\u043f\\u043e\\u043b\\u0438\\u0441 \\u043d\\u0430 \\u0441\\u0442\\u0440\\u0430\\u0445\\u043e\\u0432\\u0430\\u043d\\u0438\\u0435 \\u043f\\u0443\\u0442\\u0435\\u0448\\u0435\\u0441\\u0442\\u0432\\u0435\\u043d\\u043d\\u0438\\u043a\\u043e\\u0432 \\u043e\\u0442 \\u043f\\u043e\\u0442\\u0435\\u0440\\u0438 \\u0431\\u0430\\u0433\\u0430\\u0436\\u0430. \\u041f\\u043e\\u043b\\u0438\\u0441 \\u2116438*****51. \\u0412 \\u0438\\u044e\\u043d\\u0435 \\u043f\\u043e \\u0432\\u043e\\u0437\\u0432\\u0440\\u0430\\u0449\\u0435\\u043d\\u0438\\u044e \\u0438\\u0437 \\u041a\\u0438\\u0442\\u0430\\u044f \\u043d\\u0435 \\u043e\\u0431\\u043d\\u0430\\u0440\\u0443\\u0436\\u0438\\u043b \\u043d\\u0430 \\u0442\\u0440\\u0430\\u043d\\u0441\\u043f\\u043e\\u0440\\u0442\\u0435\\u0440\\u0435 \\u0441\\u0432\\u043e\\u0439 \\u043b\\u044e\\u0431\\u0438\\u043c\\u044b\\u0439 \\u0447\\u0435\\u043c\\u043e\\u0434\\u0430\\u043d. \\u0412 \\u0430\\u044d\\u0440\\u043e\\u043f\\u043e\\u0440\\u0442\\u0443 \\u0441\\u043e\\u0441\\u0442\\u0430\\u0432\\u0438\\u043b \\u0437\\u0430\\u044f\\u0432\\u043b\\u0435\\u043d\\u0438\\u0435 \\u043d\\u0430 \\u0440\\u043e\\u0437\\u044b\\u0441\\u043a \\u0438 \\u043d\\u0430 \\u0441\\u043b\\u0435\\u0434\\u0443\\u044e\\u0449\\u0438\\u0439 \\u0434\\u0435\\u043d\\u044c \\u0437\\u0430\\u044f\\u0432\\u0438\\u043b \\u043e \\u0441\\u0442\\u0440\\u0430\\u0445\\u043e\\u0432\\u043e\\u043c \\u0441\\u043b\\u0443\\u0447\\u0430\\u0435 \\u0432 \\u0441\\u0442\\u0440\\u0430\\u0445\\u043e\\u0432\\u0443\\u044e \\u043a\\u043e\\u043c\\u043f\\u0430\\u043d\\u0438\\u044e. \\u0412 \\u0442\\u0435\\u0447\\u0435\\u043d\\u0438\\u0435 \\u043e\\u0434\\u043d\\u043e\\u0439 \\u043d\\u0435\\u0434\\u0435\\u043b\\u0438 \\u0440\\u0430\\u0441\\u0441\\u043c\\u043e\\u0442\\u0440\\u0435\\u043b\\u0438 \\u043c\\u043e\\u0435 \\u0437\\u0430\\u044f\\u0432\\u043b\\u0435\\u043d\\u0438\\u0435 \\u0438 \\u0432\\u044b\\u043f\\u043b\\u0430\\u0442\\u0438\\u043b\\u0438 \\u043c\\u043d\\u0435 \\u0432\\u0441\\u0435 \\u0441\\u043e\\u0433\\u043b\\u0430\\u0441\\u043d\\u043e \\u0434\\u043e\\u0433\\u043e\\u0432\\u043e\\u0440\\u0430 \\u043f\\u043e \\u0444\\u0430\\u043a\\u0442\\u0443 \\u0437\\u0430\\u0434\\u0435\\u0440\\u0436\\u043a\\u0438 \\u0431\\u0430\\u0433\\u0430\\u0436\\u0430. \\u041d\\u0430 \\u043c\\u043e\\u0439 \\u0432\\u043e\\u043f\\u0440\\u043e\\u0441, \\u043f\\u043e\\u0447\\u0435\\u043c\\u0443 \\u043f\\u043e \\u0444\\u0430\\u043a\\u0442\\u0443 \\u0437\\u0430\\u0434\\u0435\\u0440\\u0436\\u043a\\u0438 \\u0430 \\u043d\\u0435 \\u0443\\u0442\\u0435\\u0440\\u0438, \\u043e\\u0442\\u0432\\u0435\\u0442\\u0438\\u043b\\u0438 \\u0447\\u0442\\u043e \\u043d\\u0435\\u043e\\u0431\\u0445\\u043e\\u0434\\u0438\\u043c\\u0430 \\u0441\\u043f\\u0440\\u0430\\u0432\\u043a\\u0430 \\u043e\\u0442 \\u0430\\u0432\\u0438\\u0430\\u043a\\u043e\\u043c\\u043f\\u0430\\u043d\\u0438\\u0438. \\u0410\\u0432\\u0438\\u0430\\u043a\\u043e\\u043c\\u043f\\u0430\\u043d\\u0438\\u044f \\u0447\\u0435\\u0440\\u0435\\u0437 \\u0442\\u0440\\u0438 \\u043c\\u0435\\u0441\\u044f\\u0446\\u0430 \\u0431\\u0435\\u0437\\u0440\\u0435\\u0437\\u0443\\u043b\\u044c\\u0442\\u0430\\u0442\\u043d\\u044b\\u0445 \\u043f\\u043e\\u0438\\u0441\\u043a\\u043e\\u0432, \\u0432\\u044b\\u0434\\u0430\\u043b\\u0430 \\u043c\\u043d\\u0435 \\u0441\\u043f\\u0440\\u0430\\u0432\\u043a\\u0443, \\u0432 \\u043a\\u043e\\u0442\\u043e\\u0440\\u043e\\u0439 \\u043f\\u043e\\u0434\\u0442\\u0432\\u0435\\u0440\\u0436\\u0434\\u0430\\u043b\\u043e\\u0441\\u044c, \\u0447\\u0442\\u043e \\u043c\\u043e\\u0439 \\u0431\\u0430\\u0433\\u0430\\u0436 \\u0443\\u0442\\u0435\\u0440\\u044f\\u043d. \\u041e\\u0442\\u043f\\u0440\\u0430\\u0432\\u0438\\u043b \\u044d\\u0442\\u0443 \\u0441\\u043f\\u0440\\u0430\\u0432\\u043a\\u0443 \\u0432 \\u0441\\u0442\\u0440\\u0430\\u0445\\u043e\\u0432\\u0443\\u044e, \\u0442\\u0430\\u043a \\u0436\\u0435 \\u0432 \\u0442\\u0435\\u0447\\u0435\\u043d\\u0438\\u0435 \\u043d\\u0435\\u0434\\u0435\\u043b\\u0438 \\u043f\\u043e\\u043b\\u0443\\u0447\\u0438\\u043b \\u043e\\u0442\\u0432\\u0435\\u0442, \\u0447\\u0442\\u043e \\u0441\\u043f\\u0440\\u0430\\u0432\\u043a\\u0430 \\u043f\\u0440\\u0438\\u043d\\u044f\\u0442\\u0430 \\u0438 \\u043d\\u0430 \\u0441\\u043b\\u0435\\u0434\\u0443\\u044e\\u0449\\u0438\\u0439 \\u0434\\u0435\\u043d\\u044c \\u043f\\u043e\\u043b\\u0443\\u0447\\u0438\\u043b \\u0435\\u0449\\u0435 \\u043e\\u0434\\u043d\\u0443 \\u0432\\u044b\\u043f\\u043b\\u0430\\u0442\\u0443 \\u043f\\u043e \\u0444\\u0430\\u043a\\u0442\\u0443 \\u0443\\u0442\\u0435\\u0440\\u0438 \\u0431\\u0430\\u0433\\u0430\\u0436\\u0430.\\u00a0 \\u0412\\u0441\\u0435 \\u043e\\u0431\\u0449\\u0435\\u043d\\u0438\\u0435 \\u0432\\u0435\\u043b\\u043e\\u0441\\u044c \\u0434\\u0438\\u0441\\u0442\\u0430\\u043d\\u0446\\u0438\\u043e\\u043d\\u043d\\u043e, \\u043d\\u0438\\u043a\\u0443\\u0434\\u0430 \\u0435\\u0437\\u0434\\u0438\\u0442\\u044c \\u0431\\u044b\\u043b\\u043e \\u043d\\u0435 \\u043d\\u0443\\u0436\\u043d\\u043e. \\u041e\\u0431\\u043c\\u0435\\u043d \\u0432\\u0441\\u0435\\u043c\\u0438 \\u0434\\u043e\\u043a\\u0443\\u043c\\u0435\\u043d\\u0442\\u0430\\u043c\\u0438 \\u043f\\u0440\\u043e\\u0438\\u0441\\u0445\\u043e\\u0434\\u0438\\u043b \\u043f\\u043e \\u044d\\u043b\\u0435\\u043a\\u0442\\u0440\\u043e\\u043d\\u043d\\u043e\\u0439 \\u043f\\u043e\\u0447\\u0442\\u0435. \\u0412 \\u043e\\u0431\\u0449\\u0435\\u043c \\u0441 \\u043c\\u0438\\u043d\\u0438\\u043c\\u0430\\u043b\\u044c\\u043d\\u044b\\u043c\\u0438 \\u0437\\u0430\\u0442\\u0440\\u0430\\u0442\\u0430\\u043c\\u0438 \\u043f\\u043e \\u0432\\u0440\\u0435\\u043c\\u0435\\u043d\\u0438. \\u041d\\u0438\\u043a\\u0430\\u043a\\u0438\\u0445 \\u043f\\u0440\\u043e\\u0432\\u043e\\u043b\\u043e\\u0447\\u0435\\u043a, \\u043e\\u0442\\u043a\\u0430\\u0437\\u043e\\u0432 \\u0438 \\u0442.\\u0434. \\u0421\\u0442\\u0440\\u0430\\u0445\\u043e\\u0432\\u0430\\u044f \\u0432\\u0441\\u0435 \\u0432\\u044b\\u043f\\u043e\\u043b\\u043d\\u0438\\u043b\\u0430 \\u0432 \\u0440\\u0430\\u043c\\u043a\\u0430\\u0445 \\u0434\\u043e\\u0433\\u043e\\u0432\\u043e\\u0440\\u0430. \\u0420\\u0435\\u043a\\u043e\\u043c\\u0435\\u043d\\u0434\\u0443\\u044e \\u043a\\u043e\\u043c\\u043f\\u0430\\u043d\\u0438\\u044e \\u0422-\\u0421\\u0442\\u0440\\u0430\\u0445\\u043e\\u0432\\u0430\\u043d\\u0438\\u0435. \\u041e\\u0447\\u0435\\u043d\\u044c \\u043f\\u0440\\u0438\\u044f\\u0442\\u043d\\u043e \\u0440\\u0430\\u0431\\u043e\\u0442\\u0430\\u0442\\u044c \\u0441 \\u043d\\u0435\\u0439. \\u041e\\u0442\\u0434\\u0435\\u043b\\u044c\\u043d\\u043e\\u0435 \\u0441\\u043f\\u0430\\u0441\\u0438\\u0431\\u043e \\u0432\\u0435\\u0434\\u0443\\u0449\\u0435\\u043c\\u0443 \\u0441\\u043f\\u0435\\u0446\\u0438\\u0430\\u043b\\u0438\\u0441\\u0442\\u0443 \\u041f\\u043e\\u043b\\u0438\\u043d\\u0435 \\u0422. \\u0437\\u0430 \\u0445\\u043e\\u0440\\u043e\\u0448\\u0443\\u044e \\u0440\\u0430\\u0431\\u043e\\u0442\\u0443.\",\n          \"\\u041e\\u0444\\u043e\\u0440\\u043c\\u0438\\u043b \\u043a\\u0430\\u0441\\u043a\\u043e+\\u043e\\u0441\\u0430\\u0433\\u043e! \\u041f\\u043e\\u0441\\u043b\\u0435 \\u0443\\u0442\\u043e\\u0447\\u043d\\u0435\\u043d\\u0438\\u044f \\u0440\\u0430\\u0441\\u0447\\u0435\\u0442\\u043e\\u0432 \\u043f\\u043e\\u043b\\u0443\\u0447\\u0438\\u043b\\u043e\\u0441\\u044c \\u0434\\u0430\\u0436\\u0435 \\u0432\\u044b\\u0433\\u043e\\u0434\\u043d\\u0435\\u0435 \\u0447\\u0435\\u043c \\u044f \\u0440\\u0430\\u0441\\u0441\\u0447\\u0438\\u0442\\u044b\\u0432\\u0430\\u043b. \\u0421\\u043e \\u0441\\u043f\\u0435\\u0446\\u0438\\u0430\\u043b\\u0438\\u0441\\u0442\\u043e\\u043c \\u043d\\u0430 \\u043f\\u0440\\u043e\\u0442\\u044f\\u0436\\u0435\\u043d\\u0438\\u0438 \\u0432\\u0441\\u0435\\u0439 \\u043f\\u0440\\u043e\\u0446\\u0435\\u0434\\u0443\\u0440\\u044b \\u0431\\u044b\\u043b \\u043d\\u0430 \\u0441\\u0432\\u044f\\u0437\\u0438 email + \\u0442\\u0435\\u043b\\u0435\\u0444\\u043e\\u043d.\\u0412\\u0441\\u044f \\u0438\\u043d\\u0444\\u043e\\u0440\\u043c\\u0430\\u0446\\u0438\\u044f \\u0431\\u044b\\u043b\\u043e \\u043f\\u0440\\u0435\\u0434\\u0441\\u0442\\u0430\\u0432\\u043b\\u0435\\u043d\\u0430 \\u0432 \\u043f\\u043e\\u043b\\u043d\\u043e\\u043c \\u043e\\u0431\\u044a\\u0435\\u043c\\u0435 \\u0438 \\u0434\\u043e\\u0441\\u0442\\u0443\\u043f\\u043d\\u044b\\u043c \\u044f\\u0437\\u044b\\u043a\\u043e\\u043c. \\u0412 \\u0441\\u043b\\u0435\\u0434\\u0443\\u044e\\u0449\\u0435\\u043c \\u0433\\u043e\\u0434\\u0443 \\u043f\\u043b\\u0430\\u043d\\u0438\\u0440\\u0443\\u044e \\u043f\\u043e\\u0432\\u0442\\u043e\\u0440\\u043d\\u043e \\u0432\\u043e\\u0441\\u043f\\u043e\\u043b\\u044c\\u0437\\u043e\\u0432\\u0430\\u0442\\u044c\\u0441\\u044f \\u0443\\u0441\\u043b\\u0443\\u0433\\u0430\\u043c\\u0438 \\u0421\\u043e\\u0432\\u043a\\u043e\\u043c\\u0441\\u0442\\u0440\\u0430\\u0445\\u043e\\u0432\\u0430\\u043d\\u0438\\u044f. \\u041a\\u043e\\u043c\\u043f\\u0430\\u043d\\u0438\\u044e \\u0440\\u0435\\u043a\\u043e\\u043c\\u0435\\u043d\\u0434\\u0443\\u044e!\",\n          \"\\u041f\\u043e\\u0434\\u0430\\u043b \\u0437\\u0430\\u044f\\u0432\\u043b\\u0435\\u043d\\u0438\\u0435 \\u043d\\u0430 \\u0440\\u0430\\u0441\\u0442\\u043e\\u0440\\u0436\\u0435\\u043d\\u0438\\u0435 \\u041e\\u0421\\u0410\\u0413\\u041e \\u043f\\u043e\\u0441\\u043b\\u0435 \\u043f\\u0440\\u043e\\u0434\\u0430\\u0436\\u0438 \\u0430\\u0432\\u0442\\u043e. \\u041d\\u0430\\u043f\\u0438\\u0441\\u0430\\u043b\\u0438, \\u0447\\u0442\\u043e \\u044f\\u043a\\u043e\\u0431\\u044b \\u043e\\u0448\\u0438\\u0431\\u043a\\u0430 \\u0432 \\u0434\\u043e\\u0433\\u043e\\u0432\\u043e\\u0440\\u0435 \\u043a\\u0443\\u043f\\u043b\\u0438-\\u043f\\u0440\\u043e\\u0434\\u0430\\u0436\\u0438, \\u0445\\u043e\\u0442\\u044f \\u0430\\u0432\\u0442\\u043e \\u0443\\u0436\\u0435 \\u0443 \\u0434\\u0440\\u0443\\u0433\\u043e\\u0433\\u043e \\u0441\\u043e\\u0431\\u0441\\u0442\\u0432\\u0435\\u043d\\u043d\\u0438\\u043a\\u0430 \\u0438 \\u0434\\u043b\\u044f \\u0413\\u0418\\u0411\\u0414\\u0414 \\u0434\\u043e\\u0433\\u043e\\u0432\\u043e\\u0440 \\u0432 \\u043f\\u043e\\u0440\\u044f\\u0434\\u043a\\u0435.\\u00a0\\u041d\\u0430 \\u0437\\u0430\\u043f\\u0440\\u043e\\u0441\\u044b, \\u0433\\u0434\\u0435 \\u043e\\u0448\\u0438\\u0431\\u043a\\u0430 - \\u043f\\u0440\\u043e\\u0441\\u0442\\u043e \\u043c\\u043e\\u043b\\u0447\\u0430\\u0442, \\u0438 \\u0432 \\u0446\\u0435\\u043b\\u043e\\u043c, \\u043d\\u0438\\u0447\\u0435\\u0433\\u043e \\u043d\\u0435 \\u043e\\u0442\\u0432\\u0435\\u0447\\u0430\\u044e\\u0442. \\u0418, \\u043a\\u043e\\u043d\\u0435\\u0447\\u043d\\u043e, \\u043d\\u0438\\u043a\\u0430\\u043a\\u0438\\u0445 \\u0434\\u0435\\u043d\\u0435\\u0433.\\u00a0\\u041f\\u043e\\u043b\\u0430\\u0433\\u0430\\u044e, \\u0442\\u0430\\u043a\\u0436\\u0435 \\u0438 \\u043f\\u043e \\u0441\\u0442\\u0440\\u0430\\u0445\\u043e\\u0432\\u044b\\u043c \\u0441\\u043b\\u0443\\u0447\\u0430\\u044f\\u043c \\u0442\\u0430\\u043a\\u0436\\u0435 \\u0440\\u0430\\u0431\\u043e\\u0442\\u0430\\u044e\\u0442.\\u00a0\\u041d\\u0435 \\u0440\\u0435\\u043a\\u043e\\u043c\\u0435\\u043d\\u0434\\u0443\\u044e. \\u041c\\u043e\\u0448\\u0435\\u043d\\u043d\\u0438\\u043a\\u0438\"\n        ],\n        \"semantic_type\": \"\",\n        \"description\": \"\"\n      }\n    },\n    {\n      \"column\": \"rate\",\n      \"properties\": {\n        \"dtype\": \"number\",\n        \"std\": 1,\n        \"min\": 1,\n        \"max\": 5,\n        \"num_unique_values\": 5,\n        \"samples\": [\n          4,\n          3,\n          1\n        ],\n        \"semantic_type\": \"\",\n        \"description\": \"\"\n      }\n    },\n    {\n      \"column\": \"date\",\n      \"properties\": {\n        \"dtype\": \"date\",\n        \"min\": \"2024-01-20 00:00:00\",\n        \"max\": \"2024-09-22 00:00:00\",\n        \"num_unique_values\": 247,\n        \"samples\": [\n          \"2024-08-20 00:00:00\",\n          \"2024-09-16 00:00:00\",\n          \"2024-03-25 00:00:00\"\n        ],\n        \"semantic_type\": \"\",\n        \"description\": \"\"\n      }\n    }\n  ]\n}"
            }
          },
          "metadata": {},
          "execution_count": 16
        }
      ]
    },
    {
      "cell_type": "code",
      "source": [
        "# выведем среднее количество отзывов для организаций\n",
        "mean_number_of_reviews = round(df.groupby(\"bank\").review.count().mean(), 2)\n",
        "mean_number_of_reviews"
      ],
      "metadata": {
        "colab": {
          "base_uri": "https://localhost:8080/"
        },
        "id": "wgOlKtLU1qBC",
        "outputId": "258728c0-9c6b-4645-ffd1-858a59397e8a"
      },
      "execution_count": null,
      "outputs": [
        {
          "output_type": "execute_result",
          "data": {
            "text/plain": [
              "530.71"
            ]
          },
          "metadata": {},
          "execution_count": 17
        }
      ]
    },
    {
      "cell_type": "markdown",
      "source": [
        "Выведем\n",
        "* размерность датасета, очищенного от дубликатов, пустых значений, некорректной даты и организаций с малым количеством отзывов;\n",
        "* количество уникальных значений для очищенного датасета;\n",
        "* описательную характеристику нового датасета.\n"
      ],
      "metadata": {
        "id": "T0Cl0LyaTsiR"
      }
    },
    {
      "cell_type": "code",
      "source": [
        "df.shape"
      ],
      "metadata": {
        "colab": {
          "base_uri": "https://localhost:8080/"
        },
        "id": "673C3g5lTdSX",
        "outputId": "ef9b0488-124d-42c3-b7f8-9f8a2c0d95ba"
      },
      "execution_count": null,
      "outputs": [
        {
          "output_type": "execute_result",
          "data": {
            "text/plain": [
              "(7430, 5)"
            ]
          },
          "metadata": {},
          "execution_count": 18
        }
      ]
    },
    {
      "cell_type": "code",
      "source": [
        "df.nunique()"
      ],
      "metadata": {
        "colab": {
          "base_uri": "https://localhost:8080/",
          "height": 240
        },
        "id": "-N-MJzJ7TdMC",
        "outputId": "37e907e2-73ea-4d01-a1e7-d93ff23e5f15"
      },
      "execution_count": null,
      "outputs": [
        {
          "output_type": "execute_result",
          "data": {
            "text/plain": [
              "header    5528\n",
              "bank        14\n",
              "review    7430\n",
              "rate         5\n",
              "date       247\n",
              "dtype: int64"
            ],
            "text/html": [
              "<div>\n",
              "<style scoped>\n",
              "    .dataframe tbody tr th:only-of-type {\n",
              "        vertical-align: middle;\n",
              "    }\n",
              "\n",
              "    .dataframe tbody tr th {\n",
              "        vertical-align: top;\n",
              "    }\n",
              "\n",
              "    .dataframe thead th {\n",
              "        text-align: right;\n",
              "    }\n",
              "</style>\n",
              "<table border=\"1\" class=\"dataframe\">\n",
              "  <thead>\n",
              "    <tr style=\"text-align: right;\">\n",
              "      <th></th>\n",
              "      <th>0</th>\n",
              "    </tr>\n",
              "  </thead>\n",
              "  <tbody>\n",
              "    <tr>\n",
              "      <th>header</th>\n",
              "      <td>5528</td>\n",
              "    </tr>\n",
              "    <tr>\n",
              "      <th>bank</th>\n",
              "      <td>14</td>\n",
              "    </tr>\n",
              "    <tr>\n",
              "      <th>review</th>\n",
              "      <td>7430</td>\n",
              "    </tr>\n",
              "    <tr>\n",
              "      <th>rate</th>\n",
              "      <td>5</td>\n",
              "    </tr>\n",
              "    <tr>\n",
              "      <th>date</th>\n",
              "      <td>247</td>\n",
              "    </tr>\n",
              "  </tbody>\n",
              "</table>\n",
              "</div><br><label><b>dtype:</b> int64</label>"
            ]
          },
          "metadata": {},
          "execution_count": 19
        }
      ]
    },
    {
      "cell_type": "code",
      "source": [
        "df.describe()"
      ],
      "metadata": {
        "colab": {
          "base_uri": "https://localhost:8080/",
          "height": 300
        },
        "id": "ROc986tOTdFu",
        "outputId": "996d1500-bcb9-45a6-b37d-2877268975d7"
      },
      "execution_count": null,
      "outputs": [
        {
          "output_type": "execute_result",
          "data": {
            "text/plain": [
              "              rate                           date\n",
              "count  7430.000000                           7430\n",
              "mean      3.734455  2024-06-11 00:18:36.339165696\n",
              "min       1.000000            2024-01-20 00:00:00\n",
              "25%       1.000000            2024-04-10 00:00:00\n",
              "50%       5.000000            2024-06-22 00:00:00\n",
              "75%       5.000000            2024-08-18 00:00:00\n",
              "max       5.000000            2024-09-22 00:00:00\n",
              "std       1.815010                            NaN"
            ],
            "text/html": [
              "\n",
              "  <div id=\"df-1969b827-797f-488c-b34a-c8c03f67d99b\" class=\"colab-df-container\">\n",
              "    <div>\n",
              "<style scoped>\n",
              "    .dataframe tbody tr th:only-of-type {\n",
              "        vertical-align: middle;\n",
              "    }\n",
              "\n",
              "    .dataframe tbody tr th {\n",
              "        vertical-align: top;\n",
              "    }\n",
              "\n",
              "    .dataframe thead th {\n",
              "        text-align: right;\n",
              "    }\n",
              "</style>\n",
              "<table border=\"1\" class=\"dataframe\">\n",
              "  <thead>\n",
              "    <tr style=\"text-align: right;\">\n",
              "      <th></th>\n",
              "      <th>rate</th>\n",
              "      <th>date</th>\n",
              "    </tr>\n",
              "  </thead>\n",
              "  <tbody>\n",
              "    <tr>\n",
              "      <th>count</th>\n",
              "      <td>7430.000000</td>\n",
              "      <td>7430</td>\n",
              "    </tr>\n",
              "    <tr>\n",
              "      <th>mean</th>\n",
              "      <td>3.734455</td>\n",
              "      <td>2024-06-11 00:18:36.339165696</td>\n",
              "    </tr>\n",
              "    <tr>\n",
              "      <th>min</th>\n",
              "      <td>1.000000</td>\n",
              "      <td>2024-01-20 00:00:00</td>\n",
              "    </tr>\n",
              "    <tr>\n",
              "      <th>25%</th>\n",
              "      <td>1.000000</td>\n",
              "      <td>2024-04-10 00:00:00</td>\n",
              "    </tr>\n",
              "    <tr>\n",
              "      <th>50%</th>\n",
              "      <td>5.000000</td>\n",
              "      <td>2024-06-22 00:00:00</td>\n",
              "    </tr>\n",
              "    <tr>\n",
              "      <th>75%</th>\n",
              "      <td>5.000000</td>\n",
              "      <td>2024-08-18 00:00:00</td>\n",
              "    </tr>\n",
              "    <tr>\n",
              "      <th>max</th>\n",
              "      <td>5.000000</td>\n",
              "      <td>2024-09-22 00:00:00</td>\n",
              "    </tr>\n",
              "    <tr>\n",
              "      <th>std</th>\n",
              "      <td>1.815010</td>\n",
              "      <td>NaN</td>\n",
              "    </tr>\n",
              "  </tbody>\n",
              "</table>\n",
              "</div>\n",
              "    <div class=\"colab-df-buttons\">\n",
              "\n",
              "  <div class=\"colab-df-container\">\n",
              "    <button class=\"colab-df-convert\" onclick=\"convertToInteractive('df-1969b827-797f-488c-b34a-c8c03f67d99b')\"\n",
              "            title=\"Convert this dataframe to an interactive table.\"\n",
              "            style=\"display:none;\">\n",
              "\n",
              "  <svg xmlns=\"http://www.w3.org/2000/svg\" height=\"24px\" viewBox=\"0 -960 960 960\">\n",
              "    <path d=\"M120-120v-720h720v720H120Zm60-500h600v-160H180v160Zm220 220h160v-160H400v160Zm0 220h160v-160H400v160ZM180-400h160v-160H180v160Zm440 0h160v-160H620v160ZM180-180h160v-160H180v160Zm440 0h160v-160H620v160Z\"/>\n",
              "  </svg>\n",
              "    </button>\n",
              "\n",
              "  <style>\n",
              "    .colab-df-container {\n",
              "      display:flex;\n",
              "      gap: 12px;\n",
              "    }\n",
              "\n",
              "    .colab-df-convert {\n",
              "      background-color: #E8F0FE;\n",
              "      border: none;\n",
              "      border-radius: 50%;\n",
              "      cursor: pointer;\n",
              "      display: none;\n",
              "      fill: #1967D2;\n",
              "      height: 32px;\n",
              "      padding: 0 0 0 0;\n",
              "      width: 32px;\n",
              "    }\n",
              "\n",
              "    .colab-df-convert:hover {\n",
              "      background-color: #E2EBFA;\n",
              "      box-shadow: 0px 1px 2px rgba(60, 64, 67, 0.3), 0px 1px 3px 1px rgba(60, 64, 67, 0.15);\n",
              "      fill: #174EA6;\n",
              "    }\n",
              "\n",
              "    .colab-df-buttons div {\n",
              "      margin-bottom: 4px;\n",
              "    }\n",
              "\n",
              "    [theme=dark] .colab-df-convert {\n",
              "      background-color: #3B4455;\n",
              "      fill: #D2E3FC;\n",
              "    }\n",
              "\n",
              "    [theme=dark] .colab-df-convert:hover {\n",
              "      background-color: #434B5C;\n",
              "      box-shadow: 0px 1px 3px 1px rgba(0, 0, 0, 0.15);\n",
              "      filter: drop-shadow(0px 1px 2px rgba(0, 0, 0, 0.3));\n",
              "      fill: #FFFFFF;\n",
              "    }\n",
              "  </style>\n",
              "\n",
              "    <script>\n",
              "      const buttonEl =\n",
              "        document.querySelector('#df-1969b827-797f-488c-b34a-c8c03f67d99b button.colab-df-convert');\n",
              "      buttonEl.style.display =\n",
              "        google.colab.kernel.accessAllowed ? 'block' : 'none';\n",
              "\n",
              "      async function convertToInteractive(key) {\n",
              "        const element = document.querySelector('#df-1969b827-797f-488c-b34a-c8c03f67d99b');\n",
              "        const dataTable =\n",
              "          await google.colab.kernel.invokeFunction('convertToInteractive',\n",
              "                                                    [key], {});\n",
              "        if (!dataTable) return;\n",
              "\n",
              "        const docLinkHtml = 'Like what you see? Visit the ' +\n",
              "          '<a target=\"_blank\" href=https://colab.research.google.com/notebooks/data_table.ipynb>data table notebook</a>'\n",
              "          + ' to learn more about interactive tables.';\n",
              "        element.innerHTML = '';\n",
              "        dataTable['output_type'] = 'display_data';\n",
              "        await google.colab.output.renderOutput(dataTable, element);\n",
              "        const docLink = document.createElement('div');\n",
              "        docLink.innerHTML = docLinkHtml;\n",
              "        element.appendChild(docLink);\n",
              "      }\n",
              "    </script>\n",
              "  </div>\n",
              "\n",
              "\n",
              "<div id=\"df-a1f3bad6-5397-4124-ae49-ba9ae7782608\">\n",
              "  <button class=\"colab-df-quickchart\" onclick=\"quickchart('df-a1f3bad6-5397-4124-ae49-ba9ae7782608')\"\n",
              "            title=\"Suggest charts\"\n",
              "            style=\"display:none;\">\n",
              "\n",
              "<svg xmlns=\"http://www.w3.org/2000/svg\" height=\"24px\"viewBox=\"0 0 24 24\"\n",
              "     width=\"24px\">\n",
              "    <g>\n",
              "        <path d=\"M19 3H5c-1.1 0-2 .9-2 2v14c0 1.1.9 2 2 2h14c1.1 0 2-.9 2-2V5c0-1.1-.9-2-2-2zM9 17H7v-7h2v7zm4 0h-2V7h2v10zm4 0h-2v-4h2v4z\"/>\n",
              "    </g>\n",
              "</svg>\n",
              "  </button>\n",
              "\n",
              "<style>\n",
              "  .colab-df-quickchart {\n",
              "      --bg-color: #E8F0FE;\n",
              "      --fill-color: #1967D2;\n",
              "      --hover-bg-color: #E2EBFA;\n",
              "      --hover-fill-color: #174EA6;\n",
              "      --disabled-fill-color: #AAA;\n",
              "      --disabled-bg-color: #DDD;\n",
              "  }\n",
              "\n",
              "  [theme=dark] .colab-df-quickchart {\n",
              "      --bg-color: #3B4455;\n",
              "      --fill-color: #D2E3FC;\n",
              "      --hover-bg-color: #434B5C;\n",
              "      --hover-fill-color: #FFFFFF;\n",
              "      --disabled-bg-color: #3B4455;\n",
              "      --disabled-fill-color: #666;\n",
              "  }\n",
              "\n",
              "  .colab-df-quickchart {\n",
              "    background-color: var(--bg-color);\n",
              "    border: none;\n",
              "    border-radius: 50%;\n",
              "    cursor: pointer;\n",
              "    display: none;\n",
              "    fill: var(--fill-color);\n",
              "    height: 32px;\n",
              "    padding: 0;\n",
              "    width: 32px;\n",
              "  }\n",
              "\n",
              "  .colab-df-quickchart:hover {\n",
              "    background-color: var(--hover-bg-color);\n",
              "    box-shadow: 0 1px 2px rgba(60, 64, 67, 0.3), 0 1px 3px 1px rgba(60, 64, 67, 0.15);\n",
              "    fill: var(--button-hover-fill-color);\n",
              "  }\n",
              "\n",
              "  .colab-df-quickchart-complete:disabled,\n",
              "  .colab-df-quickchart-complete:disabled:hover {\n",
              "    background-color: var(--disabled-bg-color);\n",
              "    fill: var(--disabled-fill-color);\n",
              "    box-shadow: none;\n",
              "  }\n",
              "\n",
              "  .colab-df-spinner {\n",
              "    border: 2px solid var(--fill-color);\n",
              "    border-color: transparent;\n",
              "    border-bottom-color: var(--fill-color);\n",
              "    animation:\n",
              "      spin 1s steps(1) infinite;\n",
              "  }\n",
              "\n",
              "  @keyframes spin {\n",
              "    0% {\n",
              "      border-color: transparent;\n",
              "      border-bottom-color: var(--fill-color);\n",
              "      border-left-color: var(--fill-color);\n",
              "    }\n",
              "    20% {\n",
              "      border-color: transparent;\n",
              "      border-left-color: var(--fill-color);\n",
              "      border-top-color: var(--fill-color);\n",
              "    }\n",
              "    30% {\n",
              "      border-color: transparent;\n",
              "      border-left-color: var(--fill-color);\n",
              "      border-top-color: var(--fill-color);\n",
              "      border-right-color: var(--fill-color);\n",
              "    }\n",
              "    40% {\n",
              "      border-color: transparent;\n",
              "      border-right-color: var(--fill-color);\n",
              "      border-top-color: var(--fill-color);\n",
              "    }\n",
              "    60% {\n",
              "      border-color: transparent;\n",
              "      border-right-color: var(--fill-color);\n",
              "    }\n",
              "    80% {\n",
              "      border-color: transparent;\n",
              "      border-right-color: var(--fill-color);\n",
              "      border-bottom-color: var(--fill-color);\n",
              "    }\n",
              "    90% {\n",
              "      border-color: transparent;\n",
              "      border-bottom-color: var(--fill-color);\n",
              "    }\n",
              "  }\n",
              "</style>\n",
              "\n",
              "  <script>\n",
              "    async function quickchart(key) {\n",
              "      const quickchartButtonEl =\n",
              "        document.querySelector('#' + key + ' button');\n",
              "      quickchartButtonEl.disabled = true;  // To prevent multiple clicks.\n",
              "      quickchartButtonEl.classList.add('colab-df-spinner');\n",
              "      try {\n",
              "        const charts = await google.colab.kernel.invokeFunction(\n",
              "            'suggestCharts', [key], {});\n",
              "      } catch (error) {\n",
              "        console.error('Error during call to suggestCharts:', error);\n",
              "      }\n",
              "      quickchartButtonEl.classList.remove('colab-df-spinner');\n",
              "      quickchartButtonEl.classList.add('colab-df-quickchart-complete');\n",
              "    }\n",
              "    (() => {\n",
              "      let quickchartButtonEl =\n",
              "        document.querySelector('#df-a1f3bad6-5397-4124-ae49-ba9ae7782608 button');\n",
              "      quickchartButtonEl.style.display =\n",
              "        google.colab.kernel.accessAllowed ? 'block' : 'none';\n",
              "    })();\n",
              "  </script>\n",
              "</div>\n",
              "    </div>\n",
              "  </div>\n"
            ],
            "application/vnd.google.colaboratory.intrinsic+json": {
              "type": "dataframe",
              "summary": "{\n  \"name\": \"df\",\n  \"rows\": 8,\n  \"fields\": [\n    {\n      \"column\": \"rate\",\n      \"properties\": {\n        \"dtype\": \"number\",\n        \"std\": 2625.763359718809,\n        \"min\": 1.0,\n        \"max\": 7430.0,\n        \"num_unique_values\": 5,\n        \"samples\": [\n          3.734454912516824,\n          1.8150104577357375,\n          1.0\n        ],\n        \"semantic_type\": \"\",\n        \"description\": \"\"\n      }\n    },\n    {\n      \"column\": \"date\",\n      \"properties\": {\n        \"dtype\": \"date\",\n        \"min\": \"1970-01-01 00:00:00.000007430\",\n        \"max\": \"2024-09-22 00:00:00\",\n        \"num_unique_values\": 7,\n        \"samples\": [\n          \"7430\",\n          \"2024-06-11 00:18:36.339165696\",\n          \"2024-08-18 00:00:00\"\n        ],\n        \"semantic_type\": \"\",\n        \"description\": \"\"\n      }\n    }\n  ]\n}"
            }
          },
          "metadata": {},
          "execution_count": 20
        }
      ]
    },
    {
      "cell_type": "code",
      "source": [
        "mean_value = round(df.describe()[\"rate\"][\"mean\"], 2)\n",
        "mean_value"
      ],
      "metadata": {
        "colab": {
          "base_uri": "https://localhost:8080/"
        },
        "id": "ROpZc2UYXxCR",
        "outputId": "2dee6c8c-0104-4de5-9b6f-21def519b3db"
      },
      "execution_count": null,
      "outputs": [
        {
          "output_type": "execute_result",
          "data": {
            "text/plain": [
              "3.73"
            ]
          },
          "metadata": {},
          "execution_count": 21
        }
      ]
    },
    {
      "cell_type": "markdown",
      "source": [
        "В результате обработки данных:\n",
        "* размерность датасета стала `(7430, 5)` - удалили `2131` строки;\n",
        "* средняя оценка по выборке стала `3.73` - выросла на `0,15`;\n",
        "* были удалены дубликаты отзывов;\n",
        "* были удалены строки, в котрых дата была указана неправильно;\n",
        "* были удалены организации, у которых количество отзывов было меньше 100."
      ],
      "metadata": {
        "id": "LdTwrjAxAkny"
      }
    },
    {
      "cell_type": "markdown",
      "source": [
        "## Анализ предметной область (графики)"
      ],
      "metadata": {
        "id": "KbTF0qsxYYLO"
      }
    },
    {
      "cell_type": "markdown",
      "source": [
        "### График 1\n",
        "Для первого графика мы возьмем топ 5 банков/организаций, основываясь на их средней оценке и выведем количество отзывов."
      ],
      "metadata": {
        "id": "Jowuy_96KNR6"
      }
    },
    {
      "cell_type": "code",
      "source": [
        "# сгруппируем данные по столбцу bank\n",
        "df_group_by_bank = df.groupby(\"bank\").rate.mean()\n",
        "df_group_by_bank\n",
        "# # отсортируем полученные данные по убыванию и возьмем первые 5\n",
        "df_group_by_bank_sort = df_group_by_bank.sort_values(ascending=False)\n",
        "df_group_by_bank_sort.head()"
      ],
      "metadata": {
        "id": "Ap6C4FrVYbLy",
        "colab": {
          "base_uri": "https://localhost:8080/",
          "height": 272
        },
        "outputId": "1c261d7f-29ea-48ef-9eaf-efae692ca156"
      },
      "execution_count": null,
      "outputs": [
        {
          "output_type": "execute_result",
          "data": {
            "text/plain": [
              "bank\n",
              "Совкомбанк Страхование Жизни    4.866379\n",
              "КАПИТАЛ LIFE                    4.637755\n",
              "Совкомбанк Страхование          4.625381\n",
              "Т-Страхование                   4.429542\n",
              "Сбербанк страхование            4.064963\n",
              "Name: rate, dtype: float64"
            ],
            "text/html": [
              "<div>\n",
              "<style scoped>\n",
              "    .dataframe tbody tr th:only-of-type {\n",
              "        vertical-align: middle;\n",
              "    }\n",
              "\n",
              "    .dataframe tbody tr th {\n",
              "        vertical-align: top;\n",
              "    }\n",
              "\n",
              "    .dataframe thead th {\n",
              "        text-align: right;\n",
              "    }\n",
              "</style>\n",
              "<table border=\"1\" class=\"dataframe\">\n",
              "  <thead>\n",
              "    <tr style=\"text-align: right;\">\n",
              "      <th></th>\n",
              "      <th>rate</th>\n",
              "    </tr>\n",
              "    <tr>\n",
              "      <th>bank</th>\n",
              "      <th></th>\n",
              "    </tr>\n",
              "  </thead>\n",
              "  <tbody>\n",
              "    <tr>\n",
              "      <th>Совкомбанк Страхование Жизни</th>\n",
              "      <td>4.866379</td>\n",
              "    </tr>\n",
              "    <tr>\n",
              "      <th>КАПИТАЛ LIFE</th>\n",
              "      <td>4.637755</td>\n",
              "    </tr>\n",
              "    <tr>\n",
              "      <th>Совкомбанк Страхование</th>\n",
              "      <td>4.625381</td>\n",
              "    </tr>\n",
              "    <tr>\n",
              "      <th>Т-Страхование</th>\n",
              "      <td>4.429542</td>\n",
              "    </tr>\n",
              "    <tr>\n",
              "      <th>Сбербанк страхование</th>\n",
              "      <td>4.064963</td>\n",
              "    </tr>\n",
              "  </tbody>\n",
              "</table>\n",
              "</div><br><label><b>dtype:</b> float64</label>"
            ]
          },
          "metadata": {},
          "execution_count": 22
        }
      ]
    },
    {
      "cell_type": "code",
      "source": [
        "top_5_org_by_rate = list(df_group_by_bank_sort.index)[:5]\n",
        "\n",
        "# подсчитываем, сколько отзывов у каждой организации\n",
        "number_of_rates = df.groupby(\"bank\").review.count()\n",
        "\n",
        "#\n",
        "filtered_rates = number_of_rates.loc[number_of_rates.index.isin(top_5_org_by_rate)]\n",
        "filtered_rates"
      ],
      "metadata": {
        "id": "M0TdKTeLPihe",
        "colab": {
          "base_uri": "https://localhost:8080/",
          "height": 272
        },
        "collapsed": true,
        "outputId": "13b9e171-9448-4711-a1f9-3b93b368e0d7"
      },
      "execution_count": null,
      "outputs": [
        {
          "output_type": "execute_result",
          "data": {
            "text/plain": [
              "bank\n",
              "КАПИТАЛ LIFE                     196\n",
              "Сбербанк страхование             939\n",
              "Совкомбанк Страхование           985\n",
              "Совкомбанк Страхование Жизни     232\n",
              "Т-Страхование                   2207\n",
              "Name: review, dtype: int64"
            ],
            "text/html": [
              "<div>\n",
              "<style scoped>\n",
              "    .dataframe tbody tr th:only-of-type {\n",
              "        vertical-align: middle;\n",
              "    }\n",
              "\n",
              "    .dataframe tbody tr th {\n",
              "        vertical-align: top;\n",
              "    }\n",
              "\n",
              "    .dataframe thead th {\n",
              "        text-align: right;\n",
              "    }\n",
              "</style>\n",
              "<table border=\"1\" class=\"dataframe\">\n",
              "  <thead>\n",
              "    <tr style=\"text-align: right;\">\n",
              "      <th></th>\n",
              "      <th>review</th>\n",
              "    </tr>\n",
              "    <tr>\n",
              "      <th>bank</th>\n",
              "      <th></th>\n",
              "    </tr>\n",
              "  </thead>\n",
              "  <tbody>\n",
              "    <tr>\n",
              "      <th>КАПИТАЛ LIFE</th>\n",
              "      <td>196</td>\n",
              "    </tr>\n",
              "    <tr>\n",
              "      <th>Сбербанк страхование</th>\n",
              "      <td>939</td>\n",
              "    </tr>\n",
              "    <tr>\n",
              "      <th>Совкомбанк Страхование</th>\n",
              "      <td>985</td>\n",
              "    </tr>\n",
              "    <tr>\n",
              "      <th>Совкомбанк Страхование Жизни</th>\n",
              "      <td>232</td>\n",
              "    </tr>\n",
              "    <tr>\n",
              "      <th>Т-Страхование</th>\n",
              "      <td>2207</td>\n",
              "    </tr>\n",
              "  </tbody>\n",
              "</table>\n",
              "</div><br><label><b>dtype:</b> int64</label>"
            ]
          },
          "metadata": {},
          "execution_count": 23
        }
      ]
    },
    {
      "cell_type": "code",
      "source": [
        "filtered_rates.plot(kind = \"barh\", color = \"greenyellow\")\n",
        "plt.title(\"Количество отзывов для топ 5 организаций\")\n",
        "plt.axvline(x = mean_number_of_reviews, color = \"red\", linestyle = \"dotted\")\n",
        "plt.text(x=mean_number_of_reviews, y=-1.5, s=str(mean_number_of_reviews), rotation=\"vertical\")\n",
        "plt.grid()\n",
        "plt.show()"
      ],
      "metadata": {
        "colab": {
          "base_uri": "https://localhost:8080/",
          "height": 505
        },
        "id": "m_Ku9Igde_tJ",
        "outputId": "bd97c6b7-eb06-4ca5-f85a-48dc1d4c19d4"
      },
      "execution_count": null,
      "outputs": [
        {
          "output_type": "display_data",
          "data": {
            "text/plain": [
              "<Figure size 640x480 with 1 Axes>"
            ],
            "image/png": "[encoded data removed]"
          },
          "metadata": {}
        }
      ]
    },
    {
      "cell_type": "markdown",
      "source": [
        "**Вывод:**\n",
        "\n",
        "На диаграмме(которая показывает количество отзывов об организациях с наиболее высокой средней оценкой) видно, что\n",
        "* люди чаще всего пишут отзывы про организацию `Т-Страхование` (отзывов больше 2000);\n",
        "* у банков/организаций - `Т-Страхование`, `Совкомбанк Страхование`, `Сбербанк страхование` - отзывов больше, чем среднее число отзывов по организациям выборки;\n",
        "* самый популярный банк/организация - `Т-Страхование`;\n",
        "* количество отзывов о `Совкомбн Страхование Жизни` и `КАПИТАЛ LIFE` сильно ниже среднего значения."
      ],
      "metadata": {
        "id": "Rl1ZVBMLcDxs"
      }
    },
    {
      "cell_type": "markdown",
      "source": [
        "### График 2\n",
        "Для второго графика мы возьмем топ 5 банков/организаций, основываясь количестве оценнок и выведем среднюю оценку по их отзывам.\n",
        "\n",
        "Данный график отражает более объективную картину, в отличие от предыдущего, так как 5 банков выбираются на основе отзывов (чем больше отзывов, тем объективнее будет средняя оценка)."
      ],
      "metadata": {
        "id": "Xkl6kKhejM7V"
      }
    },
    {
      "cell_type": "code",
      "source": [
        "# средние оценки отзывов для топ 5 банков/организаций\n",
        "# топ 5 по количеству оценок\n",
        "\n",
        "# сгруппируем данные по столбцу bank\n",
        "df_group_by_bank_2 = df.groupby(\"bank\").rate.count()\n",
        "\n",
        "# отсортируем полученные данные по убыванию и возьмем первые 5\n",
        "df_group_by_bank_sort_2 = df_group_by_bank_2.sort_values(ascending=False)\n",
        "print(\"Количество отзывов в топ 5 организаций\")\n",
        "df_group_by_bank_sort_2.head()"
      ],
      "metadata": {
        "id": "ryKT9x1GCb7N",
        "colab": {
          "base_uri": "https://localhost:8080/"
        },
        "outputId": "14c4582e-b733-47d9-943c-dba4d5a19fdf",
        "collapsed": true
      },
      "execution_count": null,
      "outputs": [
        {
          "output_type": "stream",
          "name": "stdout",
          "text": [
            "Количество отзывов в топ 5 организаций\n"
          ]
        },
        {
          "output_type": "execute_result",
          "data": {
            "text/plain": [
              "bank\n",
              "Т-Страхование             2207\n",
              "Совкомбанк Страхование     985\n",
              "Сбербанк страхование       939\n",
              "АльфаСтрахование-Жизнь     399\n",
              "Ренессанс Жизнь            383\n",
              "Name: rate, dtype: int64"
            ],
            "text/html": [
              "<div>\n",
              "<style scoped>\n",
              "    .dataframe tbody tr th:only-of-type {\n",
              "        vertical-align: middle;\n",
              "    }\n",
              "\n",
              "    .dataframe tbody tr th {\n",
              "        vertical-align: top;\n",
              "    }\n",
              "\n",
              "    .dataframe thead th {\n",
              "        text-align: right;\n",
              "    }\n",
              "</style>\n",
              "<table border=\"1\" class=\"dataframe\">\n",
              "  <thead>\n",
              "    <tr style=\"text-align: right;\">\n",
              "      <th></th>\n",
              "      <th>rate</th>\n",
              "    </tr>\n",
              "    <tr>\n",
              "      <th>bank</th>\n",
              "      <th></th>\n",
              "    </tr>\n",
              "  </thead>\n",
              "  <tbody>\n",
              "    <tr>\n",
              "      <th>Т-Страхование</th>\n",
              "      <td>2207</td>\n",
              "    </tr>\n",
              "    <tr>\n",
              "      <th>Совкомбанк Страхование</th>\n",
              "      <td>985</td>\n",
              "    </tr>\n",
              "    <tr>\n",
              "      <th>Сбербанк страхование</th>\n",
              "      <td>939</td>\n",
              "    </tr>\n",
              "    <tr>\n",
              "      <th>АльфаСтрахование-Жизнь</th>\n",
              "      <td>399</td>\n",
              "    </tr>\n",
              "    <tr>\n",
              "      <th>Ренессанс Жизнь</th>\n",
              "      <td>383</td>\n",
              "    </tr>\n",
              "  </tbody>\n",
              "</table>\n",
              "</div><br><label><b>dtype:</b> int64</label>"
            ]
          },
          "metadata": {},
          "execution_count": 25
        }
      ]
    },
    {
      "cell_type": "code",
      "source": [
        "top_5_org_by_rate_2 = list(df_group_by_bank_sort_2.index)[:5]\n",
        "top_5_org_by_rate_2"
      ],
      "metadata": {
        "colab": {
          "base_uri": "https://localhost:8080/"
        },
        "id": "ChjPCiO3lhLj",
        "outputId": "881eb267-b473-45da-825c-fa788a3bdcfc",
        "collapsed": true
      },
      "execution_count": null,
      "outputs": [
        {
          "output_type": "execute_result",
          "data": {
            "text/plain": [
              "['Т-Страхование',\n",
              " 'Совкомбанк Страхование',\n",
              " 'Сбербанк страхование',\n",
              " 'АльфаСтрахование-Жизнь',\n",
              " 'Ренессанс Жизнь']"
            ]
          },
          "metadata": {},
          "execution_count": 26
        }
      ]
    },
    {
      "cell_type": "code",
      "source": [
        "mean_value_of_rates = df.groupby([\"bank\"]).rate.mean()\n",
        "\n",
        "filtered_rates_2 = mean_value_of_rates.loc[mean_value_of_rates.index.isin(top_5_org_by_rate_2)]\n",
        "filtered_rates_2"
      ],
      "metadata": {
        "colab": {
          "base_uri": "https://localhost:8080/"
        },
        "id": "z_OJZ3zplhIy",
        "outputId": "eba8dfae-a3c6-400e-b58f-a46c9fb094a4",
        "collapsed": true
      },
      "execution_count": null,
      "outputs": [
        {
          "output_type": "execute_result",
          "data": {
            "text/plain": [
              "bank\n",
              "АльфаСтрахование-Жизнь    2.538847\n",
              "Ренессанс Жизнь           3.765013\n",
              "Сбербанк страхование      4.064963\n",
              "Совкомбанк Страхование    4.625381\n",
              "Т-Страхование             4.429542\n",
              "Name: rate, dtype: float64"
            ],
            "text/html": [
              "<div>\n",
              "<style scoped>\n",
              "    .dataframe tbody tr th:only-of-type {\n",
              "        vertical-align: middle;\n",
              "    }\n",
              "\n",
              "    .dataframe tbody tr th {\n",
              "        vertical-align: top;\n",
              "    }\n",
              "\n",
              "    .dataframe thead th {\n",
              "        text-align: right;\n",
              "    }\n",
              "</style>\n",
              "<table border=\"1\" class=\"dataframe\">\n",
              "  <thead>\n",
              "    <tr style=\"text-align: right;\">\n",
              "      <th></th>\n",
              "      <th>rate</th>\n",
              "    </tr>\n",
              "    <tr>\n",
              "      <th>bank</th>\n",
              "      <th></th>\n",
              "    </tr>\n",
              "  </thead>\n",
              "  <tbody>\n",
              "    <tr>\n",
              "      <th>АльфаСтрахование-Жизнь</th>\n",
              "      <td>2.538847</td>\n",
              "    </tr>\n",
              "    <tr>\n",
              "      <th>Ренессанс Жизнь</th>\n",
              "      <td>3.765013</td>\n",
              "    </tr>\n",
              "    <tr>\n",
              "      <th>Сбербанк страхование</th>\n",
              "      <td>4.064963</td>\n",
              "    </tr>\n",
              "    <tr>\n",
              "      <th>Совкомбанк Страхование</th>\n",
              "      <td>4.625381</td>\n",
              "    </tr>\n",
              "    <tr>\n",
              "      <th>Т-Страхование</th>\n",
              "      <td>4.429542</td>\n",
              "    </tr>\n",
              "  </tbody>\n",
              "</table>\n",
              "</div><br><label><b>dtype:</b> float64</label>"
            ]
          },
          "metadata": {},
          "execution_count": 27
        }
      ]
    },
    {
      "cell_type": "code",
      "source": [
        "filtered_rates_2.plot(kind = \"barh\", color = \"greenyellow\")\n",
        "plt.title(\"Средние оценки для топ 5 организаций\")\n",
        "plt.grid()\n",
        "plt.axvline(x = mean_value, color = \"red\", linestyle = \"dotted\")\n",
        "plt.text(x=mean_value, y=-1, s=str(mean_value), rotation=\"vertical\")\n",
        "plt.show()"
      ],
      "metadata": {
        "colab": {
          "base_uri": "https://localhost:8080/"
        },
        "id": "RBU-JZTGlhGb",
        "outputId": "80c11442-754d-4f15-f8b8-66768e419ffc"
      },
      "execution_count": null,
      "outputs": [
        {
          "output_type": "display_data",
          "data": {
            "text/plain": [
              "<Figure size 640x480 with 1 Axes>"
            ],
            "image/png": "[encoded data removed]"
          },
          "metadata": {}
        }
      ]
    },
    {
      "cell_type": "markdown",
      "source": [
        "**Вывод:**\n",
        "\n",
        "На графике видно:\n",
        "* 4 организации - `Т-Страхование`, `Совкомбанк Страхование`, `Сбербанк страхование`, `Ренесанс Жизнь` - имеют оценку выше средней по общей выборке;\n",
        "* 3 организации - `Т-Страхование`, `Совкомбанк Страхование`, `Сбербанк страхование` - имеют среднюю оценку выше 4, то есть «Хорошо»;\n",
        "* самая низкая оценка (намного ниже средней - ≈2,5) у `АльфаСтрахование-Жизнь`."
      ],
      "metadata": {
        "id": "vTFql061qQqn"
      }
    },
    {
      "cell_type": "markdown",
      "source": [
        "Для более детального анализа зависимости средней оценки и количества отзывов нарисуем еще 1 график."
      ],
      "metadata": {
        "id": "AS-NUyBx5ZMB"
      }
    },
    {
      "cell_type": "markdown",
      "source": [
        "### График 3\n",
        "Для третьего графика мы возьмем топ 5 банков/организаций, основываясь количестве оценнок и выведем среднюю оценку по их отзывам."
      ],
      "metadata": {
        "id": "xF8yOrW6Oe_I"
      }
    },
    {
      "cell_type": "code",
      "source": [
        "# выводим среднюю оценку всех банков/организаций\n",
        "all_mean_rates = df.groupby([\"bank\"]).rate.mean()\n",
        "all_mean_rates"
      ],
      "metadata": {
        "id": "Ndx-yBFcOfxh",
        "colab": {
          "base_uri": "https://localhost:8080/",
          "height": 554
        },
        "outputId": "c83e455f-5ace-4dc9-e743-a368292fbee4"
      },
      "execution_count": null,
      "outputs": [
        {
          "output_type": "execute_result",
          "data": {
            "text/plain": [
              "bank\n",
              "АльфаСтрахование                1.386503\n",
              "АльфаСтрахование-Жизнь          2.538847\n",
              "ВСК                             2.850000\n",
              "Ингосстрах                      3.014286\n",
              "КАПИТАЛ LIFE                    4.637755\n",
              "Ренессанс                       2.432886\n",
              "Ренессанс Жизнь                 3.765013\n",
              "Росгосстрах                     1.860825\n",
              "СОГАЗ                           3.155556\n",
              "Сбербанк страхование            4.064963\n",
              "Сбербанк страхование жизни      2.007968\n",
              "Совкомбанк Страхование          4.625381\n",
              "Совкомбанк Страхование Жизни    4.866379\n",
              "Т-Страхование                   4.429542\n",
              "Name: rate, dtype: float64"
            ],
            "text/html": [
              "<div>\n",
              "<style scoped>\n",
              "    .dataframe tbody tr th:only-of-type {\n",
              "        vertical-align: middle;\n",
              "    }\n",
              "\n",
              "    .dataframe tbody tr th {\n",
              "        vertical-align: top;\n",
              "    }\n",
              "\n",
              "    .dataframe thead th {\n",
              "        text-align: right;\n",
              "    }\n",
              "</style>\n",
              "<table border=\"1\" class=\"dataframe\">\n",
              "  <thead>\n",
              "    <tr style=\"text-align: right;\">\n",
              "      <th></th>\n",
              "      <th>rate</th>\n",
              "    </tr>\n",
              "    <tr>\n",
              "      <th>bank</th>\n",
              "      <th></th>\n",
              "    </tr>\n",
              "  </thead>\n",
              "  <tbody>\n",
              "    <tr>\n",
              "      <th>АльфаСтрахование</th>\n",
              "      <td>1.386503</td>\n",
              "    </tr>\n",
              "    <tr>\n",
              "      <th>АльфаСтрахование-Жизнь</th>\n",
              "      <td>2.538847</td>\n",
              "    </tr>\n",
              "    <tr>\n",
              "      <th>ВСК</th>\n",
              "      <td>2.850000</td>\n",
              "    </tr>\n",
              "    <tr>\n",
              "      <th>Ингосстрах</th>\n",
              "      <td>3.014286</td>\n",
              "    </tr>\n",
              "    <tr>\n",
              "      <th>КАПИТАЛ LIFE</th>\n",
              "      <td>4.637755</td>\n",
              "    </tr>\n",
              "    <tr>\n",
              "      <th>Ренессанс</th>\n",
              "      <td>2.432886</td>\n",
              "    </tr>\n",
              "    <tr>\n",
              "      <th>Ренессанс Жизнь</th>\n",
              "      <td>3.765013</td>\n",
              "    </tr>\n",
              "    <tr>\n",
              "      <th>Росгосстрах</th>\n",
              "      <td>1.860825</td>\n",
              "    </tr>\n",
              "    <tr>\n",
              "      <th>СОГАЗ</th>\n",
              "      <td>3.155556</td>\n",
              "    </tr>\n",
              "    <tr>\n",
              "      <th>Сбербанк страхование</th>\n",
              "      <td>4.064963</td>\n",
              "    </tr>\n",
              "    <tr>\n",
              "      <th>Сбербанк страхование жизни</th>\n",
              "      <td>2.007968</td>\n",
              "    </tr>\n",
              "    <tr>\n",
              "      <th>Совкомбанк Страхование</th>\n",
              "      <td>4.625381</td>\n",
              "    </tr>\n",
              "    <tr>\n",
              "      <th>Совкомбанк Страхование Жизни</th>\n",
              "      <td>4.866379</td>\n",
              "    </tr>\n",
              "    <tr>\n",
              "      <th>Т-Страхование</th>\n",
              "      <td>4.429542</td>\n",
              "    </tr>\n",
              "  </tbody>\n",
              "</table>\n",
              "</div><br><label><b>dtype:</b> float64</label>"
            ]
          },
          "metadata": {},
          "execution_count": 29
        }
      ]
    },
    {
      "cell_type": "code",
      "source": [
        "# выводим количество отзывов всех банков/организаций\n",
        "all_reviews = df.groupby([\"bank\"]).review.count()\n",
        "all_reviews"
      ],
      "metadata": {
        "id": "czOgAkaLOgSx",
        "colab": {
          "base_uri": "https://localhost:8080/",
          "height": 554
        },
        "outputId": "5f544f39-a921-4df9-8779-cad8a9aac7af"
      },
      "execution_count": null,
      "outputs": [
        {
          "output_type": "execute_result",
          "data": {
            "text/plain": [
              "bank\n",
              "АльфаСтрахование                 326\n",
              "АльфаСтрахование-Жизнь           399\n",
              "ВСК                              380\n",
              "Ингосстрах                       280\n",
              "КАПИТАЛ LIFE                     196\n",
              "Ренессанс                        298\n",
              "Ренессанс Жизнь                  383\n",
              "Росгосстрах                      194\n",
              "СОГАЗ                            360\n",
              "Сбербанк страхование             939\n",
              "Сбербанк страхование жизни       251\n",
              "Совкомбанк Страхование           985\n",
              "Совкомбанк Страхование Жизни     232\n",
              "Т-Страхование                   2207\n",
              "Name: review, dtype: int64"
            ],
            "text/html": [
              "<div>\n",
              "<style scoped>\n",
              "    .dataframe tbody tr th:only-of-type {\n",
              "        vertical-align: middle;\n",
              "    }\n",
              "\n",
              "    .dataframe tbody tr th {\n",
              "        vertical-align: top;\n",
              "    }\n",
              "\n",
              "    .dataframe thead th {\n",
              "        text-align: right;\n",
              "    }\n",
              "</style>\n",
              "<table border=\"1\" class=\"dataframe\">\n",
              "  <thead>\n",
              "    <tr style=\"text-align: right;\">\n",
              "      <th></th>\n",
              "      <th>review</th>\n",
              "    </tr>\n",
              "    <tr>\n",
              "      <th>bank</th>\n",
              "      <th></th>\n",
              "    </tr>\n",
              "  </thead>\n",
              "  <tbody>\n",
              "    <tr>\n",
              "      <th>АльфаСтрахование</th>\n",
              "      <td>326</td>\n",
              "    </tr>\n",
              "    <tr>\n",
              "      <th>АльфаСтрахование-Жизнь</th>\n",
              "      <td>399</td>\n",
              "    </tr>\n",
              "    <tr>\n",
              "      <th>ВСК</th>\n",
              "      <td>380</td>\n",
              "    </tr>\n",
              "    <tr>\n",
              "      <th>Ингосстрах</th>\n",
              "      <td>280</td>\n",
              "    </tr>\n",
              "    <tr>\n",
              "      <th>КАПИТАЛ LIFE</th>\n",
              "      <td>196</td>\n",
              "    </tr>\n",
              "    <tr>\n",
              "      <th>Ренессанс</th>\n",
              "      <td>298</td>\n",
              "    </tr>\n",
              "    <tr>\n",
              "      <th>Ренессанс Жизнь</th>\n",
              "      <td>383</td>\n",
              "    </tr>\n",
              "    <tr>\n",
              "      <th>Росгосстрах</th>\n",
              "      <td>194</td>\n",
              "    </tr>\n",
              "    <tr>\n",
              "      <th>СОГАЗ</th>\n",
              "      <td>360</td>\n",
              "    </tr>\n",
              "    <tr>\n",
              "      <th>Сбербанк страхование</th>\n",
              "      <td>939</td>\n",
              "    </tr>\n",
              "    <tr>\n",
              "      <th>Сбербанк страхование жизни</th>\n",
              "      <td>251</td>\n",
              "    </tr>\n",
              "    <tr>\n",
              "      <th>Совкомбанк Страхование</th>\n",
              "      <td>985</td>\n",
              "    </tr>\n",
              "    <tr>\n",
              "      <th>Совкомбанк Страхование Жизни</th>\n",
              "      <td>232</td>\n",
              "    </tr>\n",
              "    <tr>\n",
              "      <th>Т-Страхование</th>\n",
              "      <td>2207</td>\n",
              "    </tr>\n",
              "  </tbody>\n",
              "</table>\n",
              "</div><br><label><b>dtype:</b> int64</label>"
            ]
          },
          "metadata": {},
          "execution_count": 30
        }
      ]
    },
    {
      "cell_type": "code",
      "source": [
        "colors = [\"red\" if rate < mean_value else \"greenyellow\" for rate in all_mean_rates]\n",
        "\n",
        "plt.figure(figsize=(10, 10))\n",
        "all_reviews.sort_values(ascending=True).plot(kind = \"barh\", color = colors)\n",
        "plt.title(\"Зависимость отзывов и средней оценки у банков/организаций\")\n",
        "\n",
        "for i, (value, mean_value) in enumerate(zip(all_reviews.sort_values(ascending=True), all_mean_rates)):\n",
        "    plt.text(value + 5, i, f\"{mean_value:.2f}\", va='center_baseline')\n",
        "\n",
        "plt.axvline(x = 530, color = \"red\", linestyle = \"dotted\")\n",
        "plt.text(x=mean_number_of_reviews, y=-1.5, s=str(mean_number_of_reviews), rotation=\"vertical\")\n",
        "plt.grid()\n",
        "plt.show()"
      ],
      "metadata": {
        "id": "26iTI0mjOgO4",
        "colab": {
          "base_uri": "https://localhost:8080/",
          "height": 887
        },
        "outputId": "cd812eea-9f1e-49f1-d9c3-e2658086aebe"
      },
      "execution_count": null,
      "outputs": [
        {
          "output_type": "display_data",
          "data": {
            "text/plain": [
              "<Figure size 1000x1000 with 1 Axes>"
            ],
            "image/png": "[encoded data removed]"
          },
          "metadata": {}
        }
      ]
    },
    {
      "cell_type": "markdown",
      "source": [
        "**Вывод**\n",
        "\n",
        "На диаграмме отображена зависимость между количеством отзывов и средней оценки у организаци.\n",
        "\n",
        "* красная пунктирная линия - среднее количество отзывов по всем организациям;\n",
        "* у трех организаций количество отзывов выше среднего показателя: `Т-Страхование`, `Совкомбанк Страхование` и `Сбербанк Страхование`;\n",
        "* красным цветом выделены организации, у которых средняя оценка ниже среднего показателя, зеленым - выше.\n",
        "\n",
        "Следовательно, чаще всего люди пользуются, оставляют отзывы и ставят положительную оценку организациям:Т-Страхование,Совкомбанк Страхование и Сбербанк Страхование"
      ],
      "metadata": {
        "id": "f6yC2WZF9NyQ"
      }
    },
    {
      "cell_type": "code",
      "source": [
        "# Сравнение отзывов по положительным и отрицательным оценкам"
      ],
      "metadata": {
        "id": "ENUBr0djOgH7"
      },
      "execution_count": null,
      "outputs": []
    },
    {
      "cell_type": "code",
      "source": [
        "# топ 5 дат - дни недели - средние оценки/количество оценок"
      ],
      "metadata": {
        "id": "bjKUhHteCb47"
      },
      "execution_count": null,
      "outputs": []
    },
    {
      "cell_type": "code",
      "source": [
        "# средняя оценка по датам/месяцам"
      ],
      "metadata": {
        "id": "h-1d4N0wCb2p"
      },
      "execution_count": null,
      "outputs": []
    },
    {
      "cell_type": "markdown",
      "source": [
        "## Сравнение классов"
      ],
      "metadata": {
        "id": "H8o22e8HGlC3"
      }
    },
    {
      "cell_type": "code",
      "source": [
        "df"
      ],
      "metadata": {
        "id": "syCzLVFJCb0h",
        "colab": {
          "base_uri": "https://localhost:8080/",
          "height": 423
        },
        "outputId": "03091d71-e35f-446b-d1be-ad39f3918d4f"
      },
      "execution_count": null,
      "outputs": [
        {
          "output_type": "execute_result",
          "data": {
            "text/plain": [
              "                                                 header  \\\n",
              "0                            Хорошая страховая компания   \n",
              "1                                          За стразовку   \n",
              "2                        Как я пришел за ОСАГО в Т-Банк   \n",
              "3                                         ОСАГО+КАСКОGO   \n",
              "4             Обман сбербанк страхование семейный актив   \n",
              "...                                                 ...   \n",
              "9554                               Тинькофф страхование   \n",
              "9556  Мне предоставили хорошую скидку на страховку ж...   \n",
              "9557                              Мой выбор - Ренессанс   \n",
              "9558                               Защита в пути, КАСКО   \n",
              "9560                                       Самые лучшие   \n",
              "\n",
              "                            bank  \\\n",
              "0                  Т-Страхование   \n",
              "1         Совкомбанк Страхование   \n",
              "2                  Т-Страхование   \n",
              "3               АльфаСтрахование   \n",
              "4     Сбербанк страхование жизни   \n",
              "...                          ...   \n",
              "9554               Т-Страхование   \n",
              "9556               Т-Страхование   \n",
              "9557                   Ренессанс   \n",
              "9558        Сбербанк страхование   \n",
              "9560               Т-Страхование   \n",
              "\n",
              "                                                 review  rate       date  \n",
              "0     Оформили каско и не пожалели !  Когда случилос...     5 2024-09-22  \n",
              "1     Самая дешёвая страховка из всех, в Совкомбанк....     4 2024-09-22  \n",
              "2     Здравствуйте уважаемые СММщики Т-Банка. Пришел...     1 2024-09-22  \n",
              "3     Добрый вечер, один свой автомобиль застраховал...     5 2024-09-22  \n",
              "4     Дорогие человеки,ни в коем случае не связывайт...     1 2024-09-22  \n",
              "...                                                 ...   ...        ...  \n",
              "9554  Все прошло быстро, деньги поступили на карту у...     5 2024-01-21  \n",
              "9556  Позвонили с Тинькофф Страхования. У меня оформ...     5 2024-01-20  \n",
              "9557  Здравствуйте! Не всегда принято оставлять поло...     5 2024-01-20  \n",
              "9558  26.12.23 приобрёл автомобиль в кредит в Драйв ...     1 2024-01-20  \n",
              "9560  20.01.24 произошло ДТП, примерно в 10.00, вызв...     5 2024-01-20  \n",
              "\n",
              "[7430 rows x 5 columns]"
            ],
            "text/html": [
              "\n",
              "  <div id=\"df-a6cfcb33-7c9d-40f9-98db-b150af2b18b2\" class=\"colab-df-container\">\n",
              "    <div>\n",
              "<style scoped>\n",
              "    .dataframe tbody tr th:only-of-type {\n",
              "        vertical-align: middle;\n",
              "    }\n",
              "\n",
              "    .dataframe tbody tr th {\n",
              "        vertical-align: top;\n",
              "    }\n",
              "\n",
              "    .dataframe thead th {\n",
              "        text-align: right;\n",
              "    }\n",
              "</style>\n",
              "<table border=\"1\" class=\"dataframe\">\n",
              "  <thead>\n",
              "    <tr style=\"text-align: right;\">\n",
              "      <th></th>\n",
              "      <th>header</th>\n",
              "      <th>bank</th>\n",
              "      <th>review</th>\n",
              "      <th>rate</th>\n",
              "      <th>date</th>\n",
              "    </tr>\n",
              "  </thead>\n",
              "  <tbody>\n",
              "    <tr>\n",
              "      <th>0</th>\n",
              "      <td>Хорошая страховая компания</td>\n",
              "      <td>Т-Страхование</td>\n",
              "      <td>Оформили каско и не пожалели !  Когда случилос...</td>\n",
              "      <td>5</td>\n",
              "      <td>2024-09-22</td>\n",
              "    </tr>\n",
              "    <tr>\n",
              "      <th>1</th>\n",
              "      <td>За стразовку</td>\n",
              "      <td>Совкомбанк Страхование</td>\n",
              "      <td>Самая дешёвая страховка из всех, в Совкомбанк....</td>\n",
              "      <td>4</td>\n",
              "      <td>2024-09-22</td>\n",
              "    </tr>\n",
              "    <tr>\n",
              "      <th>2</th>\n",
              "      <td>Как я пришел за ОСАГО в Т-Банк</td>\n",
              "      <td>Т-Страхование</td>\n",
              "      <td>Здравствуйте уважаемые СММщики Т-Банка. Пришел...</td>\n",
              "      <td>1</td>\n",
              "      <td>2024-09-22</td>\n",
              "    </tr>\n",
              "    <tr>\n",
              "      <th>3</th>\n",
              "      <td>ОСАГО+КАСКОGO</td>\n",
              "      <td>АльфаСтрахование</td>\n",
              "      <td>Добрый вечер, один свой автомобиль застраховал...</td>\n",
              "      <td>5</td>\n",
              "      <td>2024-09-22</td>\n",
              "    </tr>\n",
              "    <tr>\n",
              "      <th>4</th>\n",
              "      <td>Обман сбербанк страхование семейный актив</td>\n",
              "      <td>Сбербанк страхование жизни</td>\n",
              "      <td>Дорогие человеки,ни в коем случае не связывайт...</td>\n",
              "      <td>1</td>\n",
              "      <td>2024-09-22</td>\n",
              "    </tr>\n",
              "    <tr>\n",
              "      <th>...</th>\n",
              "      <td>...</td>\n",
              "      <td>...</td>\n",
              "      <td>...</td>\n",
              "      <td>...</td>\n",
              "      <td>...</td>\n",
              "    </tr>\n",
              "    <tr>\n",
              "      <th>9554</th>\n",
              "      <td>Тинькофф страхование</td>\n",
              "      <td>Т-Страхование</td>\n",
              "      <td>Все прошло быстро, деньги поступили на карту у...</td>\n",
              "      <td>5</td>\n",
              "      <td>2024-01-21</td>\n",
              "    </tr>\n",
              "    <tr>\n",
              "      <th>9556</th>\n",
              "      <td>Мне предоставили хорошую скидку на страховку ж...</td>\n",
              "      <td>Т-Страхование</td>\n",
              "      <td>Позвонили с Тинькофф Страхования. У меня оформ...</td>\n",
              "      <td>5</td>\n",
              "      <td>2024-01-20</td>\n",
              "    </tr>\n",
              "    <tr>\n",
              "      <th>9557</th>\n",
              "      <td>Мой выбор - Ренессанс</td>\n",
              "      <td>Ренессанс</td>\n",
              "      <td>Здравствуйте! Не всегда принято оставлять поло...</td>\n",
              "      <td>5</td>\n",
              "      <td>2024-01-20</td>\n",
              "    </tr>\n",
              "    <tr>\n",
              "      <th>9558</th>\n",
              "      <td>Защита в пути, КАСКО</td>\n",
              "      <td>Сбербанк страхование</td>\n",
              "      <td>26.12.23 приобрёл автомобиль в кредит в Драйв ...</td>\n",
              "      <td>1</td>\n",
              "      <td>2024-01-20</td>\n",
              "    </tr>\n",
              "    <tr>\n",
              "      <th>9560</th>\n",
              "      <td>Самые лучшие</td>\n",
              "      <td>Т-Страхование</td>\n",
              "      <td>20.01.24 произошло ДТП, примерно в 10.00, вызв...</td>\n",
              "      <td>5</td>\n",
              "      <td>2024-01-20</td>\n",
              "    </tr>\n",
              "  </tbody>\n",
              "</table>\n",
              "<p>7430 rows × 5 columns</p>\n",
              "</div>\n",
              "    <div class=\"colab-df-buttons\">\n",
              "\n",
              "  <div class=\"colab-df-container\">\n",
              "    <button class=\"colab-df-convert\" onclick=\"convertToInteractive('df-a6cfcb33-7c9d-40f9-98db-b150af2b18b2')\"\n",
              "            title=\"Convert this dataframe to an interactive table.\"\n",
              "            style=\"display:none;\">\n",
              "\n",
              "  <svg xmlns=\"http://www.w3.org/2000/svg\" height=\"24px\" viewBox=\"0 -960 960 960\">\n",
              "    <path d=\"M120-120v-720h720v720H120Zm60-500h600v-160H180v160Zm220 220h160v-160H400v160Zm0 220h160v-160H400v160ZM180-400h160v-160H180v160Zm440 0h160v-160H620v160ZM180-180h160v-160H180v160Zm440 0h160v-160H620v160Z\"/>\n",
              "  </svg>\n",
              "    </button>\n",
              "\n",
              "  <style>\n",
              "    .colab-df-container {\n",
              "      display:flex;\n",
              "      gap: 12px;\n",
              "    }\n",
              "\n",
              "    .colab-df-convert {\n",
              "      background-color: #E8F0FE;\n",
              "      border: none;\n",
              "      border-radius: 50%;\n",
              "      cursor: pointer;\n",
              "      display: none;\n",
              "      fill: #1967D2;\n",
              "      height: 32px;\n",
              "      padding: 0 0 0 0;\n",
              "      width: 32px;\n",
              "    }\n",
              "\n",
              "    .colab-df-convert:hover {\n",
              "      background-color: #E2EBFA;\n",
              "      box-shadow: 0px 1px 2px rgba(60, 64, 67, 0.3), 0px 1px 3px 1px rgba(60, 64, 67, 0.15);\n",
              "      fill: #174EA6;\n",
              "    }\n",
              "\n",
              "    .colab-df-buttons div {\n",
              "      margin-bottom: 4px;\n",
              "    }\n",
              "\n",
              "    [theme=dark] .colab-df-convert {\n",
              "      background-color: #3B4455;\n",
              "      fill: #D2E3FC;\n",
              "    }\n",
              "\n",
              "    [theme=dark] .colab-df-convert:hover {\n",
              "      background-color: #434B5C;\n",
              "      box-shadow: 0px 1px 3px 1px rgba(0, 0, 0, 0.15);\n",
              "      filter: drop-shadow(0px 1px 2px rgba(0, 0, 0, 0.3));\n",
              "      fill: #FFFFFF;\n",
              "    }\n",
              "  </style>\n",
              "\n",
              "    <script>\n",
              "      const buttonEl =\n",
              "        document.querySelector('#df-a6cfcb33-7c9d-40f9-98db-b150af2b18b2 button.colab-df-convert');\n",
              "      buttonEl.style.display =\n",
              "        google.colab.kernel.accessAllowed ? 'block' : 'none';\n",
              "\n",
              "      async function convertToInteractive(key) {\n",
              "        const element = document.querySelector('#df-a6cfcb33-7c9d-40f9-98db-b150af2b18b2');\n",
              "        const dataTable =\n",
              "          await google.colab.kernel.invokeFunction('convertToInteractive',\n",
              "                                                    [key], {});\n",
              "        if (!dataTable) return;\n",
              "\n",
              "        const docLinkHtml = 'Like what you see? Visit the ' +\n",
              "          '<a target=\"_blank\" href=https://colab.research.google.com/notebooks/data_table.ipynb>data table notebook</a>'\n",
              "          + ' to learn more about interactive tables.';\n",
              "        element.innerHTML = '';\n",
              "        dataTable['output_type'] = 'display_data';\n",
              "        await google.colab.output.renderOutput(dataTable, element);\n",
              "        const docLink = document.createElement('div');\n",
              "        docLink.innerHTML = docLinkHtml;\n",
              "        element.appendChild(docLink);\n",
              "      }\n",
              "    </script>\n",
              "  </div>\n",
              "\n",
              "\n",
              "<div id=\"df-380cdacc-d1a3-4c08-8b6a-3d78c02490a7\">\n",
              "  <button class=\"colab-df-quickchart\" onclick=\"quickchart('df-380cdacc-d1a3-4c08-8b6a-3d78c02490a7')\"\n",
              "            title=\"Suggest charts\"\n",
              "            style=\"display:none;\">\n",
              "\n",
              "<svg xmlns=\"http://www.w3.org/2000/svg\" height=\"24px\"viewBox=\"0 0 24 24\"\n",
              "     width=\"24px\">\n",
              "    <g>\n",
              "        <path d=\"M19 3H5c-1.1 0-2 .9-2 2v14c0 1.1.9 2 2 2h14c1.1 0 2-.9 2-2V5c0-1.1-.9-2-2-2zM9 17H7v-7h2v7zm4 0h-2V7h2v10zm4 0h-2v-4h2v4z\"/>\n",
              "    </g>\n",
              "</svg>\n",
              "  </button>\n",
              "\n",
              "<style>\n",
              "  .colab-df-quickchart {\n",
              "      --bg-color: #E8F0FE;\n",
              "      --fill-color: #1967D2;\n",
              "      --hover-bg-color: #E2EBFA;\n",
              "      --hover-fill-color: #174EA6;\n",
              "      --disabled-fill-color: #AAA;\n",
              "      --disabled-bg-color: #DDD;\n",
              "  }\n",
              "\n",
              "  [theme=dark] .colab-df-quickchart {\n",
              "      --bg-color: #3B4455;\n",
              "      --fill-color: #D2E3FC;\n",
              "      --hover-bg-color: #434B5C;\n",
              "      --hover-fill-color: #FFFFFF;\n",
              "      --disabled-bg-color: #3B4455;\n",
              "      --disabled-fill-color: #666;\n",
              "  }\n",
              "\n",
              "  .colab-df-quickchart {\n",
              "    background-color: var(--bg-color);\n",
              "    border: none;\n",
              "    border-radius: 50%;\n",
              "    cursor: pointer;\n",
              "    display: none;\n",
              "    fill: var(--fill-color);\n",
              "    height: 32px;\n",
              "    padding: 0;\n",
              "    width: 32px;\n",
              "  }\n",
              "\n",
              "  .colab-df-quickchart:hover {\n",
              "    background-color: var(--hover-bg-color);\n",
              "    box-shadow: 0 1px 2px rgba(60, 64, 67, 0.3), 0 1px 3px 1px rgba(60, 64, 67, 0.15);\n",
              "    fill: var(--button-hover-fill-color);\n",
              "  }\n",
              "\n",
              "  .colab-df-quickchart-complete:disabled,\n",
              "  .colab-df-quickchart-complete:disabled:hover {\n",
              "    background-color: var(--disabled-bg-color);\n",
              "    fill: var(--disabled-fill-color);\n",
              "    box-shadow: none;\n",
              "  }\n",
              "\n",
              "  .colab-df-spinner {\n",
              "    border: 2px solid var(--fill-color);\n",
              "    border-color: transparent;\n",
              "    border-bottom-color: var(--fill-color);\n",
              "    animation:\n",
              "      spin 1s steps(1) infinite;\n",
              "  }\n",
              "\n",
              "  @keyframes spin {\n",
              "    0% {\n",
              "      border-color: transparent;\n",
              "      border-bottom-color: var(--fill-color);\n",
              "      border-left-color: var(--fill-color);\n",
              "    }\n",
              "    20% {\n",
              "      border-color: transparent;\n",
              "      border-left-color: var(--fill-color);\n",
              "      border-top-color: var(--fill-color);\n",
              "    }\n",
              "    30% {\n",
              "      border-color: transparent;\n",
              "      border-left-color: var(--fill-color);\n",
              "      border-top-color: var(--fill-color);\n",
              "      border-right-color: var(--fill-color);\n",
              "    }\n",
              "    40% {\n",
              "      border-color: transparent;\n",
              "      border-right-color: var(--fill-color);\n",
              "      border-top-color: var(--fill-color);\n",
              "    }\n",
              "    60% {\n",
              "      border-color: transparent;\n",
              "      border-right-color: var(--fill-color);\n",
              "    }\n",
              "    80% {\n",
              "      border-color: transparent;\n",
              "      border-right-color: var(--fill-color);\n",
              "      border-bottom-color: var(--fill-color);\n",
              "    }\n",
              "    90% {\n",
              "      border-color: transparent;\n",
              "      border-bottom-color: var(--fill-color);\n",
              "    }\n",
              "  }\n",
              "</style>\n",
              "\n",
              "  <script>\n",
              "    async function quickchart(key) {\n",
              "      const quickchartButtonEl =\n",
              "        document.querySelector('#' + key + ' button');\n",
              "      quickchartButtonEl.disabled = true;  // To prevent multiple clicks.\n",
              "      quickchartButtonEl.classList.add('colab-df-spinner');\n",
              "      try {\n",
              "        const charts = await google.colab.kernel.invokeFunction(\n",
              "            'suggestCharts', [key], {});\n",
              "      } catch (error) {\n",
              "        console.error('Error during call to suggestCharts:', error);\n",
              "      }\n",
              "      quickchartButtonEl.classList.remove('colab-df-spinner');\n",
              "      quickchartButtonEl.classList.add('colab-df-quickchart-complete');\n",
              "    }\n",
              "    (() => {\n",
              "      let quickchartButtonEl =\n",
              "        document.querySelector('#df-380cdacc-d1a3-4c08-8b6a-3d78c02490a7 button');\n",
              "      quickchartButtonEl.style.display =\n",
              "        google.colab.kernel.accessAllowed ? 'block' : 'none';\n",
              "    })();\n",
              "  </script>\n",
              "</div>\n",
              "    </div>\n",
              "  </div>\n"
            ],
            "application/vnd.google.colaboratory.intrinsic+json": {
              "type": "dataframe",
              "variable_name": "df",
              "summary": "{\n  \"name\": \"df\",\n  \"rows\": 7430,\n  \"fields\": [\n    {\n      \"column\": \"header\",\n      \"properties\": {\n        \"dtype\": \"string\",\n        \"num_unique_values\": 5528,\n        \"samples\": [\n          \"\\u041f\\u0440\\u043e\\u0433\\u0440\\u0430\\u043c\\u043c\\u0430 \\u0441\\u0442\\u0440\\u0430\\u0445\\u043e\\u0432\\u0430\\u043d\\u0438\\u044f \\u0436\\u0438\\u0437\\u043d\\u0438 \\u0420\\u0435\\u043d\\u0435\\u0441\\u0441\\u0430\\u043d\\u0441 \\u0421\\u043c\\u0430\\u0440\\u0442\",\n          \"\\u0418\\u0437\\u043c\\u0435\\u043d\\u0435\\u043d\\u0438\\u044f \\u0432 \\u041e\\u0421\\u0410\\u0413\\u041e\",\n          \"\\u0421\\u0442\\u0440\\u0430\\u0445\\u043e\\u0432\\u0430\\u043d\\u0438\\u0435 \\u0436\\u0438\\u0437\\u043d\\u0438 \\u043f\\u043e \\u0438\\u043f\\u043e\\u0442\\u0435\\u043a\\u0438\"\n        ],\n        \"semantic_type\": \"\",\n        \"description\": \"\"\n      }\n    },\n    {\n      \"column\": \"bank\",\n      \"properties\": {\n        \"dtype\": \"category\",\n        \"num_unique_values\": 14,\n        \"samples\": [\n          \"\\u0420\\u0435\\u043d\\u0435\\u0441\\u0441\\u0430\\u043d\\u0441\",\n          \"\\u0410\\u043b\\u044c\\u0444\\u0430\\u0421\\u0442\\u0440\\u0430\\u0445\\u043e\\u0432\\u0430\\u043d\\u0438\\u0435-\\u0416\\u0438\\u0437\\u043d\\u044c\",\n          \"\\u0422-\\u0421\\u0442\\u0440\\u0430\\u0445\\u043e\\u0432\\u0430\\u043d\\u0438\\u0435\"\n        ],\n        \"semantic_type\": \"\",\n        \"description\": \"\"\n      }\n    },\n    {\n      \"column\": \"review\",\n      \"properties\": {\n        \"dtype\": \"string\",\n        \"num_unique_values\": 7430,\n        \"samples\": [\n          \"\\u0414\\u043e\\u0431\\u0440\\u044b\\u0439 \\u0434\\u0435\\u043d\\u044c. \\u041e\\u0444\\u043e\\u0440\\u043c\\u043b\\u044f\\u043b \\u0441\\u0442\\u0440\\u0430\\u0445\\u043e\\u0432\\u043a\\u0443 \\u043d\\u0430 \\u043c\\u0430\\u0448\\u0438\\u043d\\u0443 \\u0432 \\u043a\\u043e\\u043c\\u043f\\u0430\\u043d\\u0438\\u0438 \\u0422\\u0438\\u043d\\u044c\\u043a\\u043e\\u0444\\u0444, \\u0442\\u0435\\u043f\\u0435\\u0440\\u044c \\u0422-\\u0411\\u0430\\u043d\\u043a \\u0438 \\u0432 \\u043f\\u043e\\u0434\\u0430\\u0440\\u043e\\u043a \\u043f\\u043e\\u043b\\u0443\\u0447\\u0438\\u043b \\u043f\\u043e\\u043b\\u0438\\u0441 \\u043d\\u0430 \\u0441\\u0442\\u0440\\u0430\\u0445\\u043e\\u0432\\u0430\\u043d\\u0438\\u0435 \\u043f\\u0443\\u0442\\u0435\\u0448\\u0435\\u0441\\u0442\\u0432\\u0435\\u043d\\u043d\\u0438\\u043a\\u043e\\u0432 \\u043e\\u0442 \\u043f\\u043e\\u0442\\u0435\\u0440\\u0438 \\u0431\\u0430\\u0433\\u0430\\u0436\\u0430. \\u041f\\u043e\\u043b\\u0438\\u0441 \\u2116438*****51. \\u0412 \\u0438\\u044e\\u043d\\u0435 \\u043f\\u043e \\u0432\\u043e\\u0437\\u0432\\u0440\\u0430\\u0449\\u0435\\u043d\\u0438\\u044e \\u0438\\u0437 \\u041a\\u0438\\u0442\\u0430\\u044f \\u043d\\u0435 \\u043e\\u0431\\u043d\\u0430\\u0440\\u0443\\u0436\\u0438\\u043b \\u043d\\u0430 \\u0442\\u0440\\u0430\\u043d\\u0441\\u043f\\u043e\\u0440\\u0442\\u0435\\u0440\\u0435 \\u0441\\u0432\\u043e\\u0439 \\u043b\\u044e\\u0431\\u0438\\u043c\\u044b\\u0439 \\u0447\\u0435\\u043c\\u043e\\u0434\\u0430\\u043d. \\u0412 \\u0430\\u044d\\u0440\\u043e\\u043f\\u043e\\u0440\\u0442\\u0443 \\u0441\\u043e\\u0441\\u0442\\u0430\\u0432\\u0438\\u043b \\u0437\\u0430\\u044f\\u0432\\u043b\\u0435\\u043d\\u0438\\u0435 \\u043d\\u0430 \\u0440\\u043e\\u0437\\u044b\\u0441\\u043a \\u0438 \\u043d\\u0430 \\u0441\\u043b\\u0435\\u0434\\u0443\\u044e\\u0449\\u0438\\u0439 \\u0434\\u0435\\u043d\\u044c \\u0437\\u0430\\u044f\\u0432\\u0438\\u043b \\u043e \\u0441\\u0442\\u0440\\u0430\\u0445\\u043e\\u0432\\u043e\\u043c \\u0441\\u043b\\u0443\\u0447\\u0430\\u0435 \\u0432 \\u0441\\u0442\\u0440\\u0430\\u0445\\u043e\\u0432\\u0443\\u044e \\u043a\\u043e\\u043c\\u043f\\u0430\\u043d\\u0438\\u044e. \\u0412 \\u0442\\u0435\\u0447\\u0435\\u043d\\u0438\\u0435 \\u043e\\u0434\\u043d\\u043e\\u0439 \\u043d\\u0435\\u0434\\u0435\\u043b\\u0438 \\u0440\\u0430\\u0441\\u0441\\u043c\\u043e\\u0442\\u0440\\u0435\\u043b\\u0438 \\u043c\\u043e\\u0435 \\u0437\\u0430\\u044f\\u0432\\u043b\\u0435\\u043d\\u0438\\u0435 \\u0438 \\u0432\\u044b\\u043f\\u043b\\u0430\\u0442\\u0438\\u043b\\u0438 \\u043c\\u043d\\u0435 \\u0432\\u0441\\u0435 \\u0441\\u043e\\u0433\\u043b\\u0430\\u0441\\u043d\\u043e \\u0434\\u043e\\u0433\\u043e\\u0432\\u043e\\u0440\\u0430 \\u043f\\u043e \\u0444\\u0430\\u043a\\u0442\\u0443 \\u0437\\u0430\\u0434\\u0435\\u0440\\u0436\\u043a\\u0438 \\u0431\\u0430\\u0433\\u0430\\u0436\\u0430. \\u041d\\u0430 \\u043c\\u043e\\u0439 \\u0432\\u043e\\u043f\\u0440\\u043e\\u0441, \\u043f\\u043e\\u0447\\u0435\\u043c\\u0443 \\u043f\\u043e \\u0444\\u0430\\u043a\\u0442\\u0443 \\u0437\\u0430\\u0434\\u0435\\u0440\\u0436\\u043a\\u0438 \\u0430 \\u043d\\u0435 \\u0443\\u0442\\u0435\\u0440\\u0438, \\u043e\\u0442\\u0432\\u0435\\u0442\\u0438\\u043b\\u0438 \\u0447\\u0442\\u043e \\u043d\\u0435\\u043e\\u0431\\u0445\\u043e\\u0434\\u0438\\u043c\\u0430 \\u0441\\u043f\\u0440\\u0430\\u0432\\u043a\\u0430 \\u043e\\u0442 \\u0430\\u0432\\u0438\\u0430\\u043a\\u043e\\u043c\\u043f\\u0430\\u043d\\u0438\\u0438. \\u0410\\u0432\\u0438\\u0430\\u043a\\u043e\\u043c\\u043f\\u0430\\u043d\\u0438\\u044f \\u0447\\u0435\\u0440\\u0435\\u0437 \\u0442\\u0440\\u0438 \\u043c\\u0435\\u0441\\u044f\\u0446\\u0430 \\u0431\\u0435\\u0437\\u0440\\u0435\\u0437\\u0443\\u043b\\u044c\\u0442\\u0430\\u0442\\u043d\\u044b\\u0445 \\u043f\\u043e\\u0438\\u0441\\u043a\\u043e\\u0432, \\u0432\\u044b\\u0434\\u0430\\u043b\\u0430 \\u043c\\u043d\\u0435 \\u0441\\u043f\\u0440\\u0430\\u0432\\u043a\\u0443, \\u0432 \\u043a\\u043e\\u0442\\u043e\\u0440\\u043e\\u0439 \\u043f\\u043e\\u0434\\u0442\\u0432\\u0435\\u0440\\u0436\\u0434\\u0430\\u043b\\u043e\\u0441\\u044c, \\u0447\\u0442\\u043e \\u043c\\u043e\\u0439 \\u0431\\u0430\\u0433\\u0430\\u0436 \\u0443\\u0442\\u0435\\u0440\\u044f\\u043d. \\u041e\\u0442\\u043f\\u0440\\u0430\\u0432\\u0438\\u043b \\u044d\\u0442\\u0443 \\u0441\\u043f\\u0440\\u0430\\u0432\\u043a\\u0443 \\u0432 \\u0441\\u0442\\u0440\\u0430\\u0445\\u043e\\u0432\\u0443\\u044e, \\u0442\\u0430\\u043a \\u0436\\u0435 \\u0432 \\u0442\\u0435\\u0447\\u0435\\u043d\\u0438\\u0435 \\u043d\\u0435\\u0434\\u0435\\u043b\\u0438 \\u043f\\u043e\\u043b\\u0443\\u0447\\u0438\\u043b \\u043e\\u0442\\u0432\\u0435\\u0442, \\u0447\\u0442\\u043e \\u0441\\u043f\\u0440\\u0430\\u0432\\u043a\\u0430 \\u043f\\u0440\\u0438\\u043d\\u044f\\u0442\\u0430 \\u0438 \\u043d\\u0430 \\u0441\\u043b\\u0435\\u0434\\u0443\\u044e\\u0449\\u0438\\u0439 \\u0434\\u0435\\u043d\\u044c \\u043f\\u043e\\u043b\\u0443\\u0447\\u0438\\u043b \\u0435\\u0449\\u0435 \\u043e\\u0434\\u043d\\u0443 \\u0432\\u044b\\u043f\\u043b\\u0430\\u0442\\u0443 \\u043f\\u043e \\u0444\\u0430\\u043a\\u0442\\u0443 \\u0443\\u0442\\u0435\\u0440\\u0438 \\u0431\\u0430\\u0433\\u0430\\u0436\\u0430.\\u00a0 \\u0412\\u0441\\u0435 \\u043e\\u0431\\u0449\\u0435\\u043d\\u0438\\u0435 \\u0432\\u0435\\u043b\\u043e\\u0441\\u044c \\u0434\\u0438\\u0441\\u0442\\u0430\\u043d\\u0446\\u0438\\u043e\\u043d\\u043d\\u043e, \\u043d\\u0438\\u043a\\u0443\\u0434\\u0430 \\u0435\\u0437\\u0434\\u0438\\u0442\\u044c \\u0431\\u044b\\u043b\\u043e \\u043d\\u0435 \\u043d\\u0443\\u0436\\u043d\\u043e. \\u041e\\u0431\\u043c\\u0435\\u043d \\u0432\\u0441\\u0435\\u043c\\u0438 \\u0434\\u043e\\u043a\\u0443\\u043c\\u0435\\u043d\\u0442\\u0430\\u043c\\u0438 \\u043f\\u0440\\u043e\\u0438\\u0441\\u0445\\u043e\\u0434\\u0438\\u043b \\u043f\\u043e \\u044d\\u043b\\u0435\\u043a\\u0442\\u0440\\u043e\\u043d\\u043d\\u043e\\u0439 \\u043f\\u043e\\u0447\\u0442\\u0435. \\u0412 \\u043e\\u0431\\u0449\\u0435\\u043c \\u0441 \\u043c\\u0438\\u043d\\u0438\\u043c\\u0430\\u043b\\u044c\\u043d\\u044b\\u043c\\u0438 \\u0437\\u0430\\u0442\\u0440\\u0430\\u0442\\u0430\\u043c\\u0438 \\u043f\\u043e \\u0432\\u0440\\u0435\\u043c\\u0435\\u043d\\u0438. \\u041d\\u0438\\u043a\\u0430\\u043a\\u0438\\u0445 \\u043f\\u0440\\u043e\\u0432\\u043e\\u043b\\u043e\\u0447\\u0435\\u043a, \\u043e\\u0442\\u043a\\u0430\\u0437\\u043e\\u0432 \\u0438 \\u0442.\\u0434. \\u0421\\u0442\\u0440\\u0430\\u0445\\u043e\\u0432\\u0430\\u044f \\u0432\\u0441\\u0435 \\u0432\\u044b\\u043f\\u043e\\u043b\\u043d\\u0438\\u043b\\u0430 \\u0432 \\u0440\\u0430\\u043c\\u043a\\u0430\\u0445 \\u0434\\u043e\\u0433\\u043e\\u0432\\u043e\\u0440\\u0430. \\u0420\\u0435\\u043a\\u043e\\u043c\\u0435\\u043d\\u0434\\u0443\\u044e \\u043a\\u043e\\u043c\\u043f\\u0430\\u043d\\u0438\\u044e \\u0422-\\u0421\\u0442\\u0440\\u0430\\u0445\\u043e\\u0432\\u0430\\u043d\\u0438\\u0435. \\u041e\\u0447\\u0435\\u043d\\u044c \\u043f\\u0440\\u0438\\u044f\\u0442\\u043d\\u043e \\u0440\\u0430\\u0431\\u043e\\u0442\\u0430\\u0442\\u044c \\u0441 \\u043d\\u0435\\u0439. \\u041e\\u0442\\u0434\\u0435\\u043b\\u044c\\u043d\\u043e\\u0435 \\u0441\\u043f\\u0430\\u0441\\u0438\\u0431\\u043e \\u0432\\u0435\\u0434\\u0443\\u0449\\u0435\\u043c\\u0443 \\u0441\\u043f\\u0435\\u0446\\u0438\\u0430\\u043b\\u0438\\u0441\\u0442\\u0443 \\u041f\\u043e\\u043b\\u0438\\u043d\\u0435 \\u0422. \\u0437\\u0430 \\u0445\\u043e\\u0440\\u043e\\u0448\\u0443\\u044e \\u0440\\u0430\\u0431\\u043e\\u0442\\u0443.\",\n          \"\\u041e\\u0444\\u043e\\u0440\\u043c\\u0438\\u043b \\u043a\\u0430\\u0441\\u043a\\u043e+\\u043e\\u0441\\u0430\\u0433\\u043e! \\u041f\\u043e\\u0441\\u043b\\u0435 \\u0443\\u0442\\u043e\\u0447\\u043d\\u0435\\u043d\\u0438\\u044f \\u0440\\u0430\\u0441\\u0447\\u0435\\u0442\\u043e\\u0432 \\u043f\\u043e\\u043b\\u0443\\u0447\\u0438\\u043b\\u043e\\u0441\\u044c \\u0434\\u0430\\u0436\\u0435 \\u0432\\u044b\\u0433\\u043e\\u0434\\u043d\\u0435\\u0435 \\u0447\\u0435\\u043c \\u044f \\u0440\\u0430\\u0441\\u0441\\u0447\\u0438\\u0442\\u044b\\u0432\\u0430\\u043b. \\u0421\\u043e \\u0441\\u043f\\u0435\\u0446\\u0438\\u0430\\u043b\\u0438\\u0441\\u0442\\u043e\\u043c \\u043d\\u0430 \\u043f\\u0440\\u043e\\u0442\\u044f\\u0436\\u0435\\u043d\\u0438\\u0438 \\u0432\\u0441\\u0435\\u0439 \\u043f\\u0440\\u043e\\u0446\\u0435\\u0434\\u0443\\u0440\\u044b \\u0431\\u044b\\u043b \\u043d\\u0430 \\u0441\\u0432\\u044f\\u0437\\u0438 email + \\u0442\\u0435\\u043b\\u0435\\u0444\\u043e\\u043d.\\u0412\\u0441\\u044f \\u0438\\u043d\\u0444\\u043e\\u0440\\u043c\\u0430\\u0446\\u0438\\u044f \\u0431\\u044b\\u043b\\u043e \\u043f\\u0440\\u0435\\u0434\\u0441\\u0442\\u0430\\u0432\\u043b\\u0435\\u043d\\u0430 \\u0432 \\u043f\\u043e\\u043b\\u043d\\u043e\\u043c \\u043e\\u0431\\u044a\\u0435\\u043c\\u0435 \\u0438 \\u0434\\u043e\\u0441\\u0442\\u0443\\u043f\\u043d\\u044b\\u043c \\u044f\\u0437\\u044b\\u043a\\u043e\\u043c. \\u0412 \\u0441\\u043b\\u0435\\u0434\\u0443\\u044e\\u0449\\u0435\\u043c \\u0433\\u043e\\u0434\\u0443 \\u043f\\u043b\\u0430\\u043d\\u0438\\u0440\\u0443\\u044e \\u043f\\u043e\\u0432\\u0442\\u043e\\u0440\\u043d\\u043e \\u0432\\u043e\\u0441\\u043f\\u043e\\u043b\\u044c\\u0437\\u043e\\u0432\\u0430\\u0442\\u044c\\u0441\\u044f \\u0443\\u0441\\u043b\\u0443\\u0433\\u0430\\u043c\\u0438 \\u0421\\u043e\\u0432\\u043a\\u043e\\u043c\\u0441\\u0442\\u0440\\u0430\\u0445\\u043e\\u0432\\u0430\\u043d\\u0438\\u044f. \\u041a\\u043e\\u043c\\u043f\\u0430\\u043d\\u0438\\u044e \\u0440\\u0435\\u043a\\u043e\\u043c\\u0435\\u043d\\u0434\\u0443\\u044e!\",\n          \"\\u041f\\u043e\\u0434\\u0430\\u043b \\u0437\\u0430\\u044f\\u0432\\u043b\\u0435\\u043d\\u0438\\u0435 \\u043d\\u0430 \\u0440\\u0430\\u0441\\u0442\\u043e\\u0440\\u0436\\u0435\\u043d\\u0438\\u0435 \\u041e\\u0421\\u0410\\u0413\\u041e \\u043f\\u043e\\u0441\\u043b\\u0435 \\u043f\\u0440\\u043e\\u0434\\u0430\\u0436\\u0438 \\u0430\\u0432\\u0442\\u043e. \\u041d\\u0430\\u043f\\u0438\\u0441\\u0430\\u043b\\u0438, \\u0447\\u0442\\u043e \\u044f\\u043a\\u043e\\u0431\\u044b \\u043e\\u0448\\u0438\\u0431\\u043a\\u0430 \\u0432 \\u0434\\u043e\\u0433\\u043e\\u0432\\u043e\\u0440\\u0435 \\u043a\\u0443\\u043f\\u043b\\u0438-\\u043f\\u0440\\u043e\\u0434\\u0430\\u0436\\u0438, \\u0445\\u043e\\u0442\\u044f \\u0430\\u0432\\u0442\\u043e \\u0443\\u0436\\u0435 \\u0443 \\u0434\\u0440\\u0443\\u0433\\u043e\\u0433\\u043e \\u0441\\u043e\\u0431\\u0441\\u0442\\u0432\\u0435\\u043d\\u043d\\u0438\\u043a\\u0430 \\u0438 \\u0434\\u043b\\u044f \\u0413\\u0418\\u0411\\u0414\\u0414 \\u0434\\u043e\\u0433\\u043e\\u0432\\u043e\\u0440 \\u0432 \\u043f\\u043e\\u0440\\u044f\\u0434\\u043a\\u0435.\\u00a0\\u041d\\u0430 \\u0437\\u0430\\u043f\\u0440\\u043e\\u0441\\u044b, \\u0433\\u0434\\u0435 \\u043e\\u0448\\u0438\\u0431\\u043a\\u0430 - \\u043f\\u0440\\u043e\\u0441\\u0442\\u043e \\u043c\\u043e\\u043b\\u0447\\u0430\\u0442, \\u0438 \\u0432 \\u0446\\u0435\\u043b\\u043e\\u043c, \\u043d\\u0438\\u0447\\u0435\\u0433\\u043e \\u043d\\u0435 \\u043e\\u0442\\u0432\\u0435\\u0447\\u0430\\u044e\\u0442. \\u0418, \\u043a\\u043e\\u043d\\u0435\\u0447\\u043d\\u043e, \\u043d\\u0438\\u043a\\u0430\\u043a\\u0438\\u0445 \\u0434\\u0435\\u043d\\u0435\\u0433.\\u00a0\\u041f\\u043e\\u043b\\u0430\\u0433\\u0430\\u044e, \\u0442\\u0430\\u043a\\u0436\\u0435 \\u0438 \\u043f\\u043e \\u0441\\u0442\\u0440\\u0430\\u0445\\u043e\\u0432\\u044b\\u043c \\u0441\\u043b\\u0443\\u0447\\u0430\\u044f\\u043c \\u0442\\u0430\\u043a\\u0436\\u0435 \\u0440\\u0430\\u0431\\u043e\\u0442\\u0430\\u044e\\u0442.\\u00a0\\u041d\\u0435 \\u0440\\u0435\\u043a\\u043e\\u043c\\u0435\\u043d\\u0434\\u0443\\u044e. \\u041c\\u043e\\u0448\\u0435\\u043d\\u043d\\u0438\\u043a\\u0438\"\n        ],\n        \"semantic_type\": \"\",\n        \"description\": \"\"\n      }\n    },\n    {\n      \"column\": \"rate\",\n      \"properties\": {\n        \"dtype\": \"number\",\n        \"std\": 1,\n        \"min\": 1,\n        \"max\": 5,\n        \"num_unique_values\": 5,\n        \"samples\": [\n          4,\n          3,\n          1\n        ],\n        \"semantic_type\": \"\",\n        \"description\": \"\"\n      }\n    },\n    {\n      \"column\": \"date\",\n      \"properties\": {\n        \"dtype\": \"date\",\n        \"min\": \"2024-01-20 00:00:00\",\n        \"max\": \"2024-09-22 00:00:00\",\n        \"num_unique_values\": 247,\n        \"samples\": [\n          \"2024-08-20 00:00:00\",\n          \"2024-09-16 00:00:00\",\n          \"2024-03-25 00:00:00\"\n        ],\n        \"semantic_type\": \"\",\n        \"description\": \"\"\n      }\n    }\n  ]\n}"
            }
          },
          "metadata": {},
          "execution_count": 35
        }
      ]
    },
    {
      "cell_type": "code",
      "source": [
        "df[\"rate\"].value_counts().plot.pie(figsize=(7, 7), autopct='%1.1f%%')\n",
        "plt.title(\"Доли классов в несбалансированной выборке\")\n",
        "plt.show()"
      ],
      "metadata": {
        "id": "5Pzh21exCbyH",
        "colab": {
          "base_uri": "https://localhost:8080/",
          "height": 598
        },
        "outputId": "5a4c1e8c-946c-4cfc-f0b2-f32240a1aba4"
      },
      "execution_count": null,
      "outputs": [
        {
          "output_type": "display_data",
          "data": {
            "text/plain": [
              "<Figure size 700x700 with 1 Axes>"
            ],
            "image/png": "[encoded data removed]"
          },
          "metadata": {}
        }
      ]
    },
    {
      "cell_type": "markdown",
      "source": [
        "На диаграмме выше видно, что имеется большой разброс в рейтинге:\n",
        "* максимальное значение - `66.0%` (оценка 5)\n",
        "* минимальное значение - `0.7%` (оценка 3)\n",
        "\n",
        "Поэтому необходимо провести балансировку классов с помощью метода `RandomOverSampler`.\n",
        "метод `RandomUnderSampler` не подойдет для балансировки, так как наименьшая группа составляет - 54 отзыва, из-за чего выборка станет маленькой."
      ],
      "metadata": {
        "id": "zDKWGT41fIoz"
      }
    },
    {
      "cell_type": "code",
      "source": [
        "df.groupby(\"bank\").review.count()"
      ],
      "metadata": {
        "colab": {
          "base_uri": "https://localhost:8080/",
          "height": 554
        },
        "id": "NI20aSW3sgeW",
        "outputId": "c1d71aa5-36c7-4ff6-a045-2617b9458502"
      },
      "execution_count": null,
      "outputs": [
        {
          "output_type": "execute_result",
          "data": {
            "text/plain": [
              "bank\n",
              "АльфаСтрахование                 326\n",
              "АльфаСтрахование-Жизнь           399\n",
              "ВСК                              380\n",
              "Ингосстрах                       280\n",
              "КАПИТАЛ LIFE                     196\n",
              "Ренессанс                        298\n",
              "Ренессанс Жизнь                  383\n",
              "Росгосстрах                      194\n",
              "СОГАЗ                            360\n",
              "Сбербанк страхование             939\n",
              "Сбербанк страхование жизни       251\n",
              "Совкомбанк Страхование           985\n",
              "Совкомбанк Страхование Жизни     232\n",
              "Т-Страхование                   2207\n",
              "Name: review, dtype: int64"
            ],
            "text/html": [
              "<div>\n",
              "<style scoped>\n",
              "    .dataframe tbody tr th:only-of-type {\n",
              "        vertical-align: middle;\n",
              "    }\n",
              "\n",
              "    .dataframe tbody tr th {\n",
              "        vertical-align: top;\n",
              "    }\n",
              "\n",
              "    .dataframe thead th {\n",
              "        text-align: right;\n",
              "    }\n",
              "</style>\n",
              "<table border=\"1\" class=\"dataframe\">\n",
              "  <thead>\n",
              "    <tr style=\"text-align: right;\">\n",
              "      <th></th>\n",
              "      <th>review</th>\n",
              "    </tr>\n",
              "    <tr>\n",
              "      <th>bank</th>\n",
              "      <th></th>\n",
              "    </tr>\n",
              "  </thead>\n",
              "  <tbody>\n",
              "    <tr>\n",
              "      <th>АльфаСтрахование</th>\n",
              "      <td>326</td>\n",
              "    </tr>\n",
              "    <tr>\n",
              "      <th>АльфаСтрахование-Жизнь</th>\n",
              "      <td>399</td>\n",
              "    </tr>\n",
              "    <tr>\n",
              "      <th>ВСК</th>\n",
              "      <td>380</td>\n",
              "    </tr>\n",
              "    <tr>\n",
              "      <th>Ингосстрах</th>\n",
              "      <td>280</td>\n",
              "    </tr>\n",
              "    <tr>\n",
              "      <th>КАПИТАЛ LIFE</th>\n",
              "      <td>196</td>\n",
              "    </tr>\n",
              "    <tr>\n",
              "      <th>Ренессанс</th>\n",
              "      <td>298</td>\n",
              "    </tr>\n",
              "    <tr>\n",
              "      <th>Ренессанс Жизнь</th>\n",
              "      <td>383</td>\n",
              "    </tr>\n",
              "    <tr>\n",
              "      <th>Росгосстрах</th>\n",
              "      <td>194</td>\n",
              "    </tr>\n",
              "    <tr>\n",
              "      <th>СОГАЗ</th>\n",
              "      <td>360</td>\n",
              "    </tr>\n",
              "    <tr>\n",
              "      <th>Сбербанк страхование</th>\n",
              "      <td>939</td>\n",
              "    </tr>\n",
              "    <tr>\n",
              "      <th>Сбербанк страхование жизни</th>\n",
              "      <td>251</td>\n",
              "    </tr>\n",
              "    <tr>\n",
              "      <th>Совкомбанк Страхование</th>\n",
              "      <td>985</td>\n",
              "    </tr>\n",
              "    <tr>\n",
              "      <th>Совкомбанк Страхование Жизни</th>\n",
              "      <td>232</td>\n",
              "    </tr>\n",
              "    <tr>\n",
              "      <th>Т-Страхование</th>\n",
              "      <td>2207</td>\n",
              "    </tr>\n",
              "  </tbody>\n",
              "</table>\n",
              "</div><br><label><b>dtype:</b> int64</label>"
            ]
          },
          "metadata": {},
          "execution_count": 37
        }
      ]
    },
    {
      "cell_type": "code",
      "source": [
        "# Создание экземпляра RandomOverSampler\n",
        "ros = RandomOverSampler()\n",
        "\n",
        "X_ros = df.drop(columns=[\"rate\"]) # Признаки\n",
        "y_ros = df[\"rate\"] # Целевое значение\n",
        "\n",
        "\n",
        "# Применение увеличения выборки к данным\n",
        "X_resampled_ros, y_resampled_ros = ros.fit_resample(X_ros, y_ros)\n",
        "\n",
        "df_resampled_ros = pd.DataFrame(X_resampled_ros, columns=X_ros.columns)\n",
        "df_resampled_ros[\"rate\"] = y_resampled_ros"
      ],
      "metadata": {
        "id": "YTyZYccpCbvw"
      },
      "execution_count": null,
      "outputs": []
    },
    {
      "cell_type": "code",
      "source": [
        "df_resampled_ros[\"rate\"].value_counts().sort_index().plot.pie(figsize=(7, 7), autopct='%1.1f%%')\n",
        "plt.title(\"Доли классов в сбалансированной выборке \\n(После применения функции RandomOverSampler)\")\n",
        "plt.show()"
      ],
      "metadata": {
        "id": "DbXFOan1Cbq6",
        "colab": {
          "base_uri": "https://localhost:8080/",
          "height": 619
        },
        "outputId": "af14ba0a-b8f5-4f3d-f853-f0bd62a8a1d2"
      },
      "execution_count": null,
      "outputs": [
        {
          "output_type": "display_data",
          "data": {
            "text/plain": [
              "<Figure size 700x700 with 1 Axes>"
            ],
            "image/png": "[encoded data removed]"
          },
          "metadata": {}
        }
      ]
    },
    {
      "cell_type": "markdown",
      "source": [
        "**Вывод**\n",
        "\n",
        "После применения метода RandomOverSampler можно заметить, что всех значений стало одинаковое количество.\n"
      ],
      "metadata": {
        "id": "byRKuC9kf3fv"
      }
    },
    {
      "cell_type": "markdown",
      "source": [
        "# Модели МО"
      ],
      "metadata": {
        "id": "YaIkeWPFCEp7"
      }
    },
    {
      "cell_type": "markdown",
      "source": [
        "###Предобработка данных"
      ],
      "metadata": {
        "id": "zfZ_mj60wX_x"
      }
    },
    {
      "cell_type": "markdown",
      "source": [
        "Сначала напишем функцию, которая приведет все данные в нижний регистр, удалит стоп-слова, а так же проведет стемминг."
      ],
      "metadata": {
        "id": "f9GE9y8fwbnU"
      }
    },
    {
      "cell_type": "code",
      "source": [
        "def prepare_data(text, window_size=2):\n",
        "  '''Функция обработки текстовых полей для более удобной работы далее'''\n",
        "  # преобразуем текст в нижний регистр\n",
        "  text = text.lower()\n",
        "\n",
        "  # удаляем все символы кроме a-z, @, и #\n",
        "  text = re.sub(r'[^а-я@# ]', ' ', text)\n",
        "\n",
        "  # удаляем стопслова\n",
        "  tokens = word_tokenize(text) # делим строку на токены\n",
        "  filtered_tokens = [word for word in tokens if not word in stopwords.words('russian')]\n",
        "\n",
        "  # стемминг\n",
        "  st = RussianStemmer()\n",
        "  stemmed_tockens = [st.stem(word) for word in filtered_tokens]\n",
        "  result = \" \".join(stemmed_tockens)\n",
        "  return result"
      ],
      "metadata": {
        "id": "X2zs945yCDep"
      },
      "execution_count": null,
      "outputs": []
    },
    {
      "cell_type": "code",
      "source": [
        "df['review'] = df['review'].apply(prepare_data)"
      ],
      "metadata": {
        "id": "OwsBmnDk32_v",
        "colab": {
          "base_uri": "https://localhost:8080/"
        },
        "outputId": "e5a10411-b7c5-46e6-9026-7c2542ad00e4"
      },
      "execution_count": null,
      "outputs": [
        {
          "output_type": "stream",
          "name": "stderr",
          "text": [
            "<ipython-input-40-1ebb178e8e5b>:1: SettingWithCopyWarning: \n",
            "A value is trying to be set on a copy of a slice from a DataFrame.\n",
            "Try using .loc[row_indexer,col_indexer] = value instead\n",
            "\n",
            "See the caveats in the documentation: https://pandas.pydata.org/pandas-docs/stable/user_guide/indexing.html#returning-a-view-versus-a-copy\n",
            "  df['review'] = df['review'].apply(prepare_data)\n"
          ]
        }
      ]
    },
    {
      "cell_type": "code",
      "source": [
        "df"
      ],
      "metadata": {
        "id": "O56cHwu3yukG",
        "colab": {
          "base_uri": "https://localhost:8080/",
          "height": 423
        },
        "outputId": "d840b837-34e1-4155-e2cd-3ad54a7f1b79"
      },
      "execution_count": null,
      "outputs": [
        {
          "output_type": "execute_result",
          "data": {
            "text/plain": [
              "                                                 header  \\\n",
              "0                            Хорошая страховая компания   \n",
              "1                                          За стразовку   \n",
              "2                        Как я пришел за ОСАГО в Т-Банк   \n",
              "3                                         ОСАГО+КАСКОGO   \n",
              "4             Обман сбербанк страхование семейный актив   \n",
              "...                                                 ...   \n",
              "7425                               Тинькофф страхование   \n",
              "7426  Мне предоставили хорошую скидку на страховку ж...   \n",
              "7427                              Мой выбор - Ренессанс   \n",
              "7428                               Защита в пути, КАСКО   \n",
              "7429                                       Самые лучшие   \n",
              "\n",
              "                            bank  \\\n",
              "0                  Т-Страхование   \n",
              "1         Совкомбанк Страхование   \n",
              "2                  Т-Страхование   \n",
              "3               АльфаСтрахование   \n",
              "4     Сбербанк страхование жизни   \n",
              "...                          ...   \n",
              "7425               Т-Страхование   \n",
              "7426               Т-Страхование   \n",
              "7427                   Ренессанс   \n",
              "7428        Сбербанк страхование   \n",
              "7429               Т-Страхование   \n",
              "\n",
              "                                                 review  rate       date  \n",
              "0     оформ каск пожалел случ дтп менеджер анастас с...     5 2024-09-22  \n",
              "1     деш ва страховк совкомбанк позвон помогл продл...     4 2024-09-22  \n",
              "2     здравств уваж сммщик т банк пришел знач сво лк...     1 2024-09-22  \n",
              "3     добр вечер сво автомоб застрахов альфастрахова...     5 2024-09-22  \n",
              "4     дорог человек ко случ связыв сбербанк люб стра...     1 2024-09-22  \n",
              "...                                                 ...   ...        ...  \n",
              "7425  прошл быстр деньг поступ карт втор ден подач д...     5 2024-01-21  \n",
              "7426  позвон тинькофф страхова оформл ипотек днях до...     5 2024-01-20  \n",
              "7427  здравств прин оставл положительн отз страх ком...     5 2024-01-20  \n",
              "7428  приобр л автомоб кред драйв клик банк усл офор...     1 2024-01-20  \n",
              "7429  произошл дтп примерн вызв аварк сторон виновни...     5 2024-01-20  \n",
              "\n",
              "[7430 rows x 5 columns]"
            ],
            "text/html": [
              "\n",
              "  <div id=\"df-5525c676-98cf-44f2-a352-8bfdd6573eae\" class=\"colab-df-container\">\n",
              "    <div>\n",
              "<style scoped>\n",
              "    .dataframe tbody tr th:only-of-type {\n",
              "        vertical-align: middle;\n",
              "    }\n",
              "\n",
              "    .dataframe tbody tr th {\n",
              "        vertical-align: top;\n",
              "    }\n",
              "\n",
              "    .dataframe thead th {\n",
              "        text-align: right;\n",
              "    }\n",
              "</style>\n",
              "<table border=\"1\" class=\"dataframe\">\n",
              "  <thead>\n",
              "    <tr style=\"text-align: right;\">\n",
              "      <th></th>\n",
              "      <th>header</th>\n",
              "      <th>bank</th>\n",
              "      <th>review</th>\n",
              "      <th>rate</th>\n",
              "      <th>date</th>\n",
              "    </tr>\n",
              "  </thead>\n",
              "  <tbody>\n",
              "    <tr>\n",
              "      <th>0</th>\n",
              "      <td>Хорошая страховая компания</td>\n",
              "      <td>Т-Страхование</td>\n",
              "      <td>оформ каск пожалел случ дтп менеджер анастас с...</td>\n",
              "      <td>5</td>\n",
              "      <td>2024-09-22</td>\n",
              "    </tr>\n",
              "    <tr>\n",
              "      <th>1</th>\n",
              "      <td>За стразовку</td>\n",
              "      <td>Совкомбанк Страхование</td>\n",
              "      <td>деш ва страховк совкомбанк позвон помогл продл...</td>\n",
              "      <td>4</td>\n",
              "      <td>2024-09-22</td>\n",
              "    </tr>\n",
              "    <tr>\n",
              "      <th>2</th>\n",
              "      <td>Как я пришел за ОСАГО в Т-Банк</td>\n",
              "      <td>Т-Страхование</td>\n",
              "      <td>здравств уваж сммщик т банк пришел знач сво лк...</td>\n",
              "      <td>1</td>\n",
              "      <td>2024-09-22</td>\n",
              "    </tr>\n",
              "    <tr>\n",
              "      <th>3</th>\n",
              "      <td>ОСАГО+КАСКОGO</td>\n",
              "      <td>АльфаСтрахование</td>\n",
              "      <td>добр вечер сво автомоб застрахов альфастрахова...</td>\n",
              "      <td>5</td>\n",
              "      <td>2024-09-22</td>\n",
              "    </tr>\n",
              "    <tr>\n",
              "      <th>4</th>\n",
              "      <td>Обман сбербанк страхование семейный актив</td>\n",
              "      <td>Сбербанк страхование жизни</td>\n",
              "      <td>дорог человек ко случ связыв сбербанк люб стра...</td>\n",
              "      <td>1</td>\n",
              "      <td>2024-09-22</td>\n",
              "    </tr>\n",
              "    <tr>\n",
              "      <th>...</th>\n",
              "      <td>...</td>\n",
              "      <td>...</td>\n",
              "      <td>...</td>\n",
              "      <td>...</td>\n",
              "      <td>...</td>\n",
              "    </tr>\n",
              "    <tr>\n",
              "      <th>7425</th>\n",
              "      <td>Тинькофф страхование</td>\n",
              "      <td>Т-Страхование</td>\n",
              "      <td>прошл быстр деньг поступ карт втор ден подач д...</td>\n",
              "      <td>5</td>\n",
              "      <td>2024-01-21</td>\n",
              "    </tr>\n",
              "    <tr>\n",
              "      <th>7426</th>\n",
              "      <td>Мне предоставили хорошую скидку на страховку ж...</td>\n",
              "      <td>Т-Страхование</td>\n",
              "      <td>позвон тинькофф страхова оформл ипотек днях до...</td>\n",
              "      <td>5</td>\n",
              "      <td>2024-01-20</td>\n",
              "    </tr>\n",
              "    <tr>\n",
              "      <th>7427</th>\n",
              "      <td>Мой выбор - Ренессанс</td>\n",
              "      <td>Ренессанс</td>\n",
              "      <td>здравств прин оставл положительн отз страх ком...</td>\n",
              "      <td>5</td>\n",
              "      <td>2024-01-20</td>\n",
              "    </tr>\n",
              "    <tr>\n",
              "      <th>7428</th>\n",
              "      <td>Защита в пути, КАСКО</td>\n",
              "      <td>Сбербанк страхование</td>\n",
              "      <td>приобр л автомоб кред драйв клик банк усл офор...</td>\n",
              "      <td>1</td>\n",
              "      <td>2024-01-20</td>\n",
              "    </tr>\n",
              "    <tr>\n",
              "      <th>7429</th>\n",
              "      <td>Самые лучшие</td>\n",
              "      <td>Т-Страхование</td>\n",
              "      <td>произошл дтп примерн вызв аварк сторон виновни...</td>\n",
              "      <td>5</td>\n",
              "      <td>2024-01-20</td>\n",
              "    </tr>\n",
              "  </tbody>\n",
              "</table>\n",
              "<p>7430 rows × 5 columns</p>\n",
              "</div>\n",
              "    <div class=\"colab-df-buttons\">\n",
              "\n",
              "  <div class=\"colab-df-container\">\n",
              "    <button class=\"colab-df-convert\" onclick=\"convertToInteractive('df-5525c676-98cf-44f2-a352-8bfdd6573eae')\"\n",
              "            title=\"Convert this dataframe to an interactive table.\"\n",
              "            style=\"display:none;\">\n",
              "\n",
              "  <svg xmlns=\"http://www.w3.org/2000/svg\" height=\"24px\" viewBox=\"0 -960 960 960\">\n",
              "    <path d=\"M120-120v-720h720v720H120Zm60-500h600v-160H180v160Zm220 220h160v-160H400v160Zm0 220h160v-160H400v160ZM180-400h160v-160H180v160Zm440 0h160v-160H620v160ZM180-180h160v-160H180v160Zm440 0h160v-160H620v160Z\"/>\n",
              "  </svg>\n",
              "    </button>\n",
              "\n",
              "  <style>\n",
              "    .colab-df-container {\n",
              "      display:flex;\n",
              "      gap: 12px;\n",
              "    }\n",
              "\n",
              "    .colab-df-convert {\n",
              "      background-color: #E8F0FE;\n",
              "      border: none;\n",
              "      border-radius: 50%;\n",
              "      cursor: pointer;\n",
              "      display: none;\n",
              "      fill: #1967D2;\n",
              "      height: 32px;\n",
              "      padding: 0 0 0 0;\n",
              "      width: 32px;\n",
              "    }\n",
              "\n",
              "    .colab-df-convert:hover {\n",
              "      background-color: #E2EBFA;\n",
              "      box-shadow: 0px 1px 2px rgba(60, 64, 67, 0.3), 0px 1px 3px 1px rgba(60, 64, 67, 0.15);\n",
              "      fill: #174EA6;\n",
              "    }\n",
              "\n",
              "    .colab-df-buttons div {\n",
              "      margin-bottom: 4px;\n",
              "    }\n",
              "\n",
              "    [theme=dark] .colab-df-convert {\n",
              "      background-color: #3B4455;\n",
              "      fill: #D2E3FC;\n",
              "    }\n",
              "\n",
              "    [theme=dark] .colab-df-convert:hover {\n",
              "      background-color: #434B5C;\n",
              "      box-shadow: 0px 1px 3px 1px rgba(0, 0, 0, 0.15);\n",
              "      filter: drop-shadow(0px 1px 2px rgba(0, 0, 0, 0.3));\n",
              "      fill: #FFFFFF;\n",
              "    }\n",
              "  </style>\n",
              "\n",
              "    <script>\n",
              "      const buttonEl =\n",
              "        document.querySelector('#df-5525c676-98cf-44f2-a352-8bfdd6573eae button.colab-df-convert');\n",
              "      buttonEl.style.display =\n",
              "        google.colab.kernel.accessAllowed ? 'block' : 'none';\n",
              "\n",
              "      async function convertToInteractive(key) {\n",
              "        const element = document.querySelector('#df-5525c676-98cf-44f2-a352-8bfdd6573eae');\n",
              "        const dataTable =\n",
              "          await google.colab.kernel.invokeFunction('convertToInteractive',\n",
              "                                                    [key], {});\n",
              "        if (!dataTable) return;\n",
              "\n",
              "        const docLinkHtml = 'Like what you see? Visit the ' +\n",
              "          '<a target=\"_blank\" href=https://colab.research.google.com/notebooks/data_table.ipynb>data table notebook</a>'\n",
              "          + ' to learn more about interactive tables.';\n",
              "        element.innerHTML = '';\n",
              "        dataTable['output_type'] = 'display_data';\n",
              "        await google.colab.output.renderOutput(dataTable, element);\n",
              "        const docLink = document.createElement('div');\n",
              "        docLink.innerHTML = docLinkHtml;\n",
              "        element.appendChild(docLink);\n",
              "      }\n",
              "    </script>\n",
              "  </div>\n",
              "\n",
              "\n",
              "<div id=\"df-2a7af008-0fb0-4bc8-b529-e8231cee8fd3\">\n",
              "  <button class=\"colab-df-quickchart\" onclick=\"quickchart('df-2a7af008-0fb0-4bc8-b529-e8231cee8fd3')\"\n",
              "            title=\"Suggest charts\"\n",
              "            style=\"display:none;\">\n",
              "\n",
              "<svg xmlns=\"http://www.w3.org/2000/svg\" height=\"24px\"viewBox=\"0 0 24 24\"\n",
              "     width=\"24px\">\n",
              "    <g>\n",
              "        <path d=\"M19 3H5c-1.1 0-2 .9-2 2v14c0 1.1.9 2 2 2h14c1.1 0 2-.9 2-2V5c0-1.1-.9-2-2-2zM9 17H7v-7h2v7zm4 0h-2V7h2v10zm4 0h-2v-4h2v4z\"/>\n",
              "    </g>\n",
              "</svg>\n",
              "  </button>\n",
              "\n",
              "<style>\n",
              "  .colab-df-quickchart {\n",
              "      --bg-color: #E8F0FE;\n",
              "      --fill-color: #1967D2;\n",
              "      --hover-bg-color: #E2EBFA;\n",
              "      --hover-fill-color: #174EA6;\n",
              "      --disabled-fill-color: #AAA;\n",
              "      --disabled-bg-color: #DDD;\n",
              "  }\n",
              "\n",
              "  [theme=dark] .colab-df-quickchart {\n",
              "      --bg-color: #3B4455;\n",
              "      --fill-color: #D2E3FC;\n",
              "      --hover-bg-color: #434B5C;\n",
              "      --hover-fill-color: #FFFFFF;\n",
              "      --disabled-bg-color: #3B4455;\n",
              "      --disabled-fill-color: #666;\n",
              "  }\n",
              "\n",
              "  .colab-df-quickchart {\n",
              "    background-color: var(--bg-color);\n",
              "    border: none;\n",
              "    border-radius: 50%;\n",
              "    cursor: pointer;\n",
              "    display: none;\n",
              "    fill: var(--fill-color);\n",
              "    height: 32px;\n",
              "    padding: 0;\n",
              "    width: 32px;\n",
              "  }\n",
              "\n",
              "  .colab-df-quickchart:hover {\n",
              "    background-color: var(--hover-bg-color);\n",
              "    box-shadow: 0 1px 2px rgba(60, 64, 67, 0.3), 0 1px 3px 1px rgba(60, 64, 67, 0.15);\n",
              "    fill: var(--button-hover-fill-color);\n",
              "  }\n",
              "\n",
              "  .colab-df-quickchart-complete:disabled,\n",
              "  .colab-df-quickchart-complete:disabled:hover {\n",
              "    background-color: var(--disabled-bg-color);\n",
              "    fill: var(--disabled-fill-color);\n",
              "    box-shadow: none;\n",
              "  }\n",
              "\n",
              "  .colab-df-spinner {\n",
              "    border: 2px solid var(--fill-color);\n",
              "    border-color: transparent;\n",
              "    border-bottom-color: var(--fill-color);\n",
              "    animation:\n",
              "      spin 1s steps(1) infinite;\n",
              "  }\n",
              "\n",
              "  @keyframes spin {\n",
              "    0% {\n",
              "      border-color: transparent;\n",
              "      border-bottom-color: var(--fill-color);\n",
              "      border-left-color: var(--fill-color);\n",
              "    }\n",
              "    20% {\n",
              "      border-color: transparent;\n",
              "      border-left-color: var(--fill-color);\n",
              "      border-top-color: var(--fill-color);\n",
              "    }\n",
              "    30% {\n",
              "      border-color: transparent;\n",
              "      border-left-color: var(--fill-color);\n",
              "      border-top-color: var(--fill-color);\n",
              "      border-right-color: var(--fill-color);\n",
              "    }\n",
              "    40% {\n",
              "      border-color: transparent;\n",
              "      border-right-color: var(--fill-color);\n",
              "      border-top-color: var(--fill-color);\n",
              "    }\n",
              "    60% {\n",
              "      border-color: transparent;\n",
              "      border-right-color: var(--fill-color);\n",
              "    }\n",
              "    80% {\n",
              "      border-color: transparent;\n",
              "      border-right-color: var(--fill-color);\n",
              "      border-bottom-color: var(--fill-color);\n",
              "    }\n",
              "    90% {\n",
              "      border-color: transparent;\n",
              "      border-bottom-color: var(--fill-color);\n",
              "    }\n",
              "  }\n",
              "</style>\n",
              "\n",
              "  <script>\n",
              "    async function quickchart(key) {\n",
              "      const quickchartButtonEl =\n",
              "        document.querySelector('#' + key + ' button');\n",
              "      quickchartButtonEl.disabled = true;  // To prevent multiple clicks.\n",
              "      quickchartButtonEl.classList.add('colab-df-spinner');\n",
              "      try {\n",
              "        const charts = await google.colab.kernel.invokeFunction(\n",
              "            'suggestCharts', [key], {});\n",
              "      } catch (error) {\n",
              "        console.error('Error during call to suggestCharts:', error);\n",
              "      }\n",
              "      quickchartButtonEl.classList.remove('colab-df-spinner');\n",
              "      quickchartButtonEl.classList.add('colab-df-quickchart-complete');\n",
              "    }\n",
              "    (() => {\n",
              "      let quickchartButtonEl =\n",
              "        document.querySelector('#df-2a7af008-0fb0-4bc8-b529-e8231cee8fd3 button');\n",
              "      quickchartButtonEl.style.display =\n",
              "        google.colab.kernel.accessAllowed ? 'block' : 'none';\n",
              "    })();\n",
              "  </script>\n",
              "</div>\n",
              "    </div>\n",
              "  </div>\n"
            ],
            "application/vnd.google.colaboratory.intrinsic+json": {
              "type": "dataframe",
              "variable_name": "df",
              "summary": "{\n  \"name\": \"df\",\n  \"rows\": 7430,\n  \"fields\": [\n    {\n      \"column\": \"header\",\n      \"properties\": {\n        \"dtype\": \"string\",\n        \"num_unique_values\": 5528,\n        \"samples\": [\n          \"\\u041f\\u0440\\u043e\\u0433\\u0440\\u0430\\u043c\\u043c\\u0430 \\u0441\\u0442\\u0440\\u0430\\u0445\\u043e\\u0432\\u0430\\u043d\\u0438\\u044f \\u0436\\u0438\\u0437\\u043d\\u0438 \\u0420\\u0435\\u043d\\u0435\\u0441\\u0441\\u0430\\u043d\\u0441 \\u0421\\u043c\\u0430\\u0440\\u0442\",\n          \"\\u0418\\u0437\\u043c\\u0435\\u043d\\u0435\\u043d\\u0438\\u044f \\u0432 \\u041e\\u0421\\u0410\\u0413\\u041e\",\n          \"\\u0421\\u0442\\u0440\\u0430\\u0445\\u043e\\u0432\\u0430\\u043d\\u0438\\u0435 \\u0436\\u0438\\u0437\\u043d\\u0438 \\u043f\\u043e \\u0438\\u043f\\u043e\\u0442\\u0435\\u043a\\u0438\"\n        ],\n        \"semantic_type\": \"\",\n        \"description\": \"\"\n      }\n    },\n    {\n      \"column\": \"bank\",\n      \"properties\": {\n        \"dtype\": \"category\",\n        \"num_unique_values\": 14,\n        \"samples\": [\n          \"\\u0420\\u0435\\u043d\\u0435\\u0441\\u0441\\u0430\\u043d\\u0441\",\n          \"\\u0410\\u043b\\u044c\\u0444\\u0430\\u0421\\u0442\\u0440\\u0430\\u0445\\u043e\\u0432\\u0430\\u043d\\u0438\\u0435-\\u0416\\u0438\\u0437\\u043d\\u044c\",\n          \"\\u0422-\\u0421\\u0442\\u0440\\u0430\\u0445\\u043e\\u0432\\u0430\\u043d\\u0438\\u0435\"\n        ],\n        \"semantic_type\": \"\",\n        \"description\": \"\"\n      }\n    },\n    {\n      \"column\": \"review\",\n      \"properties\": {\n        \"dtype\": \"string\",\n        \"num_unique_values\": 7419,\n        \"samples\": [\n          \"\\u0434\\u043e\\u0431\\u0440 \\u0434\\u0435\\u043d \\u043e\\u0447\\u0435\\u0440\\u0435\\u0434\\u043d \\u043e\\u0431\\u0440\\u0430\\u0442 \\u0441\\u0442\\u0440\\u0430\\u0445 \\u0441\\u043b\\u0443\\u0447 \\u0442\\u0438\\u043d\\u044c\\u043a\\u043e\\u0444\\u0444 \\u0441\\u0442\\u0440\\u0430\\u0445\\u043e\\u0432\\u0430 \\u043e\\u043f\\u0435\\u0440\\u0430\\u0442\\u0438\\u0432\\u043d \\u0442\\u0435\\u0447 \\u0447\\u0430\\u0441 \\u0432\\u044b\\u0434 \\u043d\\u0430\\u043f\\u0440\\u0430\\u0432\\u043b \\u0432\\u0442\\u043e\\u0440 \\u0434\\u0435\\u043d \\u0441\\u044a\\u0435\\u0437\\u0434 \\u0430\\u0432\\u0442\\u043e\\u0441\\u0435\\u0440\\u0432\\u0438\\u0441 \\u043e\\u0441\\u043c\\u043e\\u0442\\u0440\\u0435\\u043b \\u0441\\u0434\\u0435\\u043b \\u043a\\u0430\\u0447\\u0435\\u0441\\u0442\\u0432 \\u0440\\u0435\\u043c\\u043e\\u043d\\u0442 \\u0432\\u043e\\u043f\\u0440\\u043e\\u0441 \\u0440\\u0435\\u0448 \\u043e\\u043f\\u0435\\u0440\\u0430\\u0442\\u0438\\u0432\\u043d \\u043b\\u0438\\u0448\\u043d \\u0431\\u0443\\u043c\\u0430\\u0436\\u043d \\u0432\\u043e\\u043b\\u043e\\u043a \\u043b\\u0438\\u0448\\u043d \\u043f\\u0440\\u043e\\u0431\\u043b\",\n          \"\\u0438\\u044e\\u043d \\u043f\\u0440\\u043e\\u0438\\u0437\\u043e\\u0448\\u043b \\u0434\\u0442\\u043f \\u0434\\u0435\\u043d \\u0437\\u0430\\u0440\\u0435\\u0433\\u0438\\u0441\\u0442\\u0440\\u0438\\u0440\\u043e\\u0432 \\u0441\\u0442\\u0440\\u0430\\u0445 \\u0441\\u043e\\u0431 \\u043f\\u0440\\u0438\\u043b\\u043e\\u0436 \\u0441\\u043b\\u0435\\u0434 \\u0434\\u0435\\u043d \\u043f\\u0440\\u0438\\u0441\\u043b \\u0441\\u043f\\u0438\\u0441\\u043e\\u043a \\u0441\\u0442\\u043e \\u043f\\u0440\\u043e\\u0438\\u0437\\u0432\\u0435\\u0441\\u0442 \\u0440\\u0435\\u043c\\u043e\\u043d\\u0442 \\u0434\\u0435\\u043d \\u0434\\u043e\\u0433\\u043e\\u0432\\u043e\\u0440 \\u043f\\u0440\\u0438\\u0432 \\u0437 \\u043c\\u0430\\u0448\\u0438\\u043d \\u044d\\u0432\\u0430\\u043a\\u0443\\u0430\\u0442\\u043e\\u0440 \\u0441\\u0442\\u043e \\u0434\\u043d\\u044f \\u043f\\u043e\\u0437\\u0432 \\u043f\\u0435\\u0440\\u0435\\u0434\\u0430\\u0447 \\u0430\\u0432\\u0442 \\u0434\\u0435\\u0444\\u0435\\u043a\\u0442\\u043e\\u0432\\u043a \\u043e\\u043f\\u0435\\u0440\\u0430\\u0442\\u0438\\u0432\\u043d \\u0437\\u0430\\u043a\\u043e\\u043d\\u0447 \\u043e\\u043f\\u0443\\u0449 \\u043f\\u0435\\u0440\\u0435\\u043f\\u0438\\u0441\\u043a \\u043f\\u0435\\u0440\\u0435\\u0434\\u0430\\u0447 \\u043e\\u0434\\u043d \\u043c\\u0435\\u043d\\u0435\\u0434\\u0436\\u0435\\u0440 \\u0434\\u0440\\u0443\\u0433 \\u043e\\u0431\\u0440\\u0430\\u0442\\u043d \\u043e\\u0442\\u0433\\u043e\\u0432\\u043e\\u0440\\u043a \\u0441\\u043b\\u043e\\u0436\\u043d \\u043a\\u0430\\u043b\\u044c\\u043a\\u0443\\u043b\\u044f\\u0446 \\u0434\\u0430\\u043d \\u043c\\u043e\\u043c\\u0435\\u043d\\u0442 \\u0432\\u0440\\u0435\\u043c \\u0434\\u0442\\u043f \\u043f\\u0440\\u043e\\u0448\\u043b \\u0434\\u043d\\u0435 \\u0438\\u044e\\u043b \\u043f\\u0440\\u0438\\u0441\\u043b \\u0443\\u0432\\u0435\\u0434\\u043e\\u043c\\u043b \\u043f\\u043e\\u043b\\u043d \\u0433\\u0438\\u0431\\u0435\\u043b \\u0430\\u0432\\u0442 \\u0437\\u0430\\u0431\\u043b\\u0430\\u0433\\u043e\\u0432\\u0440\\u0435\\u043c \\u0441\\u0434\\u0435\\u043b \\u043d\\u0435\\u0437\\u0430\\u0432\\u0438\\u0441 \\u044d\\u043a\\u0441\\u043f\\u0435\\u0440\\u0442\\u0438\\u0437 \\u043a\\u0430\\u043b\\u044c\\u043a\\u0443\\u043b\\u044f\\u0446 \\u0433\\u043e\\u0434\\u043d \\u043e\\u0441\\u0442\\u0430\\u0442\\u043a \\u043f\\u043e\\u0434 \\u0434\\u043e\\u0441\\u0443\\u0434\\u0435\\u0431\\u043d \\u043f\\u0440\\u0435\\u0442\\u0435\\u043d\\u0437 \\u0442 \\u043a\\u0430\\u043b\\u044c\\u043a\\u0443\\u043b\\u044f\\u0446 \\u0433\\u043e\\u0434\\u043d \\u043e\\u0441\\u0442\\u0430\\u0442\\u043a \\u0442\\u0438\\u043d\\u044c\\u043a\\u043e\\u0444\\u0444 \\u043f\\u043e\\u0441\\u0447\\u0438\\u0442 \\u0432\\u044b\\u043f\\u043b\\u0430\\u0442 \\u043c\\u0435\\u043d\\u044c\\u0448 \\u0434\\u0435\\u043d\\u0435\\u0433 \\u0441\\u043b\\u0443\\u0447 \\u043e\\u0441\\u0442\\u0430\\u0432\\u043b \\u0430\\u0432\\u0442\\u043e\\u043c\\u043e\\u0431 \\u0435\\u0449 \\u0434\\u043e\\u043f\\u043b\\u0430\\u0442 \\u0434\\u043e\\u043b\\u0436 \\u043e\\u0442\\u043f\\u0440\\u0430 \\u043f\\u0440\\u0435\\u0442\\u0435\\u043d\\u0437 \\u0438\\u044e\\u043b \\u0441\\u0442\\u0430\\u043b \\u0434\\u043e\\u0436\\u0438\\u0434 \\u043b\\u0438\\u0431 \\u0440\\u0435\\u0430\\u043a\\u0446 \\u0441\\u0442\\u0440\\u0430\\u0445 \\u043a\\u043e\\u043c\\u043f\\u0430 \\u0434\\u0443\\u043c \\u0438\\u043d\\u0442\\u0435\\u0440\\u0435\\u0441\\u043d \\u0435\\u0449 \\u0432\\u043f\\u0435\\u0440\\u0435\\u0434\",\n          \"\\u043f\\u043e\\u0434 \\u0437\\u0430\\u044f\\u0432\\u043b \\u0440\\u0430\\u0441\\u0442\\u043e\\u0440\\u0436 \\u043e\\u0441\\u0430\\u0433 \\u043f\\u0440\\u043e\\u0434\\u0430\\u0436 \\u0430\\u0432\\u0442 \\u043d\\u0430\\u043f\\u0438\\u0441 \\u044f\\u043a\\u043e\\u0431 \\u043e\\u0448\\u0438\\u0431\\u043a \\u0434\\u043e\\u0433\\u043e\\u0432\\u043e\\u0440 \\u043a\\u0443\\u043f\\u043b \\u043f\\u0440\\u043e\\u0434\\u0430\\u0436 \\u0445\\u043e\\u0442 \\u0430\\u0432\\u0442 \\u0434\\u0440\\u0443\\u0433 \\u0441\\u043e\\u0431\\u0441\\u0442\\u0432\\u0435\\u043d\\u043d\\u0438\\u043a \\u0433\\u0438\\u0431\\u0434\\u0434 \\u0434\\u043e\\u0433\\u043e\\u0432\\u043e\\u0440 \\u043f\\u043e\\u0440\\u044f\\u0434\\u043a \\u0437\\u0430\\u043f\\u0440\\u043e\\u0441 \\u043e\\u0448\\u0438\\u0431\\u043a \\u043f\\u0440\\u043e\\u0441\\u0442 \\u043c\\u043e\\u043b\\u0447\\u0430\\u0442 \\u0446\\u0435\\u043b \\u043e\\u0442\\u0432\\u0435\\u0447 \\u043d\\u0438\\u043a\\u0430\\u043a \\u0434\\u0435\\u043d\\u0435\\u0433 \\u043f\\u043e\\u043b\\u0430\\u0433 \\u0442\\u0430\\u043a\\u0436 \\u0441\\u0442\\u0440\\u0430\\u0445 \\u0441\\u043b\\u0443\\u0447 \\u0442\\u0430\\u043a\\u0436 \\u0440\\u0430\\u0431\\u043e\\u0442 \\u0440\\u0435\\u043a\\u043e\\u043c\\u0435\\u043d\\u0434 \\u043c\\u043e\\u0448\\u0435\\u043d\\u043d\\u0438\\u043a\"\n        ],\n        \"semantic_type\": \"\",\n        \"description\": \"\"\n      }\n    },\n    {\n      \"column\": \"rate\",\n      \"properties\": {\n        \"dtype\": \"number\",\n        \"std\": 1,\n        \"min\": 1,\n        \"max\": 5,\n        \"num_unique_values\": 5,\n        \"samples\": [\n          4,\n          3,\n          1\n        ],\n        \"semantic_type\": \"\",\n        \"description\": \"\"\n      }\n    },\n    {\n      \"column\": \"date\",\n      \"properties\": {\n        \"dtype\": \"date\",\n        \"min\": \"2024-01-20 00:00:00\",\n        \"max\": \"2024-09-22 00:00:00\",\n        \"num_unique_values\": 247,\n        \"samples\": [\n          \"2024-08-20 00:00:00\",\n          \"2024-09-16 00:00:00\",\n          \"2024-03-25 00:00:00\"\n        ],\n        \"semantic_type\": \"\",\n        \"description\": \"\"\n      }\n    }\n  ]\n}"
            }
          },
          "metadata": {},
          "execution_count": 41
        }
      ]
    },
    {
      "cell_type": "code",
      "source": [
        "df.reset_index(drop=True, inplace=True)"
      ],
      "metadata": {
        "collapsed": true,
        "id": "Qvh35mHo5uLX"
      },
      "execution_count": null,
      "outputs": []
    },
    {
      "cell_type": "markdown",
      "source": [
        "### Получение выборок для обучения и тестирования моделей\n"
      ],
      "metadata": {
        "id": "E7n4M8Oywimq"
      }
    },
    {
      "cell_type": "markdown",
      "source": [
        "Сначала возьмем данные, которые будут использованы для обучения и тестов моделей, а потом возьмем целевое значение. Так же будет необходимо преобразовать текстовые данные в числа, чтобы модели машинного обучения могли работать с данными, для чего воспользуемся векторизацией."
      ],
      "metadata": {
        "id": "ZMoQNKLlwnmv"
      }
    },
    {
      "cell_type": "code",
      "source": [
        "# получение значений столбца с текстом отзывов\n",
        "text_reviews = df[\"review\"]\n",
        "text_reviews"
      ],
      "metadata": {
        "colab": {
          "base_uri": "https://localhost:8080/",
          "height": 458
        },
        "id": "7csP3p-juUkd",
        "outputId": "1a323b02-c98f-4d83-d29f-0fa3d334a0da"
      },
      "execution_count": null,
      "outputs": [
        {
          "output_type": "execute_result",
          "data": {
            "text/plain": [
              "0       оформ каск пожалел случ дтп менеджер анастас с...\n",
              "1       деш ва страховк совкомбанк позвон помогл продл...\n",
              "2       здравств уваж сммщик т банк пришел знач сво лк...\n",
              "3       добр вечер сво автомоб застрахов альфастрахова...\n",
              "4       дорог человек ко случ связыв сбербанк люб стра...\n",
              "                              ...                        \n",
              "7425    прошл быстр деньг поступ карт втор ден подач д...\n",
              "7426    позвон тинькофф страхова оформл ипотек днях до...\n",
              "7427    здравств прин оставл положительн отз страх ком...\n",
              "7428    приобр л автомоб кред драйв клик банк усл офор...\n",
              "7429    произошл дтп примерн вызв аварк сторон виновни...\n",
              "Name: review, Length: 7430, dtype: object"
            ],
            "text/html": [
              "<div>\n",
              "<style scoped>\n",
              "    .dataframe tbody tr th:only-of-type {\n",
              "        vertical-align: middle;\n",
              "    }\n",
              "\n",
              "    .dataframe tbody tr th {\n",
              "        vertical-align: top;\n",
              "    }\n",
              "\n",
              "    .dataframe thead th {\n",
              "        text-align: right;\n",
              "    }\n",
              "</style>\n",
              "<table border=\"1\" class=\"dataframe\">\n",
              "  <thead>\n",
              "    <tr style=\"text-align: right;\">\n",
              "      <th></th>\n",
              "      <th>review</th>\n",
              "    </tr>\n",
              "  </thead>\n",
              "  <tbody>\n",
              "    <tr>\n",
              "      <th>0</th>\n",
              "      <td>оформ каск пожалел случ дтп менеджер анастас с...</td>\n",
              "    </tr>\n",
              "    <tr>\n",
              "      <th>1</th>\n",
              "      <td>деш ва страховк совкомбанк позвон помогл продл...</td>\n",
              "    </tr>\n",
              "    <tr>\n",
              "      <th>2</th>\n",
              "      <td>здравств уваж сммщик т банк пришел знач сво лк...</td>\n",
              "    </tr>\n",
              "    <tr>\n",
              "      <th>3</th>\n",
              "      <td>добр вечер сво автомоб застрахов альфастрахова...</td>\n",
              "    </tr>\n",
              "    <tr>\n",
              "      <th>4</th>\n",
              "      <td>дорог человек ко случ связыв сбербанк люб стра...</td>\n",
              "    </tr>\n",
              "    <tr>\n",
              "      <th>...</th>\n",
              "      <td>...</td>\n",
              "    </tr>\n",
              "    <tr>\n",
              "      <th>7425</th>\n",
              "      <td>прошл быстр деньг поступ карт втор ден подач д...</td>\n",
              "    </tr>\n",
              "    <tr>\n",
              "      <th>7426</th>\n",
              "      <td>позвон тинькофф страхова оформл ипотек днях до...</td>\n",
              "    </tr>\n",
              "    <tr>\n",
              "      <th>7427</th>\n",
              "      <td>здравств прин оставл положительн отз страх ком...</td>\n",
              "    </tr>\n",
              "    <tr>\n",
              "      <th>7428</th>\n",
              "      <td>приобр л автомоб кред драйв клик банк усл офор...</td>\n",
              "    </tr>\n",
              "    <tr>\n",
              "      <th>7429</th>\n",
              "      <td>произошл дтп примерн вызв аварк сторон виновни...</td>\n",
              "    </tr>\n",
              "  </tbody>\n",
              "</table>\n",
              "<p>7430 rows × 1 columns</p>\n",
              "</div><br><label><b>dtype:</b> object</label>"
            ]
          },
          "metadata": {},
          "execution_count": 43
        }
      ]
    },
    {
      "cell_type": "code",
      "source": [
        "# векторизация данных\n",
        "vectorizer = TfidfVectorizer()\n",
        "X = vectorizer.fit_transform(text_reviews)\n",
        "X"
      ],
      "metadata": {
        "colab": {
          "base_uri": "https://localhost:8080/"
        },
        "id": "ECfb6p1pwuWu",
        "outputId": "20c6063c-81f3-4a4e-8afd-2439ea2f1297"
      },
      "execution_count": null,
      "outputs": [
        {
          "output_type": "execute_result",
          "data": {
            "text/plain": [
              "<7430x14461 sparse matrix of type '<class 'numpy.float64'>'\n",
              "\twith 415581 stored elements in Compressed Sparse Row format>"
            ]
          },
          "metadata": {},
          "execution_count": 44
        }
      ]
    },
    {
      "cell_type": "code",
      "source": [
        "y = df[\"rate\"]"
      ],
      "metadata": {
        "id": "yjGUXm9wwuT2"
      },
      "execution_count": null,
      "outputs": []
    },
    {
      "cell_type": "code",
      "source": [
        "# проверка размерности\n",
        "X.shape, y.shape"
      ],
      "metadata": {
        "colab": {
          "base_uri": "https://localhost:8080/"
        },
        "id": "GfSt1YS2wuRQ",
        "outputId": "7654f4ef-db55-4983-89d1-aa342019f9e6"
      },
      "execution_count": null,
      "outputs": [
        {
          "output_type": "execute_result",
          "data": {
            "text/plain": [
              "((7430, 14461), (7430,))"
            ]
          },
          "metadata": {},
          "execution_count": 46
        }
      ]
    },
    {
      "cell_type": "markdown",
      "source": [
        "### Создание и обучение моделей"
      ],
      "metadata": {
        "id": "nQcUJtFRxasQ"
      }
    },
    {
      "cell_type": "code",
      "source": [
        "# разделение выборки\n",
        "x_train, x_test, y_train, y_test = train_test_split(X, y, train_size=0.8)\n",
        "x_train, x_test, y_train, y_test"
      ],
      "metadata": {
        "colab": {
          "base_uri": "https://localhost:8080/"
        },
        "id": "W7Si7KkzwuOt",
        "outputId": "463f7526-70d5-4572-903a-c1e1b63fb478"
      },
      "execution_count": null,
      "outputs": [
        {
          "output_type": "execute_result",
          "data": {
            "text/plain": [
              "(<5944x14461 sparse matrix of type '<class 'numpy.float64'>'\n",
              " \twith 331740 stored elements in Compressed Sparse Row format>,\n",
              " <1486x14461 sparse matrix of type '<class 'numpy.float64'>'\n",
              " \twith 83841 stored elements in Compressed Sparse Row format>,\n",
              " 179     1\n",
              " 1318    5\n",
              " 898     5\n",
              " 4931    1\n",
              " 6625    5\n",
              "        ..\n",
              " 5532    5\n",
              " 5981    5\n",
              " 6087    1\n",
              " 2137    5\n",
              " 6477    5\n",
              " Name: rate, Length: 5944, dtype: int64,\n",
              " 6605    5\n",
              " 7014    1\n",
              " 6102    5\n",
              " 3941    1\n",
              " 6864    5\n",
              "        ..\n",
              " 5422    5\n",
              " 4442    1\n",
              " 4983    5\n",
              " 5842    5\n",
              " 5032    5\n",
              " Name: rate, Length: 1486, dtype: int64)"
            ]
          },
          "metadata": {},
          "execution_count": 54
        }
      ]
    },
    {
      "cell_type": "code",
      "source": [
        "# вывод размерности всех выборок\n",
        "x_train.shape, x_test.shape, y_train.shape, y_test.shape"
      ],
      "metadata": {
        "colab": {
          "base_uri": "https://localhost:8080/"
        },
        "id": "wf3kNvsqwuMV",
        "outputId": "8634d1b3-eeb9-4160-9b83-9073814060a6"
      },
      "execution_count": null,
      "outputs": [
        {
          "output_type": "execute_result",
          "data": {
            "text/plain": [
              "((5944, 14461), (1486, 14461), (5944,), (1486,))"
            ]
          },
          "metadata": {},
          "execution_count": 55
        }
      ]
    },
    {
      "cell_type": "markdown",
      "source": [
        "Мы видим, что размерность `x_train (5944, 15992)` и `y_train (5944, )` совпадает, так же как и размерность `x_test (1486, 15992)` и `y_test (1486, )`.\n",
        "\n"
      ],
      "metadata": {
        "id": "5wi5kPGD6h5G"
      }
    },
    {
      "cell_type": "markdown",
      "source": [
        "###  Модель линейных опорных векторов"
      ],
      "metadata": {
        "id": "Nh6aITSp7t_L"
      }
    },
    {
      "cell_type": "code",
      "source": [
        "# начальное время\n",
        "start_time = time.time()\n",
        "\n",
        "# задание параметров для перебора\n",
        "parameters_scv = {\"C\": [0.1, 1.0, 10.0], \"loss\": [\"hinge\", \"squared_hinge\"], \"penalty\": [\"l1\", \"l2\"]}\n",
        "grid_search_SVC = GridSearchCV(LinearSVC(), parameters_scv, cv=3, scoring=\"accuracy\", verbose=10)\n",
        "grid_search_SVC.fit(x_train, y_train)\n",
        "\n",
        "# конечное время\n",
        "end_time = time.time()\n",
        "\n",
        "# разница между конечным и начальным временем\n",
        "grid_time_linear_svc = end_time - start_time"
      ],
      "metadata": {
        "colab": {
          "base_uri": "https://localhost:8080/"
        },
        "collapsed": true,
        "id": "ikcgyvOzwuJz",
        "outputId": "70a39b64-1923-439a-d02b-fdac5b171d26"
      },
      "execution_count": null,
      "outputs": [
        {
          "output_type": "stream",
          "name": "stdout",
          "text": [
            "Fitting 3 folds for each of 12 candidates, totalling 36 fits\n",
            "[CV 1/3; 1/12] START C=0.1, loss=hinge, penalty=l1..............................\n",
            "[CV 1/3; 1/12] END .C=0.1, loss=hinge, penalty=l1;, score=nan total time=   0.0s\n",
            "[CV 2/3; 1/12] START C=0.1, loss=hinge, penalty=l1..............................\n",
            "[CV 2/3; 1/12] END .C=0.1, loss=hinge, penalty=l1;, score=nan total time=   0.0s\n",
            "[CV 3/3; 1/12] START C=0.1, loss=hinge, penalty=l1..............................\n",
            "[CV 3/3; 1/12] END .C=0.1, loss=hinge, penalty=l1;, score=nan total time=   0.0s\n",
            "[CV 1/3; 2/12] START C=0.1, loss=hinge, penalty=l2..............................\n",
            "[CV 1/3; 2/12] END C=0.1, loss=hinge, penalty=l2;, score=0.888 total time=   0.1s\n",
            "[CV 2/3; 2/12] START C=0.1, loss=hinge, penalty=l2..............................\n",
            "[CV 2/3; 2/12] END C=0.1, loss=hinge, penalty=l2;, score=0.884 total time=   0.1s\n",
            "[CV 3/3; 2/12] START C=0.1, loss=hinge, penalty=l2..............................\n",
            "[CV 3/3; 2/12] END C=0.1, loss=hinge, penalty=l2;, score=0.895 total time=   0.1s\n",
            "[CV 1/3; 3/12] START C=0.1, loss=squared_hinge, penalty=l1......................\n",
            "[CV 1/3; 3/12] END C=0.1, loss=squared_hinge, penalty=l1;, score=0.869 total time=   0.2s\n",
            "[CV 2/3; 3/12] START C=0.1, loss=squared_hinge, penalty=l1......................\n",
            "[CV 2/3; 3/12] END C=0.1, loss=squared_hinge, penalty=l1;, score=0.873 total time=   0.1s\n",
            "[CV 3/3; 3/12] START C=0.1, loss=squared_hinge, penalty=l1......................\n",
            "[CV 3/3; 3/12] END C=0.1, loss=squared_hinge, penalty=l1;, score=0.882 total time=   0.2s\n",
            "[CV 1/3; 4/12] START C=0.1, loss=squared_hinge, penalty=l2......................\n",
            "[CV 1/3; 4/12] END C=0.1, loss=squared_hinge, penalty=l2;, score=0.909 total time=   0.1s\n",
            "[CV 2/3; 4/12] START C=0.1, loss=squared_hinge, penalty=l2......................\n",
            "[CV 2/3; 4/12] END C=0.1, loss=squared_hinge, penalty=l2;, score=0.908 total time=   0.1s\n",
            "[CV 3/3; 4/12] START C=0.1, loss=squared_hinge, penalty=l2......................\n",
            "[CV 3/3; 4/12] END C=0.1, loss=squared_hinge, penalty=l2;, score=0.910 total time=   0.1s\n",
            "[CV 1/3; 5/12] START C=1.0, loss=hinge, penalty=l1..............................\n",
            "[CV 1/3; 5/12] END .C=1.0, loss=hinge, penalty=l1;, score=nan total time=   0.0s\n",
            "[CV 2/3; 5/12] START C=1.0, loss=hinge, penalty=l1..............................\n",
            "[CV 2/3; 5/12] END .C=1.0, loss=hinge, penalty=l1;, score=nan total time=   0.0s\n",
            "[CV 3/3; 5/12] START C=1.0, loss=hinge, penalty=l1..............................\n",
            "[CV 3/3; 5/12] END .C=1.0, loss=hinge, penalty=l1;, score=nan total time=   0.0s\n",
            "[CV 1/3; 6/12] START C=1.0, loss=hinge, penalty=l2..............................\n",
            "[CV 1/3; 6/12] END C=1.0, loss=hinge, penalty=l2;, score=0.921 total time=   0.1s\n",
            "[CV 2/3; 6/12] START C=1.0, loss=hinge, penalty=l2..............................\n",
            "[CV 2/3; 6/12] END C=1.0, loss=hinge, penalty=l2;, score=0.920 total time=   0.1s\n",
            "[CV 3/3; 6/12] START C=1.0, loss=hinge, penalty=l2..............................\n",
            "[CV 3/3; 6/12] END C=1.0, loss=hinge, penalty=l2;, score=0.919 total time=   0.2s\n",
            "[CV 1/3; 7/12] START C=1.0, loss=squared_hinge, penalty=l1......................\n",
            "[CV 1/3; 7/12] END C=1.0, loss=squared_hinge, penalty=l1;, score=0.913 total time=   1.2s\n",
            "[CV 2/3; 7/12] START C=1.0, loss=squared_hinge, penalty=l1......................\n",
            "[CV 2/3; 7/12] END C=1.0, loss=squared_hinge, penalty=l1;, score=0.915 total time=   1.1s\n",
            "[CV 3/3; 7/12] START C=1.0, loss=squared_hinge, penalty=l1......................\n",
            "[CV 3/3; 7/12] END C=1.0, loss=squared_hinge, penalty=l1;, score=0.915 total time=   1.0s\n",
            "[CV 1/3; 8/12] START C=1.0, loss=squared_hinge, penalty=l2......................\n",
            "[CV 1/3; 8/12] END C=1.0, loss=squared_hinge, penalty=l2;, score=0.921 total time=   0.1s\n",
            "[CV 2/3; 8/12] START C=1.0, loss=squared_hinge, penalty=l2......................\n",
            "[CV 2/3; 8/12] END C=1.0, loss=squared_hinge, penalty=l2;, score=0.916 total time=   0.1s\n",
            "[CV 3/3; 8/12] START C=1.0, loss=squared_hinge, penalty=l2......................\n",
            "[CV 3/3; 8/12] END C=1.0, loss=squared_hinge, penalty=l2;, score=0.919 total time=   0.1s\n",
            "[CV 1/3; 9/12] START C=10.0, loss=hinge, penalty=l1.............................\n",
            "[CV 1/3; 9/12] END C=10.0, loss=hinge, penalty=l1;, score=nan total time=   0.0s\n",
            "[CV 2/3; 9/12] START C=10.0, loss=hinge, penalty=l1.............................\n",
            "[CV 2/3; 9/12] END C=10.0, loss=hinge, penalty=l1;, score=nan total time=   0.0s\n",
            "[CV 3/3; 9/12] START C=10.0, loss=hinge, penalty=l1.............................\n",
            "[CV 3/3; 9/12] END C=10.0, loss=hinge, penalty=l1;, score=nan total time=   0.0s\n",
            "[CV 1/3; 10/12] START C=10.0, loss=hinge, penalty=l2............................\n",
            "[CV 1/3; 10/12] END C=10.0, loss=hinge, penalty=l2;, score=0.908 total time=   0.2s\n",
            "[CV 2/3; 10/12] START C=10.0, loss=hinge, penalty=l2............................\n",
            "[CV 2/3; 10/12] END C=10.0, loss=hinge, penalty=l2;, score=0.908 total time=   0.3s\n",
            "[CV 3/3; 10/12] START C=10.0, loss=hinge, penalty=l2............................\n",
            "[CV 3/3; 10/12] END C=10.0, loss=hinge, penalty=l2;, score=0.910 total time=   0.2s\n",
            "[CV 1/3; 11/12] START C=10.0, loss=squared_hinge, penalty=l1....................\n"
          ]
        },
        {
          "output_type": "stream",
          "name": "stderr",
          "text": [
            "/usr/local/lib/python3.10/dist-packages/sklearn/svm/_base.py:1235: ConvergenceWarning: Liblinear failed to converge, increase the number of iterations.\n",
            "  warnings.warn(\n"
          ]
        },
        {
          "output_type": "stream",
          "name": "stdout",
          "text": [
            "[CV 1/3; 11/12] END C=10.0, loss=squared_hinge, penalty=l1;, score=0.901 total time=   4.2s\n",
            "[CV 2/3; 11/12] START C=10.0, loss=squared_hinge, penalty=l1....................\n"
          ]
        },
        {
          "output_type": "stream",
          "name": "stderr",
          "text": [
            "/usr/local/lib/python3.10/dist-packages/sklearn/svm/_base.py:1235: ConvergenceWarning: Liblinear failed to converge, increase the number of iterations.\n",
            "  warnings.warn(\n"
          ]
        },
        {
          "output_type": "stream",
          "name": "stdout",
          "text": [
            "[CV 2/3; 11/12] END C=10.0, loss=squared_hinge, penalty=l1;, score=0.896 total time=   4.7s\n",
            "[CV 3/3; 11/12] START C=10.0, loss=squared_hinge, penalty=l1....................\n"
          ]
        },
        {
          "output_type": "stream",
          "name": "stderr",
          "text": [
            "/usr/local/lib/python3.10/dist-packages/sklearn/svm/_base.py:1235: ConvergenceWarning: Liblinear failed to converge, increase the number of iterations.\n",
            "  warnings.warn(\n"
          ]
        },
        {
          "output_type": "stream",
          "name": "stdout",
          "text": [
            "[CV 3/3; 11/12] END C=10.0, loss=squared_hinge, penalty=l1;, score=0.903 total time=   3.7s\n",
            "[CV 1/3; 12/12] START C=10.0, loss=squared_hinge, penalty=l2....................\n",
            "[CV 1/3; 12/12] END C=10.0, loss=squared_hinge, penalty=l2;, score=0.910 total time=   0.2s\n",
            "[CV 2/3; 12/12] START C=10.0, loss=squared_hinge, penalty=l2....................\n",
            "[CV 2/3; 12/12] END C=10.0, loss=squared_hinge, penalty=l2;, score=0.910 total time=   0.3s\n",
            "[CV 3/3; 12/12] START C=10.0, loss=squared_hinge, penalty=l2....................\n",
            "[CV 3/3; 12/12] END C=10.0, loss=squared_hinge, penalty=l2;, score=0.911 total time=   0.3s\n"
          ]
        },
        {
          "output_type": "stream",
          "name": "stderr",
          "text": [
            "/usr/local/lib/python3.10/dist-packages/sklearn/model_selection/_validation.py:540: FitFailedWarning: \n",
            "9 fits failed out of a total of 36.\n",
            "The score on these train-test partitions for these parameters will be set to nan.\n",
            "If these failures are not expected, you can try to debug them by setting error_score='raise'.\n",
            "\n",
            "Below are more details about the failures:\n",
            "--------------------------------------------------------------------------------\n",
            "9 fits failed with the following error:\n",
            "Traceback (most recent call last):\n",
            "  File \"/usr/local/lib/python3.10/dist-packages/sklearn/model_selection/_validation.py\", line 888, in _fit_and_score\n",
            "    estimator.fit(X_train, y_train, **fit_params)\n",
            "  File \"/usr/local/lib/python3.10/dist-packages/sklearn/base.py\", line 1473, in wrapper\n",
            "    return fit_method(estimator, *args, **kwargs)\n",
            "  File \"/usr/local/lib/python3.10/dist-packages/sklearn/svm/_classes.py\", line 317, in fit\n",
            "    self.coef_, self.intercept_, n_iter_ = _fit_liblinear(\n",
            "  File \"/usr/local/lib/python3.10/dist-packages/sklearn/svm/_base.py\", line 1214, in _fit_liblinear\n",
            "    solver_type = _get_liblinear_solver_type(multi_class, penalty, loss, dual)\n",
            "  File \"/usr/local/lib/python3.10/dist-packages/sklearn/svm/_base.py\", line 1046, in _get_liblinear_solver_type\n",
            "    raise ValueError(\n",
            "ValueError: Unsupported set of arguments: The combination of penalty='l1' and loss='hinge' is not supported, Parameters: penalty='l1', loss='hinge', dual=False\n",
            "\n",
            "  warnings.warn(some_fits_failed_message, FitFailedWarning)\n",
            "/usr/local/lib/python3.10/dist-packages/sklearn/model_selection/_search.py:1103: UserWarning: One or more of the test scores are non-finite: [       nan 0.889132   0.87466442 0.90915208        nan 0.91975084\n",
            " 0.91436762 0.91890942        nan 0.90847927 0.89973067 0.9101615 ]\n",
            "  warnings.warn(\n"
          ]
        }
      ]
    },
    {
      "cell_type": "code",
      "source": [
        "print(f\"Время поиска гиперпараметров: {grid_time_linear_svc:.5f}\")"
      ],
      "metadata": {
        "colab": {
          "base_uri": "https://localhost:8080/"
        },
        "id": "x1TGumSYEslu",
        "outputId": "78413699-aa6d-48ce-8bb1-7d339ac0b733"
      },
      "execution_count": null,
      "outputs": [
        {
          "output_type": "stream",
          "name": "stdout",
          "text": [
            "Время поиска гиперпараметров: 19.45641\n"
          ]
        }
      ]
    },
    {
      "cell_type": "code",
      "source": [
        "# вывод лучших параметров и метрики accuracy при этих параметрах\n",
        "print(f\"Лучшие параметры для LinearSVC : {grid_search_SVC.best_params_}\")\n",
        "print(f\"Лучшая оценка accuracy: {grid_search_SVC.best_score_:.5f}\")"
      ],
      "metadata": {
        "colab": {
          "base_uri": "https://localhost:8080/"
        },
        "id": "uuee0mvNwuHm",
        "outputId": "bfd01d8f-1ed2-4018-be86-2c469b684e22"
      },
      "execution_count": null,
      "outputs": [
        {
          "output_type": "stream",
          "name": "stdout",
          "text": [
            "Лучшие параметры для LinearSVC : {'C': 1.0, 'loss': 'hinge', 'penalty': 'l2'}\n",
            "Лучшая оценка accuracy: 0.91975\n"
          ]
        }
      ]
    },
    {
      "cell_type": "code",
      "source": [
        "start_time = time.time()\n",
        "\n",
        "linear_svc_model = LinearSVC(C = 1.0, loss = \"hinge\", penalty = \"l2\")\n",
        "# обучение модели на обучающей выборке\n",
        "linear_svc_model.fit(x_train, y_train)\n",
        "# предсказание на тестовой выборке\n",
        "y_pred_scv = linear_svc_model.predict(x_test)\n",
        "\n",
        "# конечное время\n",
        "end_time = time.time()\n",
        "\n",
        "# разница между конечным и начальным временем\n",
        "train_time_linear_svc = end_time - start_time\n",
        "print(f\"Время обучения модели: {train_time_linear_svc:.5f}\")"
      ],
      "metadata": {
        "colab": {
          "base_uri": "https://localhost:8080/"
        },
        "id": "C4zV6dqBwuFK",
        "outputId": "434aa809-fd52-43d3-d524-67971324d19c"
      },
      "execution_count": null,
      "outputs": [
        {
          "output_type": "stream",
          "name": "stdout",
          "text": [
            "Время обучения модели: 0.32822\n"
          ]
        }
      ]
    },
    {
      "cell_type": "code",
      "source": [
        "start_time = time.time()\n",
        "# вычисление метрик\n",
        "accuracy_lscv = accuracy_score(y_test, y_pred_scv)\n",
        "f1_lscv = f1_score(y_test, y_pred_scv, average = \"weighted\")\n",
        "\n",
        "print(f\"Точность модели = {accuracy_lscv:.5f}\")\n",
        "print(f\"Метрика f1 = {f1_lscv:.5f}\")\n",
        "\n",
        "end_time = time.time()\n",
        "\n",
        "test_time_linear_scv = end_time - start_time\n",
        "print(f\"Время проверки на тестовых данных: {test_time_linear_scv:.5f}\")"
      ],
      "metadata": {
        "colab": {
          "base_uri": "https://localhost:8080/"
        },
        "id": "vhKWRJ7UwuC8",
        "outputId": "243ba9de-5b61-4156-890c-54cf30418ae1"
      },
      "execution_count": null,
      "outputs": [
        {
          "output_type": "stream",
          "name": "stdout",
          "text": [
            "Точность модели = 0.93203\n",
            "Метрика f1 = 0.91067\n",
            "Время проверки на тестовых данных: 0.01138\n"
          ]
        }
      ]
    },
    {
      "cell_type": "markdown",
      "source": [
        "### Модель логистической регрессии"
      ],
      "metadata": {
        "id": "5MHRc5rYACjA"
      }
    },
    {
      "cell_type": "code",
      "source": [
        "start_time = time.time()\n",
        "\n",
        "# задание параметров для перебора\n",
        "parameters_lr = {\"penalty\": [\"l2\", \"elasticnet\", None], \"C\": [float(x) for x in np.linspace(start = 1, stop = 100, num = 5)]}\n",
        "grid_search_LR = GridSearchCV(LogisticRegression(), parameters_lr, cv=3, scoring=\"accuracy\", verbose=10)\n",
        "grid_search_LR.fit(x_train, y_train)\n",
        "\n",
        "end_time = time.time()\n",
        "grid_time_lr = end_time-start_time"
      ],
      "metadata": {
        "colab": {
          "base_uri": "https://localhost:8080/"
        },
        "collapsed": true,
        "id": "J9NmtoIsAbXc",
        "outputId": "47d5051d-3c49-42a6-f2cc-c092d701501a"
      },
      "execution_count": null,
      "outputs": [
        {
          "output_type": "stream",
          "name": "stdout",
          "text": [
            "Fitting 3 folds for each of 15 candidates, totalling 45 fits\n",
            "[CV 1/3; 1/15] START C=1.0, penalty=l2..........................................\n",
            "[CV 1/3; 1/15] END ...........C=1.0, penalty=l2;, score=0.911 total time=   1.6s\n",
            "[CV 2/3; 1/15] START C=1.0, penalty=l2..........................................\n",
            "[CV 2/3; 1/15] END ...........C=1.0, penalty=l2;, score=0.912 total time=   1.4s\n",
            "[CV 3/3; 1/15] START C=1.0, penalty=l2..........................................\n",
            "[CV 3/3; 1/15] END ...........C=1.0, penalty=l2;, score=0.912 total time=   1.6s\n",
            "[CV 1/3; 2/15] START C=1.0, penalty=elasticnet..................................\n",
            "[CV 1/3; 2/15] END .....C=1.0, penalty=elasticnet;, score=nan total time=   0.0s\n",
            "[CV 2/3; 2/15] START C=1.0, penalty=elasticnet..................................\n",
            "[CV 2/3; 2/15] END .....C=1.0, penalty=elasticnet;, score=nan total time=   0.0s\n",
            "[CV 3/3; 2/15] START C=1.0, penalty=elasticnet..................................\n",
            "[CV 3/3; 2/15] END .....C=1.0, penalty=elasticnet;, score=nan total time=   0.0s\n",
            "[CV 1/3; 3/15] START C=1.0, penalty=None........................................\n",
            "[CV 1/3; 3/15] END .........C=1.0, penalty=None;, score=0.917 total time=   2.8s\n",
            "[CV 2/3; 3/15] START C=1.0, penalty=None........................................\n",
            "[CV 2/3; 3/15] END .........C=1.0, penalty=None;, score=0.908 total time=   1.5s\n",
            "[CV 3/3; 3/15] START C=1.0, penalty=None........................................\n",
            "[CV 3/3; 3/15] END .........C=1.0, penalty=None;, score=0.902 total time=   1.0s\n",
            "[CV 1/3; 4/15] START C=25.75, penalty=l2........................................\n",
            "[CV 1/3; 4/15] END .........C=25.75, penalty=l2;, score=0.922 total time=   3.0s\n",
            "[CV 2/3; 4/15] START C=25.75, penalty=l2........................................\n",
            "[CV 2/3; 4/15] END .........C=25.75, penalty=l2;, score=0.914 total time=   1.6s\n",
            "[CV 3/3; 4/15] START C=25.75, penalty=l2........................................\n",
            "[CV 3/3; 4/15] END .........C=25.75, penalty=l2;, score=0.917 total time=   2.5s\n",
            "[CV 1/3; 5/15] START C=25.75, penalty=elasticnet................................\n",
            "[CV 1/3; 5/15] END ...C=25.75, penalty=elasticnet;, score=nan total time=   0.0s\n",
            "[CV 2/3; 5/15] START C=25.75, penalty=elasticnet................................\n",
            "[CV 2/3; 5/15] END ...C=25.75, penalty=elasticnet;, score=nan total time=   0.0s\n",
            "[CV 3/3; 5/15] START C=25.75, penalty=elasticnet................................\n",
            "[CV 3/3; 5/15] END ...C=25.75, penalty=elasticnet;, score=nan total time=   0.0s\n",
            "[CV 1/3; 6/15] START C=25.75, penalty=None......................................\n"
          ]
        },
        {
          "output_type": "stream",
          "name": "stderr",
          "text": [
            "/usr/local/lib/python3.10/dist-packages/sklearn/linear_model/_logistic.py:1208: UserWarning: Setting penalty=None will ignore the C and l1_ratio parameters\n",
            "  warnings.warn(\n"
          ]
        },
        {
          "output_type": "stream",
          "name": "stdout",
          "text": [
            "[CV 1/3; 6/15] END .......C=25.75, penalty=None;, score=0.917 total time=   0.9s\n",
            "[CV 2/3; 6/15] START C=25.75, penalty=None......................................\n"
          ]
        },
        {
          "output_type": "stream",
          "name": "stderr",
          "text": [
            "/usr/local/lib/python3.10/dist-packages/sklearn/linear_model/_logistic.py:1208: UserWarning: Setting penalty=None will ignore the C and l1_ratio parameters\n",
            "  warnings.warn(\n"
          ]
        },
        {
          "output_type": "stream",
          "name": "stdout",
          "text": [
            "[CV 2/3; 6/15] END .......C=25.75, penalty=None;, score=0.908 total time=   2.0s\n",
            "[CV 3/3; 6/15] START C=25.75, penalty=None......................................\n"
          ]
        },
        {
          "output_type": "stream",
          "name": "stderr",
          "text": [
            "/usr/local/lib/python3.10/dist-packages/sklearn/linear_model/_logistic.py:1208: UserWarning: Setting penalty=None will ignore the C and l1_ratio parameters\n",
            "  warnings.warn(\n"
          ]
        },
        {
          "output_type": "stream",
          "name": "stdout",
          "text": [
            "[CV 3/3; 6/15] END .......C=25.75, penalty=None;, score=0.902 total time=   2.9s\n",
            "[CV 1/3; 7/15] START C=50.5, penalty=l2.........................................\n",
            "[CV 1/3; 7/15] END ..........C=50.5, penalty=l2;, score=0.920 total time=   2.4s\n",
            "[CV 2/3; 7/15] START C=50.5, penalty=l2.........................................\n",
            "[CV 2/3; 7/15] END ..........C=50.5, penalty=l2;, score=0.913 total time=   2.5s\n",
            "[CV 3/3; 7/15] START C=50.5, penalty=l2.........................................\n",
            "[CV 3/3; 7/15] END ..........C=50.5, penalty=l2;, score=0.916 total time=   1.8s\n",
            "[CV 1/3; 8/15] START C=50.5, penalty=elasticnet.................................\n",
            "[CV 1/3; 8/15] END ....C=50.5, penalty=elasticnet;, score=nan total time=   0.0s\n",
            "[CV 2/3; 8/15] START C=50.5, penalty=elasticnet.................................\n",
            "[CV 2/3; 8/15] END ....C=50.5, penalty=elasticnet;, score=nan total time=   0.0s\n",
            "[CV 3/3; 8/15] START C=50.5, penalty=elasticnet.................................\n",
            "[CV 3/3; 8/15] END ....C=50.5, penalty=elasticnet;, score=nan total time=   0.0s\n",
            "[CV 1/3; 9/15] START C=50.5, penalty=None.......................................\n"
          ]
        },
        {
          "output_type": "stream",
          "name": "stderr",
          "text": [
            "/usr/local/lib/python3.10/dist-packages/sklearn/linear_model/_logistic.py:1208: UserWarning: Setting penalty=None will ignore the C and l1_ratio parameters\n",
            "  warnings.warn(\n"
          ]
        },
        {
          "output_type": "stream",
          "name": "stdout",
          "text": [
            "[CV 1/3; 9/15] END ........C=50.5, penalty=None;, score=0.917 total time=   1.2s\n",
            "[CV 2/3; 9/15] START C=50.5, penalty=None.......................................\n"
          ]
        },
        {
          "output_type": "stream",
          "name": "stderr",
          "text": [
            "/usr/local/lib/python3.10/dist-packages/sklearn/linear_model/_logistic.py:1208: UserWarning: Setting penalty=None will ignore the C and l1_ratio parameters\n",
            "  warnings.warn(\n"
          ]
        },
        {
          "output_type": "stream",
          "name": "stdout",
          "text": [
            "[CV 2/3; 9/15] END ........C=50.5, penalty=None;, score=0.908 total time=   1.0s\n",
            "[CV 3/3; 9/15] START C=50.5, penalty=None.......................................\n"
          ]
        },
        {
          "output_type": "stream",
          "name": "stderr",
          "text": [
            "/usr/local/lib/python3.10/dist-packages/sklearn/linear_model/_logistic.py:1208: UserWarning: Setting penalty=None will ignore the C and l1_ratio parameters\n",
            "  warnings.warn(\n"
          ]
        },
        {
          "output_type": "stream",
          "name": "stdout",
          "text": [
            "[CV 3/3; 9/15] END ........C=50.5, penalty=None;, score=0.902 total time=   1.1s\n",
            "[CV 1/3; 10/15] START C=75.25, penalty=l2.......................................\n",
            "[CV 1/3; 10/15] END ........C=75.25, penalty=l2;, score=0.919 total time=   5.4s\n",
            "[CV 2/3; 10/15] START C=75.25, penalty=l2.......................................\n",
            "[CV 2/3; 10/15] END ........C=75.25, penalty=l2;, score=0.912 total time=   2.4s\n",
            "[CV 3/3; 10/15] START C=75.25, penalty=l2.......................................\n",
            "[CV 3/3; 10/15] END ........C=75.25, penalty=l2;, score=0.916 total time=   2.1s\n",
            "[CV 1/3; 11/15] START C=75.25, penalty=elasticnet...............................\n",
            "[CV 1/3; 11/15] END ..C=75.25, penalty=elasticnet;, score=nan total time=   0.0s\n",
            "[CV 2/3; 11/15] START C=75.25, penalty=elasticnet...............................\n",
            "[CV 2/3; 11/15] END ..C=75.25, penalty=elasticnet;, score=nan total time=   0.0s\n",
            "[CV 3/3; 11/15] START C=75.25, penalty=elasticnet...............................\n",
            "[CV 3/3; 11/15] END ..C=75.25, penalty=elasticnet;, score=nan total time=   0.0s\n",
            "[CV 1/3; 12/15] START C=75.25, penalty=None.....................................\n"
          ]
        },
        {
          "output_type": "stream",
          "name": "stderr",
          "text": [
            "/usr/local/lib/python3.10/dist-packages/sklearn/linear_model/_logistic.py:1208: UserWarning: Setting penalty=None will ignore the C and l1_ratio parameters\n",
            "  warnings.warn(\n"
          ]
        },
        {
          "output_type": "stream",
          "name": "stdout",
          "text": [
            "[CV 1/3; 12/15] END ......C=75.25, penalty=None;, score=0.917 total time=   1.2s\n",
            "[CV 2/3; 12/15] START C=75.25, penalty=None.....................................\n"
          ]
        },
        {
          "output_type": "stream",
          "name": "stderr",
          "text": [
            "/usr/local/lib/python3.10/dist-packages/sklearn/linear_model/_logistic.py:1208: UserWarning: Setting penalty=None will ignore the C and l1_ratio parameters\n",
            "  warnings.warn(\n"
          ]
        },
        {
          "output_type": "stream",
          "name": "stdout",
          "text": [
            "[CV 2/3; 12/15] END ......C=75.25, penalty=None;, score=0.908 total time=   0.8s\n",
            "[CV 3/3; 12/15] START C=75.25, penalty=None.....................................\n"
          ]
        },
        {
          "output_type": "stream",
          "name": "stderr",
          "text": [
            "/usr/local/lib/python3.10/dist-packages/sklearn/linear_model/_logistic.py:1208: UserWarning: Setting penalty=None will ignore the C and l1_ratio parameters\n",
            "  warnings.warn(\n"
          ]
        },
        {
          "output_type": "stream",
          "name": "stdout",
          "text": [
            "[CV 3/3; 12/15] END ......C=75.25, penalty=None;, score=0.902 total time=   0.8s\n",
            "[CV 1/3; 13/15] START C=100.0, penalty=l2.......................................\n",
            "[CV 1/3; 13/15] END ........C=100.0, penalty=l2;, score=0.918 total time=   1.7s\n",
            "[CV 2/3; 13/15] START C=100.0, penalty=l2.......................................\n",
            "[CV 2/3; 13/15] END ........C=100.0, penalty=l2;, score=0.913 total time=   3.4s\n",
            "[CV 3/3; 13/15] START C=100.0, penalty=l2.......................................\n",
            "[CV 3/3; 13/15] END ........C=100.0, penalty=l2;, score=0.917 total time=   3.0s\n",
            "[CV 1/3; 14/15] START C=100.0, penalty=elasticnet...............................\n",
            "[CV 1/3; 14/15] END ..C=100.0, penalty=elasticnet;, score=nan total time=   0.0s\n",
            "[CV 2/3; 14/15] START C=100.0, penalty=elasticnet...............................\n",
            "[CV 2/3; 14/15] END ..C=100.0, penalty=elasticnet;, score=nan total time=   0.0s\n",
            "[CV 3/3; 14/15] START C=100.0, penalty=elasticnet...............................\n",
            "[CV 3/3; 14/15] END ..C=100.0, penalty=elasticnet;, score=nan total time=   0.0s\n",
            "[CV 1/3; 15/15] START C=100.0, penalty=None.....................................\n"
          ]
        },
        {
          "output_type": "stream",
          "name": "stderr",
          "text": [
            "/usr/local/lib/python3.10/dist-packages/sklearn/linear_model/_logistic.py:1208: UserWarning: Setting penalty=None will ignore the C and l1_ratio parameters\n",
            "  warnings.warn(\n"
          ]
        },
        {
          "output_type": "stream",
          "name": "stdout",
          "text": [
            "[CV 1/3; 15/15] END ......C=100.0, penalty=None;, score=0.917 total time=   0.9s\n",
            "[CV 2/3; 15/15] START C=100.0, penalty=None.....................................\n"
          ]
        },
        {
          "output_type": "stream",
          "name": "stderr",
          "text": [
            "/usr/local/lib/python3.10/dist-packages/sklearn/linear_model/_logistic.py:1208: UserWarning: Setting penalty=None will ignore the C and l1_ratio parameters\n",
            "  warnings.warn(\n"
          ]
        },
        {
          "output_type": "stream",
          "name": "stdout",
          "text": [
            "[CV 2/3; 15/15] END ......C=100.0, penalty=None;, score=0.908 total time=   1.0s\n",
            "[CV 3/3; 15/15] START C=100.0, penalty=None.....................................\n"
          ]
        },
        {
          "output_type": "stream",
          "name": "stderr",
          "text": [
            "/usr/local/lib/python3.10/dist-packages/sklearn/linear_model/_logistic.py:1208: UserWarning: Setting penalty=None will ignore the C and l1_ratio parameters\n",
            "  warnings.warn(\n"
          ]
        },
        {
          "output_type": "stream",
          "name": "stdout",
          "text": [
            "[CV 3/3; 15/15] END ......C=100.0, penalty=None;, score=0.902 total time=   0.9s\n"
          ]
        },
        {
          "output_type": "stream",
          "name": "stderr",
          "text": [
            "/usr/local/lib/python3.10/dist-packages/sklearn/model_selection/_validation.py:540: FitFailedWarning: \n",
            "15 fits failed out of a total of 45.\n",
            "The score on these train-test partitions for these parameters will be set to nan.\n",
            "If these failures are not expected, you can try to debug them by setting error_score='raise'.\n",
            "\n",
            "Below are more details about the failures:\n",
            "--------------------------------------------------------------------------------\n",
            "15 fits failed with the following error:\n",
            "Traceback (most recent call last):\n",
            "  File \"/usr/local/lib/python3.10/dist-packages/sklearn/model_selection/_validation.py\", line 888, in _fit_and_score\n",
            "    estimator.fit(X_train, y_train, **fit_params)\n",
            "  File \"/usr/local/lib/python3.10/dist-packages/sklearn/base.py\", line 1473, in wrapper\n",
            "    return fit_method(estimator, *args, **kwargs)\n",
            "  File \"/usr/local/lib/python3.10/dist-packages/sklearn/linear_model/_logistic.py\", line 1194, in fit\n",
            "    solver = _check_solver(self.solver, self.penalty, self.dual)\n",
            "  File \"/usr/local/lib/python3.10/dist-packages/sklearn/linear_model/_logistic.py\", line 67, in _check_solver\n",
            "    raise ValueError(\n",
            "ValueError: Solver lbfgs supports only 'l2' or None penalties, got elasticnet penalty.\n",
            "\n",
            "  warnings.warn(some_fits_failed_message, FitFailedWarning)\n",
            "/usr/local/lib/python3.10/dist-packages/sklearn/model_selection/_search.py:1103: UserWarning: One or more of the test scores are non-finite: [0.91133927        nan 0.90898246 0.91756322        nan 0.90898246\n",
            " 0.91621744        nan 0.90898246 0.91571281        nan 0.90898246\n",
            " 0.91604951        nan 0.90898246]\n",
            "  warnings.warn(\n"
          ]
        }
      ]
    },
    {
      "cell_type": "code",
      "source": [
        "print(f\"Время поиска гиперпараметров: {grid_time_lr:.5f}\")"
      ],
      "metadata": {
        "colab": {
          "base_uri": "https://localhost:8080/"
        },
        "id": "ci3kanUICXl5",
        "outputId": "10c7f686-1dec-4e95-d5ff-474434110210"
      },
      "execution_count": null,
      "outputs": [
        {
          "output_type": "stream",
          "name": "stdout",
          "text": [
            "Время поиска гиперпараметров: 59.25520\n"
          ]
        }
      ]
    },
    {
      "cell_type": "code",
      "source": [
        "# вывод лучших параметров и метрики accuracy при этих параметрах\n",
        "print(f\"Лучшие параметры для LogisticRegression : {grid_search_LR.best_params_}\")\n",
        "print(f\"Лучшая оценка accuracy: {grid_search_LR.best_score_:.5f}\")"
      ],
      "metadata": {
        "colab": {
          "base_uri": "https://localhost:8080/"
        },
        "id": "sM4QEAxAAbU7",
        "outputId": "9280fa3e-06e9-4785-9c93-4e11eb8717db"
      },
      "execution_count": null,
      "outputs": [
        {
          "output_type": "stream",
          "name": "stdout",
          "text": [
            "Лучшие параметры для LogisticRegression : {'C': 25.75, 'penalty': 'l2'}\n",
            "Лучшая оценка accuracy: 0.91756\n"
          ]
        }
      ]
    },
    {
      "cell_type": "code",
      "source": [
        "start_time = time.time()\n",
        "\n",
        "lr_model = LogisticRegression(C=25.75, penalty=\"l2\")\n",
        "lr_model.fit(x_train,y_train)\n",
        "y_pred_lr = lr_model.predict(x_test)\n",
        "\n",
        "end_time = time.time()\n",
        "\n",
        "train_time_lr = end_time - start_time\n",
        "print(f\"Время обучения модели: {train_time_lr:.5f}\")"
      ],
      "metadata": {
        "colab": {
          "base_uri": "https://localhost:8080/"
        },
        "id": "e9Hln5rWAbQi",
        "outputId": "8baa0a2b-ff11-429e-be27-8991be534de6"
      },
      "execution_count": null,
      "outputs": [
        {
          "output_type": "stream",
          "name": "stdout",
          "text": [
            "Время обучения модели: 2.71293\n"
          ]
        }
      ]
    },
    {
      "cell_type": "code",
      "source": [
        "start_time = time.time()\n",
        "# вычисление метрик\n",
        "accuracy_lr = accuracy_score(y_test, y_pred_lr)\n",
        "f1_lr = f1_score(y_test, y_pred_lr, average = \"weighted\")\n",
        "\n",
        "print(f\"Точность модели = {accuracy_lr:.5f}\")\n",
        "print(f\"Метрика f1 = {f1_lr:.5f}\")\n",
        "end_time = time.time()\n",
        "\n",
        "test_time_lr = end_time - start_time\n",
        "print(f\"Время проверки на тестовых данных: {test_time_lr:.5f}\")"
      ],
      "metadata": {
        "colab": {
          "base_uri": "https://localhost:8080/"
        },
        "id": "1hM8lQYAAbOL",
        "outputId": "1bec044c-22dd-4be4-beee-06d45819ac37"
      },
      "execution_count": null,
      "outputs": [
        {
          "output_type": "stream",
          "name": "stdout",
          "text": [
            "Точность модели = 0.92799\n",
            "Метрика f1 = 0.90823\n",
            "Время проверки на тестовых данных: 0.01141\n"
          ]
        }
      ]
    },
    {
      "cell_type": "markdown",
      "source": [
        "### Классификация градиентным спуском"
      ],
      "metadata": {
        "id": "gQXxo9raAD8W"
      }
    },
    {
      "cell_type": "code",
      "source": [
        "start_time = time.time()\n",
        "\n",
        "# задание параметров для перебора\n",
        "parameters_sgd = {\"loss\": [\"hinge\", \"log_loss\", \"modified_huber\", \"squared_hinge\", \"perceptron\",\n",
        "                           \"squared_error\", \"huber\", \"epsilon_insensitive\", \"squared_epsilon_insensitive\"],\n",
        "              \"penalty\": [\"l1\", \"l2\", \"elasticnet\", None]}\n",
        "grid_search_SGD = GridSearchCV(SGDClassifier(), parameters_sgd, cv=3, scoring=\"accuracy\", verbose=10)\n",
        "grid_search_SGD.fit(x_train, y_train)\n",
        "\n",
        "end_time = time.time()\n",
        "grid_time_sgd = end_time - start_time"
      ],
      "metadata": {
        "colab": {
          "base_uri": "https://localhost:8080/"
        },
        "collapsed": true,
        "id": "JUkkjjNqDwND",
        "outputId": "e154c20b-46f8-49e5-c8f5-c1b5fd97d47f"
      },
      "execution_count": null,
      "outputs": [
        {
          "output_type": "stream",
          "name": "stdout",
          "text": [
            "Fitting 3 folds for each of 36 candidates, totalling 108 fits\n",
            "[CV 1/3; 1/36] START loss=hinge, penalty=l1.....................................\n",
            "[CV 1/3; 1/36] END ......loss=hinge, penalty=l1;, score=0.920 total time=   0.3s\n",
            "[CV 2/3; 1/36] START loss=hinge, penalty=l1.....................................\n",
            "[CV 2/3; 1/36] END ......loss=hinge, penalty=l1;, score=0.914 total time=   0.2s\n",
            "[CV 3/3; 1/36] START loss=hinge, penalty=l1.....................................\n",
            "[CV 3/3; 1/36] END ......loss=hinge, penalty=l1;, score=0.916 total time=   0.2s\n",
            "[CV 1/3; 2/36] START loss=hinge, penalty=l2.....................................\n",
            "[CV 1/3; 2/36] END ......loss=hinge, penalty=l2;, score=0.920 total time=   0.1s\n",
            "[CV 2/3; 2/36] START loss=hinge, penalty=l2.....................................\n",
            "[CV 2/3; 2/36] END ......loss=hinge, penalty=l2;, score=0.915 total time=   0.1s\n",
            "[CV 3/3; 2/36] START loss=hinge, penalty=l2.....................................\n",
            "[CV 3/3; 2/36] END ......loss=hinge, penalty=l2;, score=0.915 total time=   0.1s\n",
            "[CV 1/3; 3/36] START loss=hinge, penalty=elasticnet.............................\n",
            "[CV 1/3; 3/36] END loss=hinge, penalty=elasticnet;, score=0.921 total time=   0.4s\n",
            "[CV 2/3; 3/36] START loss=hinge, penalty=elasticnet.............................\n",
            "[CV 2/3; 3/36] END loss=hinge, penalty=elasticnet;, score=0.916 total time=   0.4s\n",
            "[CV 3/3; 3/36] START loss=hinge, penalty=elasticnet.............................\n",
            "[CV 3/3; 3/36] END loss=hinge, penalty=elasticnet;, score=0.917 total time=   0.4s\n",
            "[CV 1/3; 4/36] START loss=hinge, penalty=None...................................\n",
            "[CV 1/3; 4/36] END ....loss=hinge, penalty=None;, score=0.907 total time=   0.1s\n",
            "[CV 2/3; 4/36] START loss=hinge, penalty=None...................................\n",
            "[CV 2/3; 4/36] END ....loss=hinge, penalty=None;, score=0.903 total time=   0.1s\n",
            "[CV 3/3; 4/36] START loss=hinge, penalty=None...................................\n",
            "[CV 3/3; 4/36] END ....loss=hinge, penalty=None;, score=0.898 total time=   0.1s\n",
            "[CV 1/3; 5/36] START loss=log_loss, penalty=l1..................................\n",
            "[CV 1/3; 5/36] END ...loss=log_loss, penalty=l1;, score=0.912 total time=   0.2s\n",
            "[CV 2/3; 5/36] START loss=log_loss, penalty=l1..................................\n",
            "[CV 2/3; 5/36] END ...loss=log_loss, penalty=l1;, score=0.911 total time=   0.3s\n",
            "[CV 3/3; 5/36] START loss=log_loss, penalty=l1..................................\n",
            "[CV 3/3; 5/36] END ...loss=log_loss, penalty=l1;, score=0.919 total time=   0.2s\n",
            "[CV 1/3; 6/36] START loss=log_loss, penalty=l2..................................\n",
            "[CV 1/3; 6/36] END ...loss=log_loss, penalty=l2;, score=0.915 total time=   0.1s\n",
            "[CV 2/3; 6/36] START loss=log_loss, penalty=l2..................................\n",
            "[CV 2/3; 6/36] END ...loss=log_loss, penalty=l2;, score=0.913 total time=   0.2s\n",
            "[CV 3/3; 6/36] START loss=log_loss, penalty=l2..................................\n",
            "[CV 3/3; 6/36] END ...loss=log_loss, penalty=l2;, score=0.914 total time=   0.1s\n",
            "[CV 1/3; 7/36] START loss=log_loss, penalty=elasticnet..........................\n",
            "[CV 1/3; 7/36] END loss=log_loss, penalty=elasticnet;, score=0.914 total time=   0.3s\n",
            "[CV 2/3; 7/36] START loss=log_loss, penalty=elasticnet..........................\n",
            "[CV 2/3; 7/36] END loss=log_loss, penalty=elasticnet;, score=0.913 total time=   0.3s\n",
            "[CV 3/3; 7/36] START loss=log_loss, penalty=elasticnet..........................\n",
            "[CV 3/3; 7/36] END loss=log_loss, penalty=elasticnet;, score=0.916 total time=   0.2s\n",
            "[CV 1/3; 8/36] START loss=log_loss, penalty=None................................\n",
            "[CV 1/3; 8/36] END .loss=log_loss, penalty=None;, score=0.915 total time=   0.1s\n",
            "[CV 2/3; 8/36] START loss=log_loss, penalty=None................................\n",
            "[CV 2/3; 8/36] END .loss=log_loss, penalty=None;, score=0.912 total time=   0.2s\n",
            "[CV 3/3; 8/36] START loss=log_loss, penalty=None................................\n",
            "[CV 3/3; 8/36] END .loss=log_loss, penalty=None;, score=0.919 total time=   0.1s\n",
            "[CV 1/3; 9/36] START loss=modified_huber, penalty=l1............................\n",
            "[CV 1/3; 9/36] END loss=modified_huber, penalty=l1;, score=0.887 total time=   0.3s\n",
            "[CV 2/3; 9/36] START loss=modified_huber, penalty=l1............................\n",
            "[CV 2/3; 9/36] END loss=modified_huber, penalty=l1;, score=0.893 total time=   0.3s\n",
            "[CV 3/3; 9/36] START loss=modified_huber, penalty=l1............................\n",
            "[CV 3/3; 9/36] END loss=modified_huber, penalty=l1;, score=0.887 total time=   0.3s\n",
            "[CV 1/3; 10/36] START loss=modified_huber, penalty=l2...........................\n",
            "[CV 1/3; 10/36] END loss=modified_huber, penalty=l2;, score=0.913 total time=   0.1s\n",
            "[CV 2/3; 10/36] START loss=modified_huber, penalty=l2...........................\n",
            "[CV 2/3; 10/36] END loss=modified_huber, penalty=l2;, score=0.907 total time=   0.1s\n",
            "[CV 3/3; 10/36] START loss=modified_huber, penalty=l2...........................\n",
            "[CV 3/3; 10/36] END loss=modified_huber, penalty=l2;, score=0.911 total time=   0.1s\n",
            "[CV 1/3; 11/36] START loss=modified_huber, penalty=elasticnet...................\n",
            "[CV 1/3; 11/36] END loss=modified_huber, penalty=elasticnet;, score=0.912 total time=   0.3s\n",
            "[CV 2/3; 11/36] START loss=modified_huber, penalty=elasticnet...................\n",
            "[CV 2/3; 11/36] END loss=modified_huber, penalty=elasticnet;, score=0.910 total time=   0.5s\n",
            "[CV 3/3; 11/36] START loss=modified_huber, penalty=elasticnet...................\n",
            "[CV 3/3; 11/36] END loss=modified_huber, penalty=elasticnet;, score=0.918 total time=   0.4s\n",
            "[CV 1/3; 12/36] START loss=modified_huber, penalty=None.........................\n",
            "[CV 1/3; 12/36] END loss=modified_huber, penalty=None;, score=0.890 total time=   0.1s\n",
            "[CV 2/3; 12/36] START loss=modified_huber, penalty=None.........................\n",
            "[CV 2/3; 12/36] END loss=modified_huber, penalty=None;, score=0.894 total time=   0.2s\n",
            "[CV 3/3; 12/36] START loss=modified_huber, penalty=None.........................\n",
            "[CV 3/3; 12/36] END loss=modified_huber, penalty=None;, score=0.895 total time=   0.2s\n",
            "[CV 1/3; 13/36] START loss=squared_hinge, penalty=l1............................\n",
            "[CV 1/3; 13/36] END loss=squared_hinge, penalty=l1;, score=0.844 total time=   0.8s\n",
            "[CV 2/3; 13/36] START loss=squared_hinge, penalty=l1............................\n",
            "[CV 2/3; 13/36] END loss=squared_hinge, penalty=l1;, score=0.848 total time=   0.9s\n",
            "[CV 3/3; 13/36] START loss=squared_hinge, penalty=l1............................\n",
            "[CV 3/3; 13/36] END loss=squared_hinge, penalty=l1;, score=0.849 total time=   1.1s\n",
            "[CV 1/3; 14/36] START loss=squared_hinge, penalty=l2............................\n",
            "[CV 1/3; 14/36] END loss=squared_hinge, penalty=l2;, score=0.847 total time=   0.1s\n",
            "[CV 2/3; 14/36] START loss=squared_hinge, penalty=l2............................\n",
            "[CV 2/3; 14/36] END loss=squared_hinge, penalty=l2;, score=0.845 total time=   0.1s\n",
            "[CV 3/3; 14/36] START loss=squared_hinge, penalty=l2............................\n",
            "[CV 3/3; 14/36] END loss=squared_hinge, penalty=l2;, score=0.856 total time=   0.1s\n",
            "[CV 1/3; 15/36] START loss=squared_hinge, penalty=elasticnet....................\n",
            "[CV 1/3; 15/36] END loss=squared_hinge, penalty=elasticnet;, score=0.859 total time=   0.3s\n",
            "[CV 2/3; 15/36] START loss=squared_hinge, penalty=elasticnet....................\n",
            "[CV 2/3; 15/36] END loss=squared_hinge, penalty=elasticnet;, score=0.854 total time=   0.3s\n",
            "[CV 3/3; 15/36] START loss=squared_hinge, penalty=elasticnet....................\n",
            "[CV 3/3; 15/36] END loss=squared_hinge, penalty=elasticnet;, score=0.856 total time=   0.4s\n",
            "[CV 1/3; 16/36] START loss=squared_hinge, penalty=None..........................\n",
            "[CV 1/3; 16/36] END loss=squared_hinge, penalty=None;, score=0.858 total time=   0.1s\n",
            "[CV 2/3; 16/36] START loss=squared_hinge, penalty=None..........................\n",
            "[CV 2/3; 16/36] END loss=squared_hinge, penalty=None;, score=0.856 total time=   0.1s\n",
            "[CV 3/3; 16/36] START loss=squared_hinge, penalty=None..........................\n",
            "[CV 3/3; 16/36] END loss=squared_hinge, penalty=None;, score=0.844 total time=   0.1s\n",
            "[CV 1/3; 17/36] START loss=perceptron, penalty=l1...............................\n",
            "[CV 1/3; 17/36] END loss=perceptron, penalty=l1;, score=0.842 total time=   0.2s\n",
            "[CV 2/3; 17/36] START loss=perceptron, penalty=l1...............................\n",
            "[CV 2/3; 17/36] END loss=perceptron, penalty=l1;, score=0.830 total time=   0.2s\n",
            "[CV 3/3; 17/36] START loss=perceptron, penalty=l1...............................\n",
            "[CV 3/3; 17/36] END loss=perceptron, penalty=l1;, score=0.845 total time=   0.2s\n",
            "[CV 1/3; 18/36] START loss=perceptron, penalty=l2...............................\n",
            "[CV 1/3; 18/36] END loss=perceptron, penalty=l2;, score=0.906 total time=   0.1s\n",
            "[CV 2/3; 18/36] START loss=perceptron, penalty=l2...............................\n",
            "[CV 2/3; 18/36] END loss=perceptron, penalty=l2;, score=0.897 total time=   0.1s\n",
            "[CV 3/3; 18/36] START loss=perceptron, penalty=l2...............................\n",
            "[CV 3/3; 18/36] END loss=perceptron, penalty=l2;, score=0.907 total time=   0.1s\n",
            "[CV 1/3; 19/36] START loss=perceptron, penalty=elasticnet.......................\n",
            "[CV 1/3; 19/36] END loss=perceptron, penalty=elasticnet;, score=0.903 total time=   0.2s\n",
            "[CV 2/3; 19/36] START loss=perceptron, penalty=elasticnet.......................\n",
            "[CV 2/3; 19/36] END loss=perceptron, penalty=elasticnet;, score=0.892 total time=   0.2s\n",
            "[CV 3/3; 19/36] START loss=perceptron, penalty=elasticnet.......................\n",
            "[CV 3/3; 19/36] END loss=perceptron, penalty=elasticnet;, score=0.898 total time=   0.2s\n",
            "[CV 1/3; 20/36] START loss=perceptron, penalty=None.............................\n",
            "[CV 1/3; 20/36] END loss=perceptron, penalty=None;, score=0.891 total time=   0.1s\n",
            "[CV 2/3; 20/36] START loss=perceptron, penalty=None.............................\n",
            "[CV 2/3; 20/36] END loss=perceptron, penalty=None;, score=0.898 total time=   0.1s\n",
            "[CV 3/3; 20/36] START loss=perceptron, penalty=None.............................\n",
            "[CV 3/3; 20/36] END loss=perceptron, penalty=None;, score=0.892 total time=   0.1s\n",
            "[CV 1/3; 21/36] START loss=squared_error, penalty=l1............................\n"
          ]
        },
        {
          "output_type": "stream",
          "name": "stderr",
          "text": [
            "/usr/local/lib/python3.10/dist-packages/sklearn/linear_model/_stochastic_gradient.py:744: ConvergenceWarning: Maximum number of iteration reached before convergence. Consider increasing max_iter to improve the fit.\n",
            "  warnings.warn(\n"
          ]
        },
        {
          "output_type": "stream",
          "name": "stdout",
          "text": [
            "[CV 1/3; 21/36] END loss=squared_error, penalty=l1;, score=0.237 total time=  21.4s\n",
            "[CV 2/3; 21/36] START loss=squared_error, penalty=l1............................\n"
          ]
        },
        {
          "output_type": "stream",
          "name": "stderr",
          "text": [
            "/usr/local/lib/python3.10/dist-packages/sklearn/linear_model/_stochastic_gradient.py:744: ConvergenceWarning: Maximum number of iteration reached before convergence. Consider increasing max_iter to improve the fit.\n",
            "  warnings.warn(\n"
          ]
        },
        {
          "output_type": "stream",
          "name": "stdout",
          "text": [
            "[CV 2/3; 21/36] END loss=squared_error, penalty=l1;, score=0.332 total time=  21.9s\n",
            "[CV 3/3; 21/36] START loss=squared_error, penalty=l1............................\n"
          ]
        },
        {
          "output_type": "stream",
          "name": "stderr",
          "text": [
            "/usr/local/lib/python3.10/dist-packages/sklearn/linear_model/_stochastic_gradient.py:744: ConvergenceWarning: Maximum number of iteration reached before convergence. Consider increasing max_iter to improve the fit.\n",
            "  warnings.warn(\n"
          ]
        },
        {
          "output_type": "stream",
          "name": "stdout",
          "text": [
            "[CV 3/3; 21/36] END loss=squared_error, penalty=l1;, score=0.302 total time=  21.7s\n",
            "[CV 1/3; 22/36] START loss=squared_error, penalty=l2............................\n"
          ]
        },
        {
          "output_type": "stream",
          "name": "stderr",
          "text": [
            "/usr/local/lib/python3.10/dist-packages/sklearn/linear_model/_stochastic_gradient.py:744: ConvergenceWarning: Maximum number of iteration reached before convergence. Consider increasing max_iter to improve the fit.\n",
            "  warnings.warn(\n"
          ]
        },
        {
          "output_type": "stream",
          "name": "stdout",
          "text": [
            "[CV 1/3; 22/36] END loss=squared_error, penalty=l2;, score=0.203 total time=   5.8s\n",
            "[CV 2/3; 22/36] START loss=squared_error, penalty=l2............................\n"
          ]
        },
        {
          "output_type": "stream",
          "name": "stderr",
          "text": [
            "/usr/local/lib/python3.10/dist-packages/sklearn/linear_model/_stochastic_gradient.py:744: ConvergenceWarning: Maximum number of iteration reached before convergence. Consider increasing max_iter to improve the fit.\n",
            "  warnings.warn(\n"
          ]
        },
        {
          "output_type": "stream",
          "name": "stdout",
          "text": [
            "[CV 2/3; 22/36] END loss=squared_error, penalty=l2;, score=0.215 total time=   6.8s\n",
            "[CV 3/3; 22/36] START loss=squared_error, penalty=l2............................\n"
          ]
        },
        {
          "output_type": "stream",
          "name": "stderr",
          "text": [
            "/usr/local/lib/python3.10/dist-packages/sklearn/linear_model/_stochastic_gradient.py:744: ConvergenceWarning: Maximum number of iteration reached before convergence. Consider increasing max_iter to improve the fit.\n",
            "  warnings.warn(\n"
          ]
        },
        {
          "output_type": "stream",
          "name": "stdout",
          "text": [
            "[CV 3/3; 22/36] END loss=squared_error, penalty=l2;, score=0.139 total time=   6.1s\n",
            "[CV 1/3; 23/36] START loss=squared_error, penalty=elasticnet....................\n"
          ]
        },
        {
          "output_type": "stream",
          "name": "stderr",
          "text": [
            "/usr/local/lib/python3.10/dist-packages/sklearn/linear_model/_stochastic_gradient.py:744: ConvergenceWarning: Maximum number of iteration reached before convergence. Consider increasing max_iter to improve the fit.\n",
            "  warnings.warn(\n"
          ]
        },
        {
          "output_type": "stream",
          "name": "stdout",
          "text": [
            "[CV 1/3; 23/36] END loss=squared_error, penalty=elasticnet;, score=0.343 total time=  21.6s\n",
            "[CV 2/3; 23/36] START loss=squared_error, penalty=elasticnet....................\n"
          ]
        },
        {
          "output_type": "stream",
          "name": "stderr",
          "text": [
            "/usr/local/lib/python3.10/dist-packages/sklearn/linear_model/_stochastic_gradient.py:744: ConvergenceWarning: Maximum number of iteration reached before convergence. Consider increasing max_iter to improve the fit.\n",
            "  warnings.warn(\n"
          ]
        },
        {
          "output_type": "stream",
          "name": "stdout",
          "text": [
            "[CV 2/3; 23/36] END loss=squared_error, penalty=elasticnet;, score=0.302 total time=  20.6s\n",
            "[CV 3/3; 23/36] START loss=squared_error, penalty=elasticnet....................\n"
          ]
        },
        {
          "output_type": "stream",
          "name": "stderr",
          "text": [
            "/usr/local/lib/python3.10/dist-packages/sklearn/linear_model/_stochastic_gradient.py:744: ConvergenceWarning: Maximum number of iteration reached before convergence. Consider increasing max_iter to improve the fit.\n",
            "  warnings.warn(\n"
          ]
        },
        {
          "output_type": "stream",
          "name": "stdout",
          "text": [
            "[CV 3/3; 23/36] END loss=squared_error, penalty=elasticnet;, score=0.180 total time=  22.0s\n",
            "[CV 1/3; 24/36] START loss=squared_error, penalty=None..........................\n"
          ]
        },
        {
          "output_type": "stream",
          "name": "stderr",
          "text": [
            "/usr/local/lib/python3.10/dist-packages/sklearn/linear_model/_stochastic_gradient.py:744: ConvergenceWarning: Maximum number of iteration reached before convergence. Consider increasing max_iter to improve the fit.\n",
            "  warnings.warn(\n"
          ]
        },
        {
          "output_type": "stream",
          "name": "stdout",
          "text": [
            "[CV 1/3; 24/36] END loss=squared_error, penalty=None;, score=0.365 total time=   5.8s\n",
            "[CV 2/3; 24/36] START loss=squared_error, penalty=None..........................\n"
          ]
        },
        {
          "output_type": "stream",
          "name": "stderr",
          "text": [
            "/usr/local/lib/python3.10/dist-packages/sklearn/linear_model/_stochastic_gradient.py:744: ConvergenceWarning: Maximum number of iteration reached before convergence. Consider increasing max_iter to improve the fit.\n",
            "  warnings.warn(\n"
          ]
        },
        {
          "output_type": "stream",
          "name": "stdout",
          "text": [
            "[CV 2/3; 24/36] END loss=squared_error, penalty=None;, score=0.237 total time=   7.4s\n",
            "[CV 3/3; 24/36] START loss=squared_error, penalty=None..........................\n"
          ]
        },
        {
          "output_type": "stream",
          "name": "stderr",
          "text": [
            "/usr/local/lib/python3.10/dist-packages/sklearn/linear_model/_stochastic_gradient.py:744: ConvergenceWarning: Maximum number of iteration reached before convergence. Consider increasing max_iter to improve the fit.\n",
            "  warnings.warn(\n"
          ]
        },
        {
          "output_type": "stream",
          "name": "stdout",
          "text": [
            "[CV 3/3; 24/36] END loss=squared_error, penalty=None;, score=0.285 total time=   5.7s\n",
            "[CV 1/3; 25/36] START loss=huber, penalty=l1....................................\n",
            "[CV 1/3; 25/36] END .....loss=huber, penalty=l1;, score=0.818 total time=   0.2s\n",
            "[CV 2/3; 25/36] START loss=huber, penalty=l1....................................\n",
            "[CV 2/3; 25/36] END .....loss=huber, penalty=l1;, score=0.804 total time=   0.2s\n",
            "[CV 3/3; 25/36] START loss=huber, penalty=l1....................................\n",
            "[CV 3/3; 25/36] END .....loss=huber, penalty=l1;, score=0.829 total time=   0.2s\n",
            "[CV 1/3; 26/36] START loss=huber, penalty=l2....................................\n",
            "[CV 1/3; 26/36] END .....loss=huber, penalty=l2;, score=0.907 total time=   0.1s\n",
            "[CV 2/3; 26/36] START loss=huber, penalty=l2....................................\n",
            "[CV 2/3; 26/36] END .....loss=huber, penalty=l2;, score=0.900 total time=   0.1s\n",
            "[CV 3/3; 26/36] START loss=huber, penalty=l2....................................\n",
            "[CV 3/3; 26/36] END .....loss=huber, penalty=l2;, score=0.907 total time=   0.1s\n",
            "[CV 1/3; 27/36] START loss=huber, penalty=elasticnet............................\n",
            "[CV 1/3; 27/36] END loss=huber, penalty=elasticnet;, score=0.893 total time=   0.2s\n",
            "[CV 2/3; 27/36] START loss=huber, penalty=elasticnet............................\n",
            "[CV 2/3; 27/36] END loss=huber, penalty=elasticnet;, score=0.884 total time=   0.2s\n",
            "[CV 3/3; 27/36] START loss=huber, penalty=elasticnet............................\n",
            "[CV 3/3; 27/36] END loss=huber, penalty=elasticnet;, score=0.896 total time=   0.2s\n",
            "[CV 1/3; 28/36] START loss=huber, penalty=None..................................\n",
            "[CV 1/3; 28/36] END ...loss=huber, penalty=None;, score=0.914 total time=   0.1s\n",
            "[CV 2/3; 28/36] START loss=huber, penalty=None..................................\n",
            "[CV 2/3; 28/36] END ...loss=huber, penalty=None;, score=0.914 total time=   0.1s\n",
            "[CV 3/3; 28/36] START loss=huber, penalty=None..................................\n",
            "[CV 3/3; 28/36] END ...loss=huber, penalty=None;, score=0.916 total time=   0.1s\n",
            "[CV 1/3; 29/36] START loss=epsilon_insensitive, penalty=l1......................\n",
            "[CV 1/3; 29/36] END loss=epsilon_insensitive, penalty=l1;, score=0.898 total time=   0.4s\n",
            "[CV 2/3; 29/36] START loss=epsilon_insensitive, penalty=l1......................\n",
            "[CV 2/3; 29/36] END loss=epsilon_insensitive, penalty=l1;, score=0.901 total time=   0.4s\n",
            "[CV 3/3; 29/36] START loss=epsilon_insensitive, penalty=l1......................\n",
            "[CV 3/3; 29/36] END loss=epsilon_insensitive, penalty=l1;, score=0.903 total time=   0.4s\n",
            "[CV 1/3; 30/36] START loss=epsilon_insensitive, penalty=l2......................\n",
            "[CV 1/3; 30/36] END loss=epsilon_insensitive, penalty=l2;, score=0.906 total time=   0.2s\n",
            "[CV 2/3; 30/36] START loss=epsilon_insensitive, penalty=l2......................\n",
            "[CV 2/3; 30/36] END loss=epsilon_insensitive, penalty=l2;, score=0.903 total time=   0.3s\n",
            "[CV 3/3; 30/36] START loss=epsilon_insensitive, penalty=l2......................\n",
            "[CV 3/3; 30/36] END loss=epsilon_insensitive, penalty=l2;, score=0.910 total time=   0.3s\n",
            "[CV 1/3; 31/36] START loss=epsilon_insensitive, penalty=elasticnet..............\n",
            "[CV 1/3; 31/36] END loss=epsilon_insensitive, penalty=elasticnet;, score=0.908 total time=   0.8s\n",
            "[CV 2/3; 31/36] START loss=epsilon_insensitive, penalty=elasticnet..............\n",
            "[CV 2/3; 31/36] END loss=epsilon_insensitive, penalty=elasticnet;, score=0.907 total time=   0.9s\n",
            "[CV 3/3; 31/36] START loss=epsilon_insensitive, penalty=elasticnet..............\n",
            "[CV 3/3; 31/36] END loss=epsilon_insensitive, penalty=elasticnet;, score=0.911 total time=   0.7s\n",
            "[CV 1/3; 32/36] START loss=epsilon_insensitive, penalty=None....................\n",
            "[CV 1/3; 32/36] END loss=epsilon_insensitive, penalty=None;, score=0.880 total time=   0.6s\n",
            "[CV 2/3; 32/36] START loss=epsilon_insensitive, penalty=None....................\n",
            "[CV 2/3; 32/36] END loss=epsilon_insensitive, penalty=None;, score=0.873 total time=   0.6s\n",
            "[CV 3/3; 32/36] START loss=epsilon_insensitive, penalty=None....................\n",
            "[CV 3/3; 32/36] END loss=epsilon_insensitive, penalty=None;, score=0.883 total time=   0.3s\n",
            "[CV 1/3; 33/36] START loss=squared_epsilon_insensitive, penalty=l1..............\n"
          ]
        },
        {
          "output_type": "stream",
          "name": "stderr",
          "text": [
            "/usr/local/lib/python3.10/dist-packages/sklearn/linear_model/_stochastic_gradient.py:744: ConvergenceWarning: Maximum number of iteration reached before convergence. Consider increasing max_iter to improve the fit.\n",
            "  warnings.warn(\n"
          ]
        },
        {
          "output_type": "stream",
          "name": "stdout",
          "text": [
            "[CV 1/3; 33/36] END loss=squared_epsilon_insensitive, penalty=l1;, score=0.209 total time=  21.7s\n",
            "[CV 2/3; 33/36] START loss=squared_epsilon_insensitive, penalty=l1..............\n"
          ]
        },
        {
          "output_type": "stream",
          "name": "stderr",
          "text": [
            "/usr/local/lib/python3.10/dist-packages/sklearn/linear_model/_stochastic_gradient.py:744: ConvergenceWarning: Maximum number of iteration reached before convergence. Consider increasing max_iter to improve the fit.\n",
            "  warnings.warn(\n"
          ]
        },
        {
          "output_type": "stream",
          "name": "stdout",
          "text": [
            "[CV 2/3; 33/36] END loss=squared_epsilon_insensitive, penalty=l1;, score=0.206 total time=  22.5s\n",
            "[CV 3/3; 33/36] START loss=squared_epsilon_insensitive, penalty=l1..............\n"
          ]
        },
        {
          "output_type": "stream",
          "name": "stderr",
          "text": [
            "/usr/local/lib/python3.10/dist-packages/sklearn/linear_model/_stochastic_gradient.py:744: ConvergenceWarning: Maximum number of iteration reached before convergence. Consider increasing max_iter to improve the fit.\n",
            "  warnings.warn(\n"
          ]
        },
        {
          "output_type": "stream",
          "name": "stdout",
          "text": [
            "[CV 3/3; 33/36] END loss=squared_epsilon_insensitive, penalty=l1;, score=0.187 total time=  21.6s\n",
            "[CV 1/3; 34/36] START loss=squared_epsilon_insensitive, penalty=l2..............\n"
          ]
        },
        {
          "output_type": "stream",
          "name": "stderr",
          "text": [
            "/usr/local/lib/python3.10/dist-packages/sklearn/linear_model/_stochastic_gradient.py:744: ConvergenceWarning: Maximum number of iteration reached before convergence. Consider increasing max_iter to improve the fit.\n",
            "  warnings.warn(\n"
          ]
        },
        {
          "output_type": "stream",
          "name": "stdout",
          "text": [
            "[CV 1/3; 34/36] END loss=squared_epsilon_insensitive, penalty=l2;, score=0.183 total time=   6.9s\n",
            "[CV 2/3; 34/36] START loss=squared_epsilon_insensitive, penalty=l2..............\n"
          ]
        },
        {
          "output_type": "stream",
          "name": "stderr",
          "text": [
            "/usr/local/lib/python3.10/dist-packages/sklearn/linear_model/_stochastic_gradient.py:744: ConvergenceWarning: Maximum number of iteration reached before convergence. Consider increasing max_iter to improve the fit.\n",
            "  warnings.warn(\n"
          ]
        },
        {
          "output_type": "stream",
          "name": "stdout",
          "text": [
            "[CV 2/3; 34/36] END loss=squared_epsilon_insensitive, penalty=l2;, score=0.199 total time=   6.7s\n",
            "[CV 3/3; 34/36] START loss=squared_epsilon_insensitive, penalty=l2..............\n"
          ]
        },
        {
          "output_type": "stream",
          "name": "stderr",
          "text": [
            "/usr/local/lib/python3.10/dist-packages/sklearn/linear_model/_stochastic_gradient.py:744: ConvergenceWarning: Maximum number of iteration reached before convergence. Consider increasing max_iter to improve the fit.\n",
            "  warnings.warn(\n"
          ]
        },
        {
          "output_type": "stream",
          "name": "stdout",
          "text": [
            "[CV 3/3; 34/36] END loss=squared_epsilon_insensitive, penalty=l2;, score=0.194 total time=   6.9s\n",
            "[CV 1/3; 35/36] START loss=squared_epsilon_insensitive, penalty=elasticnet......\n"
          ]
        },
        {
          "output_type": "stream",
          "name": "stderr",
          "text": [
            "/usr/local/lib/python3.10/dist-packages/sklearn/linear_model/_stochastic_gradient.py:744: ConvergenceWarning: Maximum number of iteration reached before convergence. Consider increasing max_iter to improve the fit.\n",
            "  warnings.warn(\n"
          ]
        },
        {
          "output_type": "stream",
          "name": "stdout",
          "text": [
            "[CV 1/3; 35/36] END loss=squared_epsilon_insensitive, penalty=elasticnet;, score=0.210 total time=  21.2s\n",
            "[CV 2/3; 35/36] START loss=squared_epsilon_insensitive, penalty=elasticnet......\n"
          ]
        },
        {
          "output_type": "stream",
          "name": "stderr",
          "text": [
            "/usr/local/lib/python3.10/dist-packages/sklearn/linear_model/_stochastic_gradient.py:744: ConvergenceWarning: Maximum number of iteration reached before convergence. Consider increasing max_iter to improve the fit.\n",
            "  warnings.warn(\n"
          ]
        },
        {
          "output_type": "stream",
          "name": "stdout",
          "text": [
            "[CV 2/3; 35/36] END loss=squared_epsilon_insensitive, penalty=elasticnet;, score=0.204 total time=  21.1s\n",
            "[CV 3/3; 35/36] START loss=squared_epsilon_insensitive, penalty=elasticnet......\n"
          ]
        },
        {
          "output_type": "stream",
          "name": "stderr",
          "text": [
            "/usr/local/lib/python3.10/dist-packages/sklearn/linear_model/_stochastic_gradient.py:744: ConvergenceWarning: Maximum number of iteration reached before convergence. Consider increasing max_iter to improve the fit.\n",
            "  warnings.warn(\n"
          ]
        },
        {
          "output_type": "stream",
          "name": "stdout",
          "text": [
            "[CV 3/3; 35/36] END loss=squared_epsilon_insensitive, penalty=elasticnet;, score=0.194 total time=  21.8s\n",
            "[CV 1/3; 36/36] START loss=squared_epsilon_insensitive, penalty=None............\n"
          ]
        },
        {
          "output_type": "stream",
          "name": "stderr",
          "text": [
            "/usr/local/lib/python3.10/dist-packages/sklearn/linear_model/_stochastic_gradient.py:744: ConvergenceWarning: Maximum number of iteration reached before convergence. Consider increasing max_iter to improve the fit.\n",
            "  warnings.warn(\n"
          ]
        },
        {
          "output_type": "stream",
          "name": "stdout",
          "text": [
            "[CV 1/3; 36/36] END loss=squared_epsilon_insensitive, penalty=None;, score=0.190 total time=   6.0s\n",
            "[CV 2/3; 36/36] START loss=squared_epsilon_insensitive, penalty=None............\n"
          ]
        },
        {
          "output_type": "stream",
          "name": "stderr",
          "text": [
            "/usr/local/lib/python3.10/dist-packages/sklearn/linear_model/_stochastic_gradient.py:744: ConvergenceWarning: Maximum number of iteration reached before convergence. Consider increasing max_iter to improve the fit.\n",
            "  warnings.warn(\n"
          ]
        },
        {
          "output_type": "stream",
          "name": "stdout",
          "text": [
            "[CV 2/3; 36/36] END loss=squared_epsilon_insensitive, penalty=None;, score=0.215 total time=   7.4s\n",
            "[CV 3/3; 36/36] START loss=squared_epsilon_insensitive, penalty=None............\n"
          ]
        },
        {
          "output_type": "stream",
          "name": "stderr",
          "text": [
            "/usr/local/lib/python3.10/dist-packages/sklearn/linear_model/_stochastic_gradient.py:744: ConvergenceWarning: Maximum number of iteration reached before convergence. Consider increasing max_iter to improve the fit.\n",
            "  warnings.warn(\n"
          ]
        },
        {
          "output_type": "stream",
          "name": "stdout",
          "text": [
            "[CV 3/3; 36/36] END loss=squared_epsilon_insensitive, penalty=None;, score=0.217 total time=   5.9s\n"
          ]
        }
      ]
    },
    {
      "cell_type": "code",
      "source": [
        "print(f\"Время поиска гиперпараметров: {grid_time_sgd:.5f}\")"
      ],
      "metadata": {
        "colab": {
          "base_uri": "https://localhost:8080/"
        },
        "id": "IMrN8c80DwJD",
        "outputId": "a5382ebc-e654-4a37-9a97-1faaad80d265"
      },
      "execution_count": null,
      "outputs": [
        {
          "output_type": "stream",
          "name": "stdout",
          "text": [
            "Время поиска гиперпараметров: 358.05473\n"
          ]
        }
      ]
    },
    {
      "cell_type": "code",
      "source": [
        "# вывод лучших параметров и метрики accuracy при этих параметрах\n",
        "print(f\"Лучшие параметры для SGD : {grid_search_SGD.best_params_}\")\n",
        "print(f\"Лучшая оценка accuracy: {grid_search_SGD.best_score_:.5f}\")"
      ],
      "metadata": {
        "colab": {
          "base_uri": "https://localhost:8080/"
        },
        "id": "TJ8SbuP4DwF6",
        "outputId": "3e9725b3-b092-4835-b617-6a0f2a9f9b61"
      },
      "execution_count": null,
      "outputs": [
        {
          "output_type": "stream",
          "name": "stdout",
          "text": [
            "Лучшие параметры для SGD : {'loss': 'hinge', 'penalty': 'elasticnet'}\n",
            "Лучшая оценка accuracy: 0.91824\n"
          ]
        }
      ]
    },
    {
      "cell_type": "code",
      "source": [
        "start_time = time.time()\n",
        "\n",
        "SGD_model = SGDClassifier(loss = \"log_loss\", penalty = None)\n",
        "SGD_model.fit(x_train, y_train)\n",
        "y_pred_sgd = SGD_model.predict(x_test)\n",
        "\n",
        "end_time = time.time()\n",
        "train_time_sgd = end_time - start_time\n",
        "\n",
        "print(f\"Время обучения моедли: {train_time_sgd:.5f}\")"
      ],
      "metadata": {
        "colab": {
          "base_uri": "https://localhost:8080/"
        },
        "id": "kHutCfNiDwDC",
        "outputId": "8ce9811a-428e-4889-eb3e-8b6ff50950d7"
      },
      "execution_count": null,
      "outputs": [
        {
          "output_type": "stream",
          "name": "stdout",
          "text": [
            "Время обучения моедли: 0.37769\n"
          ]
        }
      ]
    },
    {
      "cell_type": "code",
      "source": [
        "start_time = time.time()\n",
        "# вычисление метрик\n",
        "accuracy_sgd = accuracy_score(y_test, y_pred_sgd)\n",
        "f1_sgd = f1_score(y_test, y_pred_sgd, average = \"weighted\")\n",
        "\n",
        "print(f\"Точность модели = {accuracy_sgd:.5f}\")\n",
        "print(f\"Метрика f1 = {f1_sgd:.5f}\")\n",
        "\n",
        "end_time = time.time()\n",
        "test_time_sgd = end_time - start_time\n",
        "print(f\"Время проверки на тестовых данных: {test_time_sgd:.5f}\")"
      ],
      "metadata": {
        "colab": {
          "base_uri": "https://localhost:8080/"
        },
        "id": "orktEUnTDv_x",
        "outputId": "5e48cff6-6393-48f5-df4f-7a9928baec15"
      },
      "execution_count": null,
      "outputs": [
        {
          "output_type": "stream",
          "name": "stdout",
          "text": [
            "Точность модели = 0.92867\n",
            "Метрика f1 = 0.90891\n",
            "Время проверки на тестовых данных: 0.00962\n"
          ]
        }
      ]
    },
    {
      "cell_type": "markdown",
      "source": [
        "### Метод k-ближайших соседей"
      ],
      "metadata": {
        "id": "Cpg801pBAETD"
      }
    },
    {
      "cell_type": "code",
      "source": [
        "start_time = time.time()\n",
        "\n",
        "# задание параметров для перебора\n",
        "parameters_knn = {\"n_neighbors\": list(map(int, np.linspace(1, 10, 5))), \"weights\": [\"uniform\", \"distance\", None], \"algorithm\":[\"auto\", \"ball_tree\", \"kd_tree\", \"brute\"]}\n",
        "\n",
        "grid_search_KNN = GridSearchCV(KNeighborsClassifier(), parameters_knn, cv=3, scoring=\"accuracy\", verbose=10, error_score=\"raise\")\n",
        "grid_search_KNN.fit(x_train, y_train)\n",
        "\n",
        "end_time = time.time()\n",
        "grid_time_knn = end_time - start_time"
      ],
      "metadata": {
        "colab": {
          "base_uri": "https://localhost:8080/"
        },
        "collapsed": true,
        "id": "4oAQoc7mHJ_t",
        "outputId": "e07b432e-4e83-4ba6-f08c-d2a9a32a3ec3"
      },
      "execution_count": null,
      "outputs": [
        {
          "output_type": "stream",
          "name": "stdout",
          "text": [
            "Fitting 3 folds for each of 60 candidates, totalling 180 fits\n",
            "[CV 1/3; 1/60] START algorithm=auto, n_neighbors=1, weights=uniform.............\n",
            "[CV 1/3; 1/60] END algorithm=auto, n_neighbors=1, weights=uniform;, score=0.817 total time=   0.6s\n",
            "[CV 2/3; 1/60] START algorithm=auto, n_neighbors=1, weights=uniform.............\n",
            "[CV 2/3; 1/60] END algorithm=auto, n_neighbors=1, weights=uniform;, score=0.810 total time=   0.5s\n",
            "[CV 3/3; 1/60] START algorithm=auto, n_neighbors=1, weights=uniform.............\n",
            "[CV 3/3; 1/60] END algorithm=auto, n_neighbors=1, weights=uniform;, score=0.810 total time=   0.5s\n",
            "[CV 1/3; 2/60] START algorithm=auto, n_neighbors=1, weights=distance............\n",
            "[CV 1/3; 2/60] END algorithm=auto, n_neighbors=1, weights=distance;, score=0.817 total time=   0.6s\n",
            "[CV 2/3; 2/60] START algorithm=auto, n_neighbors=1, weights=distance............\n",
            "[CV 2/3; 2/60] END algorithm=auto, n_neighbors=1, weights=distance;, score=0.810 total time=   0.7s\n",
            "[CV 3/3; 2/60] START algorithm=auto, n_neighbors=1, weights=distance............\n",
            "[CV 3/3; 2/60] END algorithm=auto, n_neighbors=1, weights=distance;, score=0.810 total time=   0.7s\n",
            "[CV 1/3; 3/60] START algorithm=auto, n_neighbors=1, weights=None................\n",
            "[CV 1/3; 3/60] END algorithm=auto, n_neighbors=1, weights=None;, score=0.817 total time=   0.8s\n",
            "[CV 2/3; 3/60] START algorithm=auto, n_neighbors=1, weights=None................\n",
            "[CV 2/3; 3/60] END algorithm=auto, n_neighbors=1, weights=None;, score=0.810 total time=   0.8s\n",
            "[CV 3/3; 3/60] START algorithm=auto, n_neighbors=1, weights=None................\n",
            "[CV 3/3; 3/60] END algorithm=auto, n_neighbors=1, weights=None;, score=0.810 total time=   0.6s\n",
            "[CV 1/3; 4/60] START algorithm=auto, n_neighbors=3, weights=uniform.............\n",
            "[CV 1/3; 4/60] END algorithm=auto, n_neighbors=3, weights=uniform;, score=0.846 total time=   0.6s\n",
            "[CV 2/3; 4/60] START algorithm=auto, n_neighbors=3, weights=uniform.............\n",
            "[CV 2/3; 4/60] END algorithm=auto, n_neighbors=3, weights=uniform;, score=0.857 total time=   0.6s\n",
            "[CV 3/3; 4/60] START algorithm=auto, n_neighbors=3, weights=uniform.............\n",
            "[CV 3/3; 4/60] END algorithm=auto, n_neighbors=3, weights=uniform;, score=0.852 total time=   0.5s\n",
            "[CV 1/3; 5/60] START algorithm=auto, n_neighbors=3, weights=distance............\n",
            "[CV 1/3; 5/60] END algorithm=auto, n_neighbors=3, weights=distance;, score=0.843 total time=   0.6s\n",
            "[CV 2/3; 5/60] START algorithm=auto, n_neighbors=3, weights=distance............\n",
            "[CV 2/3; 5/60] END algorithm=auto, n_neighbors=3, weights=distance;, score=0.854 total time=   0.5s\n",
            "[CV 3/3; 5/60] START algorithm=auto, n_neighbors=3, weights=distance............\n",
            "[CV 3/3; 5/60] END algorithm=auto, n_neighbors=3, weights=distance;, score=0.847 total time=   0.6s\n",
            "[CV 1/3; 6/60] START algorithm=auto, n_neighbors=3, weights=None................\n",
            "[CV 1/3; 6/60] END algorithm=auto, n_neighbors=3, weights=None;, score=0.846 total time=   0.7s\n",
            "[CV 2/3; 6/60] START algorithm=auto, n_neighbors=3, weights=None................\n",
            "[CV 2/3; 6/60] END algorithm=auto, n_neighbors=3, weights=None;, score=0.857 total time=   0.7s\n",
            "[CV 3/3; 6/60] START algorithm=auto, n_neighbors=3, weights=None................\n",
            "[CV 3/3; 6/60] END algorithm=auto, n_neighbors=3, weights=None;, score=0.852 total time=   0.6s\n",
            "[CV 1/3; 7/60] START algorithm=auto, n_neighbors=5, weights=uniform.............\n",
            "[CV 1/3; 7/60] END algorithm=auto, n_neighbors=5, weights=uniform;, score=0.854 total time=   0.6s\n",
            "[CV 2/3; 7/60] START algorithm=auto, n_neighbors=5, weights=uniform.............\n",
            "[CV 2/3; 7/60] END algorithm=auto, n_neighbors=5, weights=uniform;, score=0.866 total time=   0.6s\n",
            "[CV 3/3; 7/60] START algorithm=auto, n_neighbors=5, weights=uniform.............\n",
            "[CV 3/3; 7/60] END algorithm=auto, n_neighbors=5, weights=uniform;, score=0.870 total time=   0.6s\n",
            "[CV 1/3; 8/60] START algorithm=auto, n_neighbors=5, weights=distance............\n",
            "[CV 1/3; 8/60] END algorithm=auto, n_neighbors=5, weights=distance;, score=0.854 total time=   0.6s\n",
            "[CV 2/3; 8/60] START algorithm=auto, n_neighbors=5, weights=distance............\n",
            "[CV 2/3; 8/60] END algorithm=auto, n_neighbors=5, weights=distance;, score=0.865 total time=   0.6s\n",
            "[CV 3/3; 8/60] START algorithm=auto, n_neighbors=5, weights=distance............\n",
            "[CV 3/3; 8/60] END algorithm=auto, n_neighbors=5, weights=distance;, score=0.868 total time=   0.6s\n",
            "[CV 1/3; 9/60] START algorithm=auto, n_neighbors=5, weights=None................\n",
            "[CV 1/3; 9/60] END algorithm=auto, n_neighbors=5, weights=None;, score=0.854 total time=   0.7s\n",
            "[CV 2/3; 9/60] START algorithm=auto, n_neighbors=5, weights=None................\n",
            "[CV 2/3; 9/60] END algorithm=auto, n_neighbors=5, weights=None;, score=0.866 total time=   0.9s\n",
            "[CV 3/3; 9/60] START algorithm=auto, n_neighbors=5, weights=None................\n",
            "[CV 3/3; 9/60] END algorithm=auto, n_neighbors=5, weights=None;, score=0.870 total time=   0.9s\n",
            "[CV 1/3; 10/60] START algorithm=auto, n_neighbors=7, weights=uniform............\n",
            "[CV 1/3; 10/60] END algorithm=auto, n_neighbors=7, weights=uniform;, score=0.858 total time=   0.7s\n",
            "[CV 2/3; 10/60] START algorithm=auto, n_neighbors=7, weights=uniform............\n",
            "[CV 2/3; 10/60] END algorithm=auto, n_neighbors=7, weights=uniform;, score=0.867 total time=   0.8s\n",
            "[CV 3/3; 10/60] START algorithm=auto, n_neighbors=7, weights=uniform............\n",
            "[CV 3/3; 10/60] END algorithm=auto, n_neighbors=7, weights=uniform;, score=0.872 total time=   0.6s\n",
            "[CV 1/3; 11/60] START algorithm=auto, n_neighbors=7, weights=distance...........\n",
            "[CV 1/3; 11/60] END algorithm=auto, n_neighbors=7, weights=distance;, score=0.861 total time=   0.6s\n",
            "[CV 2/3; 11/60] START algorithm=auto, n_neighbors=7, weights=distance...........\n",
            "[CV 2/3; 11/60] END algorithm=auto, n_neighbors=7, weights=distance;, score=0.868 total time=   0.6s\n",
            "[CV 3/3; 11/60] START algorithm=auto, n_neighbors=7, weights=distance...........\n",
            "[CV 3/3; 11/60] END algorithm=auto, n_neighbors=7, weights=distance;, score=0.872 total time=   0.6s\n",
            "[CV 1/3; 12/60] START algorithm=auto, n_neighbors=7, weights=None...............\n",
            "[CV 1/3; 12/60] END algorithm=auto, n_neighbors=7, weights=None;, score=0.858 total time=   0.6s\n",
            "[CV 2/3; 12/60] START algorithm=auto, n_neighbors=7, weights=None...............\n",
            "[CV 2/3; 12/60] END algorithm=auto, n_neighbors=7, weights=None;, score=0.867 total time=   0.7s\n",
            "[CV 3/3; 12/60] START algorithm=auto, n_neighbors=7, weights=None...............\n",
            "[CV 3/3; 12/60] END algorithm=auto, n_neighbors=7, weights=None;, score=0.872 total time=   0.7s\n",
            "[CV 1/3; 13/60] START algorithm=auto, n_neighbors=10, weights=uniform...........\n",
            "[CV 1/3; 13/60] END algorithm=auto, n_neighbors=10, weights=uniform;, score=0.862 total time=   0.6s\n",
            "[CV 2/3; 13/60] START algorithm=auto, n_neighbors=10, weights=uniform...........\n",
            "[CV 2/3; 13/60] END algorithm=auto, n_neighbors=10, weights=uniform;, score=0.876 total time=   0.6s\n",
            "[CV 3/3; 13/60] START algorithm=auto, n_neighbors=10, weights=uniform...........\n",
            "[CV 3/3; 13/60] END algorithm=auto, n_neighbors=10, weights=uniform;, score=0.875 total time=   0.6s\n",
            "[CV 1/3; 14/60] START algorithm=auto, n_neighbors=10, weights=distance..........\n",
            "[CV 1/3; 14/60] END algorithm=auto, n_neighbors=10, weights=distance;, score=0.865 total time=   0.6s\n",
            "[CV 2/3; 14/60] START algorithm=auto, n_neighbors=10, weights=distance..........\n",
            "[CV 2/3; 14/60] END algorithm=auto, n_neighbors=10, weights=distance;, score=0.876 total time=   0.6s\n",
            "[CV 3/3; 14/60] START algorithm=auto, n_neighbors=10, weights=distance..........\n",
            "[CV 3/3; 14/60] END algorithm=auto, n_neighbors=10, weights=distance;, score=0.874 total time=   0.6s\n",
            "[CV 1/3; 15/60] START algorithm=auto, n_neighbors=10, weights=None..............\n",
            "[CV 1/3; 15/60] END algorithm=auto, n_neighbors=10, weights=None;, score=0.862 total time=   0.7s\n",
            "[CV 2/3; 15/60] START algorithm=auto, n_neighbors=10, weights=None..............\n",
            "[CV 2/3; 15/60] END algorithm=auto, n_neighbors=10, weights=None;, score=0.876 total time=   0.7s\n",
            "[CV 3/3; 15/60] START algorithm=auto, n_neighbors=10, weights=None..............\n",
            "[CV 3/3; 15/60] END algorithm=auto, n_neighbors=10, weights=None;, score=0.875 total time=   0.7s\n",
            "[CV 1/3; 16/60] START algorithm=ball_tree, n_neighbors=1, weights=uniform.......\n"
          ]
        },
        {
          "output_type": "stream",
          "name": "stderr",
          "text": [
            "/usr/local/lib/python3.10/dist-packages/sklearn/neighbors/_base.py:583: UserWarning: cannot use tree with sparse input: using brute force\n",
            "  warnings.warn(\"cannot use tree with sparse input: using brute force\")\n"
          ]
        },
        {
          "output_type": "stream",
          "name": "stdout",
          "text": [
            "[CV 1/3; 16/60] END algorithm=ball_tree, n_neighbors=1, weights=uniform;, score=0.817 total time=   0.5s\n",
            "[CV 2/3; 16/60] START algorithm=ball_tree, n_neighbors=1, weights=uniform.......\n"
          ]
        },
        {
          "output_type": "stream",
          "name": "stderr",
          "text": [
            "/usr/local/lib/python3.10/dist-packages/sklearn/neighbors/_base.py:583: UserWarning: cannot use tree with sparse input: using brute force\n",
            "  warnings.warn(\"cannot use tree with sparse input: using brute force\")\n"
          ]
        },
        {
          "output_type": "stream",
          "name": "stdout",
          "text": [
            "[CV 2/3; 16/60] END algorithm=ball_tree, n_neighbors=1, weights=uniform;, score=0.810 total time=   0.7s\n",
            "[CV 3/3; 16/60] START algorithm=ball_tree, n_neighbors=1, weights=uniform.......\n"
          ]
        },
        {
          "output_type": "stream",
          "name": "stderr",
          "text": [
            "/usr/local/lib/python3.10/dist-packages/sklearn/neighbors/_base.py:583: UserWarning: cannot use tree with sparse input: using brute force\n",
            "  warnings.warn(\"cannot use tree with sparse input: using brute force\")\n"
          ]
        },
        {
          "output_type": "stream",
          "name": "stdout",
          "text": [
            "[CV 3/3; 16/60] END algorithm=ball_tree, n_neighbors=1, weights=uniform;, score=0.810 total time=   0.7s\n",
            "[CV 1/3; 17/60] START algorithm=ball_tree, n_neighbors=1, weights=distance......\n"
          ]
        },
        {
          "output_type": "stream",
          "name": "stderr",
          "text": [
            "/usr/local/lib/python3.10/dist-packages/sklearn/neighbors/_base.py:583: UserWarning: cannot use tree with sparse input: using brute force\n",
            "  warnings.warn(\"cannot use tree with sparse input: using brute force\")\n"
          ]
        },
        {
          "output_type": "stream",
          "name": "stdout",
          "text": [
            "[CV 1/3; 17/60] END algorithm=ball_tree, n_neighbors=1, weights=distance;, score=0.817 total time=   0.7s\n",
            "[CV 2/3; 17/60] START algorithm=ball_tree, n_neighbors=1, weights=distance......\n"
          ]
        },
        {
          "output_type": "stream",
          "name": "stderr",
          "text": [
            "/usr/local/lib/python3.10/dist-packages/sklearn/neighbors/_base.py:583: UserWarning: cannot use tree with sparse input: using brute force\n",
            "  warnings.warn(\"cannot use tree with sparse input: using brute force\")\n"
          ]
        },
        {
          "output_type": "stream",
          "name": "stdout",
          "text": [
            "[CV 2/3; 17/60] END algorithm=ball_tree, n_neighbors=1, weights=distance;, score=0.810 total time=   0.7s\n",
            "[CV 3/3; 17/60] START algorithm=ball_tree, n_neighbors=1, weights=distance......\n"
          ]
        },
        {
          "output_type": "stream",
          "name": "stderr",
          "text": [
            "/usr/local/lib/python3.10/dist-packages/sklearn/neighbors/_base.py:583: UserWarning: cannot use tree with sparse input: using brute force\n",
            "  warnings.warn(\"cannot use tree with sparse input: using brute force\")\n"
          ]
        },
        {
          "output_type": "stream",
          "name": "stdout",
          "text": [
            "[CV 3/3; 17/60] END algorithm=ball_tree, n_neighbors=1, weights=distance;, score=0.810 total time=   0.7s\n",
            "[CV 1/3; 18/60] START algorithm=ball_tree, n_neighbors=1, weights=None..........\n"
          ]
        },
        {
          "output_type": "stream",
          "name": "stderr",
          "text": [
            "/usr/local/lib/python3.10/dist-packages/sklearn/neighbors/_base.py:583: UserWarning: cannot use tree with sparse input: using brute force\n",
            "  warnings.warn(\"cannot use tree with sparse input: using brute force\")\n"
          ]
        },
        {
          "output_type": "stream",
          "name": "stdout",
          "text": [
            "[CV 1/3; 18/60] END algorithm=ball_tree, n_neighbors=1, weights=None;, score=0.817 total time=   0.7s\n",
            "[CV 2/3; 18/60] START algorithm=ball_tree, n_neighbors=1, weights=None..........\n"
          ]
        },
        {
          "output_type": "stream",
          "name": "stderr",
          "text": [
            "/usr/local/lib/python3.10/dist-packages/sklearn/neighbors/_base.py:583: UserWarning: cannot use tree with sparse input: using brute force\n",
            "  warnings.warn(\"cannot use tree with sparse input: using brute force\")\n"
          ]
        },
        {
          "output_type": "stream",
          "name": "stdout",
          "text": [
            "[CV 2/3; 18/60] END algorithm=ball_tree, n_neighbors=1, weights=None;, score=0.810 total time=   0.6s\n",
            "[CV 3/3; 18/60] START algorithm=ball_tree, n_neighbors=1, weights=None..........\n"
          ]
        },
        {
          "output_type": "stream",
          "name": "stderr",
          "text": [
            "/usr/local/lib/python3.10/dist-packages/sklearn/neighbors/_base.py:583: UserWarning: cannot use tree with sparse input: using brute force\n",
            "  warnings.warn(\"cannot use tree with sparse input: using brute force\")\n"
          ]
        },
        {
          "output_type": "stream",
          "name": "stdout",
          "text": [
            "[CV 3/3; 18/60] END algorithm=ball_tree, n_neighbors=1, weights=None;, score=0.810 total time=   0.6s\n",
            "[CV 1/3; 19/60] START algorithm=ball_tree, n_neighbors=3, weights=uniform.......\n"
          ]
        },
        {
          "output_type": "stream",
          "name": "stderr",
          "text": [
            "/usr/local/lib/python3.10/dist-packages/sklearn/neighbors/_base.py:583: UserWarning: cannot use tree with sparse input: using brute force\n",
            "  warnings.warn(\"cannot use tree with sparse input: using brute force\")\n"
          ]
        },
        {
          "output_type": "stream",
          "name": "stdout",
          "text": [
            "[CV 1/3; 19/60] END algorithm=ball_tree, n_neighbors=3, weights=uniform;, score=0.846 total time=   0.6s\n",
            "[CV 2/3; 19/60] START algorithm=ball_tree, n_neighbors=3, weights=uniform.......\n"
          ]
        },
        {
          "output_type": "stream",
          "name": "stderr",
          "text": [
            "/usr/local/lib/python3.10/dist-packages/sklearn/neighbors/_base.py:583: UserWarning: cannot use tree with sparse input: using brute force\n",
            "  warnings.warn(\"cannot use tree with sparse input: using brute force\")\n"
          ]
        },
        {
          "output_type": "stream",
          "name": "stdout",
          "text": [
            "[CV 2/3; 19/60] END algorithm=ball_tree, n_neighbors=3, weights=uniform;, score=0.857 total time=   0.6s\n",
            "[CV 3/3; 19/60] START algorithm=ball_tree, n_neighbors=3, weights=uniform.......\n"
          ]
        },
        {
          "output_type": "stream",
          "name": "stderr",
          "text": [
            "/usr/local/lib/python3.10/dist-packages/sklearn/neighbors/_base.py:583: UserWarning: cannot use tree with sparse input: using brute force\n",
            "  warnings.warn(\"cannot use tree with sparse input: using brute force\")\n"
          ]
        },
        {
          "output_type": "stream",
          "name": "stdout",
          "text": [
            "[CV 3/3; 19/60] END algorithm=ball_tree, n_neighbors=3, weights=uniform;, score=0.852 total time=   0.6s\n",
            "[CV 1/3; 20/60] START algorithm=ball_tree, n_neighbors=3, weights=distance......\n"
          ]
        },
        {
          "output_type": "stream",
          "name": "stderr",
          "text": [
            "/usr/local/lib/python3.10/dist-packages/sklearn/neighbors/_base.py:583: UserWarning: cannot use tree with sparse input: using brute force\n",
            "  warnings.warn(\"cannot use tree with sparse input: using brute force\")\n"
          ]
        },
        {
          "output_type": "stream",
          "name": "stdout",
          "text": [
            "[CV 1/3; 20/60] END algorithm=ball_tree, n_neighbors=3, weights=distance;, score=0.843 total time=   0.6s\n",
            "[CV 2/3; 20/60] START algorithm=ball_tree, n_neighbors=3, weights=distance......\n"
          ]
        },
        {
          "output_type": "stream",
          "name": "stderr",
          "text": [
            "/usr/local/lib/python3.10/dist-packages/sklearn/neighbors/_base.py:583: UserWarning: cannot use tree with sparse input: using brute force\n",
            "  warnings.warn(\"cannot use tree with sparse input: using brute force\")\n"
          ]
        },
        {
          "output_type": "stream",
          "name": "stdout",
          "text": [
            "[CV 2/3; 20/60] END algorithm=ball_tree, n_neighbors=3, weights=distance;, score=0.854 total time=   0.5s\n",
            "[CV 3/3; 20/60] START algorithm=ball_tree, n_neighbors=3, weights=distance......\n"
          ]
        },
        {
          "output_type": "stream",
          "name": "stderr",
          "text": [
            "/usr/local/lib/python3.10/dist-packages/sklearn/neighbors/_base.py:583: UserWarning: cannot use tree with sparse input: using brute force\n",
            "  warnings.warn(\"cannot use tree with sparse input: using brute force\")\n"
          ]
        },
        {
          "output_type": "stream",
          "name": "stdout",
          "text": [
            "[CV 3/3; 20/60] END algorithm=ball_tree, n_neighbors=3, weights=distance;, score=0.847 total time=   0.6s\n",
            "[CV 1/3; 21/60] START algorithm=ball_tree, n_neighbors=3, weights=None..........\n"
          ]
        },
        {
          "output_type": "stream",
          "name": "stderr",
          "text": [
            "/usr/local/lib/python3.10/dist-packages/sklearn/neighbors/_base.py:583: UserWarning: cannot use tree with sparse input: using brute force\n",
            "  warnings.warn(\"cannot use tree with sparse input: using brute force\")\n"
          ]
        },
        {
          "output_type": "stream",
          "name": "stdout",
          "text": [
            "[CV 1/3; 21/60] END algorithm=ball_tree, n_neighbors=3, weights=None;, score=0.846 total time=   0.6s\n",
            "[CV 2/3; 21/60] START algorithm=ball_tree, n_neighbors=3, weights=None..........\n"
          ]
        },
        {
          "output_type": "stream",
          "name": "stderr",
          "text": [
            "/usr/local/lib/python3.10/dist-packages/sklearn/neighbors/_base.py:583: UserWarning: cannot use tree with sparse input: using brute force\n",
            "  warnings.warn(\"cannot use tree with sparse input: using brute force\")\n"
          ]
        },
        {
          "output_type": "stream",
          "name": "stdout",
          "text": [
            "[CV 2/3; 21/60] END algorithm=ball_tree, n_neighbors=3, weights=None;, score=0.857 total time=   0.7s\n",
            "[CV 3/3; 21/60] START algorithm=ball_tree, n_neighbors=3, weights=None..........\n"
          ]
        },
        {
          "output_type": "stream",
          "name": "stderr",
          "text": [
            "/usr/local/lib/python3.10/dist-packages/sklearn/neighbors/_base.py:583: UserWarning: cannot use tree with sparse input: using brute force\n",
            "  warnings.warn(\"cannot use tree with sparse input: using brute force\")\n"
          ]
        },
        {
          "output_type": "stream",
          "name": "stdout",
          "text": [
            "[CV 3/3; 21/60] END algorithm=ball_tree, n_neighbors=3, weights=None;, score=0.852 total time=   0.7s\n",
            "[CV 1/3; 22/60] START algorithm=ball_tree, n_neighbors=5, weights=uniform.......\n"
          ]
        },
        {
          "output_type": "stream",
          "name": "stderr",
          "text": [
            "/usr/local/lib/python3.10/dist-packages/sklearn/neighbors/_base.py:583: UserWarning: cannot use tree with sparse input: using brute force\n",
            "  warnings.warn(\"cannot use tree with sparse input: using brute force\")\n"
          ]
        },
        {
          "output_type": "stream",
          "name": "stdout",
          "text": [
            "[CV 1/3; 22/60] END algorithm=ball_tree, n_neighbors=5, weights=uniform;, score=0.854 total time=   0.6s\n",
            "[CV 2/3; 22/60] START algorithm=ball_tree, n_neighbors=5, weights=uniform.......\n"
          ]
        },
        {
          "output_type": "stream",
          "name": "stderr",
          "text": [
            "/usr/local/lib/python3.10/dist-packages/sklearn/neighbors/_base.py:583: UserWarning: cannot use tree with sparse input: using brute force\n",
            "  warnings.warn(\"cannot use tree with sparse input: using brute force\")\n"
          ]
        },
        {
          "output_type": "stream",
          "name": "stdout",
          "text": [
            "[CV 2/3; 22/60] END algorithm=ball_tree, n_neighbors=5, weights=uniform;, score=0.866 total time=   0.6s\n",
            "[CV 3/3; 22/60] START algorithm=ball_tree, n_neighbors=5, weights=uniform.......\n"
          ]
        },
        {
          "output_type": "stream",
          "name": "stderr",
          "text": [
            "/usr/local/lib/python3.10/dist-packages/sklearn/neighbors/_base.py:583: UserWarning: cannot use tree with sparse input: using brute force\n",
            "  warnings.warn(\"cannot use tree with sparse input: using brute force\")\n"
          ]
        },
        {
          "output_type": "stream",
          "name": "stdout",
          "text": [
            "[CV 3/3; 22/60] END algorithm=ball_tree, n_neighbors=5, weights=uniform;, score=0.870 total time=   0.6s\n",
            "[CV 1/3; 23/60] START algorithm=ball_tree, n_neighbors=5, weights=distance......\n"
          ]
        },
        {
          "output_type": "stream",
          "name": "stderr",
          "text": [
            "/usr/local/lib/python3.10/dist-packages/sklearn/neighbors/_base.py:583: UserWarning: cannot use tree with sparse input: using brute force\n",
            "  warnings.warn(\"cannot use tree with sparse input: using brute force\")\n"
          ]
        },
        {
          "output_type": "stream",
          "name": "stdout",
          "text": [
            "[CV 1/3; 23/60] END algorithm=ball_tree, n_neighbors=5, weights=distance;, score=0.854 total time=   0.6s\n",
            "[CV 2/3; 23/60] START algorithm=ball_tree, n_neighbors=5, weights=distance......\n"
          ]
        },
        {
          "output_type": "stream",
          "name": "stderr",
          "text": [
            "/usr/local/lib/python3.10/dist-packages/sklearn/neighbors/_base.py:583: UserWarning: cannot use tree with sparse input: using brute force\n",
            "  warnings.warn(\"cannot use tree with sparse input: using brute force\")\n"
          ]
        },
        {
          "output_type": "stream",
          "name": "stdout",
          "text": [
            "[CV 2/3; 23/60] END algorithm=ball_tree, n_neighbors=5, weights=distance;, score=0.865 total time=   0.6s\n",
            "[CV 3/3; 23/60] START algorithm=ball_tree, n_neighbors=5, weights=distance......\n"
          ]
        },
        {
          "output_type": "stream",
          "name": "stderr",
          "text": [
            "/usr/local/lib/python3.10/dist-packages/sklearn/neighbors/_base.py:583: UserWarning: cannot use tree with sparse input: using brute force\n",
            "  warnings.warn(\"cannot use tree with sparse input: using brute force\")\n"
          ]
        },
        {
          "output_type": "stream",
          "name": "stdout",
          "text": [
            "[CV 3/3; 23/60] END algorithm=ball_tree, n_neighbors=5, weights=distance;, score=0.868 total time=   0.7s\n",
            "[CV 1/3; 24/60] START algorithm=ball_tree, n_neighbors=5, weights=None..........\n"
          ]
        },
        {
          "output_type": "stream",
          "name": "stderr",
          "text": [
            "/usr/local/lib/python3.10/dist-packages/sklearn/neighbors/_base.py:583: UserWarning: cannot use tree with sparse input: using brute force\n",
            "  warnings.warn(\"cannot use tree with sparse input: using brute force\")\n"
          ]
        },
        {
          "output_type": "stream",
          "name": "stdout",
          "text": [
            "[CV 1/3; 24/60] END algorithm=ball_tree, n_neighbors=5, weights=None;, score=0.854 total time=   0.9s\n",
            "[CV 2/3; 24/60] START algorithm=ball_tree, n_neighbors=5, weights=None..........\n"
          ]
        },
        {
          "output_type": "stream",
          "name": "stderr",
          "text": [
            "/usr/local/lib/python3.10/dist-packages/sklearn/neighbors/_base.py:583: UserWarning: cannot use tree with sparse input: using brute force\n",
            "  warnings.warn(\"cannot use tree with sparse input: using brute force\")\n"
          ]
        },
        {
          "output_type": "stream",
          "name": "stdout",
          "text": [
            "[CV 2/3; 24/60] END algorithm=ball_tree, n_neighbors=5, weights=None;, score=0.866 total time=   0.9s\n",
            "[CV 3/3; 24/60] START algorithm=ball_tree, n_neighbors=5, weights=None..........\n"
          ]
        },
        {
          "output_type": "stream",
          "name": "stderr",
          "text": [
            "/usr/local/lib/python3.10/dist-packages/sklearn/neighbors/_base.py:583: UserWarning: cannot use tree with sparse input: using brute force\n",
            "  warnings.warn(\"cannot use tree with sparse input: using brute force\")\n"
          ]
        },
        {
          "output_type": "stream",
          "name": "stdout",
          "text": [
            "[CV 3/3; 24/60] END algorithm=ball_tree, n_neighbors=5, weights=None;, score=0.870 total time=   1.0s\n",
            "[CV 1/3; 25/60] START algorithm=ball_tree, n_neighbors=7, weights=uniform.......\n"
          ]
        },
        {
          "output_type": "stream",
          "name": "stderr",
          "text": [
            "/usr/local/lib/python3.10/dist-packages/sklearn/neighbors/_base.py:583: UserWarning: cannot use tree with sparse input: using brute force\n",
            "  warnings.warn(\"cannot use tree with sparse input: using brute force\")\n"
          ]
        },
        {
          "output_type": "stream",
          "name": "stdout",
          "text": [
            "[CV 1/3; 25/60] END algorithm=ball_tree, n_neighbors=7, weights=uniform;, score=0.858 total time=   1.2s\n",
            "[CV 2/3; 25/60] START algorithm=ball_tree, n_neighbors=7, weights=uniform.......\n"
          ]
        },
        {
          "output_type": "stream",
          "name": "stderr",
          "text": [
            "/usr/local/lib/python3.10/dist-packages/sklearn/neighbors/_base.py:583: UserWarning: cannot use tree with sparse input: using brute force\n",
            "  warnings.warn(\"cannot use tree with sparse input: using brute force\")\n"
          ]
        },
        {
          "output_type": "stream",
          "name": "stdout",
          "text": [
            "[CV 2/3; 25/60] END algorithm=ball_tree, n_neighbors=7, weights=uniform;, score=0.867 total time=   1.1s\n",
            "[CV 3/3; 25/60] START algorithm=ball_tree, n_neighbors=7, weights=uniform.......\n"
          ]
        },
        {
          "output_type": "stream",
          "name": "stderr",
          "text": [
            "/usr/local/lib/python3.10/dist-packages/sklearn/neighbors/_base.py:583: UserWarning: cannot use tree with sparse input: using brute force\n",
            "  warnings.warn(\"cannot use tree with sparse input: using brute force\")\n"
          ]
        },
        {
          "output_type": "stream",
          "name": "stdout",
          "text": [
            "[CV 3/3; 25/60] END algorithm=ball_tree, n_neighbors=7, weights=uniform;, score=0.872 total time=   1.2s\n",
            "[CV 1/3; 26/60] START algorithm=ball_tree, n_neighbors=7, weights=distance......\n"
          ]
        },
        {
          "output_type": "stream",
          "name": "stderr",
          "text": [
            "/usr/local/lib/python3.10/dist-packages/sklearn/neighbors/_base.py:583: UserWarning: cannot use tree with sparse input: using brute force\n",
            "  warnings.warn(\"cannot use tree with sparse input: using brute force\")\n"
          ]
        },
        {
          "output_type": "stream",
          "name": "stdout",
          "text": [
            "[CV 1/3; 26/60] END algorithm=ball_tree, n_neighbors=7, weights=distance;, score=0.861 total time=   0.9s\n",
            "[CV 2/3; 26/60] START algorithm=ball_tree, n_neighbors=7, weights=distance......\n"
          ]
        },
        {
          "output_type": "stream",
          "name": "stderr",
          "text": [
            "/usr/local/lib/python3.10/dist-packages/sklearn/neighbors/_base.py:583: UserWarning: cannot use tree with sparse input: using brute force\n",
            "  warnings.warn(\"cannot use tree with sparse input: using brute force\")\n"
          ]
        },
        {
          "output_type": "stream",
          "name": "stdout",
          "text": [
            "[CV 2/3; 26/60] END algorithm=ball_tree, n_neighbors=7, weights=distance;, score=0.868 total time=   1.3s\n",
            "[CV 3/3; 26/60] START algorithm=ball_tree, n_neighbors=7, weights=distance......\n"
          ]
        },
        {
          "output_type": "stream",
          "name": "stderr",
          "text": [
            "/usr/local/lib/python3.10/dist-packages/sklearn/neighbors/_base.py:583: UserWarning: cannot use tree with sparse input: using brute force\n",
            "  warnings.warn(\"cannot use tree with sparse input: using brute force\")\n"
          ]
        },
        {
          "output_type": "stream",
          "name": "stdout",
          "text": [
            "[CV 3/3; 26/60] END algorithm=ball_tree, n_neighbors=7, weights=distance;, score=0.872 total time=   1.0s\n",
            "[CV 1/3; 27/60] START algorithm=ball_tree, n_neighbors=7, weights=None..........\n"
          ]
        },
        {
          "output_type": "stream",
          "name": "stderr",
          "text": [
            "/usr/local/lib/python3.10/dist-packages/sklearn/neighbors/_base.py:583: UserWarning: cannot use tree with sparse input: using brute force\n",
            "  warnings.warn(\"cannot use tree with sparse input: using brute force\")\n"
          ]
        },
        {
          "output_type": "stream",
          "name": "stdout",
          "text": [
            "[CV 1/3; 27/60] END algorithm=ball_tree, n_neighbors=7, weights=None;, score=0.858 total time=   1.7s\n",
            "[CV 2/3; 27/60] START algorithm=ball_tree, n_neighbors=7, weights=None..........\n"
          ]
        },
        {
          "output_type": "stream",
          "name": "stderr",
          "text": [
            "/usr/local/lib/python3.10/dist-packages/sklearn/neighbors/_base.py:583: UserWarning: cannot use tree with sparse input: using brute force\n",
            "  warnings.warn(\"cannot use tree with sparse input: using brute force\")\n"
          ]
        },
        {
          "output_type": "stream",
          "name": "stdout",
          "text": [
            "[CV 2/3; 27/60] END algorithm=ball_tree, n_neighbors=7, weights=None;, score=0.867 total time=   0.9s\n",
            "[CV 3/3; 27/60] START algorithm=ball_tree, n_neighbors=7, weights=None..........\n"
          ]
        },
        {
          "output_type": "stream",
          "name": "stderr",
          "text": [
            "/usr/local/lib/python3.10/dist-packages/sklearn/neighbors/_base.py:583: UserWarning: cannot use tree with sparse input: using brute force\n",
            "  warnings.warn(\"cannot use tree with sparse input: using brute force\")\n"
          ]
        },
        {
          "output_type": "stream",
          "name": "stdout",
          "text": [
            "[CV 3/3; 27/60] END algorithm=ball_tree, n_neighbors=7, weights=None;, score=0.872 total time=   1.3s\n",
            "[CV 1/3; 28/60] START algorithm=ball_tree, n_neighbors=10, weights=uniform......\n"
          ]
        },
        {
          "output_type": "stream",
          "name": "stderr",
          "text": [
            "/usr/local/lib/python3.10/dist-packages/sklearn/neighbors/_base.py:583: UserWarning: cannot use tree with sparse input: using brute force\n",
            "  warnings.warn(\"cannot use tree with sparse input: using brute force\")\n"
          ]
        },
        {
          "output_type": "stream",
          "name": "stdout",
          "text": [
            "[CV 1/3; 28/60] END algorithm=ball_tree, n_neighbors=10, weights=uniform;, score=0.862 total time=   1.0s\n",
            "[CV 2/3; 28/60] START algorithm=ball_tree, n_neighbors=10, weights=uniform......\n"
          ]
        },
        {
          "output_type": "stream",
          "name": "stderr",
          "text": [
            "/usr/local/lib/python3.10/dist-packages/sklearn/neighbors/_base.py:583: UserWarning: cannot use tree with sparse input: using brute force\n",
            "  warnings.warn(\"cannot use tree with sparse input: using brute force\")\n"
          ]
        },
        {
          "output_type": "stream",
          "name": "stdout",
          "text": [
            "[CV 2/3; 28/60] END algorithm=ball_tree, n_neighbors=10, weights=uniform;, score=0.876 total time=   1.2s\n",
            "[CV 3/3; 28/60] START algorithm=ball_tree, n_neighbors=10, weights=uniform......\n"
          ]
        },
        {
          "output_type": "stream",
          "name": "stderr",
          "text": [
            "/usr/local/lib/python3.10/dist-packages/sklearn/neighbors/_base.py:583: UserWarning: cannot use tree with sparse input: using brute force\n",
            "  warnings.warn(\"cannot use tree with sparse input: using brute force\")\n"
          ]
        },
        {
          "output_type": "stream",
          "name": "stdout",
          "text": [
            "[CV 3/3; 28/60] END algorithm=ball_tree, n_neighbors=10, weights=uniform;, score=0.875 total time=   1.4s\n",
            "[CV 1/3; 29/60] START algorithm=ball_tree, n_neighbors=10, weights=distance.....\n"
          ]
        },
        {
          "output_type": "stream",
          "name": "stderr",
          "text": [
            "/usr/local/lib/python3.10/dist-packages/sklearn/neighbors/_base.py:583: UserWarning: cannot use tree with sparse input: using brute force\n",
            "  warnings.warn(\"cannot use tree with sparse input: using brute force\")\n"
          ]
        },
        {
          "output_type": "stream",
          "name": "stdout",
          "text": [
            "[CV 1/3; 29/60] END algorithm=ball_tree, n_neighbors=10, weights=distance;, score=0.865 total time=   0.9s\n",
            "[CV 2/3; 29/60] START algorithm=ball_tree, n_neighbors=10, weights=distance.....\n"
          ]
        },
        {
          "output_type": "stream",
          "name": "stderr",
          "text": [
            "/usr/local/lib/python3.10/dist-packages/sklearn/neighbors/_base.py:583: UserWarning: cannot use tree with sparse input: using brute force\n",
            "  warnings.warn(\"cannot use tree with sparse input: using brute force\")\n"
          ]
        },
        {
          "output_type": "stream",
          "name": "stdout",
          "text": [
            "[CV 2/3; 29/60] END algorithm=ball_tree, n_neighbors=10, weights=distance;, score=0.876 total time=   0.8s\n",
            "[CV 3/3; 29/60] START algorithm=ball_tree, n_neighbors=10, weights=distance.....\n"
          ]
        },
        {
          "output_type": "stream",
          "name": "stderr",
          "text": [
            "/usr/local/lib/python3.10/dist-packages/sklearn/neighbors/_base.py:583: UserWarning: cannot use tree with sparse input: using brute force\n",
            "  warnings.warn(\"cannot use tree with sparse input: using brute force\")\n"
          ]
        },
        {
          "output_type": "stream",
          "name": "stdout",
          "text": [
            "[CV 3/3; 29/60] END algorithm=ball_tree, n_neighbors=10, weights=distance;, score=0.874 total time=   0.9s\n",
            "[CV 1/3; 30/60] START algorithm=ball_tree, n_neighbors=10, weights=None.........\n"
          ]
        },
        {
          "output_type": "stream",
          "name": "stderr",
          "text": [
            "/usr/local/lib/python3.10/dist-packages/sklearn/neighbors/_base.py:583: UserWarning: cannot use tree with sparse input: using brute force\n",
            "  warnings.warn(\"cannot use tree with sparse input: using brute force\")\n"
          ]
        },
        {
          "output_type": "stream",
          "name": "stdout",
          "text": [
            "[CV 1/3; 30/60] END algorithm=ball_tree, n_neighbors=10, weights=None;, score=0.862 total time=   1.1s\n",
            "[CV 2/3; 30/60] START algorithm=ball_tree, n_neighbors=10, weights=None.........\n"
          ]
        },
        {
          "output_type": "stream",
          "name": "stderr",
          "text": [
            "/usr/local/lib/python3.10/dist-packages/sklearn/neighbors/_base.py:583: UserWarning: cannot use tree with sparse input: using brute force\n",
            "  warnings.warn(\"cannot use tree with sparse input: using brute force\")\n"
          ]
        },
        {
          "output_type": "stream",
          "name": "stdout",
          "text": [
            "[CV 2/3; 30/60] END algorithm=ball_tree, n_neighbors=10, weights=None;, score=0.876 total time=   1.2s\n",
            "[CV 3/3; 30/60] START algorithm=ball_tree, n_neighbors=10, weights=None.........\n"
          ]
        },
        {
          "output_type": "stream",
          "name": "stderr",
          "text": [
            "/usr/local/lib/python3.10/dist-packages/sklearn/neighbors/_base.py:583: UserWarning: cannot use tree with sparse input: using brute force\n",
            "  warnings.warn(\"cannot use tree with sparse input: using brute force\")\n"
          ]
        },
        {
          "output_type": "stream",
          "name": "stdout",
          "text": [
            "[CV 3/3; 30/60] END algorithm=ball_tree, n_neighbors=10, weights=None;, score=0.875 total time=   1.0s\n",
            "[CV 1/3; 31/60] START algorithm=kd_tree, n_neighbors=1, weights=uniform.........\n"
          ]
        },
        {
          "output_type": "stream",
          "name": "stderr",
          "text": [
            "/usr/local/lib/python3.10/dist-packages/sklearn/neighbors/_base.py:583: UserWarning: cannot use tree with sparse input: using brute force\n",
            "  warnings.warn(\"cannot use tree with sparse input: using brute force\")\n"
          ]
        },
        {
          "output_type": "stream",
          "name": "stdout",
          "text": [
            "[CV 1/3; 31/60] END algorithm=kd_tree, n_neighbors=1, weights=uniform;, score=0.817 total time=   0.7s\n",
            "[CV 2/3; 31/60] START algorithm=kd_tree, n_neighbors=1, weights=uniform.........\n"
          ]
        },
        {
          "output_type": "stream",
          "name": "stderr",
          "text": [
            "/usr/local/lib/python3.10/dist-packages/sklearn/neighbors/_base.py:583: UserWarning: cannot use tree with sparse input: using brute force\n",
            "  warnings.warn(\"cannot use tree with sparse input: using brute force\")\n"
          ]
        },
        {
          "output_type": "stream",
          "name": "stdout",
          "text": [
            "[CV 2/3; 31/60] END algorithm=kd_tree, n_neighbors=1, weights=uniform;, score=0.810 total time=   0.7s\n",
            "[CV 3/3; 31/60] START algorithm=kd_tree, n_neighbors=1, weights=uniform.........\n"
          ]
        },
        {
          "output_type": "stream",
          "name": "stderr",
          "text": [
            "/usr/local/lib/python3.10/dist-packages/sklearn/neighbors/_base.py:583: UserWarning: cannot use tree with sparse input: using brute force\n",
            "  warnings.warn(\"cannot use tree with sparse input: using brute force\")\n"
          ]
        },
        {
          "output_type": "stream",
          "name": "stdout",
          "text": [
            "[CV 3/3; 31/60] END algorithm=kd_tree, n_neighbors=1, weights=uniform;, score=0.810 total time=   0.8s\n",
            "[CV 1/3; 32/60] START algorithm=kd_tree, n_neighbors=1, weights=distance........\n"
          ]
        },
        {
          "output_type": "stream",
          "name": "stderr",
          "text": [
            "/usr/local/lib/python3.10/dist-packages/sklearn/neighbors/_base.py:583: UserWarning: cannot use tree with sparse input: using brute force\n",
            "  warnings.warn(\"cannot use tree with sparse input: using brute force\")\n"
          ]
        },
        {
          "output_type": "stream",
          "name": "stdout",
          "text": [
            "[CV 1/3; 32/60] END algorithm=kd_tree, n_neighbors=1, weights=distance;, score=0.817 total time=   0.8s\n",
            "[CV 2/3; 32/60] START algorithm=kd_tree, n_neighbors=1, weights=distance........\n"
          ]
        },
        {
          "output_type": "stream",
          "name": "stderr",
          "text": [
            "/usr/local/lib/python3.10/dist-packages/sklearn/neighbors/_base.py:583: UserWarning: cannot use tree with sparse input: using brute force\n",
            "  warnings.warn(\"cannot use tree with sparse input: using brute force\")\n"
          ]
        },
        {
          "output_type": "stream",
          "name": "stdout",
          "text": [
            "[CV 2/3; 32/60] END algorithm=kd_tree, n_neighbors=1, weights=distance;, score=0.810 total time=   0.6s\n",
            "[CV 3/3; 32/60] START algorithm=kd_tree, n_neighbors=1, weights=distance........\n"
          ]
        },
        {
          "output_type": "stream",
          "name": "stderr",
          "text": [
            "/usr/local/lib/python3.10/dist-packages/sklearn/neighbors/_base.py:583: UserWarning: cannot use tree with sparse input: using brute force\n",
            "  warnings.warn(\"cannot use tree with sparse input: using brute force\")\n"
          ]
        },
        {
          "output_type": "stream",
          "name": "stdout",
          "text": [
            "[CV 3/3; 32/60] END algorithm=kd_tree, n_neighbors=1, weights=distance;, score=0.810 total time=   0.5s\n",
            "[CV 1/3; 33/60] START algorithm=kd_tree, n_neighbors=1, weights=None............\n"
          ]
        },
        {
          "output_type": "stream",
          "name": "stderr",
          "text": [
            "/usr/local/lib/python3.10/dist-packages/sklearn/neighbors/_base.py:583: UserWarning: cannot use tree with sparse input: using brute force\n",
            "  warnings.warn(\"cannot use tree with sparse input: using brute force\")\n"
          ]
        },
        {
          "output_type": "stream",
          "name": "stdout",
          "text": [
            "[CV 1/3; 33/60] END algorithm=kd_tree, n_neighbors=1, weights=None;, score=0.817 total time=   0.7s\n",
            "[CV 2/3; 33/60] START algorithm=kd_tree, n_neighbors=1, weights=None............\n"
          ]
        },
        {
          "output_type": "stream",
          "name": "stderr",
          "text": [
            "/usr/local/lib/python3.10/dist-packages/sklearn/neighbors/_base.py:583: UserWarning: cannot use tree with sparse input: using brute force\n",
            "  warnings.warn(\"cannot use tree with sparse input: using brute force\")\n"
          ]
        },
        {
          "output_type": "stream",
          "name": "stdout",
          "text": [
            "[CV 2/3; 33/60] END algorithm=kd_tree, n_neighbors=1, weights=None;, score=0.810 total time=   0.8s\n",
            "[CV 3/3; 33/60] START algorithm=kd_tree, n_neighbors=1, weights=None............\n"
          ]
        },
        {
          "output_type": "stream",
          "name": "stderr",
          "text": [
            "/usr/local/lib/python3.10/dist-packages/sklearn/neighbors/_base.py:583: UserWarning: cannot use tree with sparse input: using brute force\n",
            "  warnings.warn(\"cannot use tree with sparse input: using brute force\")\n"
          ]
        },
        {
          "output_type": "stream",
          "name": "stdout",
          "text": [
            "[CV 3/3; 33/60] END algorithm=kd_tree, n_neighbors=1, weights=None;, score=0.810 total time=   0.8s\n",
            "[CV 1/3; 34/60] START algorithm=kd_tree, n_neighbors=3, weights=uniform.........\n"
          ]
        },
        {
          "output_type": "stream",
          "name": "stderr",
          "text": [
            "/usr/local/lib/python3.10/dist-packages/sklearn/neighbors/_base.py:583: UserWarning: cannot use tree with sparse input: using brute force\n",
            "  warnings.warn(\"cannot use tree with sparse input: using brute force\")\n"
          ]
        },
        {
          "output_type": "stream",
          "name": "stdout",
          "text": [
            "[CV 1/3; 34/60] END algorithm=kd_tree, n_neighbors=3, weights=uniform;, score=0.846 total time=   0.7s\n",
            "[CV 2/3; 34/60] START algorithm=kd_tree, n_neighbors=3, weights=uniform.........\n"
          ]
        },
        {
          "output_type": "stream",
          "name": "stderr",
          "text": [
            "/usr/local/lib/python3.10/dist-packages/sklearn/neighbors/_base.py:583: UserWarning: cannot use tree with sparse input: using brute force\n",
            "  warnings.warn(\"cannot use tree with sparse input: using brute force\")\n"
          ]
        },
        {
          "output_type": "stream",
          "name": "stdout",
          "text": [
            "[CV 2/3; 34/60] END algorithm=kd_tree, n_neighbors=3, weights=uniform;, score=0.857 total time=   0.7s\n",
            "[CV 3/3; 34/60] START algorithm=kd_tree, n_neighbors=3, weights=uniform.........\n"
          ]
        },
        {
          "output_type": "stream",
          "name": "stderr",
          "text": [
            "/usr/local/lib/python3.10/dist-packages/sklearn/neighbors/_base.py:583: UserWarning: cannot use tree with sparse input: using brute force\n",
            "  warnings.warn(\"cannot use tree with sparse input: using brute force\")\n"
          ]
        },
        {
          "output_type": "stream",
          "name": "stdout",
          "text": [
            "[CV 3/3; 34/60] END algorithm=kd_tree, n_neighbors=3, weights=uniform;, score=0.852 total time=   0.7s\n",
            "[CV 1/3; 35/60] START algorithm=kd_tree, n_neighbors=3, weights=distance........\n"
          ]
        },
        {
          "output_type": "stream",
          "name": "stderr",
          "text": [
            "/usr/local/lib/python3.10/dist-packages/sklearn/neighbors/_base.py:583: UserWarning: cannot use tree with sparse input: using brute force\n",
            "  warnings.warn(\"cannot use tree with sparse input: using brute force\")\n"
          ]
        },
        {
          "output_type": "stream",
          "name": "stdout",
          "text": [
            "[CV 1/3; 35/60] END algorithm=kd_tree, n_neighbors=3, weights=distance;, score=0.843 total time=   0.6s\n",
            "[CV 2/3; 35/60] START algorithm=kd_tree, n_neighbors=3, weights=distance........\n"
          ]
        },
        {
          "output_type": "stream",
          "name": "stderr",
          "text": [
            "/usr/local/lib/python3.10/dist-packages/sklearn/neighbors/_base.py:583: UserWarning: cannot use tree with sparse input: using brute force\n",
            "  warnings.warn(\"cannot use tree with sparse input: using brute force\")\n"
          ]
        },
        {
          "output_type": "stream",
          "name": "stdout",
          "text": [
            "[CV 2/3; 35/60] END algorithm=kd_tree, n_neighbors=3, weights=distance;, score=0.854 total time=   0.6s\n",
            "[CV 3/3; 35/60] START algorithm=kd_tree, n_neighbors=3, weights=distance........\n"
          ]
        },
        {
          "output_type": "stream",
          "name": "stderr",
          "text": [
            "/usr/local/lib/python3.10/dist-packages/sklearn/neighbors/_base.py:583: UserWarning: cannot use tree with sparse input: using brute force\n",
            "  warnings.warn(\"cannot use tree with sparse input: using brute force\")\n"
          ]
        },
        {
          "output_type": "stream",
          "name": "stdout",
          "text": [
            "[CV 3/3; 35/60] END algorithm=kd_tree, n_neighbors=3, weights=distance;, score=0.847 total time=   0.6s\n",
            "[CV 1/3; 36/60] START algorithm=kd_tree, n_neighbors=3, weights=None............\n"
          ]
        },
        {
          "output_type": "stream",
          "name": "stderr",
          "text": [
            "/usr/local/lib/python3.10/dist-packages/sklearn/neighbors/_base.py:583: UserWarning: cannot use tree with sparse input: using brute force\n",
            "  warnings.warn(\"cannot use tree with sparse input: using brute force\")\n"
          ]
        },
        {
          "output_type": "stream",
          "name": "stdout",
          "text": [
            "[CV 1/3; 36/60] END algorithm=kd_tree, n_neighbors=3, weights=None;, score=0.846 total time=   0.7s\n",
            "[CV 2/3; 36/60] START algorithm=kd_tree, n_neighbors=3, weights=None............\n"
          ]
        },
        {
          "output_type": "stream",
          "name": "stderr",
          "text": [
            "/usr/local/lib/python3.10/dist-packages/sklearn/neighbors/_base.py:583: UserWarning: cannot use tree with sparse input: using brute force\n",
            "  warnings.warn(\"cannot use tree with sparse input: using brute force\")\n"
          ]
        },
        {
          "output_type": "stream",
          "name": "stdout",
          "text": [
            "[CV 2/3; 36/60] END algorithm=kd_tree, n_neighbors=3, weights=None;, score=0.857 total time=   0.6s\n",
            "[CV 3/3; 36/60] START algorithm=kd_tree, n_neighbors=3, weights=None............\n"
          ]
        },
        {
          "output_type": "stream",
          "name": "stderr",
          "text": [
            "/usr/local/lib/python3.10/dist-packages/sklearn/neighbors/_base.py:583: UserWarning: cannot use tree with sparse input: using brute force\n",
            "  warnings.warn(\"cannot use tree with sparse input: using brute force\")\n"
          ]
        },
        {
          "output_type": "stream",
          "name": "stdout",
          "text": [
            "[CV 3/3; 36/60] END algorithm=kd_tree, n_neighbors=3, weights=None;, score=0.852 total time=   0.7s\n",
            "[CV 1/3; 37/60] START algorithm=kd_tree, n_neighbors=5, weights=uniform.........\n"
          ]
        },
        {
          "output_type": "stream",
          "name": "stderr",
          "text": [
            "/usr/local/lib/python3.10/dist-packages/sklearn/neighbors/_base.py:583: UserWarning: cannot use tree with sparse input: using brute force\n",
            "  warnings.warn(\"cannot use tree with sparse input: using brute force\")\n"
          ]
        },
        {
          "output_type": "stream",
          "name": "stdout",
          "text": [
            "[CV 1/3; 37/60] END algorithm=kd_tree, n_neighbors=5, weights=uniform;, score=0.854 total time=   0.6s\n",
            "[CV 2/3; 37/60] START algorithm=kd_tree, n_neighbors=5, weights=uniform.........\n"
          ]
        },
        {
          "output_type": "stream",
          "name": "stderr",
          "text": [
            "/usr/local/lib/python3.10/dist-packages/sklearn/neighbors/_base.py:583: UserWarning: cannot use tree with sparse input: using brute force\n",
            "  warnings.warn(\"cannot use tree with sparse input: using brute force\")\n"
          ]
        },
        {
          "output_type": "stream",
          "name": "stdout",
          "text": [
            "[CV 2/3; 37/60] END algorithm=kd_tree, n_neighbors=5, weights=uniform;, score=0.866 total time=   0.6s\n",
            "[CV 3/3; 37/60] START algorithm=kd_tree, n_neighbors=5, weights=uniform.........\n"
          ]
        },
        {
          "output_type": "stream",
          "name": "stderr",
          "text": [
            "/usr/local/lib/python3.10/dist-packages/sklearn/neighbors/_base.py:583: UserWarning: cannot use tree with sparse input: using brute force\n",
            "  warnings.warn(\"cannot use tree with sparse input: using brute force\")\n"
          ]
        },
        {
          "output_type": "stream",
          "name": "stdout",
          "text": [
            "[CV 3/3; 37/60] END algorithm=kd_tree, n_neighbors=5, weights=uniform;, score=0.870 total time=   0.6s\n",
            "[CV 1/3; 38/60] START algorithm=kd_tree, n_neighbors=5, weights=distance........\n"
          ]
        },
        {
          "output_type": "stream",
          "name": "stderr",
          "text": [
            "/usr/local/lib/python3.10/dist-packages/sklearn/neighbors/_base.py:583: UserWarning: cannot use tree with sparse input: using brute force\n",
            "  warnings.warn(\"cannot use tree with sparse input: using brute force\")\n"
          ]
        },
        {
          "output_type": "stream",
          "name": "stdout",
          "text": [
            "[CV 1/3; 38/60] END algorithm=kd_tree, n_neighbors=5, weights=distance;, score=0.854 total time=   0.6s\n",
            "[CV 2/3; 38/60] START algorithm=kd_tree, n_neighbors=5, weights=distance........\n"
          ]
        },
        {
          "output_type": "stream",
          "name": "stderr",
          "text": [
            "/usr/local/lib/python3.10/dist-packages/sklearn/neighbors/_base.py:583: UserWarning: cannot use tree with sparse input: using brute force\n",
            "  warnings.warn(\"cannot use tree with sparse input: using brute force\")\n"
          ]
        },
        {
          "output_type": "stream",
          "name": "stdout",
          "text": [
            "[CV 2/3; 38/60] END algorithm=kd_tree, n_neighbors=5, weights=distance;, score=0.865 total time=   0.6s\n",
            "[CV 3/3; 38/60] START algorithm=kd_tree, n_neighbors=5, weights=distance........\n"
          ]
        },
        {
          "output_type": "stream",
          "name": "stderr",
          "text": [
            "/usr/local/lib/python3.10/dist-packages/sklearn/neighbors/_base.py:583: UserWarning: cannot use tree with sparse input: using brute force\n",
            "  warnings.warn(\"cannot use tree with sparse input: using brute force\")\n"
          ]
        },
        {
          "output_type": "stream",
          "name": "stdout",
          "text": [
            "[CV 3/3; 38/60] END algorithm=kd_tree, n_neighbors=5, weights=distance;, score=0.868 total time=   0.6s\n",
            "[CV 1/3; 39/60] START algorithm=kd_tree, n_neighbors=5, weights=None............\n"
          ]
        },
        {
          "output_type": "stream",
          "name": "stderr",
          "text": [
            "/usr/local/lib/python3.10/dist-packages/sklearn/neighbors/_base.py:583: UserWarning: cannot use tree with sparse input: using brute force\n",
            "  warnings.warn(\"cannot use tree with sparse input: using brute force\")\n"
          ]
        },
        {
          "output_type": "stream",
          "name": "stdout",
          "text": [
            "[CV 1/3; 39/60] END algorithm=kd_tree, n_neighbors=5, weights=None;, score=0.854 total time=   0.7s\n",
            "[CV 2/3; 39/60] START algorithm=kd_tree, n_neighbors=5, weights=None............\n"
          ]
        },
        {
          "output_type": "stream",
          "name": "stderr",
          "text": [
            "/usr/local/lib/python3.10/dist-packages/sklearn/neighbors/_base.py:583: UserWarning: cannot use tree with sparse input: using brute force\n",
            "  warnings.warn(\"cannot use tree with sparse input: using brute force\")\n"
          ]
        },
        {
          "output_type": "stream",
          "name": "stdout",
          "text": [
            "[CV 2/3; 39/60] END algorithm=kd_tree, n_neighbors=5, weights=None;, score=0.866 total time=   0.7s\n",
            "[CV 3/3; 39/60] START algorithm=kd_tree, n_neighbors=5, weights=None............\n"
          ]
        },
        {
          "output_type": "stream",
          "name": "stderr",
          "text": [
            "/usr/local/lib/python3.10/dist-packages/sklearn/neighbors/_base.py:583: UserWarning: cannot use tree with sparse input: using brute force\n",
            "  warnings.warn(\"cannot use tree with sparse input: using brute force\")\n"
          ]
        },
        {
          "output_type": "stream",
          "name": "stdout",
          "text": [
            "[CV 3/3; 39/60] END algorithm=kd_tree, n_neighbors=5, weights=None;, score=0.870 total time=   0.7s\n",
            "[CV 1/3; 40/60] START algorithm=kd_tree, n_neighbors=7, weights=uniform.........\n"
          ]
        },
        {
          "output_type": "stream",
          "name": "stderr",
          "text": [
            "/usr/local/lib/python3.10/dist-packages/sklearn/neighbors/_base.py:583: UserWarning: cannot use tree with sparse input: using brute force\n",
            "  warnings.warn(\"cannot use tree with sparse input: using brute force\")\n"
          ]
        },
        {
          "output_type": "stream",
          "name": "stdout",
          "text": [
            "[CV 1/3; 40/60] END algorithm=kd_tree, n_neighbors=7, weights=uniform;, score=0.858 total time=   0.6s\n",
            "[CV 2/3; 40/60] START algorithm=kd_tree, n_neighbors=7, weights=uniform.........\n"
          ]
        },
        {
          "output_type": "stream",
          "name": "stderr",
          "text": [
            "/usr/local/lib/python3.10/dist-packages/sklearn/neighbors/_base.py:583: UserWarning: cannot use tree with sparse input: using brute force\n",
            "  warnings.warn(\"cannot use tree with sparse input: using brute force\")\n"
          ]
        },
        {
          "output_type": "stream",
          "name": "stdout",
          "text": [
            "[CV 2/3; 40/60] END algorithm=kd_tree, n_neighbors=7, weights=uniform;, score=0.867 total time=   0.7s\n",
            "[CV 3/3; 40/60] START algorithm=kd_tree, n_neighbors=7, weights=uniform.........\n"
          ]
        },
        {
          "output_type": "stream",
          "name": "stderr",
          "text": [
            "/usr/local/lib/python3.10/dist-packages/sklearn/neighbors/_base.py:583: UserWarning: cannot use tree with sparse input: using brute force\n",
            "  warnings.warn(\"cannot use tree with sparse input: using brute force\")\n"
          ]
        },
        {
          "output_type": "stream",
          "name": "stdout",
          "text": [
            "[CV 3/3; 40/60] END algorithm=kd_tree, n_neighbors=7, weights=uniform;, score=0.872 total time=   0.7s\n",
            "[CV 1/3; 41/60] START algorithm=kd_tree, n_neighbors=7, weights=distance........\n"
          ]
        },
        {
          "output_type": "stream",
          "name": "stderr",
          "text": [
            "/usr/local/lib/python3.10/dist-packages/sklearn/neighbors/_base.py:583: UserWarning: cannot use tree with sparse input: using brute force\n",
            "  warnings.warn(\"cannot use tree with sparse input: using brute force\")\n"
          ]
        },
        {
          "output_type": "stream",
          "name": "stdout",
          "text": [
            "[CV 1/3; 41/60] END algorithm=kd_tree, n_neighbors=7, weights=distance;, score=0.861 total time=   0.7s\n",
            "[CV 2/3; 41/60] START algorithm=kd_tree, n_neighbors=7, weights=distance........\n"
          ]
        },
        {
          "output_type": "stream",
          "name": "stderr",
          "text": [
            "/usr/local/lib/python3.10/dist-packages/sklearn/neighbors/_base.py:583: UserWarning: cannot use tree with sparse input: using brute force\n",
            "  warnings.warn(\"cannot use tree with sparse input: using brute force\")\n"
          ]
        },
        {
          "output_type": "stream",
          "name": "stdout",
          "text": [
            "[CV 2/3; 41/60] END algorithm=kd_tree, n_neighbors=7, weights=distance;, score=0.868 total time=   0.7s\n",
            "[CV 3/3; 41/60] START algorithm=kd_tree, n_neighbors=7, weights=distance........\n"
          ]
        },
        {
          "output_type": "stream",
          "name": "stderr",
          "text": [
            "/usr/local/lib/python3.10/dist-packages/sklearn/neighbors/_base.py:583: UserWarning: cannot use tree with sparse input: using brute force\n",
            "  warnings.warn(\"cannot use tree with sparse input: using brute force\")\n"
          ]
        },
        {
          "output_type": "stream",
          "name": "stdout",
          "text": [
            "[CV 3/3; 41/60] END algorithm=kd_tree, n_neighbors=7, weights=distance;, score=0.872 total time=   0.7s\n",
            "[CV 1/3; 42/60] START algorithm=kd_tree, n_neighbors=7, weights=None............\n"
          ]
        },
        {
          "output_type": "stream",
          "name": "stderr",
          "text": [
            "/usr/local/lib/python3.10/dist-packages/sklearn/neighbors/_base.py:583: UserWarning: cannot use tree with sparse input: using brute force\n",
            "  warnings.warn(\"cannot use tree with sparse input: using brute force\")\n"
          ]
        },
        {
          "output_type": "stream",
          "name": "stdout",
          "text": [
            "[CV 1/3; 42/60] END algorithm=kd_tree, n_neighbors=7, weights=None;, score=0.858 total time=   0.7s\n",
            "[CV 2/3; 42/60] START algorithm=kd_tree, n_neighbors=7, weights=None............\n"
          ]
        },
        {
          "output_type": "stream",
          "name": "stderr",
          "text": [
            "/usr/local/lib/python3.10/dist-packages/sklearn/neighbors/_base.py:583: UserWarning: cannot use tree with sparse input: using brute force\n",
            "  warnings.warn(\"cannot use tree with sparse input: using brute force\")\n"
          ]
        },
        {
          "output_type": "stream",
          "name": "stdout",
          "text": [
            "[CV 2/3; 42/60] END algorithm=kd_tree, n_neighbors=7, weights=None;, score=0.867 total time=   0.7s\n",
            "[CV 3/3; 42/60] START algorithm=kd_tree, n_neighbors=7, weights=None............\n"
          ]
        },
        {
          "output_type": "stream",
          "name": "stderr",
          "text": [
            "/usr/local/lib/python3.10/dist-packages/sklearn/neighbors/_base.py:583: UserWarning: cannot use tree with sparse input: using brute force\n",
            "  warnings.warn(\"cannot use tree with sparse input: using brute force\")\n"
          ]
        },
        {
          "output_type": "stream",
          "name": "stdout",
          "text": [
            "[CV 3/3; 42/60] END algorithm=kd_tree, n_neighbors=7, weights=None;, score=0.872 total time=   0.7s\n",
            "[CV 1/3; 43/60] START algorithm=kd_tree, n_neighbors=10, weights=uniform........\n"
          ]
        },
        {
          "output_type": "stream",
          "name": "stderr",
          "text": [
            "/usr/local/lib/python3.10/dist-packages/sklearn/neighbors/_base.py:583: UserWarning: cannot use tree with sparse input: using brute force\n",
            "  warnings.warn(\"cannot use tree with sparse input: using brute force\")\n"
          ]
        },
        {
          "output_type": "stream",
          "name": "stdout",
          "text": [
            "[CV 1/3; 43/60] END algorithm=kd_tree, n_neighbors=10, weights=uniform;, score=0.862 total time=   0.6s\n",
            "[CV 2/3; 43/60] START algorithm=kd_tree, n_neighbors=10, weights=uniform........\n"
          ]
        },
        {
          "output_type": "stream",
          "name": "stderr",
          "text": [
            "/usr/local/lib/python3.10/dist-packages/sklearn/neighbors/_base.py:583: UserWarning: cannot use tree with sparse input: using brute force\n",
            "  warnings.warn(\"cannot use tree with sparse input: using brute force\")\n"
          ]
        },
        {
          "output_type": "stream",
          "name": "stdout",
          "text": [
            "[CV 2/3; 43/60] END algorithm=kd_tree, n_neighbors=10, weights=uniform;, score=0.876 total time=   0.6s\n",
            "[CV 3/3; 43/60] START algorithm=kd_tree, n_neighbors=10, weights=uniform........\n"
          ]
        },
        {
          "output_type": "stream",
          "name": "stderr",
          "text": [
            "/usr/local/lib/python3.10/dist-packages/sklearn/neighbors/_base.py:583: UserWarning: cannot use tree with sparse input: using brute force\n",
            "  warnings.warn(\"cannot use tree with sparse input: using brute force\")\n"
          ]
        },
        {
          "output_type": "stream",
          "name": "stdout",
          "text": [
            "[CV 3/3; 43/60] END algorithm=kd_tree, n_neighbors=10, weights=uniform;, score=0.875 total time=   0.6s\n",
            "[CV 1/3; 44/60] START algorithm=kd_tree, n_neighbors=10, weights=distance.......\n"
          ]
        },
        {
          "output_type": "stream",
          "name": "stderr",
          "text": [
            "/usr/local/lib/python3.10/dist-packages/sklearn/neighbors/_base.py:583: UserWarning: cannot use tree with sparse input: using brute force\n",
            "  warnings.warn(\"cannot use tree with sparse input: using brute force\")\n"
          ]
        },
        {
          "output_type": "stream",
          "name": "stdout",
          "text": [
            "[CV 1/3; 44/60] END algorithm=kd_tree, n_neighbors=10, weights=distance;, score=0.865 total time=   0.6s\n",
            "[CV 2/3; 44/60] START algorithm=kd_tree, n_neighbors=10, weights=distance.......\n"
          ]
        },
        {
          "output_type": "stream",
          "name": "stderr",
          "text": [
            "/usr/local/lib/python3.10/dist-packages/sklearn/neighbors/_base.py:583: UserWarning: cannot use tree with sparse input: using brute force\n",
            "  warnings.warn(\"cannot use tree with sparse input: using brute force\")\n"
          ]
        },
        {
          "output_type": "stream",
          "name": "stdout",
          "text": [
            "[CV 2/3; 44/60] END algorithm=kd_tree, n_neighbors=10, weights=distance;, score=0.876 total time=   0.6s\n",
            "[CV 3/3; 44/60] START algorithm=kd_tree, n_neighbors=10, weights=distance.......\n"
          ]
        },
        {
          "output_type": "stream",
          "name": "stderr",
          "text": [
            "/usr/local/lib/python3.10/dist-packages/sklearn/neighbors/_base.py:583: UserWarning: cannot use tree with sparse input: using brute force\n",
            "  warnings.warn(\"cannot use tree with sparse input: using brute force\")\n"
          ]
        },
        {
          "output_type": "stream",
          "name": "stdout",
          "text": [
            "[CV 3/3; 44/60] END algorithm=kd_tree, n_neighbors=10, weights=distance;, score=0.874 total time=   0.6s\n",
            "[CV 1/3; 45/60] START algorithm=kd_tree, n_neighbors=10, weights=None...........\n"
          ]
        },
        {
          "output_type": "stream",
          "name": "stderr",
          "text": [
            "/usr/local/lib/python3.10/dist-packages/sklearn/neighbors/_base.py:583: UserWarning: cannot use tree with sparse input: using brute force\n",
            "  warnings.warn(\"cannot use tree with sparse input: using brute force\")\n"
          ]
        },
        {
          "output_type": "stream",
          "name": "stdout",
          "text": [
            "[CV 1/3; 45/60] END algorithm=kd_tree, n_neighbors=10, weights=None;, score=0.862 total time=   0.7s\n",
            "[CV 2/3; 45/60] START algorithm=kd_tree, n_neighbors=10, weights=None...........\n"
          ]
        },
        {
          "output_type": "stream",
          "name": "stderr",
          "text": [
            "/usr/local/lib/python3.10/dist-packages/sklearn/neighbors/_base.py:583: UserWarning: cannot use tree with sparse input: using brute force\n",
            "  warnings.warn(\"cannot use tree with sparse input: using brute force\")\n"
          ]
        },
        {
          "output_type": "stream",
          "name": "stdout",
          "text": [
            "[CV 2/3; 45/60] END algorithm=kd_tree, n_neighbors=10, weights=None;, score=0.876 total time=   0.7s\n",
            "[CV 3/3; 45/60] START algorithm=kd_tree, n_neighbors=10, weights=None...........\n"
          ]
        },
        {
          "output_type": "stream",
          "name": "stderr",
          "text": [
            "/usr/local/lib/python3.10/dist-packages/sklearn/neighbors/_base.py:583: UserWarning: cannot use tree with sparse input: using brute force\n",
            "  warnings.warn(\"cannot use tree with sparse input: using brute force\")\n"
          ]
        },
        {
          "output_type": "stream",
          "name": "stdout",
          "text": [
            "[CV 3/3; 45/60] END algorithm=kd_tree, n_neighbors=10, weights=None;, score=0.875 total time=   0.7s\n",
            "[CV 1/3; 46/60] START algorithm=brute, n_neighbors=1, weights=uniform...........\n",
            "[CV 1/3; 46/60] END algorithm=brute, n_neighbors=1, weights=uniform;, score=0.817 total time=   0.5s\n",
            "[CV 2/3; 46/60] START algorithm=brute, n_neighbors=1, weights=uniform...........\n",
            "[CV 2/3; 46/60] END algorithm=brute, n_neighbors=1, weights=uniform;, score=0.810 total time=   0.5s\n",
            "[CV 3/3; 46/60] START algorithm=brute, n_neighbors=1, weights=uniform...........\n",
            "[CV 3/3; 46/60] END algorithm=brute, n_neighbors=1, weights=uniform;, score=0.810 total time=   0.5s\n",
            "[CV 1/3; 47/60] START algorithm=brute, n_neighbors=1, weights=distance..........\n",
            "[CV 1/3; 47/60] END algorithm=brute, n_neighbors=1, weights=distance;, score=0.817 total time=   0.5s\n",
            "[CV 2/3; 47/60] START algorithm=brute, n_neighbors=1, weights=distance..........\n",
            "[CV 2/3; 47/60] END algorithm=brute, n_neighbors=1, weights=distance;, score=0.810 total time=   0.5s\n",
            "[CV 3/3; 47/60] START algorithm=brute, n_neighbors=1, weights=distance..........\n",
            "[CV 3/3; 47/60] END algorithm=brute, n_neighbors=1, weights=distance;, score=0.810 total time=   0.6s\n",
            "[CV 1/3; 48/60] START algorithm=brute, n_neighbors=1, weights=None..............\n",
            "[CV 1/3; 48/60] END algorithm=brute, n_neighbors=1, weights=None;, score=0.817 total time=   0.8s\n",
            "[CV 2/3; 48/60] START algorithm=brute, n_neighbors=1, weights=None..............\n",
            "[CV 2/3; 48/60] END algorithm=brute, n_neighbors=1, weights=None;, score=0.810 total time=   0.8s\n",
            "[CV 3/3; 48/60] START algorithm=brute, n_neighbors=1, weights=None..............\n",
            "[CV 3/3; 48/60] END algorithm=brute, n_neighbors=1, weights=None;, score=0.810 total time=   0.8s\n",
            "[CV 1/3; 49/60] START algorithm=brute, n_neighbors=3, weights=uniform...........\n",
            "[CV 1/3; 49/60] END algorithm=brute, n_neighbors=3, weights=uniform;, score=0.846 total time=   0.7s\n",
            "[CV 2/3; 49/60] START algorithm=brute, n_neighbors=3, weights=uniform...........\n",
            "[CV 2/3; 49/60] END algorithm=brute, n_neighbors=3, weights=uniform;, score=0.857 total time=   0.6s\n",
            "[CV 3/3; 49/60] START algorithm=brute, n_neighbors=3, weights=uniform...........\n",
            "[CV 3/3; 49/60] END algorithm=brute, n_neighbors=3, weights=uniform;, score=0.852 total time=   0.6s\n",
            "[CV 1/3; 50/60] START algorithm=brute, n_neighbors=3, weights=distance..........\n",
            "[CV 1/3; 50/60] END algorithm=brute, n_neighbors=3, weights=distance;, score=0.843 total time=   0.6s\n",
            "[CV 2/3; 50/60] START algorithm=brute, n_neighbors=3, weights=distance..........\n",
            "[CV 2/3; 50/60] END algorithm=brute, n_neighbors=3, weights=distance;, score=0.854 total time=   0.6s\n",
            "[CV 3/3; 50/60] START algorithm=brute, n_neighbors=3, weights=distance..........\n",
            "[CV 3/3; 50/60] END algorithm=brute, n_neighbors=3, weights=distance;, score=0.847 total time=   0.6s\n",
            "[CV 1/3; 51/60] START algorithm=brute, n_neighbors=3, weights=None..............\n",
            "[CV 1/3; 51/60] END algorithm=brute, n_neighbors=3, weights=None;, score=0.846 total time=   0.7s\n",
            "[CV 2/3; 51/60] START algorithm=brute, n_neighbors=3, weights=None..............\n",
            "[CV 2/3; 51/60] END algorithm=brute, n_neighbors=3, weights=None;, score=0.857 total time=   0.7s\n",
            "[CV 3/3; 51/60] START algorithm=brute, n_neighbors=3, weights=None..............\n",
            "[CV 3/3; 51/60] END algorithm=brute, n_neighbors=3, weights=None;, score=0.852 total time=   0.6s\n",
            "[CV 1/3; 52/60] START algorithm=brute, n_neighbors=5, weights=uniform...........\n",
            "[CV 1/3; 52/60] END algorithm=brute, n_neighbors=5, weights=uniform;, score=0.854 total time=   0.6s\n",
            "[CV 2/3; 52/60] START algorithm=brute, n_neighbors=5, weights=uniform...........\n",
            "[CV 2/3; 52/60] END algorithm=brute, n_neighbors=5, weights=uniform;, score=0.866 total time=   0.6s\n",
            "[CV 3/3; 52/60] START algorithm=brute, n_neighbors=5, weights=uniform...........\n",
            "[CV 3/3; 52/60] END algorithm=brute, n_neighbors=5, weights=uniform;, score=0.870 total time=   0.6s\n",
            "[CV 1/3; 53/60] START algorithm=brute, n_neighbors=5, weights=distance..........\n",
            "[CV 1/3; 53/60] END algorithm=brute, n_neighbors=5, weights=distance;, score=0.854 total time=   0.6s\n",
            "[CV 2/3; 53/60] START algorithm=brute, n_neighbors=5, weights=distance..........\n",
            "[CV 2/3; 53/60] END algorithm=brute, n_neighbors=5, weights=distance;, score=0.865 total time=   0.6s\n",
            "[CV 3/3; 53/60] START algorithm=brute, n_neighbors=5, weights=distance..........\n",
            "[CV 3/3; 53/60] END algorithm=brute, n_neighbors=5, weights=distance;, score=0.868 total time=   0.6s\n",
            "[CV 1/3; 54/60] START algorithm=brute, n_neighbors=5, weights=None..............\n",
            "[CV 1/3; 54/60] END algorithm=brute, n_neighbors=5, weights=None;, score=0.854 total time=   0.7s\n",
            "[CV 2/3; 54/60] START algorithm=brute, n_neighbors=5, weights=None..............\n",
            "[CV 2/3; 54/60] END algorithm=brute, n_neighbors=5, weights=None;, score=0.866 total time=   0.7s\n",
            "[CV 3/3; 54/60] START algorithm=brute, n_neighbors=5, weights=None..............\n",
            "[CV 3/3; 54/60] END algorithm=brute, n_neighbors=5, weights=None;, score=0.870 total time=   0.8s\n",
            "[CV 1/3; 55/60] START algorithm=brute, n_neighbors=7, weights=uniform...........\n",
            "[CV 1/3; 55/60] END algorithm=brute, n_neighbors=7, weights=uniform;, score=0.858 total time=   0.7s\n",
            "[CV 2/3; 55/60] START algorithm=brute, n_neighbors=7, weights=uniform...........\n",
            "[CV 2/3; 55/60] END algorithm=brute, n_neighbors=7, weights=uniform;, score=0.867 total time=   0.8s\n",
            "[CV 3/3; 55/60] START algorithm=brute, n_neighbors=7, weights=uniform...........\n",
            "[CV 3/3; 55/60] END algorithm=brute, n_neighbors=7, weights=uniform;, score=0.872 total time=   0.8s\n",
            "[CV 1/3; 56/60] START algorithm=brute, n_neighbors=7, weights=distance..........\n",
            "[CV 1/3; 56/60] END algorithm=brute, n_neighbors=7, weights=distance;, score=0.861 total time=   0.7s\n",
            "[CV 2/3; 56/60] START algorithm=brute, n_neighbors=7, weights=distance..........\n",
            "[CV 2/3; 56/60] END algorithm=brute, n_neighbors=7, weights=distance;, score=0.868 total time=   0.6s\n",
            "[CV 3/3; 56/60] START algorithm=brute, n_neighbors=7, weights=distance..........\n",
            "[CV 3/3; 56/60] END algorithm=brute, n_neighbors=7, weights=distance;, score=0.872 total time=   0.6s\n",
            "[CV 1/3; 57/60] START algorithm=brute, n_neighbors=7, weights=None..............\n",
            "[CV 1/3; 57/60] END algorithm=brute, n_neighbors=7, weights=None;, score=0.858 total time=   0.7s\n",
            "[CV 2/3; 57/60] START algorithm=brute, n_neighbors=7, weights=None..............\n",
            "[CV 2/3; 57/60] END algorithm=brute, n_neighbors=7, weights=None;, score=0.867 total time=   0.7s\n",
            "[CV 3/3; 57/60] START algorithm=brute, n_neighbors=7, weights=None..............\n",
            "[CV 3/3; 57/60] END algorithm=brute, n_neighbors=7, weights=None;, score=0.872 total time=   0.7s\n",
            "[CV 1/3; 58/60] START algorithm=brute, n_neighbors=10, weights=uniform..........\n",
            "[CV 1/3; 58/60] END algorithm=brute, n_neighbors=10, weights=uniform;, score=0.862 total time=   0.6s\n",
            "[CV 2/3; 58/60] START algorithm=brute, n_neighbors=10, weights=uniform..........\n",
            "[CV 2/3; 58/60] END algorithm=brute, n_neighbors=10, weights=uniform;, score=0.876 total time=   0.6s\n",
            "[CV 3/3; 58/60] START algorithm=brute, n_neighbors=10, weights=uniform..........\n",
            "[CV 3/3; 58/60] END algorithm=brute, n_neighbors=10, weights=uniform;, score=0.875 total time=   0.6s\n",
            "[CV 1/3; 59/60] START algorithm=brute, n_neighbors=10, weights=distance.........\n",
            "[CV 1/3; 59/60] END algorithm=brute, n_neighbors=10, weights=distance;, score=0.865 total time=   0.6s\n",
            "[CV 2/3; 59/60] START algorithm=brute, n_neighbors=10, weights=distance.........\n",
            "[CV 2/3; 59/60] END algorithm=brute, n_neighbors=10, weights=distance;, score=0.876 total time=   0.6s\n",
            "[CV 3/3; 59/60] START algorithm=brute, n_neighbors=10, weights=distance.........\n",
            "[CV 3/3; 59/60] END algorithm=brute, n_neighbors=10, weights=distance;, score=0.874 total time=   0.6s\n",
            "[CV 1/3; 60/60] START algorithm=brute, n_neighbors=10, weights=None.............\n",
            "[CV 1/3; 60/60] END algorithm=brute, n_neighbors=10, weights=None;, score=0.862 total time=   0.7s\n",
            "[CV 2/3; 60/60] START algorithm=brute, n_neighbors=10, weights=None.............\n",
            "[CV 2/3; 60/60] END algorithm=brute, n_neighbors=10, weights=None;, score=0.876 total time=   0.7s\n",
            "[CV 3/3; 60/60] START algorithm=brute, n_neighbors=10, weights=None.............\n",
            "[CV 3/3; 60/60] END algorithm=brute, n_neighbors=10, weights=None;, score=0.875 total time=   0.7s\n"
          ]
        },
        {
          "output_type": "stream",
          "name": "stderr",
          "text": [
            "/usr/local/lib/python3.10/dist-packages/numpy/ma/core.py:2820: RuntimeWarning: invalid value encountered in cast\n",
            "  _data = np.array(data, dtype=dtype, copy=copy,\n"
          ]
        }
      ]
    },
    {
      "cell_type": "code",
      "source": [
        "print(f\"Время поиска гиперпараметров: {grid_time_knn:.5f}\")"
      ],
      "metadata": {
        "colab": {
          "base_uri": "https://localhost:8080/"
        },
        "id": "bw4w1BaVHJ6L",
        "outputId": "5eb7b598-f5cc-42f0-bcfd-5dfdbf190613"
      },
      "execution_count": null,
      "outputs": [
        {
          "output_type": "stream",
          "name": "stdout",
          "text": [
            "Время поиска гиперпараметров: 124.03024\n"
          ]
        }
      ]
    },
    {
      "cell_type": "code",
      "source": [
        "# вывод лучших параметров и метрики accuracy при этих параметрах\n",
        "print(f\"Лучшие параметры для KNN : {grid_search_KNN.best_params_}\")\n",
        "print(f\"Лучшая оценка accuracy: {grid_search_KNN.best_score_:.5f}\")"
      ],
      "metadata": {
        "colab": {
          "base_uri": "https://localhost:8080/"
        },
        "id": "QQEyQRJ1HJ2J",
        "outputId": "8f75f528-7319-4180-8e17-6b17bd6bdfc7"
      },
      "execution_count": null,
      "outputs": [
        {
          "output_type": "stream",
          "name": "stdout",
          "text": [
            "Лучшие параметры для KNN : {'algorithm': 'auto', 'n_neighbors': 10, 'weights': 'distance'}\n",
            "Лучшая оценка accuracy: 0.87164\n"
          ]
        }
      ]
    },
    {
      "cell_type": "code",
      "source": [
        "start_time = time.time()\n",
        "\n",
        "KNN_model = KNeighborsClassifier(n_neighbors=10, algorithm=\"auto\", weights=\"distance\")\n",
        "KNN_model.fit(x_train, y_train)\n",
        "y_pred_knn = KNN_model.predict(x_test)\n",
        "\n",
        "end_time = time.time()\n",
        "train_time_knn = end_time - start_time\n",
        "\n",
        "print(f\"Время обучения модели: {train_time_knn:.5f}\")"
      ],
      "metadata": {
        "colab": {
          "base_uri": "https://localhost:8080/"
        },
        "id": "7JhJ_avnHJyZ",
        "outputId": "a21835aa-1644-40e1-8b01-7efc421640fd"
      },
      "execution_count": null,
      "outputs": [
        {
          "output_type": "stream",
          "name": "stdout",
          "text": [
            "Время обучения модели: 0.71942\n"
          ]
        }
      ]
    },
    {
      "cell_type": "code",
      "source": [
        "start_time = time.time()\n",
        "\n",
        "# вычисление метрик\n",
        "accuracy_knn = accuracy_score(y_test, y_pred_knn)\n",
        "f1_knn = f1_score(y_test, y_pred_knn, average = \"weighted\")\n",
        "\n",
        "print(f\"Точность модели = {accuracy_knn:.5f}\")\n",
        "print(f\"Метрика f1 = {f1_knn:.5f}\")\n",
        "\n",
        "end_time = time.time()\n",
        "test_time_knn = end_time - start_time\n",
        "print(f\"Время проверки на тестовых данных: {test_time_knn:.5f}\")"
      ],
      "metadata": {
        "colab": {
          "base_uri": "https://localhost:8080/"
        },
        "id": "LTrG8nMQHJu4",
        "outputId": "ea403cfb-620d-4f9d-feba-794b570e4a19"
      },
      "execution_count": null,
      "outputs": [
        {
          "output_type": "stream",
          "name": "stdout",
          "text": [
            "Точность модели = 0.88425\n",
            "Метрика f1 = 0.86317\n",
            "Время проверки на тестовых данных: 0.00537\n"
          ]
        }
      ]
    },
    {
      "cell_type": "markdown",
      "source": [
        "### Метрики моделей"
      ],
      "metadata": {
        "id": "eHOzowNLSFgq"
      }
    },
    {
      "cell_type": "code",
      "source": [
        "metrics = pd.DataFrame(\n",
        "    index = [\"Linear SVC\", \"Logistic Regression\", \"SGD Classifier\", \"KNN\"],\n",
        "    data = {\"grid_time\": [grid_time_linear_svc, grid_time_lr, grid_time_sgd, grid_time_knn],\n",
        "            \"train_time\": [train_time_linear_svc, train_time_lr, train_time_sgd, train_time_knn],\n",
        "            \"test_time\": [test_time_linear_scv, test_time_lr, test_time_sgd,test_time_knn ],\n",
        "            \"accuracy\": [accuracy_lscv, accuracy_lr, accuracy_sgd, accuracy_knn],\n",
        "            \"f1\": [f1_lscv, f1_lr, f1_sgd, f1_knn]}\n",
        ")\n",
        "metrics"
      ],
      "metadata": {
        "colab": {
          "base_uri": "https://localhost:8080/",
          "height": 174
        },
        "id": "IYPTHWRkSRPx",
        "outputId": "88306c8c-8cf8-44ab-d7b9-e1080dd5add2"
      },
      "execution_count": null,
      "outputs": [
        {
          "output_type": "execute_result",
          "data": {
            "text/plain": [
              "                      grid_time  train_time  test_time  accuracy        f1\n",
              "Linear SVC            19.456407    0.328222   0.011378  0.932032  0.910672\n",
              "Logistic Regression   59.255195    2.712930   0.011407  0.927995  0.908235\n",
              "SGD Classifier       358.054731    0.377689   0.009624  0.928668  0.908910\n",
              "KNN                  124.030241    0.719419   0.005370  0.884253  0.863166"
            ],
            "text/html": [
              "\n",
              "  <div id=\"df-428c0594-6111-434f-81e1-959b8f02a6ea\" class=\"colab-df-container\">\n",
              "    <div>\n",
              "<style scoped>\n",
              "    .dataframe tbody tr th:only-of-type {\n",
              "        vertical-align: middle;\n",
              "    }\n",
              "\n",
              "    .dataframe tbody tr th {\n",
              "        vertical-align: top;\n",
              "    }\n",
              "\n",
              "    .dataframe thead th {\n",
              "        text-align: right;\n",
              "    }\n",
              "</style>\n",
              "<table border=\"1\" class=\"dataframe\">\n",
              "  <thead>\n",
              "    <tr style=\"text-align: right;\">\n",
              "      <th></th>\n",
              "      <th>grid_time</th>\n",
              "      <th>train_time</th>\n",
              "      <th>test_time</th>\n",
              "      <th>accuracy</th>\n",
              "      <th>f1</th>\n",
              "    </tr>\n",
              "  </thead>\n",
              "  <tbody>\n",
              "    <tr>\n",
              "      <th>Linear SVC</th>\n",
              "      <td>19.456407</td>\n",
              "      <td>0.328222</td>\n",
              "      <td>0.011378</td>\n",
              "      <td>0.932032</td>\n",
              "      <td>0.910672</td>\n",
              "    </tr>\n",
              "    <tr>\n",
              "      <th>Logistic Regression</th>\n",
              "      <td>59.255195</td>\n",
              "      <td>2.712930</td>\n",
              "      <td>0.011407</td>\n",
              "      <td>0.927995</td>\n",
              "      <td>0.908235</td>\n",
              "    </tr>\n",
              "    <tr>\n",
              "      <th>SGD Classifier</th>\n",
              "      <td>358.054731</td>\n",
              "      <td>0.377689</td>\n",
              "      <td>0.009624</td>\n",
              "      <td>0.928668</td>\n",
              "      <td>0.908910</td>\n",
              "    </tr>\n",
              "    <tr>\n",
              "      <th>KNN</th>\n",
              "      <td>124.030241</td>\n",
              "      <td>0.719419</td>\n",
              "      <td>0.005370</td>\n",
              "      <td>0.884253</td>\n",
              "      <td>0.863166</td>\n",
              "    </tr>\n",
              "  </tbody>\n",
              "</table>\n",
              "</div>\n",
              "    <div class=\"colab-df-buttons\">\n",
              "\n",
              "  <div class=\"colab-df-container\">\n",
              "    <button class=\"colab-df-convert\" onclick=\"convertToInteractive('df-428c0594-6111-434f-81e1-959b8f02a6ea')\"\n",
              "            title=\"Convert this dataframe to an interactive table.\"\n",
              "            style=\"display:none;\">\n",
              "\n",
              "  <svg xmlns=\"http://www.w3.org/2000/svg\" height=\"24px\" viewBox=\"0 -960 960 960\">\n",
              "    <path d=\"M120-120v-720h720v720H120Zm60-500h600v-160H180v160Zm220 220h160v-160H400v160Zm0 220h160v-160H400v160ZM180-400h160v-160H180v160Zm440 0h160v-160H620v160ZM180-180h160v-160H180v160Zm440 0h160v-160H620v160Z\"/>\n",
              "  </svg>\n",
              "    </button>\n",
              "\n",
              "  <style>\n",
              "    .colab-df-container {\n",
              "      display:flex;\n",
              "      gap: 12px;\n",
              "    }\n",
              "\n",
              "    .colab-df-convert {\n",
              "      background-color: #E8F0FE;\n",
              "      border: none;\n",
              "      border-radius: 50%;\n",
              "      cursor: pointer;\n",
              "      display: none;\n",
              "      fill: #1967D2;\n",
              "      height: 32px;\n",
              "      padding: 0 0 0 0;\n",
              "      width: 32px;\n",
              "    }\n",
              "\n",
              "    .colab-df-convert:hover {\n",
              "      background-color: #E2EBFA;\n",
              "      box-shadow: 0px 1px 2px rgba(60, 64, 67, 0.3), 0px 1px 3px 1px rgba(60, 64, 67, 0.15);\n",
              "      fill: #174EA6;\n",
              "    }\n",
              "\n",
              "    .colab-df-buttons div {\n",
              "      margin-bottom: 4px;\n",
              "    }\n",
              "\n",
              "    [theme=dark] .colab-df-convert {\n",
              "      background-color: #3B4455;\n",
              "      fill: #D2E3FC;\n",
              "    }\n",
              "\n",
              "    [theme=dark] .colab-df-convert:hover {\n",
              "      background-color: #434B5C;\n",
              "      box-shadow: 0px 1px 3px 1px rgba(0, 0, 0, 0.15);\n",
              "      filter: drop-shadow(0px 1px 2px rgba(0, 0, 0, 0.3));\n",
              "      fill: #FFFFFF;\n",
              "    }\n",
              "  </style>\n",
              "\n",
              "    <script>\n",
              "      const buttonEl =\n",
              "        document.querySelector('#df-428c0594-6111-434f-81e1-959b8f02a6ea button.colab-df-convert');\n",
              "      buttonEl.style.display =\n",
              "        google.colab.kernel.accessAllowed ? 'block' : 'none';\n",
              "\n",
              "      async function convertToInteractive(key) {\n",
              "        const element = document.querySelector('#df-428c0594-6111-434f-81e1-959b8f02a6ea');\n",
              "        const dataTable =\n",
              "          await google.colab.kernel.invokeFunction('convertToInteractive',\n",
              "                                                    [key], {});\n",
              "        if (!dataTable) return;\n",
              "\n",
              "        const docLinkHtml = 'Like what you see? Visit the ' +\n",
              "          '<a target=\"_blank\" href=https://colab.research.google.com/notebooks/data_table.ipynb>data table notebook</a>'\n",
              "          + ' to learn more about interactive tables.';\n",
              "        element.innerHTML = '';\n",
              "        dataTable['output_type'] = 'display_data';\n",
              "        await google.colab.output.renderOutput(dataTable, element);\n",
              "        const docLink = document.createElement('div');\n",
              "        docLink.innerHTML = docLinkHtml;\n",
              "        element.appendChild(docLink);\n",
              "      }\n",
              "    </script>\n",
              "  </div>\n",
              "\n",
              "\n",
              "<div id=\"df-d7d511fa-8ecc-419d-9720-4b7e67b91389\">\n",
              "  <button class=\"colab-df-quickchart\" onclick=\"quickchart('df-d7d511fa-8ecc-419d-9720-4b7e67b91389')\"\n",
              "            title=\"Suggest charts\"\n",
              "            style=\"display:none;\">\n",
              "\n",
              "<svg xmlns=\"http://www.w3.org/2000/svg\" height=\"24px\"viewBox=\"0 0 24 24\"\n",
              "     width=\"24px\">\n",
              "    <g>\n",
              "        <path d=\"M19 3H5c-1.1 0-2 .9-2 2v14c0 1.1.9 2 2 2h14c1.1 0 2-.9 2-2V5c0-1.1-.9-2-2-2zM9 17H7v-7h2v7zm4 0h-2V7h2v10zm4 0h-2v-4h2v4z\"/>\n",
              "    </g>\n",
              "</svg>\n",
              "  </button>\n",
              "\n",
              "<style>\n",
              "  .colab-df-quickchart {\n",
              "      --bg-color: #E8F0FE;\n",
              "      --fill-color: #1967D2;\n",
              "      --hover-bg-color: #E2EBFA;\n",
              "      --hover-fill-color: #174EA6;\n",
              "      --disabled-fill-color: #AAA;\n",
              "      --disabled-bg-color: #DDD;\n",
              "  }\n",
              "\n",
              "  [theme=dark] .colab-df-quickchart {\n",
              "      --bg-color: #3B4455;\n",
              "      --fill-color: #D2E3FC;\n",
              "      --hover-bg-color: #434B5C;\n",
              "      --hover-fill-color: #FFFFFF;\n",
              "      --disabled-bg-color: #3B4455;\n",
              "      --disabled-fill-color: #666;\n",
              "  }\n",
              "\n",
              "  .colab-df-quickchart {\n",
              "    background-color: var(--bg-color);\n",
              "    border: none;\n",
              "    border-radius: 50%;\n",
              "    cursor: pointer;\n",
              "    display: none;\n",
              "    fill: var(--fill-color);\n",
              "    height: 32px;\n",
              "    padding: 0;\n",
              "    width: 32px;\n",
              "  }\n",
              "\n",
              "  .colab-df-quickchart:hover {\n",
              "    background-color: var(--hover-bg-color);\n",
              "    box-shadow: 0 1px 2px rgba(60, 64, 67, 0.3), 0 1px 3px 1px rgba(60, 64, 67, 0.15);\n",
              "    fill: var(--button-hover-fill-color);\n",
              "  }\n",
              "\n",
              "  .colab-df-quickchart-complete:disabled,\n",
              "  .colab-df-quickchart-complete:disabled:hover {\n",
              "    background-color: var(--disabled-bg-color);\n",
              "    fill: var(--disabled-fill-color);\n",
              "    box-shadow: none;\n",
              "  }\n",
              "\n",
              "  .colab-df-spinner {\n",
              "    border: 2px solid var(--fill-color);\n",
              "    border-color: transparent;\n",
              "    border-bottom-color: var(--fill-color);\n",
              "    animation:\n",
              "      spin 1s steps(1) infinite;\n",
              "  }\n",
              "\n",
              "  @keyframes spin {\n",
              "    0% {\n",
              "      border-color: transparent;\n",
              "      border-bottom-color: var(--fill-color);\n",
              "      border-left-color: var(--fill-color);\n",
              "    }\n",
              "    20% {\n",
              "      border-color: transparent;\n",
              "      border-left-color: var(--fill-color);\n",
              "      border-top-color: var(--fill-color);\n",
              "    }\n",
              "    30% {\n",
              "      border-color: transparent;\n",
              "      border-left-color: var(--fill-color);\n",
              "      border-top-color: var(--fill-color);\n",
              "      border-right-color: var(--fill-color);\n",
              "    }\n",
              "    40% {\n",
              "      border-color: transparent;\n",
              "      border-right-color: var(--fill-color);\n",
              "      border-top-color: var(--fill-color);\n",
              "    }\n",
              "    60% {\n",
              "      border-color: transparent;\n",
              "      border-right-color: var(--fill-color);\n",
              "    }\n",
              "    80% {\n",
              "      border-color: transparent;\n",
              "      border-right-color: var(--fill-color);\n",
              "      border-bottom-color: var(--fill-color);\n",
              "    }\n",
              "    90% {\n",
              "      border-color: transparent;\n",
              "      border-bottom-color: var(--fill-color);\n",
              "    }\n",
              "  }\n",
              "</style>\n",
              "\n",
              "  <script>\n",
              "    async function quickchart(key) {\n",
              "      const quickchartButtonEl =\n",
              "        document.querySelector('#' + key + ' button');\n",
              "      quickchartButtonEl.disabled = true;  // To prevent multiple clicks.\n",
              "      quickchartButtonEl.classList.add('colab-df-spinner');\n",
              "      try {\n",
              "        const charts = await google.colab.kernel.invokeFunction(\n",
              "            'suggestCharts', [key], {});\n",
              "      } catch (error) {\n",
              "        console.error('Error during call to suggestCharts:', error);\n",
              "      }\n",
              "      quickchartButtonEl.classList.remove('colab-df-spinner');\n",
              "      quickchartButtonEl.classList.add('colab-df-quickchart-complete');\n",
              "    }\n",
              "    (() => {\n",
              "      let quickchartButtonEl =\n",
              "        document.querySelector('#df-d7d511fa-8ecc-419d-9720-4b7e67b91389 button');\n",
              "      quickchartButtonEl.style.display =\n",
              "        google.colab.kernel.accessAllowed ? 'block' : 'none';\n",
              "    })();\n",
              "  </script>\n",
              "</div>\n",
              "    </div>\n",
              "  </div>\n"
            ],
            "application/vnd.google.colaboratory.intrinsic+json": {
              "type": "dataframe",
              "variable_name": "metrics",
              "summary": "{\n  \"name\": \"metrics\",\n  \"rows\": 4,\n  \"fields\": [\n    {\n      \"column\": \"grid_time\",\n      \"properties\": {\n        \"dtype\": \"number\",\n        \"std\": 151.49611837669423,\n        \"min\": 19.456406593322754,\n        \"max\": 358.0547308921814,\n        \"num_unique_values\": 4,\n        \"samples\": [\n          59.25519514083862,\n          124.03024125099182,\n          19.456406593322754\n        ],\n        \"semantic_type\": \"\",\n        \"description\": \"\"\n      }\n    },\n    {\n      \"column\": \"train_time\",\n      \"properties\": {\n        \"dtype\": \"number\",\n        \"std\": 1.132347567604857,\n        \"min\": 0.32822227478027344,\n        \"max\": 2.712930202484131,\n        \"num_unique_values\": 4,\n        \"samples\": [\n          2.712930202484131,\n          0.7194194793701172,\n          0.32822227478027344\n        ],\n        \"semantic_type\": \"\",\n        \"description\": \"\"\n      }\n    },\n    {\n      \"column\": \"test_time\",\n      \"properties\": {\n        \"dtype\": \"number\",\n        \"std\": 0.002841391051185684,\n        \"min\": 0.005370378494262695,\n        \"max\": 0.01140737533569336,\n        \"num_unique_values\": 4,\n        \"samples\": [\n          0.01140737533569336,\n          0.005370378494262695,\n          0.011377573013305664\n        ],\n        \"semantic_type\": \"\",\n        \"description\": \"\"\n      }\n    },\n    {\n      \"column\": \"accuracy\",\n      \"properties\": {\n        \"dtype\": \"number\",\n        \"std\": 0.022724644624584615,\n        \"min\": 0.8842530282637954,\n        \"max\": 0.9320323014804845,\n        \"num_unique_values\": 4,\n        \"samples\": [\n          0.9279946164199192,\n          0.8842530282637954,\n          0.9320323014804845\n        ],\n        \"semantic_type\": \"\",\n        \"description\": \"\"\n      }\n    },\n    {\n      \"column\": \"f1\",\n      \"properties\": {\n        \"dtype\": \"number\",\n        \"std\": 0.023076277820310048,\n        \"min\": 0.8631655652582602,\n        \"max\": 0.9106721564978145,\n        \"num_unique_values\": 4,\n        \"samples\": [\n          0.9082349853355429,\n          0.8631655652582602,\n          0.9106721564978145\n        ],\n        \"semantic_type\": \"\",\n        \"description\": \"\"\n      }\n    }\n  ]\n}"
            }
          },
          "metadata": {},
          "execution_count": 76
        }
      ]
    },
    {
      "cell_type": "markdown",
      "source": [
        "**Вывод:**\n",
        "\n",
        "Смотря на таблицу с вывдом времени выполнения и метрик, можно сказать:\n",
        "* дольше всего искались параметры для модели `SGD Classifier`;\n",
        "* дольше всего обучалась модель `Logistic Regression`;\n",
        "* предсказание на тестовых данных все модели выполнили достаточно быстро;\n",
        "* точность всех моделей выше `0.88`;\n",
        "* наибольшая точность у `Linear SVC` - `0.93`;\n",
        "* наивысшая метрика `f1` у `Linear SVC` - `0.91`, наименьшая - `KNN` - `0.86`.\n",
        "\n",
        "Т.о. побеждает в гонке - `Linear SVC`!!\n",
        "\n",
        "Так как модели показали достаточную точность на несбалансированных данных - смысла делать балансировку нет."
      ],
      "metadata": {
        "id": "y6WCSfLuUi8B"
      }
    },
    {
      "cell_type": "markdown",
      "source": [
        "Проверим работу моделей на отдельных отзывах. Для этого возьмем отзывы, которые не попали в первоначальную выборку, векторизируем их и проверим работу каждой модели."
      ],
      "metadata": {
        "id": "aUv7dX8tYc5I"
      }
    },
    {
      "cell_type": "code",
      "source": [
        "# задаем несколько отзывов\n",
        "# 2\n",
        "test_review_1 = \"Хотел купить у них полис осаго. Приехал в офис СОГАЗ специально пораньше, в 11 утра,  в итоге уехал через 3.5 часа так и не купив ОСАГО. Девочки в офисе специально очень медленно принимают людей, из-за чего в офисе длинная очередь которой нет конца и края. Мужики сами уезжают не дождавшись свой очереди.  Не тратьте свое время. Все равно осаго купить в Согазе не получится.\"\n",
        "# 1\n",
        "test_review_2 = 'После продажи автомобиля приехал в офис компании в г Дмитров для расторжения договора ОСАГО заключенного в другом регионе. Оформили все довольно быстро. Выбрал возврат средств на счет, чтобы не ехать в офис второй раз. Сказали, что деньги поступят в течение 90 дней. Подождал 3 месяца, но денег так и не поступило. Решил воспользоваться услугами контактного центра. Похоже был обнаружен самый бестолковый кол-центр. Никакой помощи, а лишь ответ: \"Данных по другому региону нет, обратитесь в Дмитров\". В офис звонить, где я оформлял заявление бессмысленно, потому что сотрудники офиса не подходят к телефону. В субботу сотрудника не бывает, в рабочий день попасть туда нет возможности. Вот прошел уже почти 4 месяц. Если Вы задумываетесь стать клиентом этой компании, подумайте очень хорошо, потому что для решения любого даже небольшого вопроса, Вам как минимум придется ехать в офис и стоять в очереди, потому что функции кол-центра этой компании мне остались непонятны.'\n",
        "# 5\n",
        "test_review_3 = \"Хотел поблагодарить команду Тинькофф Страхование. Несколько раз оформлял полисы для заграницы (в 2014 и 2015), слава богу не понадобились, но проблем при оформлении через сайт не было. В визовом центре вопросов тоже не возникло. Даже застраховал в этом году квартиру, когда лопнула труба - позвонил, объяснили какие документы нужны, дольше собирал справки в ЖЭК, а в страховую просто отправил скан-копии. Друзьям и родственникам рекомендую, т.к. сам не вижу разницы в новой онлайн компании. До этого страховался в Альфе и Ингосе. Но здесь удобнее и сервис лучше, за что спасибо! Удачи новому проекту Олега и всей команде!\""
      ],
      "metadata": {
        "id": "igaeUYFgSQyq"
      },
      "execution_count": null,
      "outputs": []
    },
    {
      "cell_type": "code",
      "source": [
        "# представляем отзывы в виде векторов\n",
        "vector_test_review_1 = vectorizer.transform([test_review_1])\n",
        "vector_test_review_2 = vectorizer.transform([test_review_2])\n",
        "vector_test_review_3 = vectorizer.transform([test_review_3])\n",
        "\n",
        "# собираем предсказания моделей по отзывам\n",
        "test_prediction_1_lsvc = linear_svc_model.predict(vector_test_review_1)\n",
        "test_prediction_2_lsvc = linear_svc_model.predict(vector_test_review_2)\n",
        "test_prediction_3_lsvc = linear_svc_model.predict(vector_test_review_3)\n",
        "\n",
        "test_prediction_1_lr = lr_model.predict(vector_test_review_1)\n",
        "test_prediction_2_lr = lr_model.predict(vector_test_review_2)\n",
        "test_prediction_3_lr = lr_model.predict(vector_test_review_3)\n",
        "\n",
        "test_prediction_1_sgd = SGD_model.predict(vector_test_review_1)\n",
        "test_prediction_2_sgd = SGD_model.predict(vector_test_review_2)\n",
        "test_prediction_3_sgd = SGD_model.predict(vector_test_review_3)\n",
        "\n",
        "test_prediction_1_knn = KNN_model.predict(vector_test_review_1)\n",
        "test_prediction_2_knn = KNN_model.predict(vector_test_review_2)\n",
        "test_prediction_3_knn = KNN_model.predict(vector_test_review_3)\n",
        "\n",
        "predicted_rates = pd.DataFrame(\n",
        "    index = [\"test_review_1\", \"test_review_2\", \"test_review_3\"],\n",
        "    data = {\"Linear SVC\": [test_prediction_1_lsvc[0], test_prediction_2_lsvc[0], test_prediction_3_lsvc[0]],\n",
        "            \"Logistic Regression\": [test_prediction_1_lr[0], test_prediction_2_lr[0], test_prediction_3_lr[0]],\n",
        "            \"SGD Classifier\": [test_prediction_1_sgd[0], test_prediction_2_sgd[0], test_prediction_3_sgd[0]],\n",
        "            \"KNN\": [test_prediction_1_knn[0], test_prediction_2_knn[0], test_prediction_3_knn[0]],\n",
        "            \"REAL\": [2, 1, 5]}\n",
        ")\n",
        "predicted_rates"
      ],
      "metadata": {
        "colab": {
          "base_uri": "https://localhost:8080/",
          "height": 143
        },
        "id": "g3iJ9wTLXwSw",
        "outputId": "707ff7d4-72af-466e-9298-2ed4c1040ab2"
      },
      "execution_count": null,
      "outputs": [
        {
          "output_type": "execute_result",
          "data": {
            "text/plain": [
              "               Linear SVC  Logistic Regression  SGD Classifier  KNN  REAL\n",
              "test_review_1           5                    5               5    5     2\n",
              "test_review_2           5                    5               2    5     1\n",
              "test_review_3           5                    5               5    5     5"
            ],
            "text/html": [
              "\n",
              "  <div id=\"df-4c248613-c001-459d-9c4f-2a99766e6ac4\" class=\"colab-df-container\">\n",
              "    <div>\n",
              "<style scoped>\n",
              "    .dataframe tbody tr th:only-of-type {\n",
              "        vertical-align: middle;\n",
              "    }\n",
              "\n",
              "    .dataframe tbody tr th {\n",
              "        vertical-align: top;\n",
              "    }\n",
              "\n",
              "    .dataframe thead th {\n",
              "        text-align: right;\n",
              "    }\n",
              "</style>\n",
              "<table border=\"1\" class=\"dataframe\">\n",
              "  <thead>\n",
              "    <tr style=\"text-align: right;\">\n",
              "      <th></th>\n",
              "      <th>Linear SVC</th>\n",
              "      <th>Logistic Regression</th>\n",
              "      <th>SGD Classifier</th>\n",
              "      <th>KNN</th>\n",
              "      <th>REAL</th>\n",
              "    </tr>\n",
              "  </thead>\n",
              "  <tbody>\n",
              "    <tr>\n",
              "      <th>test_review_1</th>\n",
              "      <td>5</td>\n",
              "      <td>5</td>\n",
              "      <td>5</td>\n",
              "      <td>5</td>\n",
              "      <td>2</td>\n",
              "    </tr>\n",
              "    <tr>\n",
              "      <th>test_review_2</th>\n",
              "      <td>5</td>\n",
              "      <td>5</td>\n",
              "      <td>2</td>\n",
              "      <td>5</td>\n",
              "      <td>1</td>\n",
              "    </tr>\n",
              "    <tr>\n",
              "      <th>test_review_3</th>\n",
              "      <td>5</td>\n",
              "      <td>5</td>\n",
              "      <td>5</td>\n",
              "      <td>5</td>\n",
              "      <td>5</td>\n",
              "    </tr>\n",
              "  </tbody>\n",
              "</table>\n",
              "</div>\n",
              "    <div class=\"colab-df-buttons\">\n",
              "\n",
              "  <div class=\"colab-df-container\">\n",
              "    <button class=\"colab-df-convert\" onclick=\"convertToInteractive('df-4c248613-c001-459d-9c4f-2a99766e6ac4')\"\n",
              "            title=\"Convert this dataframe to an interactive table.\"\n",
              "            style=\"display:none;\">\n",
              "\n",
              "  <svg xmlns=\"http://www.w3.org/2000/svg\" height=\"24px\" viewBox=\"0 -960 960 960\">\n",
              "    <path d=\"M120-120v-720h720v720H120Zm60-500h600v-160H180v160Zm220 220h160v-160H400v160Zm0 220h160v-160H400v160ZM180-400h160v-160H180v160Zm440 0h160v-160H620v160ZM180-180h160v-160H180v160Zm440 0h160v-160H620v160Z\"/>\n",
              "  </svg>\n",
              "    </button>\n",
              "\n",
              "  <style>\n",
              "    .colab-df-container {\n",
              "      display:flex;\n",
              "      gap: 12px;\n",
              "    }\n",
              "\n",
              "    .colab-df-convert {\n",
              "      background-color: #E8F0FE;\n",
              "      border: none;\n",
              "      border-radius: 50%;\n",
              "      cursor: pointer;\n",
              "      display: none;\n",
              "      fill: #1967D2;\n",
              "      height: 32px;\n",
              "      padding: 0 0 0 0;\n",
              "      width: 32px;\n",
              "    }\n",
              "\n",
              "    .colab-df-convert:hover {\n",
              "      background-color: #E2EBFA;\n",
              "      box-shadow: 0px 1px 2px rgba(60, 64, 67, 0.3), 0px 1px 3px 1px rgba(60, 64, 67, 0.15);\n",
              "      fill: #174EA6;\n",
              "    }\n",
              "\n",
              "    .colab-df-buttons div {\n",
              "      margin-bottom: 4px;\n",
              "    }\n",
              "\n",
              "    [theme=dark] .colab-df-convert {\n",
              "      background-color: #3B4455;\n",
              "      fill: #D2E3FC;\n",
              "    }\n",
              "\n",
              "    [theme=dark] .colab-df-convert:hover {\n",
              "      background-color: #434B5C;\n",
              "      box-shadow: 0px 1px 3px 1px rgba(0, 0, 0, 0.15);\n",
              "      filter: drop-shadow(0px 1px 2px rgba(0, 0, 0, 0.3));\n",
              "      fill: #FFFFFF;\n",
              "    }\n",
              "  </style>\n",
              "\n",
              "    <script>\n",
              "      const buttonEl =\n",
              "        document.querySelector('#df-4c248613-c001-459d-9c4f-2a99766e6ac4 button.colab-df-convert');\n",
              "      buttonEl.style.display =\n",
              "        google.colab.kernel.accessAllowed ? 'block' : 'none';\n",
              "\n",
              "      async function convertToInteractive(key) {\n",
              "        const element = document.querySelector('#df-4c248613-c001-459d-9c4f-2a99766e6ac4');\n",
              "        const dataTable =\n",
              "          await google.colab.kernel.invokeFunction('convertToInteractive',\n",
              "                                                    [key], {});\n",
              "        if (!dataTable) return;\n",
              "\n",
              "        const docLinkHtml = 'Like what you see? Visit the ' +\n",
              "          '<a target=\"_blank\" href=https://colab.research.google.com/notebooks/data_table.ipynb>data table notebook</a>'\n",
              "          + ' to learn more about interactive tables.';\n",
              "        element.innerHTML = '';\n",
              "        dataTable['output_type'] = 'display_data';\n",
              "        await google.colab.output.renderOutput(dataTable, element);\n",
              "        const docLink = document.createElement('div');\n",
              "        docLink.innerHTML = docLinkHtml;\n",
              "        element.appendChild(docLink);\n",
              "      }\n",
              "    </script>\n",
              "  </div>\n",
              "\n",
              "\n",
              "<div id=\"df-14c6693b-986d-4356-a6da-37423e6b5cf8\">\n",
              "  <button class=\"colab-df-quickchart\" onclick=\"quickchart('df-14c6693b-986d-4356-a6da-37423e6b5cf8')\"\n",
              "            title=\"Suggest charts\"\n",
              "            style=\"display:none;\">\n",
              "\n",
              "<svg xmlns=\"http://www.w3.org/2000/svg\" height=\"24px\"viewBox=\"0 0 24 24\"\n",
              "     width=\"24px\">\n",
              "    <g>\n",
              "        <path d=\"M19 3H5c-1.1 0-2 .9-2 2v14c0 1.1.9 2 2 2h14c1.1 0 2-.9 2-2V5c0-1.1-.9-2-2-2zM9 17H7v-7h2v7zm4 0h-2V7h2v10zm4 0h-2v-4h2v4z\"/>\n",
              "    </g>\n",
              "</svg>\n",
              "  </button>\n",
              "\n",
              "<style>\n",
              "  .colab-df-quickchart {\n",
              "      --bg-color: #E8F0FE;\n",
              "      --fill-color: #1967D2;\n",
              "      --hover-bg-color: #E2EBFA;\n",
              "      --hover-fill-color: #174EA6;\n",
              "      --disabled-fill-color: #AAA;\n",
              "      --disabled-bg-color: #DDD;\n",
              "  }\n",
              "\n",
              "  [theme=dark] .colab-df-quickchart {\n",
              "      --bg-color: #3B4455;\n",
              "      --fill-color: #D2E3FC;\n",
              "      --hover-bg-color: #434B5C;\n",
              "      --hover-fill-color: #FFFFFF;\n",
              "      --disabled-bg-color: #3B4455;\n",
              "      --disabled-fill-color: #666;\n",
              "  }\n",
              "\n",
              "  .colab-df-quickchart {\n",
              "    background-color: var(--bg-color);\n",
              "    border: none;\n",
              "    border-radius: 50%;\n",
              "    cursor: pointer;\n",
              "    display: none;\n",
              "    fill: var(--fill-color);\n",
              "    height: 32px;\n",
              "    padding: 0;\n",
              "    width: 32px;\n",
              "  }\n",
              "\n",
              "  .colab-df-quickchart:hover {\n",
              "    background-color: var(--hover-bg-color);\n",
              "    box-shadow: 0 1px 2px rgba(60, 64, 67, 0.3), 0 1px 3px 1px rgba(60, 64, 67, 0.15);\n",
              "    fill: var(--button-hover-fill-color);\n",
              "  }\n",
              "\n",
              "  .colab-df-quickchart-complete:disabled,\n",
              "  .colab-df-quickchart-complete:disabled:hover {\n",
              "    background-color: var(--disabled-bg-color);\n",
              "    fill: var(--disabled-fill-color);\n",
              "    box-shadow: none;\n",
              "  }\n",
              "\n",
              "  .colab-df-spinner {\n",
              "    border: 2px solid var(--fill-color);\n",
              "    border-color: transparent;\n",
              "    border-bottom-color: var(--fill-color);\n",
              "    animation:\n",
              "      spin 1s steps(1) infinite;\n",
              "  }\n",
              "\n",
              "  @keyframes spin {\n",
              "    0% {\n",
              "      border-color: transparent;\n",
              "      border-bottom-color: var(--fill-color);\n",
              "      border-left-color: var(--fill-color);\n",
              "    }\n",
              "    20% {\n",
              "      border-color: transparent;\n",
              "      border-left-color: var(--fill-color);\n",
              "      border-top-color: var(--fill-color);\n",
              "    }\n",
              "    30% {\n",
              "      border-color: transparent;\n",
              "      border-left-color: var(--fill-color);\n",
              "      border-top-color: var(--fill-color);\n",
              "      border-right-color: var(--fill-color);\n",
              "    }\n",
              "    40% {\n",
              "      border-color: transparent;\n",
              "      border-right-color: var(--fill-color);\n",
              "      border-top-color: var(--fill-color);\n",
              "    }\n",
              "    60% {\n",
              "      border-color: transparent;\n",
              "      border-right-color: var(--fill-color);\n",
              "    }\n",
              "    80% {\n",
              "      border-color: transparent;\n",
              "      border-right-color: var(--fill-color);\n",
              "      border-bottom-color: var(--fill-color);\n",
              "    }\n",
              "    90% {\n",
              "      border-color: transparent;\n",
              "      border-bottom-color: var(--fill-color);\n",
              "    }\n",
              "  }\n",
              "</style>\n",
              "\n",
              "  <script>\n",
              "    async function quickchart(key) {\n",
              "      const quickchartButtonEl =\n",
              "        document.querySelector('#' + key + ' button');\n",
              "      quickchartButtonEl.disabled = true;  // To prevent multiple clicks.\n",
              "      quickchartButtonEl.classList.add('colab-df-spinner');\n",
              "      try {\n",
              "        const charts = await google.colab.kernel.invokeFunction(\n",
              "            'suggestCharts', [key], {});\n",
              "      } catch (error) {\n",
              "        console.error('Error during call to suggestCharts:', error);\n",
              "      }\n",
              "      quickchartButtonEl.classList.remove('colab-df-spinner');\n",
              "      quickchartButtonEl.classList.add('colab-df-quickchart-complete');\n",
              "    }\n",
              "    (() => {\n",
              "      let quickchartButtonEl =\n",
              "        document.querySelector('#df-14c6693b-986d-4356-a6da-37423e6b5cf8 button');\n",
              "      quickchartButtonEl.style.display =\n",
              "        google.colab.kernel.accessAllowed ? 'block' : 'none';\n",
              "    })();\n",
              "  </script>\n",
              "</div>\n",
              "    </div>\n",
              "  </div>\n"
            ],
            "application/vnd.google.colaboratory.intrinsic+json": {
              "type": "dataframe",
              "variable_name": "predicted_rates",
              "summary": "{\n  \"name\": \"predicted_rates\",\n  \"rows\": 3,\n  \"fields\": [\n    {\n      \"column\": \"Linear SVC\",\n      \"properties\": {\n        \"dtype\": \"number\",\n        \"std\": 0,\n        \"min\": 5,\n        \"max\": 5,\n        \"num_unique_values\": 1,\n        \"samples\": [\n          5\n        ],\n        \"semantic_type\": \"\",\n        \"description\": \"\"\n      }\n    },\n    {\n      \"column\": \"Logistic Regression\",\n      \"properties\": {\n        \"dtype\": \"number\",\n        \"std\": 0,\n        \"min\": 5,\n        \"max\": 5,\n        \"num_unique_values\": 1,\n        \"samples\": [\n          5\n        ],\n        \"semantic_type\": \"\",\n        \"description\": \"\"\n      }\n    },\n    {\n      \"column\": \"SGD Classifier\",\n      \"properties\": {\n        \"dtype\": \"number\",\n        \"std\": 1,\n        \"min\": 2,\n        \"max\": 5,\n        \"num_unique_values\": 2,\n        \"samples\": [\n          2\n        ],\n        \"semantic_type\": \"\",\n        \"description\": \"\"\n      }\n    },\n    {\n      \"column\": \"KNN\",\n      \"properties\": {\n        \"dtype\": \"number\",\n        \"std\": 0,\n        \"min\": 5,\n        \"max\": 5,\n        \"num_unique_values\": 1,\n        \"samples\": [\n          5\n        ],\n        \"semantic_type\": \"\",\n        \"description\": \"\"\n      }\n    },\n    {\n      \"column\": \"REAL\",\n      \"properties\": {\n        \"dtype\": \"number\",\n        \"std\": 2,\n        \"min\": 1,\n        \"max\": 5,\n        \"num_unique_values\": 3,\n        \"samples\": [\n          2\n        ],\n        \"semantic_type\": \"\",\n        \"description\": \"\"\n      }\n    }\n  ]\n}"
            }
          },
          "metadata": {},
          "execution_count": 92
        }
      ]
    },
    {
      "cell_type": "markdown",
      "source": [
        "**Вывод:**\n",
        "\n",
        "В таблице результатов предсказания моделей мы видим:\n",
        "* модель `Linear SVC`, котрая показала наилучший результат при обучении и имела наивысшие значения метрик, с крахом провалилась;\n",
        "* единственная модель, которая правильно определила отрицательную оценку - `SGD Classifier`;\n",
        "* остальные модели определили все отзывы, как положительные, в то время, как 2 из них были отрицательными."
      ],
      "metadata": {
        "id": "o9ho6Otybn4G"
      }
    },
    {
      "cell_type": "code",
      "source": [],
      "metadata": {
        "id": "GlILkn6RXwLO"
      },
      "execution_count": null,
      "outputs": []
    }
  ]
}