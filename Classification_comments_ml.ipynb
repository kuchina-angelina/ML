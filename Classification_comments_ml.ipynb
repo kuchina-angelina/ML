{
 "cells": [
  {
   "cell_type": "markdown",
   "metadata": {
    "id": "zVLwzbUnfQmH"
   },
   "source": [
    "##**Лабораторная работа №1. Классификация текстов на реальных данных**\n",
    "Выполнена студентками группы ПИ21-2в Струевой Тамарой и Кучиной Ангелиной"
   ]
  },
  {
   "cell_type": "markdown",
   "metadata": {
    "id": "oImqmIBhfhlb"
   },
   "source": [
    "Импорт необходимых библиотек"
   ]
  },
  {
   "cell_type": "code",
   "execution_count": 2,
   "metadata": {},
   "outputs": [
    {
     "name": "stdout",
     "output_type": "stream",
     "text": [
      "Collecting imblearn\n",
      "  Downloading imblearn-0.0-py2.py3-none-any.whl (1.9 kB)\n",
      "Collecting imbalanced-learn\n",
      "  Downloading imbalanced_learn-0.12.3-py3-none-any.whl (258 kB)\n",
      "\u001b[2K     \u001b[90m━━━━━━━━━━━━━━━━━━━━━━━━━━━━━━━━━━━━━━━\u001b[0m \u001b[32m258.3/258.3 kB\u001b[0m \u001b[31m1.0 MB/s\u001b[0m eta \u001b[36m0:00:00\u001b[0ma \u001b[36m0:00:01\u001b[0m\n",
      "\u001b[?25hRequirement already satisfied: scipy>=1.5.0 in /Users/angelinakuchina/opt/anaconda3/lib/python3.9/site-packages (from imbalanced-learn->imblearn) (1.9.1)\n",
      "Collecting joblib>=1.1.1\n",
      "  Downloading joblib-1.4.2-py3-none-any.whl (301 kB)\n",
      "\u001b[2K     \u001b[90m━━━━━━━━━━━━━━━━━━━━━━━━━━━━━━━━━━━━━━━\u001b[0m \u001b[32m301.8/301.8 kB\u001b[0m \u001b[31m2.9 MB/s\u001b[0m eta \u001b[36m0:00:00\u001b[0ma \u001b[36m0:00:01\u001b[0m\n",
      "\u001b[?25hRequirement already satisfied: threadpoolctl>=2.0.0 in /Users/angelinakuchina/opt/anaconda3/lib/python3.9/site-packages (from imbalanced-learn->imblearn) (2.2.0)\n",
      "Requirement already satisfied: numpy>=1.17.3 in /Users/angelinakuchina/opt/anaconda3/lib/python3.9/site-packages (from imbalanced-learn->imblearn) (1.21.5)\n",
      "Requirement already satisfied: scikit-learn>=1.0.2 in /Users/angelinakuchina/opt/anaconda3/lib/python3.9/site-packages (from imbalanced-learn->imblearn) (1.0.2)\n",
      "Installing collected packages: joblib, imbalanced-learn, imblearn\n",
      "  Attempting uninstall: joblib\n",
      "    Found existing installation: joblib 1.1.0\n",
      "    Uninstalling joblib-1.1.0:\n",
      "      Successfully uninstalled joblib-1.1.0\n",
      "Successfully installed imbalanced-learn-0.12.3 imblearn-0.0 joblib-1.4.2\n"
     ]
    }
   ],
   "source": [
    "!pip install imblearn"
   ]
  },
  {
   "cell_type": "code",
   "execution_count": 3,
   "metadata": {
    "id": "NMr3og__L01Q"
   },
   "outputs": [],
   "source": [
    "from requests import get # библиотека для получения данных с сайта\n",
    "from bs4 import BeautifulSoup # библиотека для чтения данных из html\n",
    "import pandas as pd # библиотека для работы с датасетом\n",
    "import numpy as np # библиотека для работы с числами/пустыми значениями\n",
    "import csv # библиотека для записи данных в файл\n",
    "import matplotlib.pyplot as plt # библиотека для визуализации данных\n",
    "from imblearn.over_sampling import RandomOverSampler\n",
    "from imblearn.under_sampling import RandomUnderSampler"
   ]
  },
  {
   "cell_type": "markdown",
   "metadata": {
    "id": "_x8LyBgmfmYm"
   },
   "source": [
    "## Автоматический сбор информации с отзывами с сайта banki.ru"
   ]
  },
  {
   "cell_type": "code",
   "execution_count": null,
   "metadata": {
    "id": "Ange8bwUwdLx"
   },
   "outputs": [],
   "source": [
    "base_url = \"https://www.banki.ru/insurance/responses/list/\""
   ]
  },
  {
   "cell_type": "code",
   "execution_count": null,
   "metadata": {
    "id": "ZFt3MtSvTmDU"
   },
   "outputs": [],
   "source": [
    "def parse_source(url):\n",
    "    main_url = 'https://www.banki.ru'\n",
    "    data = {\"header\": [], \"bank\": [], \"review\": [], \"rate\": [], \"date\": []}\n",
    "\n",
    "    i = 1\n",
    "    # нажимакм на конпку «показать еще»\n",
    "    page = get(f\"{url}?page={i}&isMobile=0\")\n",
    "    while (page.status_code == 200 and i < 400):\n",
    "        # читаем код страницы\n",
    "        soup = BeautifulSoup(page.text, \"lxml\")\n",
    "        # получаем тэги со ссылками на карточку отзыва\n",
    "        all_reviews = soup.find_all(\"article\", class_=\"responses__item\")\n",
    "        # print(all_reviews)\n",
    "\n",
    "        # достаем ссылки из тэгов и помещаем их в список\n",
    "        links = []\n",
    "        for href in all_reviews:\n",
    "            links.append(href.find(\"a\", href=True)[\"href\"])\n",
    "\n",
    "        # проход по карточкам с отзывами в списке ссылок\n",
    "        for link in links:\n",
    "            # получаем данные из карточки\n",
    "            result = get(f'{main_url}{link}')\n",
    "            if (page.status_code == 200 and i < 400):\n",
    "                content = result.text\n",
    "                soup = BeautifulSoup(content, 'lxml')\n",
    "                # получение отдельных данных для заполнения датасета\n",
    "\n",
    "                try:\n",
    "                  header = soup.find(\"h1\").text.strip()\n",
    "                  bank = soup.find(\"div\", itemprop=\"itemreviewed\").text.strip()\n",
    "                  review = soup.find(\"div\", class_ = \"article-text response-page__text markup-inside-small markup-inside-small--bullet\").text.strip()\n",
    "                  rate = soup.find(\"span\", class_ = \"rating-grade\").text.strip()\n",
    "                  date = soup.find(\"time\", itemprop=\"dtreviewed\").text.strip()[:-6]\n",
    "                  # print(\"i \", i, header, bank, rate, date, sep=\", \")\n",
    "\n",
    "                  data[\"header\"].append(header)\n",
    "                  data[\"bank\"].append(bank)\n",
    "                  data[\"review\"].append(review)\n",
    "                  data[\"rate\"].append(rate)\n",
    "                  data[\"date\"].append(date)\n",
    "\n",
    "                except AttributeError:\n",
    "                  print(\"&&&\")\n",
    "                  continue\n",
    "        i += 1\n",
    "        page = get(f'https://www.banki.ru/insurance/responses/list/?page={i}&isMobile=0')\n",
    "    return data"
   ]
  },
  {
   "cell_type": "code",
   "execution_count": null,
   "metadata": {
    "colab": {
     "base_uri": "https://localhost:8080/"
    },
    "collapsed": true,
    "id": "0wFyp1kzPbWG",
    "outputId": "b626f4e1-c897-4778-b8d8-e6ef5265f5c9"
   },
   "outputs": [
    {
     "name": "stdout",
     "output_type": "stream",
     "text": [
      "&&&\n",
      "&&&\n",
      "&&&\n",
      "&&&\n",
      "&&&\n",
      "&&&\n",
      "&&&\n",
      "&&&\n",
      "&&&\n",
      "&&&\n",
      "&&&\n",
      "&&&\n",
      "&&&\n",
      "&&&\n",
      "&&&\n",
      "&&&\n",
      "&&&\n",
      "&&&\n",
      "&&&\n",
      "&&&\n",
      "&&&\n",
      "&&&\n",
      "&&&\n",
      "&&&\n",
      "&&&\n",
      "&&&\n",
      "&&&\n",
      "&&&\n",
      "&&&\n",
      "&&&\n",
      "&&&\n",
      "&&&\n",
      "&&&\n",
      "&&&\n",
      "&&&\n",
      "&&&\n",
      "&&&\n",
      "&&&\n",
      "&&&\n",
      "&&&\n",
      "&&&\n",
      "&&&\n",
      "&&&\n",
      "&&&\n",
      "&&&\n",
      "&&&\n",
      "&&&\n",
      "&&&\n",
      "&&&\n",
      "&&&\n",
      "&&&\n",
      "&&&\n",
      "&&&\n",
      "&&&\n",
      "&&&\n",
      "&&&\n",
      "&&&\n",
      "&&&\n",
      "&&&\n",
      "&&&\n",
      "&&&\n",
      "&&&\n",
      "&&&\n",
      "&&&\n",
      "&&&\n",
      "&&&\n",
      "&&&\n",
      "&&&\n",
      "&&&\n",
      "&&&\n",
      "&&&\n",
      "&&&\n",
      "&&&\n",
      "&&&\n",
      "&&&\n",
      "&&&\n",
      "&&&\n",
      "&&&\n",
      "&&&\n",
      "&&&\n",
      "&&&\n",
      "&&&\n",
      "&&&\n",
      "&&&\n",
      "&&&\n",
      "&&&\n",
      "&&&\n",
      "&&&\n",
      "&&&\n",
      "&&&\n",
      "&&&\n",
      "&&&\n",
      "&&&\n",
      "&&&\n",
      "&&&\n",
      "&&&\n",
      "&&&\n",
      "&&&\n",
      "&&&\n",
      "&&&\n",
      "&&&\n",
      "&&&\n",
      "&&&\n",
      "&&&\n",
      "&&&\n",
      "&&&\n",
      "&&&\n",
      "&&&\n",
      "&&&\n",
      "&&&\n",
      "&&&\n",
      "&&&\n",
      "&&&\n",
      "&&&\n",
      "&&&\n",
      "&&&\n",
      "&&&\n",
      "&&&\n",
      "&&&\n",
      "&&&\n",
      "&&&\n",
      "&&&\n",
      "&&&\n",
      "&&&\n",
      "&&&\n",
      "&&&\n",
      "&&&\n",
      "&&&\n",
      "&&&\n",
      "&&&\n",
      "&&&\n",
      "&&&\n",
      "&&&\n",
      "&&&\n",
      "&&&\n",
      "&&&\n",
      "&&&\n",
      "&&&\n",
      "&&&\n",
      "&&&\n",
      "&&&\n",
      "&&&\n",
      "&&&\n",
      "&&&\n",
      "&&&\n",
      "&&&\n",
      "&&&\n",
      "&&&\n",
      "&&&\n",
      "&&&\n",
      "&&&\n",
      "&&&\n",
      "&&&\n",
      "&&&\n",
      "&&&\n",
      "&&&\n",
      "&&&\n",
      "&&&\n",
      "&&&\n",
      "&&&\n",
      "&&&\n",
      "&&&\n",
      "&&&\n",
      "&&&\n",
      "&&&\n",
      "&&&\n",
      "&&&\n",
      "&&&\n",
      "&&&\n",
      "&&&\n",
      "&&&\n",
      "&&&\n",
      "&&&\n",
      "&&&\n",
      "&&&\n",
      "&&&\n",
      "&&&\n",
      "&&&\n",
      "&&&\n",
      "&&&\n",
      "&&&\n",
      "&&&\n",
      "&&&\n",
      "&&&\n",
      "&&&\n",
      "&&&\n",
      "&&&\n",
      "&&&\n",
      "&&&\n",
      "&&&\n",
      "&&&\n",
      "&&&\n",
      "&&&\n",
      "&&&\n",
      "&&&\n",
      "&&&\n",
      "&&&\n",
      "&&&\n",
      "&&&\n",
      "&&&\n",
      "&&&\n",
      "&&&\n",
      "&&&\n",
      "&&&\n",
      "&&&\n",
      "&&&\n",
      "&&&\n",
      "&&&\n",
      "&&&\n",
      "&&&\n",
      "&&&\n",
      "&&&\n",
      "&&&\n",
      "&&&\n",
      "&&&\n",
      "&&&\n",
      "&&&\n",
      "&&&\n",
      "&&&\n",
      "&&&\n",
      "&&&\n",
      "&&&\n",
      "&&&\n",
      "&&&\n",
      "&&&\n",
      "&&&\n",
      "&&&\n",
      "&&&\n",
      "&&&\n",
      "&&&\n",
      "&&&\n",
      "&&&\n",
      "&&&\n",
      "&&&\n",
      "&&&\n",
      "&&&\n",
      "&&&\n",
      "&&&\n",
      "&&&\n",
      "&&&\n",
      "&&&\n",
      "&&&\n",
      "&&&\n",
      "&&&\n",
      "&&&\n",
      "&&&\n",
      "&&&\n",
      "&&&\n",
      "&&&\n",
      "&&&\n",
      "&&&\n",
      "&&&\n",
      "&&&\n",
      "&&&\n",
      "&&&\n",
      "&&&\n",
      "&&&\n",
      "&&&\n",
      "&&&\n",
      "&&&\n",
      "&&&\n",
      "&&&\n",
      "&&&\n",
      "&&&\n",
      "&&&\n",
      "&&&\n",
      "&&&\n",
      "&&&\n",
      "&&&\n",
      "&&&\n",
      "&&&\n",
      "&&&\n",
      "&&&\n",
      "&&&\n",
      "&&&\n",
      "&&&\n",
      "&&&\n",
      "&&&\n",
      "&&&\n",
      "&&&\n",
      "&&&\n",
      "&&&\n",
      "&&&\n",
      "&&&\n",
      "&&&\n",
      "&&&\n",
      "&&&\n",
      "&&&\n",
      "&&&\n",
      "&&&\n",
      "&&&\n",
      "&&&\n",
      "&&&\n",
      "&&&\n",
      "&&&\n",
      "&&&\n",
      "&&&\n",
      "&&&\n",
      "&&&\n",
      "&&&\n",
      "&&&\n",
      "&&&\n",
      "&&&\n",
      "&&&\n",
      "&&&\n",
      "&&&\n",
      "&&&\n",
      "&&&\n",
      "&&&\n",
      "&&&\n",
      "&&&\n",
      "&&&\n",
      "&&&\n",
      "&&&\n",
      "&&&\n",
      "&&&\n",
      "&&&\n",
      "&&&\n",
      "&&&\n",
      "&&&\n",
      "&&&\n",
      "&&&\n",
      "&&&\n",
      "&&&\n",
      "&&&\n",
      "&&&\n",
      "&&&\n",
      "&&&\n",
      "&&&\n",
      "&&&\n",
      "&&&\n",
      "&&&\n",
      "&&&\n",
      "&&&\n",
      "&&&\n",
      "&&&\n",
      "&&&\n",
      "&&&\n",
      "&&&\n",
      "&&&\n",
      "&&&\n",
      "&&&\n",
      "&&&\n",
      "&&&\n",
      "&&&\n",
      "&&&\n",
      "&&&\n",
      "&&&\n",
      "&&&\n",
      "&&&\n",
      "&&&\n",
      "&&&\n",
      "&&&\n",
      "&&&\n",
      "&&&\n",
      "&&&\n",
      "&&&\n",
      "&&&\n",
      "&&&\n",
      "&&&\n",
      "&&&\n",
      "&&&\n",
      "&&&\n",
      "&&&\n",
      "&&&\n",
      "&&&\n",
      "&&&\n",
      "&&&\n",
      "&&&\n",
      "&&&\n",
      "&&&\n",
      "&&&\n",
      "&&&\n",
      "&&&\n",
      "&&&\n",
      "&&&\n",
      "&&&\n",
      "&&&\n",
      "&&&\n",
      "&&&\n",
      "&&&\n",
      "&&&\n",
      "&&&\n",
      "&&&\n",
      "&&&\n",
      "&&&\n",
      "&&&\n",
      "&&&\n",
      "&&&\n",
      "&&&\n",
      "&&&\n",
      "&&&\n",
      "&&&\n",
      "&&&\n",
      "&&&\n",
      "&&&\n",
      "&&&\n",
      "&&&\n",
      "&&&\n",
      "&&&\n",
      "&&&\n",
      "&&&\n",
      "&&&\n",
      "&&&\n",
      "&&&\n",
      "&&&\n",
      "&&&\n",
      "&&&\n",
      "&&&\n",
      "&&&\n",
      "&&&\n",
      "&&&\n",
      "&&&\n",
      "&&&\n"
     ]
    }
   ],
   "source": [
    "df = pd.DataFrame(parse_source(base_url))"
   ]
  },
  {
   "cell_type": "code",
   "execution_count": null,
   "metadata": {
    "colab": {
     "base_uri": "https://localhost:8080/",
     "height": 423
    },
    "id": "_x_fYomfbt0A",
    "outputId": "8c69c80d-f56a-483b-f16f-f656dc9208c0"
   },
   "outputs": [
    {
     "data": {
      "application/vnd.google.colaboratory.intrinsic+json": {
       "summary": "{\n  \"name\": \"df\",\n  \"rows\": 9561,\n  \"fields\": [\n    {\n      \"column\": \"header\",\n      \"properties\": {\n        \"dtype\": \"string\",\n        \"num_unique_values\": 7105,\n        \"samples\": [\n          \"\\u041c\\u043e\\u043b\\u0447\\u0430\\u0442, \\u0431\\u0435\\u0437 \\u0432\\u0435\\u0434\\u043e\\u043c\\u0430 \\u043c\\u0435\\u043d\\u044f\\u044e\\u0442 \\u0441\\u043f\\u043e\\u0441\\u043e\\u0431 \\u0432\\u043e\\u0437\\u043c\\u0435\\u0449\\u0435\\u043d\\u0438\\u044f, \\u043f\\u0435\\u0440\\u0435\\u0432\\u043e\\u0434\\u044f\\u0442 \\u0434\\u0435\\u043d\\u044c\\u0433\\u0438 \\u043d\\u0435\\u043f\\u043e\\u043d\\u044f\\u0442\\u043d\\u043e \\u043a\\u0443\\u0434\\u0430\",\n          \"\\u041d\\u0435 \\u043f\\u0435\\u0440\\u0432\\u044b\\u0439 \\u0433\\u043e\\u0434 \\u0438\\u0445 \\u043a\\u043b\\u0438\\u0435\\u043d\\u0442\",\n          \"\\u0421\\u0442\\u0440\\u0430\\u0445\\u043e\\u0432\\u0430\\u044f \\u0432\\u044b\\u043f\\u043b\\u0430\\u0442\\u0430 \\u043f\\u043e \\u041e\\u0421\\u0410\\u0413\\u041e \\u043e\\u0442 \\u0422\\u0438\\u043d\\u044c\\u043a\\u043e\\u0444\\u0444 \\u0421\\u0442\\u0440\\u0430\\u0445\\u043e\\u0432\\u0430\\u043d\\u0438\\u0435\"\n        ],\n        \"semantic_type\": \"\",\n        \"description\": \"\"\n      }\n    },\n    {\n      \"column\": \"bank\",\n      \"properties\": {\n        \"dtype\": \"category\",\n        \"num_unique_values\": 65,\n        \"samples\": [\n          \"\\u0421\\u041e\\u0413\\u0410\\u0417-\\u041c\\u0435\\u0434\",\n          \"\\u0420\\u0443\\u0441\\u0441\\u043a\\u0438\\u0439 \\u0421\\u0442\\u0430\\u043d\\u0434\\u0430\\u0440\\u0442 \\u0421\\u0442\\u0440\\u0430\\u0445\\u043e\\u0432\\u0430\\u043d\\u0438\\u0435\",\n          \"\\u0422-\\u0421\\u0442\\u0440\\u0430\\u0445\\u043e\\u0432\\u0430\\u043d\\u0438\\u0435\"\n        ],\n        \"semantic_type\": \"\",\n        \"description\": \"\"\n      }\n    },\n    {\n      \"column\": \"review\",\n      \"properties\": {\n        \"dtype\": \"string\",\n        \"num_unique_values\": 9551,\n        \"samples\": [\n          \"\\u0414\\u043e\\u0431\\u0440\\u044b\\u0439 \\u0434\\u0435\\u043d\\u044c.\\u00a0 \\u041a\\u043e\\u0433\\u0434\\u0430 \\u0437\\u0430\\u043a\\u0430\\u0437\\u044b\\u0432\\u0430\\u043b\\u0430 \\u0433\\u0430\\u0440\\u0430\\u043d\\u0442\\u0438\\u0439\\u043d\\u043e\\u0435 \\u043f\\u0438\\u0441\\u044c\\u043c\\u043e \\u0432 \\u0441\\u0442\\u0440\\u0430\\u0445\\u043e\\u0432\\u043e\\u0439 \\u043c\\u043d\\u0435 \\u043f\\u043e\\u0441\\u043e\\u0432\\u0435\\u0442\\u043e\\u0432\\u0430\\u043b\\u0438 \\u0432\\u044b\\u0431\\u0440\\u0430\\u0442\\u044c \\u0434\\u0440\\u0443\\u0433\\u043e\\u0435 \\u043c\\u0435\\u0434. \\u0443\\u0447\\u0435\\u0440\\u0435\\u0436\\u043b\\u0435\\u043d\\u0438\\u0435 \\u0438\\u0437 \\u0441\\u043f\\u0438\\u0441\\u043a\\u0430, \\u0445\\u043e\\u0442\\u044f \\u043e\\u0433\\u0440\\u0430\\u043d\\u0438\\u0447\\u0435\\u043d \\u043f\\u043e \\u043f\\u0440\\u043e\\u0433\\u0440\\u0430\\u043c\\u043c\\u0435 \\u043d\\u0435\\u0442. \\u0412 \\u0434\\u0430\\u043b\\u044c\\u043d\\u0435\\u0439\\u0448\\u0435\\u043c, \\u043f\\u043e\\u0441\\u043b\\u0435 \\u043f\\u043e\\u0441\\u0435\\u0449\\u0435\\u043d\\u0438\\u044f \\u0432\\u0440\\u0430\\u0447\\u0430, \\u0443\\u0436\\u0435 5\\u0439 \\u0434\\u0435\\u043d\\u044c \\u0441\\u043e\\u0433\\u043b\\u0430\\u0441\\u043e\\u0432\\u044b\\u0432\\u0430\\u044e\\u0442 \\u0433\\u0430\\u0440\\u0430\\u043d\\u0442\\u0438\\u0439\\u043d\\u043e\\u0435 \\u043f\\u0438\\u0441\\u044c\\u043c\\u043e \\u0441\\u043e\\u0433\\u043b\\u0430\\u0441\\u043d\\u043e \\u043f\\u043b\\u0430\\u043d\\u0443 \\u043b\\u0435\\u0447\\u0435\\u043d\\u0438\\u044f, \\u043f\\u0440\\u0438 \\u0437\\u0432\\u043e\\u043d\\u043a\\u0435 \\u0432 \\u0441\\u0442\\u0440\\u0430\\u0445\\u043e\\u0432\\u0443\\u044e \\u043e\\u0442\\u0432\\u0435\\u0447\\u0430\\u044e\\u0442 \\u0447\\u0442\\u043e \\u0433\\u0430\\u0440\\u0430\\u043d\\u0442\\u0438\\u0439\\u043d\\u044b\\u0439 \\u043f\\u0438\\u0441\\u044c\\u043c\\u0430 \\u0440\\u0430\\u0441\\u0441\\u043c\\u0430\\u0442\\u0440\\u0438\\u0432\\u0430\\u044e\\u0442\\u0441\\u044f \\u0432 \\u0442\\u0435\\u0447\\u0435\\u043d\\u0438\\u0438 5 \\u0440\\u0430\\u0431\\u043e\\u0447\\u0438\\u0445 \\u0434\\u043d\\u0435\\u0439....\\u0434\\u043b\\u044f \\u0447\\u0435\\u0433\\u043e \\u0414\\u041c\\u0421, \\u0443 \\u043c\\u0435\\u043d\\u044f \\u043f\\u043e\\u043d\\u0438\\u043c\\u0430\\u043d\\u0438\\u044f \\u043d\\u0435\\u0442. \\u041e\\u0442\\u0432\\u0440\\u0430\\u0442\\u0438\\u0442\\u0435\\u043b\\u044c\\u043d\\u0430\\u044f \\u043a\\u043e\\u043c\\u043f\\u0430\\u043d\\u0438\\u044f.\",\n          \"\\u0421\\u043b\\u0430\\u0432\\u0430 \\u0411\\u043e\\u0433\\u0443 \\u043d\\u0435 \\u043d\\u0430\\u0441\\u0442\\u0443\\u043f\\u0438\\u043b \\u0441\\u0442\\u0440\\u0430\\u0445\\u043e\\u0432\\u043e\\u0439 \\u0441\\u043b\\u0443\\u0447\\u0430\\u0439.\",\n          \"\\u0412 \\u043f\\u0440\\u043e\\u0448\\u043b\\u043e\\u043c \\u0433\\u043e\\u0434\\u0443 \\u0437\\u0430\\u0441\\u0442\\u0440\\u0430\\u0445\\u043e\\u0432\\u0430\\u043b \\u043a\\u0432\\u0430\\u0440\\u0442\\u0438\\u0440\\u0443 \\u0432 \\u0422\\u0438\\u043d\\u044c\\u043a\\u043e\\u0444\\u0444 \\u0441\\u0442\\u0440\\u0430\\u0445\\u043e\\u0432\\u0430\\u043d\\u0438\\u0435. \\u0421\\u0442\\u0440\\u0430\\u0445\\u043e\\u0432\\u0430\\u043b\\u0441\\u044f \\u0447\\u0435\\u0440\\u0435\\u0437 \\u0441\\u0430\\u0439\\u0442, \\u043f\\u043e\\u043b\\u0438\\u0441 \\u043f\\u0440\\u0438\\u0448\\u0435\\u043b \\u043d\\u0430 \\u043f\\u043e\\u0447\\u0442\\u0443. \\u0412 \\u043d\\u043e\\u0432\\u043e\\u0433\\u043e\\u0434\\u043d\\u0438\\u0435 \\u043f\\u0440\\u0430\\u0437\\u0434\\u043d\\u0438\\u043a\\u0438 \\u0432\\u043e \\u0432\\u0440\\u0435\\u043c\\u044f \\u0441\\u0438\\u043b\\u044c\\u043d\\u044b\\u0445 \\u043c\\u043e\\u0440\\u043e\\u0437\\u043e\\u0432 \\u0443 \\u0432\\u0435\\u0440\\u0445\\u043d\\u0438\\u0445 \\u0441\\u043e\\u0441\\u0435\\u0434\\u0435\\u0439 (\\u0447\\u0435\\u0440\\u0435\\u0437 \\u044d\\u0442\\u0430\\u0436) \\u043f\\u0440\\u043e\\u0440\\u0432\\u0430\\u043b\\u043e \\u0431\\u0430\\u0442\\u0430\\u0440\\u0435\\u0438 \\u043e\\u0442\\u043e\\u043f\\u043b\\u0435\\u043d\\u0438\\u044f. \\u0411\\u044b\\u043b\\u043e \\u0437\\u0430\\u043b\\u0438\\u0442\\u043e \\u043d\\u0435\\u0441\\u043a\\u043e\\u043b\\u044c\\u043a\\u043e \\u043a\\u0432\\u0430\\u0440\\u0442\\u0438\\u0440, \\u0432 \\u0442\\u043e\\u043c \\u0447\\u0438\\u0441\\u043b\\u0435 \\u0438 \\u043c\\u043e\\u044f \\u043a\\u0432\\u0430\\u0440\\u0442\\u0438\\u0440\\u0430. \\u0427\\u0435\\u0440\\u0435\\u0437 \\u0433\\u043e\\u0440\\u044f\\u0447\\u0443\\u044e \\u043b\\u0438\\u043d\\u0438\\u044e \\u044f \\u0441\\u043e\\u043e\\u0431\\u0449\\u0438\\u043b \\u043e \\u0441\\u0442\\u0440\\u0430\\u0445\\u043e\\u0432\\u043e\\u043c \\u0441\\u043b\\u0443\\u0447\\u0430\\u0435, \\u043c\\u043d\\u0435 \\u0441\\u0440\\u0430\\u0437\\u0443 \\u043d\\u0430\\u0437\\u043d\\u0430\\u0447\\u0438\\u043b\\u0438 \\u0441\\u0442\\u0440\\u0430\\u0445\\u043e\\u0432\\u043e\\u0433\\u043e \\u043c\\u0435\\u043d\\u0435\\u0434\\u0436\\u0435\\u0440\\u0430, \\u043a\\u043e\\u0442\\u043e\\u0440\\u0430\\u044f \\u043f\\u0440\\u0438\\u0441\\u043b\\u0430\\u043b\\u0430 \\u0441\\u043f\\u0438\\u0441\\u043e\\u043a \\u0442\\u0440\\u0435\\u0431\\u0443\\u0435\\u043c\\u044b\\u0445 \\u0434\\u043e\\u043a\\u0443\\u043c\\u0435\\u043d\\u0442\\u043e\\u0432. \\u041f\\u043e\\u0441\\u043b\\u0435 \\u043f\\u043e\\u043b\\u0443\\u0447\\u0435\\u043d\\u0438\\u044f \\u0430\\u043a\\u0442\\u0430 \\u043e\\u0442 \\u0443\\u043f\\u0440\\u0430\\u0432\\u043b\\u044f\\u044e\\u0449\\u0435\\u0439 \\u043a\\u043e\\u043c\\u043f\\u0430\\u043d\\u0438\\u0438 \\u0441\\u043e \\u043c\\u043d\\u043e\\u0439 \\u0441\\u0432\\u044f\\u0437\\u0430\\u043b\\u0430\\u0441\\u044c \\u0438 \\u043f\\u0440\\u0438\\u0441\\u043b\\u0430\\u043b\\u0438 \\u043d\\u0435\\u0437\\u0430\\u0432\\u0438\\u0441\\u0438\\u043c\\u043e\\u0433\\u043e \\u044d\\u043a\\u0441\\u043f\\u0435\\u0440\\u0442\\u0430, \\u043a\\u043e\\u0442\\u043e\\u0440\\u044b\\u0439 \\u0437\\u0430\\u0444\\u0438\\u043a\\u0441\\u0438\\u0440\\u043e\\u0432\\u0430\\u043b \\u0432\\u0441\\u0435 \\u043f\\u043e\\u0432\\u0440\\u0435\\u0436\\u0434\\u0435\\u043d\\u0438\\u044f \\u0438 \\u0441\\u043e\\u0441\\u0442\\u0430\\u0432\\u0438\\u043b \\u0430\\u043a\\u0442. \\u0412 \\u0442\\u0435\\u0447\\u0435\\u043d\\u0438\\u0435 \\u043d\\u0435\\u0434\\u0435\\u043b\\u0438 \\u0441\\u0442\\u0440\\u0430\\u0445\\u043e\\u0432\\u0430\\u044f \\u043a\\u043e\\u043c\\u043f\\u0430\\u043d\\u0438\\u044f \\u043e\\u0446\\u0435\\u043d\\u0438\\u043b\\u0430 \\u0441\\u0442\\u043e\\u0438\\u043c\\u043e\\u0441\\u0442\\u044c \\u0443\\u0449\\u0435\\u0440\\u0431\\u0430 \\u0438 \\u043f\\u0440\\u0438\\u0441\\u043b\\u0430\\u043b\\u0430 \\u0441\\u0432\\u043e\\u044e \\u043e\\u0446\\u0435\\u043d\\u043a\\u0443. \\u041e\\u0446\\u0435\\u043d\\u043a\\u0430 \\u0432\\u043f\\u043e\\u043b\\u043d\\u0435 \\u0430\\u0434\\u0435\\u043a\\u0432\\u0430\\u0442\\u043d\\u0430\\u044f, \\u044f \\u0441 \\u043d\\u0435\\u0439 \\u0441\\u043e\\u0433\\u043b\\u0430\\u0441\\u0438\\u043b\\u0441\\u044f \\u0438 \\u0431\\u0443\\u043a\\u0432\\u0430\\u043b\\u044c\\u043d\\u043e \\u043d\\u0430 \\u0441\\u043b\\u0435\\u0434\\u0443\\u044e\\u0449\\u0438\\u0439 \\u0434\\u0435\\u043d\\u044c \\u043d\\u0430 \\u043c\\u043e\\u0439 \\u0441\\u0447\\u0435\\u0442 \\u043f\\u043e\\u0441\\u0442\\u0443\\u043f\\u0438\\u043b\\u0438 \\u0434\\u0435\\u043d\\u044c\\u0433\\u0438. \\u0411\\u044b\\u043b \\u043f\\u0440\\u0438\\u044f\\u0442\\u043d\\u043e \\u0443\\u0434\\u0438\\u0432\\u043b\\u0435\\u043d \\u0442\\u0430\\u043a\\u0438\\u043c \\u043f\\u043e\\u0434\\u0445\\u043e\\u0434\\u043e\\u043c \\u0438 \\u043e\\u043f\\u0435\\u0440\\u0430\\u0442\\u0438\\u0432\\u043d\\u043e\\u0441\\u0442\\u044c\\u044e \\u0440\\u0435\\u0448\\u0435\\u043d\\u0438\\u044f, \\u043c\\u043e\\u0433\\u0443 \\u0440\\u0435\\u043a\\u043e\\u043c\\u0435\\u043d\\u0434\\u043e\\u0432\\u0430\\u0442\\u044c \\u0422\\u0438\\u043d\\u044c\\u043a\\u043e\\u0444\\u0444 \\u0441\\u0442\\u0440\\u0430\\u0445\\u043e\\u0432\\u0430\\u043d\\u0438\\u0435 \\u043a\\u0430\\u043a \\u043d\\u0430\\u0434\\u0435\\u0436\\u043d\\u043e\\u0433\\u043e \\u043f\\u0430\\u0440\\u0442\\u043d\\u0435\\u0440\\u0430. \\u041e\\u0442\\u0434\\u0435\\u043b\\u044c\\u043d\\u043e\\u0435 \\u0441\\u043f\\u0430\\u0441\\u0438\\u0431\\u043e \\u043c\\u0435\\u043d\\u0435\\u0434\\u0436\\u0435\\u0440\\u0443 \\u0410\\u043d\\u0430\\u0441\\u0442\\u0430\\u0441\\u0438\\u0438 \\u0437\\u0430 \\u043f\\u0440\\u043e\\u0444\\u0435\\u0441\\u0441\\u0438\\u043e\\u043d\\u0430\\u043b\\u044c\\u043d\\u0443\\u044e \\u0440\\u0430\\u0431\\u043e\\u0442\\u0443.\"\n        ],\n        \"semantic_type\": \"\",\n        \"description\": \"\"\n      }\n    },\n    {\n      \"column\": \"rate\",\n      \"properties\": {\n        \"dtype\": \"category\",\n        \"num_unique_values\": 5,\n        \"samples\": [\n          \"4\",\n          \"3\",\n          \"1\"\n        ],\n        \"semantic_type\": \"\",\n        \"description\": \"\"\n      }\n    },\n    {\n      \"column\": \"date\",\n      \"properties\": {\n        \"dtype\": \"category\",\n        \"num_unique_values\": 485,\n        \"samples\": [\n          \"23.02.2024\",\n          \"25.01.202\",\n          \"23.06.202\"\n        ],\n        \"semantic_type\": \"\",\n        \"description\": \"\"\n      }\n    }\n  ]\n}",
       "type": "dataframe",
       "variable_name": "df"
      },
      "text/html": [
       "\n",
       "  <div id=\"df-787d54c8-9987-430f-8411-b2f3ceb93d3e\" class=\"colab-df-container\">\n",
       "    <div>\n",
       "<style scoped>\n",
       "    .dataframe tbody tr th:only-of-type {\n",
       "        vertical-align: middle;\n",
       "    }\n",
       "\n",
       "    .dataframe tbody tr th {\n",
       "        vertical-align: top;\n",
       "    }\n",
       "\n",
       "    .dataframe thead th {\n",
       "        text-align: right;\n",
       "    }\n",
       "</style>\n",
       "<table border=\"1\" class=\"dataframe\">\n",
       "  <thead>\n",
       "    <tr style=\"text-align: right;\">\n",
       "      <th></th>\n",
       "      <th>header</th>\n",
       "      <th>bank</th>\n",
       "      <th>review</th>\n",
       "      <th>rate</th>\n",
       "      <th>date</th>\n",
       "    </tr>\n",
       "  </thead>\n",
       "  <tbody>\n",
       "    <tr>\n",
       "      <th>0</th>\n",
       "      <td>Хорошая страховая компания</td>\n",
       "      <td>Т-Страхование</td>\n",
       "      <td>Оформили каско и не пожалели !  Когда случилос...</td>\n",
       "      <td>5</td>\n",
       "      <td>22.09.2024</td>\n",
       "    </tr>\n",
       "    <tr>\n",
       "      <th>1</th>\n",
       "      <td>За стразовку</td>\n",
       "      <td>Совкомбанк Страхование</td>\n",
       "      <td>Самая дешёвая страховка из всех, в Совкомбанк....</td>\n",
       "      <td>4</td>\n",
       "      <td>22.09.2024</td>\n",
       "    </tr>\n",
       "    <tr>\n",
       "      <th>2</th>\n",
       "      <td>Как я пришел за ОСАГО в Т-Банк</td>\n",
       "      <td>Т-Страхование</td>\n",
       "      <td>Здравствуйте уважаемые СММщики Т-Банка. Пришел...</td>\n",
       "      <td>1</td>\n",
       "      <td>22.09.2024</td>\n",
       "    </tr>\n",
       "    <tr>\n",
       "      <th>3</th>\n",
       "      <td>ОСАГО+КАСКОGO</td>\n",
       "      <td>АльфаСтрахование</td>\n",
       "      <td>Добрый вечер, один свой автомобиль застраховал...</td>\n",
       "      <td>5</td>\n",
       "      <td>22.09.2024</td>\n",
       "    </tr>\n",
       "    <tr>\n",
       "      <th>4</th>\n",
       "      <td>Обман сбербанк страхование семейный актив</td>\n",
       "      <td>Сбербанк страхование жизни</td>\n",
       "      <td>Дорогие человеки,ни в коем случае не связывайт...</td>\n",
       "      <td>1</td>\n",
       "      <td>22.09.2024</td>\n",
       "    </tr>\n",
       "    <tr>\n",
       "      <th>...</th>\n",
       "      <td>...</td>\n",
       "      <td>...</td>\n",
       "      <td>...</td>\n",
       "      <td>...</td>\n",
       "      <td>...</td>\n",
       "    </tr>\n",
       "    <tr>\n",
       "      <th>9556</th>\n",
       "      <td>Мне предоставили хорошую скидку на страховку ж...</td>\n",
       "      <td>Т-Страхование</td>\n",
       "      <td>Позвонили с Тинькофф Страхования. У меня оформ...</td>\n",
       "      <td>5</td>\n",
       "      <td>20.01.2024</td>\n",
       "    </tr>\n",
       "    <tr>\n",
       "      <th>9557</th>\n",
       "      <td>Мой выбор - Ренессанс</td>\n",
       "      <td>Ренессанс</td>\n",
       "      <td>Здравствуйте! Не всегда принято оставлять поло...</td>\n",
       "      <td>5</td>\n",
       "      <td>20.01.2024</td>\n",
       "    </tr>\n",
       "    <tr>\n",
       "      <th>9558</th>\n",
       "      <td>Защита в пути, КАСКО</td>\n",
       "      <td>Сбербанк страхование</td>\n",
       "      <td>26.12.23 приобрёл автомобиль в кредит в Драйв ...</td>\n",
       "      <td>1</td>\n",
       "      <td>20.01.2024</td>\n",
       "    </tr>\n",
       "    <tr>\n",
       "      <th>9559</th>\n",
       "      <td>Нет возврата по страховке</td>\n",
       "      <td>Хоум Кредит Страхование</td>\n",
       "      <td>Помогите пожалуйста , взял кредит и сразу отка...</td>\n",
       "      <td>1</td>\n",
       "      <td>20.01.2024</td>\n",
       "    </tr>\n",
       "    <tr>\n",
       "      <th>9560</th>\n",
       "      <td>Самые лучшие</td>\n",
       "      <td>Т-Страхование</td>\n",
       "      <td>20.01.24 произошло ДТП, примерно в 10.00, вызв...</td>\n",
       "      <td>5</td>\n",
       "      <td>20.01.2024</td>\n",
       "    </tr>\n",
       "  </tbody>\n",
       "</table>\n",
       "<p>9561 rows × 5 columns</p>\n",
       "</div>\n",
       "    <div class=\"colab-df-buttons\">\n",
       "\n",
       "  <div class=\"colab-df-container\">\n",
       "    <button class=\"colab-df-convert\" onclick=\"convertToInteractive('df-787d54c8-9987-430f-8411-b2f3ceb93d3e')\"\n",
       "            title=\"Convert this dataframe to an interactive table.\"\n",
       "            style=\"display:none;\">\n",
       "\n",
       "  <svg xmlns=\"http://www.w3.org/2000/svg\" height=\"24px\" viewBox=\"0 -960 960 960\">\n",
       "    <path d=\"M120-120v-720h720v720H120Zm60-500h600v-160H180v160Zm220 220h160v-160H400v160Zm0 220h160v-160H400v160ZM180-400h160v-160H180v160Zm440 0h160v-160H620v160ZM180-180h160v-160H180v160Zm440 0h160v-160H620v160Z\"/>\n",
       "  </svg>\n",
       "    </button>\n",
       "\n",
       "  <style>\n",
       "    .colab-df-container {\n",
       "      display:flex;\n",
       "      gap: 12px;\n",
       "    }\n",
       "\n",
       "    .colab-df-convert {\n",
       "      background-color: #E8F0FE;\n",
       "      border: none;\n",
       "      border-radius: 50%;\n",
       "      cursor: pointer;\n",
       "      display: none;\n",
       "      fill: #1967D2;\n",
       "      height: 32px;\n",
       "      padding: 0 0 0 0;\n",
       "      width: 32px;\n",
       "    }\n",
       "\n",
       "    .colab-df-convert:hover {\n",
       "      background-color: #E2EBFA;\n",
       "      box-shadow: 0px 1px 2px rgba(60, 64, 67, 0.3), 0px 1px 3px 1px rgba(60, 64, 67, 0.15);\n",
       "      fill: #174EA6;\n",
       "    }\n",
       "\n",
       "    .colab-df-buttons div {\n",
       "      margin-bottom: 4px;\n",
       "    }\n",
       "\n",
       "    [theme=dark] .colab-df-convert {\n",
       "      background-color: #3B4455;\n",
       "      fill: #D2E3FC;\n",
       "    }\n",
       "\n",
       "    [theme=dark] .colab-df-convert:hover {\n",
       "      background-color: #434B5C;\n",
       "      box-shadow: 0px 1px 3px 1px rgba(0, 0, 0, 0.15);\n",
       "      filter: drop-shadow(0px 1px 2px rgba(0, 0, 0, 0.3));\n",
       "      fill: #FFFFFF;\n",
       "    }\n",
       "  </style>\n",
       "\n",
       "    <script>\n",
       "      const buttonEl =\n",
       "        document.querySelector('#df-787d54c8-9987-430f-8411-b2f3ceb93d3e button.colab-df-convert');\n",
       "      buttonEl.style.display =\n",
       "        google.colab.kernel.accessAllowed ? 'block' : 'none';\n",
       "\n",
       "      async function convertToInteractive(key) {\n",
       "        const element = document.querySelector('#df-787d54c8-9987-430f-8411-b2f3ceb93d3e');\n",
       "        const dataTable =\n",
       "          await google.colab.kernel.invokeFunction('convertToInteractive',\n",
       "                                                    [key], {});\n",
       "        if (!dataTable) return;\n",
       "\n",
       "        const docLinkHtml = 'Like what you see? Visit the ' +\n",
       "          '<a target=\"_blank\" href=https://colab.research.google.com/notebooks/data_table.ipynb>data table notebook</a>'\n",
       "          + ' to learn more about interactive tables.';\n",
       "        element.innerHTML = '';\n",
       "        dataTable['output_type'] = 'display_data';\n",
       "        await google.colab.output.renderOutput(dataTable, element);\n",
       "        const docLink = document.createElement('div');\n",
       "        docLink.innerHTML = docLinkHtml;\n",
       "        element.appendChild(docLink);\n",
       "      }\n",
       "    </script>\n",
       "  </div>\n",
       "\n",
       "\n",
       "<div id=\"df-e16ae002-ccd4-4705-a952-01510d252203\">\n",
       "  <button class=\"colab-df-quickchart\" onclick=\"quickchart('df-e16ae002-ccd4-4705-a952-01510d252203')\"\n",
       "            title=\"Suggest charts\"\n",
       "            style=\"display:none;\">\n",
       "\n",
       "<svg xmlns=\"http://www.w3.org/2000/svg\" height=\"24px\"viewBox=\"0 0 24 24\"\n",
       "     width=\"24px\">\n",
       "    <g>\n",
       "        <path d=\"M19 3H5c-1.1 0-2 .9-2 2v14c0 1.1.9 2 2 2h14c1.1 0 2-.9 2-2V5c0-1.1-.9-2-2-2zM9 17H7v-7h2v7zm4 0h-2V7h2v10zm4 0h-2v-4h2v4z\"/>\n",
       "    </g>\n",
       "</svg>\n",
       "  </button>\n",
       "\n",
       "<style>\n",
       "  .colab-df-quickchart {\n",
       "      --bg-color: #E8F0FE;\n",
       "      --fill-color: #1967D2;\n",
       "      --hover-bg-color: #E2EBFA;\n",
       "      --hover-fill-color: #174EA6;\n",
       "      --disabled-fill-color: #AAA;\n",
       "      --disabled-bg-color: #DDD;\n",
       "  }\n",
       "\n",
       "  [theme=dark] .colab-df-quickchart {\n",
       "      --bg-color: #3B4455;\n",
       "      --fill-color: #D2E3FC;\n",
       "      --hover-bg-color: #434B5C;\n",
       "      --hover-fill-color: #FFFFFF;\n",
       "      --disabled-bg-color: #3B4455;\n",
       "      --disabled-fill-color: #666;\n",
       "  }\n",
       "\n",
       "  .colab-df-quickchart {\n",
       "    background-color: var(--bg-color);\n",
       "    border: none;\n",
       "    border-radius: 50%;\n",
       "    cursor: pointer;\n",
       "    display: none;\n",
       "    fill: var(--fill-color);\n",
       "    height: 32px;\n",
       "    padding: 0;\n",
       "    width: 32px;\n",
       "  }\n",
       "\n",
       "  .colab-df-quickchart:hover {\n",
       "    background-color: var(--hover-bg-color);\n",
       "    box-shadow: 0 1px 2px rgba(60, 64, 67, 0.3), 0 1px 3px 1px rgba(60, 64, 67, 0.15);\n",
       "    fill: var(--button-hover-fill-color);\n",
       "  }\n",
       "\n",
       "  .colab-df-quickchart-complete:disabled,\n",
       "  .colab-df-quickchart-complete:disabled:hover {\n",
       "    background-color: var(--disabled-bg-color);\n",
       "    fill: var(--disabled-fill-color);\n",
       "    box-shadow: none;\n",
       "  }\n",
       "\n",
       "  .colab-df-spinner {\n",
       "    border: 2px solid var(--fill-color);\n",
       "    border-color: transparent;\n",
       "    border-bottom-color: var(--fill-color);\n",
       "    animation:\n",
       "      spin 1s steps(1) infinite;\n",
       "  }\n",
       "\n",
       "  @keyframes spin {\n",
       "    0% {\n",
       "      border-color: transparent;\n",
       "      border-bottom-color: var(--fill-color);\n",
       "      border-left-color: var(--fill-color);\n",
       "    }\n",
       "    20% {\n",
       "      border-color: transparent;\n",
       "      border-left-color: var(--fill-color);\n",
       "      border-top-color: var(--fill-color);\n",
       "    }\n",
       "    30% {\n",
       "      border-color: transparent;\n",
       "      border-left-color: var(--fill-color);\n",
       "      border-top-color: var(--fill-color);\n",
       "      border-right-color: var(--fill-color);\n",
       "    }\n",
       "    40% {\n",
       "      border-color: transparent;\n",
       "      border-right-color: var(--fill-color);\n",
       "      border-top-color: var(--fill-color);\n",
       "    }\n",
       "    60% {\n",
       "      border-color: transparent;\n",
       "      border-right-color: var(--fill-color);\n",
       "    }\n",
       "    80% {\n",
       "      border-color: transparent;\n",
       "      border-right-color: var(--fill-color);\n",
       "      border-bottom-color: var(--fill-color);\n",
       "    }\n",
       "    90% {\n",
       "      border-color: transparent;\n",
       "      border-bottom-color: var(--fill-color);\n",
       "    }\n",
       "  }\n",
       "</style>\n",
       "\n",
       "  <script>\n",
       "    async function quickchart(key) {\n",
       "      const quickchartButtonEl =\n",
       "        document.querySelector('#' + key + ' button');\n",
       "      quickchartButtonEl.disabled = true;  // To prevent multiple clicks.\n",
       "      quickchartButtonEl.classList.add('colab-df-spinner');\n",
       "      try {\n",
       "        const charts = await google.colab.kernel.invokeFunction(\n",
       "            'suggestCharts', [key], {});\n",
       "      } catch (error) {\n",
       "        console.error('Error during call to suggestCharts:', error);\n",
       "      }\n",
       "      quickchartButtonEl.classList.remove('colab-df-spinner');\n",
       "      quickchartButtonEl.classList.add('colab-df-quickchart-complete');\n",
       "    }\n",
       "    (() => {\n",
       "      let quickchartButtonEl =\n",
       "        document.querySelector('#df-e16ae002-ccd4-4705-a952-01510d252203 button');\n",
       "      quickchartButtonEl.style.display =\n",
       "        google.colab.kernel.accessAllowed ? 'block' : 'none';\n",
       "    })();\n",
       "  </script>\n",
       "</div>\n",
       "    </div>\n",
       "  </div>\n"
      ],
      "text/plain": [
       "                                                 header  \\\n",
       "0                            Хорошая страховая компания   \n",
       "1                                          За стразовку   \n",
       "2                        Как я пришел за ОСАГО в Т-Банк   \n",
       "3                                         ОСАГО+КАСКОGO   \n",
       "4             Обман сбербанк страхование семейный актив   \n",
       "...                                                 ...   \n",
       "9556  Мне предоставили хорошую скидку на страховку ж...   \n",
       "9557                              Мой выбор - Ренессанс   \n",
       "9558                               Защита в пути, КАСКО   \n",
       "9559                          Нет возврата по страховке   \n",
       "9560                                       Самые лучшие   \n",
       "\n",
       "                            bank  \\\n",
       "0                  Т-Страхование   \n",
       "1         Совкомбанк Страхование   \n",
       "2                  Т-Страхование   \n",
       "3               АльфаСтрахование   \n",
       "4     Сбербанк страхование жизни   \n",
       "...                          ...   \n",
       "9556               Т-Страхование   \n",
       "9557                   Ренессанс   \n",
       "9558        Сбербанк страхование   \n",
       "9559     Хоум Кредит Страхование   \n",
       "9560               Т-Страхование   \n",
       "\n",
       "                                                 review rate        date  \n",
       "0     Оформили каско и не пожалели !  Когда случилос...    5  22.09.2024  \n",
       "1     Самая дешёвая страховка из всех, в Совкомбанк....    4  22.09.2024  \n",
       "2     Здравствуйте уважаемые СММщики Т-Банка. Пришел...    1  22.09.2024  \n",
       "3     Добрый вечер, один свой автомобиль застраховал...    5  22.09.2024  \n",
       "4     Дорогие человеки,ни в коем случае не связывайт...    1  22.09.2024  \n",
       "...                                                 ...  ...         ...  \n",
       "9556  Позвонили с Тинькофф Страхования. У меня оформ...    5  20.01.2024  \n",
       "9557  Здравствуйте! Не всегда принято оставлять поло...    5  20.01.2024  \n",
       "9558  26.12.23 приобрёл автомобиль в кредит в Драйв ...    1  20.01.2024  \n",
       "9559  Помогите пожалуйста , взял кредит и сразу отка...    1  20.01.2024  \n",
       "9560  20.01.24 произошло ДТП, примерно в 10.00, вызв...    5  20.01.2024  \n",
       "\n",
       "[9561 rows x 5 columns]"
      ]
     },
     "execution_count": 22,
     "metadata": {},
     "output_type": "execute_result"
    }
   ],
   "source": [
    "df"
   ]
  },
  {
   "cell_type": "markdown",
   "metadata": {
    "id": "nJ7WJQRFX8qP"
   },
   "source": [
    "### Запись данных в файл"
   ]
  },
  {
   "cell_type": "markdown",
   "metadata": {
    "id": "jcZ8_8bjkIEA"
   },
   "source": [
    "Запишем данные, собранные выше, в файл, чтобы было удобнее и быстрее их доставать."
   ]
  },
  {
   "cell_type": "code",
   "execution_count": null,
   "metadata": {
    "id": "by5hmH7SML1-"
   },
   "outputs": [],
   "source": [
    "filename = \"insurance_reviews.csv\"\n",
    "df.to_csv(filename, index=False)"
   ]
  },
  {
   "cell_type": "markdown",
   "metadata": {
    "id": "zbwARmT1dQ4R"
   },
   "source": [
    "## Загрузка датасета"
   ]
  },
  {
   "cell_type": "markdown",
   "metadata": {
    "id": "azFz2D1HdZvU"
   },
   "source": [
    "Читаем датасет из файла, так как код парсинга работает долго…"
   ]
  },
  {
   "cell_type": "code",
   "execution_count": 29,
   "metadata": {
    "colab": {
     "base_uri": "https://localhost:8080/"
    },
    "id": "rr7ZkmOEdRPt",
    "outputId": "31740757-41dd-4a1a-b30d-b64b71e17a27"
   },
   "outputs": [
    {
     "data": {
      "text/html": [
       "<div>\n",
       "<style scoped>\n",
       "    .dataframe tbody tr th:only-of-type {\n",
       "        vertical-align: middle;\n",
       "    }\n",
       "\n",
       "    .dataframe tbody tr th {\n",
       "        vertical-align: top;\n",
       "    }\n",
       "\n",
       "    .dataframe thead th {\n",
       "        text-align: right;\n",
       "    }\n",
       "</style>\n",
       "<table border=\"1\" class=\"dataframe\">\n",
       "  <thead>\n",
       "    <tr style=\"text-align: right;\">\n",
       "      <th></th>\n",
       "      <th>header</th>\n",
       "      <th>bank</th>\n",
       "      <th>review</th>\n",
       "      <th>rate</th>\n",
       "      <th>date</th>\n",
       "    </tr>\n",
       "  </thead>\n",
       "  <tbody>\n",
       "    <tr>\n",
       "      <th>0</th>\n",
       "      <td>Хорошая страховая компания</td>\n",
       "      <td>Т-Страхование</td>\n",
       "      <td>Оформили каско и не пожалели !  Когда случилос...</td>\n",
       "      <td>5</td>\n",
       "      <td>22.09.2024</td>\n",
       "    </tr>\n",
       "    <tr>\n",
       "      <th>1</th>\n",
       "      <td>За стразовку</td>\n",
       "      <td>Совкомбанк Страхование</td>\n",
       "      <td>Самая дешёвая страховка из всех, в Совкомбанк....</td>\n",
       "      <td>4</td>\n",
       "      <td>22.09.2024</td>\n",
       "    </tr>\n",
       "    <tr>\n",
       "      <th>2</th>\n",
       "      <td>Как я пришел за ОСАГО в Т-Банк</td>\n",
       "      <td>Т-Страхование</td>\n",
       "      <td>Здравствуйте уважаемые СММщики Т-Банка. Пришел...</td>\n",
       "      <td>1</td>\n",
       "      <td>22.09.2024</td>\n",
       "    </tr>\n",
       "    <tr>\n",
       "      <th>3</th>\n",
       "      <td>ОСАГО+КАСКОGO</td>\n",
       "      <td>АльфаСтрахование</td>\n",
       "      <td>Добрый вечер, один свой автомобиль застраховал...</td>\n",
       "      <td>5</td>\n",
       "      <td>22.09.2024</td>\n",
       "    </tr>\n",
       "    <tr>\n",
       "      <th>4</th>\n",
       "      <td>Обман сбербанк страхование семейный актив</td>\n",
       "      <td>Сбербанк страхование жизни</td>\n",
       "      <td>Дорогие человеки,ни в коем случае не связывайт...</td>\n",
       "      <td>1</td>\n",
       "      <td>22.09.2024</td>\n",
       "    </tr>\n",
       "    <tr>\n",
       "      <th>...</th>\n",
       "      <td>...</td>\n",
       "      <td>...</td>\n",
       "      <td>...</td>\n",
       "      <td>...</td>\n",
       "      <td>...</td>\n",
       "    </tr>\n",
       "    <tr>\n",
       "      <th>9556</th>\n",
       "      <td>Мне предоставили хорошую скидку на страховку ж...</td>\n",
       "      <td>Т-Страхование</td>\n",
       "      <td>Позвонили с Тинькофф Страхования. У меня оформ...</td>\n",
       "      <td>5</td>\n",
       "      <td>20.01.2024</td>\n",
       "    </tr>\n",
       "    <tr>\n",
       "      <th>9557</th>\n",
       "      <td>Мой выбор - Ренессанс</td>\n",
       "      <td>Ренессанс</td>\n",
       "      <td>Здравствуйте! Не всегда принято оставлять поло...</td>\n",
       "      <td>5</td>\n",
       "      <td>20.01.2024</td>\n",
       "    </tr>\n",
       "    <tr>\n",
       "      <th>9558</th>\n",
       "      <td>Защита в пути, КАСКО</td>\n",
       "      <td>Сбербанк страхование</td>\n",
       "      <td>26.12.23 приобрёл автомобиль в кредит в Драйв ...</td>\n",
       "      <td>1</td>\n",
       "      <td>20.01.2024</td>\n",
       "    </tr>\n",
       "    <tr>\n",
       "      <th>9559</th>\n",
       "      <td>Нет возврата по страховке</td>\n",
       "      <td>Хоум Кредит Страхование</td>\n",
       "      <td>Помогите пожалуйста , взял кредит и сразу отка...</td>\n",
       "      <td>1</td>\n",
       "      <td>20.01.2024</td>\n",
       "    </tr>\n",
       "    <tr>\n",
       "      <th>9560</th>\n",
       "      <td>Самые лучшие</td>\n",
       "      <td>Т-Страхование</td>\n",
       "      <td>20.01.24 произошло ДТП, примерно в 10.00, вызв...</td>\n",
       "      <td>5</td>\n",
       "      <td>20.01.2024</td>\n",
       "    </tr>\n",
       "  </tbody>\n",
       "</table>\n",
       "<p>9561 rows × 5 columns</p>\n",
       "</div>"
      ],
      "text/plain": [
       "                                                 header  \\\n",
       "0                            Хорошая страховая компания   \n",
       "1                                          За стразовку   \n",
       "2                        Как я пришел за ОСАГО в Т-Банк   \n",
       "3                                         ОСАГО+КАСКОGO   \n",
       "4             Обман сбербанк страхование семейный актив   \n",
       "...                                                 ...   \n",
       "9556  Мне предоставили хорошую скидку на страховку ж...   \n",
       "9557                              Мой выбор - Ренессанс   \n",
       "9558                               Защита в пути, КАСКО   \n",
       "9559                          Нет возврата по страховке   \n",
       "9560                                       Самые лучшие   \n",
       "\n",
       "                            bank  \\\n",
       "0                  Т-Страхование   \n",
       "1         Совкомбанк Страхование   \n",
       "2                  Т-Страхование   \n",
       "3               АльфаСтрахование   \n",
       "4     Сбербанк страхование жизни   \n",
       "...                          ...   \n",
       "9556               Т-Страхование   \n",
       "9557                   Ренессанс   \n",
       "9558        Сбербанк страхование   \n",
       "9559     Хоум Кредит Страхование   \n",
       "9560               Т-Страхование   \n",
       "\n",
       "                                                 review  rate        date  \n",
       "0     Оформили каско и не пожалели !  Когда случилос...     5  22.09.2024  \n",
       "1     Самая дешёвая страховка из всех, в Совкомбанк....     4  22.09.2024  \n",
       "2     Здравствуйте уважаемые СММщики Т-Банка. Пришел...     1  22.09.2024  \n",
       "3     Добрый вечер, один свой автомобиль застраховал...     5  22.09.2024  \n",
       "4     Дорогие человеки,ни в коем случае не связывайт...     1  22.09.2024  \n",
       "...                                                 ...   ...         ...  \n",
       "9556  Позвонили с Тинькофф Страхования. У меня оформ...     5  20.01.2024  \n",
       "9557  Здравствуйте! Не всегда принято оставлять поло...     5  20.01.2024  \n",
       "9558  26.12.23 приобрёл автомобиль в кредит в Драйв ...     1  20.01.2024  \n",
       "9559  Помогите пожалуйста , взял кредит и сразу отка...     1  20.01.2024  \n",
       "9560  20.01.24 произошло ДТП, примерно в 10.00, вызв...     5  20.01.2024  \n",
       "\n",
       "[9561 rows x 5 columns]"
      ]
     },
     "execution_count": 29,
     "metadata": {},
     "output_type": "execute_result"
    }
   ],
   "source": [
    "df = pd.read_csv(\"insurance_reviews.csv\")\n",
    "df"
   ]
  },
  {
   "cell_type": "markdown",
   "metadata": {
    "id": "HPwRM_m6YAW8"
   },
   "source": [
    "## Обработка данных"
   ]
  },
  {
   "cell_type": "markdown",
   "metadata": {
    "id": "v643tg3Y2Sj_"
   },
   "source": [
    "Изучим датасет и выведем его описательную характкристику. Обработаем/очистим данные для того, чтобы было удобнее их анализировать и визуализировать."
   ]
  },
  {
   "cell_type": "code",
   "execution_count": 30,
   "metadata": {
    "colab": {
     "base_uri": "https://localhost:8080/"
    },
    "id": "wvH0h_bJ3mPF",
    "outputId": "4994a2c0-f079-454e-ba6e-9b5de1724211"
   },
   "outputs": [
    {
     "data": {
      "text/plain": [
       "(9561, 5)"
      ]
     },
     "execution_count": 30,
     "metadata": {},
     "output_type": "execute_result"
    }
   ],
   "source": [
    "# выведем размерность датасета\n",
    "df.shape"
   ]
  },
  {
   "cell_type": "code",
   "execution_count": 31,
   "metadata": {
    "colab": {
     "base_uri": "https://localhost:8080/"
    },
    "id": "8P2_9poc3sh0",
    "outputId": "a752ae8d-5a2a-4cbc-cfd3-693c4a77431e"
   },
   "outputs": [
    {
     "data": {
      "text/plain": [
       "header    object\n",
       "bank      object\n",
       "review    object\n",
       "rate       int64\n",
       "date      object\n",
       "dtype: object"
      ]
     },
     "execution_count": 31,
     "metadata": {},
     "output_type": "execute_result"
    }
   ],
   "source": [
    "# выведем типы данных столбцов\n",
    "df.dtypes"
   ]
  },
  {
   "cell_type": "code",
   "execution_count": 32,
   "metadata": {
    "colab": {
     "base_uri": "https://localhost:8080/"
    },
    "id": "8OtVRCW42YuD",
    "outputId": "22a32b06-5509-4ce9-db95-9c9a21ce27db"
   },
   "outputs": [
    {
     "data": {
      "text/html": [
       "<div>\n",
       "<style scoped>\n",
       "    .dataframe tbody tr th:only-of-type {\n",
       "        vertical-align: middle;\n",
       "    }\n",
       "\n",
       "    .dataframe tbody tr th {\n",
       "        vertical-align: top;\n",
       "    }\n",
       "\n",
       "    .dataframe thead th {\n",
       "        text-align: right;\n",
       "    }\n",
       "</style>\n",
       "<table border=\"1\" class=\"dataframe\">\n",
       "  <thead>\n",
       "    <tr style=\"text-align: right;\">\n",
       "      <th></th>\n",
       "      <th>rate</th>\n",
       "    </tr>\n",
       "  </thead>\n",
       "  <tbody>\n",
       "    <tr>\n",
       "      <th>count</th>\n",
       "      <td>9561.000000</td>\n",
       "    </tr>\n",
       "    <tr>\n",
       "      <th>mean</th>\n",
       "      <td>3.579856</td>\n",
       "    </tr>\n",
       "    <tr>\n",
       "      <th>std</th>\n",
       "      <td>1.865433</td>\n",
       "    </tr>\n",
       "    <tr>\n",
       "      <th>min</th>\n",
       "      <td>1.000000</td>\n",
       "    </tr>\n",
       "    <tr>\n",
       "      <th>25%</th>\n",
       "      <td>1.000000</td>\n",
       "    </tr>\n",
       "    <tr>\n",
       "      <th>50%</th>\n",
       "      <td>5.000000</td>\n",
       "    </tr>\n",
       "    <tr>\n",
       "      <th>75%</th>\n",
       "      <td>5.000000</td>\n",
       "    </tr>\n",
       "    <tr>\n",
       "      <th>max</th>\n",
       "      <td>5.000000</td>\n",
       "    </tr>\n",
       "  </tbody>\n",
       "</table>\n",
       "</div>"
      ],
      "text/plain": [
       "              rate\n",
       "count  9561.000000\n",
       "mean      3.579856\n",
       "std       1.865433\n",
       "min       1.000000\n",
       "25%       1.000000\n",
       "50%       5.000000\n",
       "75%       5.000000\n",
       "max       5.000000"
      ]
     },
     "execution_count": 32,
     "metadata": {},
     "output_type": "execute_result"
    }
   ],
   "source": [
    "# выведем основные статистические показатели столбца с оценками\n",
    "df.describe()"
   ]
  },
  {
   "cell_type": "code",
   "execution_count": 33,
   "metadata": {
    "colab": {
     "base_uri": "https://localhost:8080/"
    },
    "id": "iG_xJZI12Yow",
    "outputId": "6e4792f8-54a7-4886-e17d-d0c93e3f9256"
   },
   "outputs": [
    {
     "data": {
      "text/plain": [
       "header    7105\n",
       "bank        65\n",
       "review    9551\n",
       "rate         5\n",
       "date       485\n",
       "dtype: int64"
      ]
     },
     "execution_count": 33,
     "metadata": {},
     "output_type": "execute_result"
    }
   ],
   "source": [
    "# выведем количество уникальных значений датасета по столбцам\n",
    "df.nunique()"
   ]
  },
  {
   "cell_type": "code",
   "execution_count": 34,
   "metadata": {
    "colab": {
     "base_uri": "https://localhost:8080/"
    },
    "id": "zSftK-Hx6Hg4",
    "outputId": "6a692634-f2d8-425c-e483-833009364eac"
   },
   "outputs": [
    {
     "data": {
      "text/plain": [
       "10"
      ]
     },
     "execution_count": 34,
     "metadata": {},
     "output_type": "execute_result"
    }
   ],
   "source": [
    "# проверим количество повторяющихся отзывов\n",
    "df[\"review\"].duplicated().sum()"
   ]
  },
  {
   "cell_type": "code",
   "execution_count": 35,
   "metadata": {
    "colab": {
     "base_uri": "https://localhost:8080/"
    },
    "id": "5h7uawk34CF7",
    "outputId": "e9019b58-b70b-427d-acb0-9858aee7dc42"
   },
   "outputs": [
    {
     "data": {
      "text/plain": [
       "header    0\n",
       "bank      0\n",
       "review    0\n",
       "rate      0\n",
       "date      0\n",
       "dtype: int64"
      ]
     },
     "execution_count": 35,
     "metadata": {},
     "output_type": "execute_result"
    }
   ],
   "source": [
    "# выведем количество пустых значений датасета по столбцам\n",
    "df.isna().sum()"
   ]
  },
  {
   "cell_type": "markdown",
   "metadata": {
    "id": "BR8lC7vh5DaB"
   },
   "source": [
    "В результате изучения датасета и его наполнения выяснилось:\n",
    "\n",
    "* размерность датасета - `(9561, 5)`;\n",
    "* оценка указана в числовом формате `int64`, остальные столбцы - `object`;\n",
    "* средняя оценка по отзывам - `3,58`;\n",
    "* из 9561 отзывов уникальными являются 9551, 10 отзывов - дубликаты;\n",
    "* нулевые значения отсутствуют;\n",
    "* количество банков/организаций в датасете - `65`.\n",
    "\n",
    "Следовательно, дубликаты необходимо удалить. Далее будет обработка и очистка данных."
   ]
  },
  {
   "cell_type": "code",
   "execution_count": 36,
   "metadata": {
    "colab": {
     "base_uri": "https://localhost:8080/"
    },
    "id": "EnHO1fS82YhU",
    "outputId": "a16bc012-ad1e-4216-a42c-67b7552f6203"
   },
   "outputs": [
    {
     "data": {
      "text/html": [
       "<div>\n",
       "<style scoped>\n",
       "    .dataframe tbody tr th:only-of-type {\n",
       "        vertical-align: middle;\n",
       "    }\n",
       "\n",
       "    .dataframe tbody tr th {\n",
       "        vertical-align: top;\n",
       "    }\n",
       "\n",
       "    .dataframe thead th {\n",
       "        text-align: right;\n",
       "    }\n",
       "</style>\n",
       "<table border=\"1\" class=\"dataframe\">\n",
       "  <thead>\n",
       "    <tr style=\"text-align: right;\">\n",
       "      <th></th>\n",
       "      <th>header</th>\n",
       "      <th>bank</th>\n",
       "      <th>review</th>\n",
       "      <th>rate</th>\n",
       "      <th>date</th>\n",
       "    </tr>\n",
       "  </thead>\n",
       "  <tbody>\n",
       "    <tr>\n",
       "      <th>0</th>\n",
       "      <td>Хорошая страховая компания</td>\n",
       "      <td>Т-Страхование</td>\n",
       "      <td>Оформили каско и не пожалели !  Когда случилос...</td>\n",
       "      <td>5</td>\n",
       "      <td>22.09.2024</td>\n",
       "    </tr>\n",
       "    <tr>\n",
       "      <th>1</th>\n",
       "      <td>За стразовку</td>\n",
       "      <td>Совкомбанк Страхование</td>\n",
       "      <td>Самая дешёвая страховка из всех, в Совкомбанк....</td>\n",
       "      <td>4</td>\n",
       "      <td>22.09.2024</td>\n",
       "    </tr>\n",
       "    <tr>\n",
       "      <th>2</th>\n",
       "      <td>Как я пришел за ОСАГО в Т-Банк</td>\n",
       "      <td>Т-Страхование</td>\n",
       "      <td>Здравствуйте уважаемые СММщики Т-Банка. Пришел...</td>\n",
       "      <td>1</td>\n",
       "      <td>22.09.2024</td>\n",
       "    </tr>\n",
       "    <tr>\n",
       "      <th>3</th>\n",
       "      <td>ОСАГО+КАСКОGO</td>\n",
       "      <td>АльфаСтрахование</td>\n",
       "      <td>Добрый вечер, один свой автомобиль застраховал...</td>\n",
       "      <td>5</td>\n",
       "      <td>22.09.2024</td>\n",
       "    </tr>\n",
       "    <tr>\n",
       "      <th>4</th>\n",
       "      <td>Обман сбербанк страхование семейный актив</td>\n",
       "      <td>Сбербанк страхование жизни</td>\n",
       "      <td>Дорогие человеки,ни в коем случае не связывайт...</td>\n",
       "      <td>1</td>\n",
       "      <td>22.09.2024</td>\n",
       "    </tr>\n",
       "    <tr>\n",
       "      <th>...</th>\n",
       "      <td>...</td>\n",
       "      <td>...</td>\n",
       "      <td>...</td>\n",
       "      <td>...</td>\n",
       "      <td>...</td>\n",
       "    </tr>\n",
       "    <tr>\n",
       "      <th>9556</th>\n",
       "      <td>Мне предоставили хорошую скидку на страховку ж...</td>\n",
       "      <td>Т-Страхование</td>\n",
       "      <td>Позвонили с Тинькофф Страхования. У меня оформ...</td>\n",
       "      <td>5</td>\n",
       "      <td>20.01.2024</td>\n",
       "    </tr>\n",
       "    <tr>\n",
       "      <th>9557</th>\n",
       "      <td>Мой выбор - Ренессанс</td>\n",
       "      <td>Ренессанс</td>\n",
       "      <td>Здравствуйте! Не всегда принято оставлять поло...</td>\n",
       "      <td>5</td>\n",
       "      <td>20.01.2024</td>\n",
       "    </tr>\n",
       "    <tr>\n",
       "      <th>9558</th>\n",
       "      <td>Защита в пути, КАСКО</td>\n",
       "      <td>Сбербанк страхование</td>\n",
       "      <td>26.12.23 приобрёл автомобиль в кредит в Драйв ...</td>\n",
       "      <td>1</td>\n",
       "      <td>20.01.2024</td>\n",
       "    </tr>\n",
       "    <tr>\n",
       "      <th>9559</th>\n",
       "      <td>Нет возврата по страховке</td>\n",
       "      <td>Хоум Кредит Страхование</td>\n",
       "      <td>Помогите пожалуйста , взял кредит и сразу отка...</td>\n",
       "      <td>1</td>\n",
       "      <td>20.01.2024</td>\n",
       "    </tr>\n",
       "    <tr>\n",
       "      <th>9560</th>\n",
       "      <td>Самые лучшие</td>\n",
       "      <td>Т-Страхование</td>\n",
       "      <td>20.01.24 произошло ДТП, примерно в 10.00, вызв...</td>\n",
       "      <td>5</td>\n",
       "      <td>20.01.2024</td>\n",
       "    </tr>\n",
       "  </tbody>\n",
       "</table>\n",
       "<p>9551 rows × 5 columns</p>\n",
       "</div>"
      ],
      "text/plain": [
       "                                                 header  \\\n",
       "0                            Хорошая страховая компания   \n",
       "1                                          За стразовку   \n",
       "2                        Как я пришел за ОСАГО в Т-Банк   \n",
       "3                                         ОСАГО+КАСКОGO   \n",
       "4             Обман сбербанк страхование семейный актив   \n",
       "...                                                 ...   \n",
       "9556  Мне предоставили хорошую скидку на страховку ж...   \n",
       "9557                              Мой выбор - Ренессанс   \n",
       "9558                               Защита в пути, КАСКО   \n",
       "9559                          Нет возврата по страховке   \n",
       "9560                                       Самые лучшие   \n",
       "\n",
       "                            bank  \\\n",
       "0                  Т-Страхование   \n",
       "1         Совкомбанк Страхование   \n",
       "2                  Т-Страхование   \n",
       "3               АльфаСтрахование   \n",
       "4     Сбербанк страхование жизни   \n",
       "...                          ...   \n",
       "9556               Т-Страхование   \n",
       "9557                   Ренессанс   \n",
       "9558        Сбербанк страхование   \n",
       "9559     Хоум Кредит Страхование   \n",
       "9560               Т-Страхование   \n",
       "\n",
       "                                                 review  rate        date  \n",
       "0     Оформили каско и не пожалели !  Когда случилос...     5  22.09.2024  \n",
       "1     Самая дешёвая страховка из всех, в Совкомбанк....     4  22.09.2024  \n",
       "2     Здравствуйте уважаемые СММщики Т-Банка. Пришел...     1  22.09.2024  \n",
       "3     Добрый вечер, один свой автомобиль застраховал...     5  22.09.2024  \n",
       "4     Дорогие человеки,ни в коем случае не связывайт...     1  22.09.2024  \n",
       "...                                                 ...   ...         ...  \n",
       "9556  Позвонили с Тинькофф Страхования. У меня оформ...     5  20.01.2024  \n",
       "9557  Здравствуйте! Не всегда принято оставлять поло...     5  20.01.2024  \n",
       "9558  26.12.23 приобрёл автомобиль в кредит в Драйв ...     1  20.01.2024  \n",
       "9559  Помогите пожалуйста , взял кредит и сразу отка...     1  20.01.2024  \n",
       "9560  20.01.24 произошло ДТП, примерно в 10.00, вызв...     5  20.01.2024  \n",
       "\n",
       "[9551 rows x 5 columns]"
      ]
     },
     "execution_count": 36,
     "metadata": {},
     "output_type": "execute_result"
    }
   ],
   "source": [
    "# удаляем дубликаты отзывов\n",
    "df.drop_duplicates(subset=\"review\", inplace=True)\n",
    "df"
   ]
  },
  {
   "cell_type": "code",
   "execution_count": 37,
   "metadata": {
    "colab": {
     "base_uri": "https://localhost:8080/"
    },
    "id": "Q2dzjkYk8flX",
    "outputId": "79fba456-de81-4b09-972d-9ace20211979"
   },
   "outputs": [
    {
     "data": {
      "text/html": [
       "<div>\n",
       "<style scoped>\n",
       "    .dataframe tbody tr th:only-of-type {\n",
       "        vertical-align: middle;\n",
       "    }\n",
       "\n",
       "    .dataframe tbody tr th {\n",
       "        vertical-align: top;\n",
       "    }\n",
       "\n",
       "    .dataframe thead th {\n",
       "        text-align: right;\n",
       "    }\n",
       "</style>\n",
       "<table border=\"1\" class=\"dataframe\">\n",
       "  <thead>\n",
       "    <tr style=\"text-align: right;\">\n",
       "      <th></th>\n",
       "      <th>header</th>\n",
       "      <th>bank</th>\n",
       "      <th>review</th>\n",
       "      <th>rate</th>\n",
       "      <th>date</th>\n",
       "    </tr>\n",
       "  </thead>\n",
       "  <tbody>\n",
       "    <tr>\n",
       "      <th>0</th>\n",
       "      <td>Хорошая страховая компания</td>\n",
       "      <td>Т-Страхование</td>\n",
       "      <td>Оформили каско и не пожалели !  Когда случилос...</td>\n",
       "      <td>5</td>\n",
       "      <td>2024-09-22</td>\n",
       "    </tr>\n",
       "    <tr>\n",
       "      <th>1</th>\n",
       "      <td>За стразовку</td>\n",
       "      <td>Совкомбанк Страхование</td>\n",
       "      <td>Самая дешёвая страховка из всех, в Совкомбанк....</td>\n",
       "      <td>4</td>\n",
       "      <td>2024-09-22</td>\n",
       "    </tr>\n",
       "    <tr>\n",
       "      <th>2</th>\n",
       "      <td>Как я пришел за ОСАГО в Т-Банк</td>\n",
       "      <td>Т-Страхование</td>\n",
       "      <td>Здравствуйте уважаемые СММщики Т-Банка. Пришел...</td>\n",
       "      <td>1</td>\n",
       "      <td>2024-09-22</td>\n",
       "    </tr>\n",
       "    <tr>\n",
       "      <th>3</th>\n",
       "      <td>ОСАГО+КАСКОGO</td>\n",
       "      <td>АльфаСтрахование</td>\n",
       "      <td>Добрый вечер, один свой автомобиль застраховал...</td>\n",
       "      <td>5</td>\n",
       "      <td>2024-09-22</td>\n",
       "    </tr>\n",
       "    <tr>\n",
       "      <th>4</th>\n",
       "      <td>Обман сбербанк страхование семейный актив</td>\n",
       "      <td>Сбербанк страхование жизни</td>\n",
       "      <td>Дорогие человеки,ни в коем случае не связывайт...</td>\n",
       "      <td>1</td>\n",
       "      <td>2024-09-22</td>\n",
       "    </tr>\n",
       "    <tr>\n",
       "      <th>...</th>\n",
       "      <td>...</td>\n",
       "      <td>...</td>\n",
       "      <td>...</td>\n",
       "      <td>...</td>\n",
       "      <td>...</td>\n",
       "    </tr>\n",
       "    <tr>\n",
       "      <th>9556</th>\n",
       "      <td>Мне предоставили хорошую скидку на страховку ж...</td>\n",
       "      <td>Т-Страхование</td>\n",
       "      <td>Позвонили с Тинькофф Страхования. У меня оформ...</td>\n",
       "      <td>5</td>\n",
       "      <td>2024-01-20</td>\n",
       "    </tr>\n",
       "    <tr>\n",
       "      <th>9557</th>\n",
       "      <td>Мой выбор - Ренессанс</td>\n",
       "      <td>Ренессанс</td>\n",
       "      <td>Здравствуйте! Не всегда принято оставлять поло...</td>\n",
       "      <td>5</td>\n",
       "      <td>2024-01-20</td>\n",
       "    </tr>\n",
       "    <tr>\n",
       "      <th>9558</th>\n",
       "      <td>Защита в пути, КАСКО</td>\n",
       "      <td>Сбербанк страхование</td>\n",
       "      <td>26.12.23 приобрёл автомобиль в кредит в Драйв ...</td>\n",
       "      <td>1</td>\n",
       "      <td>2024-01-20</td>\n",
       "    </tr>\n",
       "    <tr>\n",
       "      <th>9559</th>\n",
       "      <td>Нет возврата по страховке</td>\n",
       "      <td>Хоум Кредит Страхование</td>\n",
       "      <td>Помогите пожалуйста , взял кредит и сразу отка...</td>\n",
       "      <td>1</td>\n",
       "      <td>2024-01-20</td>\n",
       "    </tr>\n",
       "    <tr>\n",
       "      <th>9560</th>\n",
       "      <td>Самые лучшие</td>\n",
       "      <td>Т-Страхование</td>\n",
       "      <td>20.01.24 произошло ДТП, примерно в 10.00, вызв...</td>\n",
       "      <td>5</td>\n",
       "      <td>2024-01-20</td>\n",
       "    </tr>\n",
       "  </tbody>\n",
       "</table>\n",
       "<p>9551 rows × 5 columns</p>\n",
       "</div>"
      ],
      "text/plain": [
       "                                                 header  \\\n",
       "0                            Хорошая страховая компания   \n",
       "1                                          За стразовку   \n",
       "2                        Как я пришел за ОСАГО в Т-Банк   \n",
       "3                                         ОСАГО+КАСКОGO   \n",
       "4             Обман сбербанк страхование семейный актив   \n",
       "...                                                 ...   \n",
       "9556  Мне предоставили хорошую скидку на страховку ж...   \n",
       "9557                              Мой выбор - Ренессанс   \n",
       "9558                               Защита в пути, КАСКО   \n",
       "9559                          Нет возврата по страховке   \n",
       "9560                                       Самые лучшие   \n",
       "\n",
       "                            bank  \\\n",
       "0                  Т-Страхование   \n",
       "1         Совкомбанк Страхование   \n",
       "2                  Т-Страхование   \n",
       "3               АльфаСтрахование   \n",
       "4     Сбербанк страхование жизни   \n",
       "...                          ...   \n",
       "9556               Т-Страхование   \n",
       "9557                   Ренессанс   \n",
       "9558        Сбербанк страхование   \n",
       "9559     Хоум Кредит Страхование   \n",
       "9560               Т-Страхование   \n",
       "\n",
       "                                                 review  rate       date  \n",
       "0     Оформили каско и не пожалели !  Когда случилос...     5 2024-09-22  \n",
       "1     Самая дешёвая страховка из всех, в Совкомбанк....     4 2024-09-22  \n",
       "2     Здравствуйте уважаемые СММщики Т-Банка. Пришел...     1 2024-09-22  \n",
       "3     Добрый вечер, один свой автомобиль застраховал...     5 2024-09-22  \n",
       "4     Дорогие человеки,ни в коем случае не связывайт...     1 2024-09-22  \n",
       "...                                                 ...   ...        ...  \n",
       "9556  Позвонили с Тинькофф Страхования. У меня оформ...     5 2024-01-20  \n",
       "9557  Здравствуйте! Не всегда принято оставлять поло...     5 2024-01-20  \n",
       "9558  26.12.23 приобрёл автомобиль в кредит в Драйв ...     1 2024-01-20  \n",
       "9559  Помогите пожалуйста , взял кредит и сразу отка...     1 2024-01-20  \n",
       "9560  20.01.24 произошло ДТП, примерно в 10.00, вызв...     5 2024-01-20  \n",
       "\n",
       "[9551 rows x 5 columns]"
      ]
     },
     "execution_count": 37,
     "metadata": {},
     "output_type": "execute_result"
    }
   ],
   "source": [
    "# изменение формата столбца даты с обходом и заменой строк, в которых дата указана некорректно\n",
    "# (некорректные данные будут заменены на значение NaT)\n",
    "df[\"date\"] = pd.to_datetime(df[\"date\"], format=\"%d.%m.%Y\", errors='coerce')\n",
    "df"
   ]
  },
  {
   "cell_type": "markdown",
   "metadata": {
    "id": "gJWjQg45_SPx"
   },
   "source": [
    "При изменении формата данных обнаружилось, что не во всех строках указана корректная дата.\n",
    "Посмотрим, сколько строк содержат ошибочные данные и удалим."
   ]
  },
  {
   "cell_type": "code",
   "execution_count": 38,
   "metadata": {
    "colab": {
     "base_uri": "https://localhost:8080/"
    },
    "id": "SGht5rlT_FBS",
    "outputId": "58bb735d-0d43-483d-a741-714b8e164b62"
   },
   "outputs": [
    {
     "data": {
      "text/plain": [
       "1395"
      ]
     },
     "execution_count": 38,
     "metadata": {},
     "output_type": "execute_result"
    }
   ],
   "source": [
    "# количество строк с некорректной датой\n",
    "df[\"date\"].isna().sum()"
   ]
  },
  {
   "cell_type": "code",
   "execution_count": 39,
   "metadata": {
    "colab": {
     "base_uri": "https://localhost:8080/"
    },
    "id": "SGCizK8S_tv2",
    "outputId": "8121dd7f-7df1-46c2-bb3a-adb4546235e6"
   },
   "outputs": [
    {
     "data": {
      "text/html": [
       "<div>\n",
       "<style scoped>\n",
       "    .dataframe tbody tr th:only-of-type {\n",
       "        vertical-align: middle;\n",
       "    }\n",
       "\n",
       "    .dataframe tbody tr th {\n",
       "        vertical-align: top;\n",
       "    }\n",
       "\n",
       "    .dataframe thead th {\n",
       "        text-align: right;\n",
       "    }\n",
       "</style>\n",
       "<table border=\"1\" class=\"dataframe\">\n",
       "  <thead>\n",
       "    <tr style=\"text-align: right;\">\n",
       "      <th></th>\n",
       "      <th>header</th>\n",
       "      <th>bank</th>\n",
       "      <th>review</th>\n",
       "      <th>rate</th>\n",
       "      <th>date</th>\n",
       "    </tr>\n",
       "  </thead>\n",
       "  <tbody>\n",
       "    <tr>\n",
       "      <th>0</th>\n",
       "      <td>Хорошая страховая компания</td>\n",
       "      <td>Т-Страхование</td>\n",
       "      <td>Оформили каско и не пожалели !  Когда случилос...</td>\n",
       "      <td>5</td>\n",
       "      <td>2024-09-22</td>\n",
       "    </tr>\n",
       "    <tr>\n",
       "      <th>1</th>\n",
       "      <td>За стразовку</td>\n",
       "      <td>Совкомбанк Страхование</td>\n",
       "      <td>Самая дешёвая страховка из всех, в Совкомбанк....</td>\n",
       "      <td>4</td>\n",
       "      <td>2024-09-22</td>\n",
       "    </tr>\n",
       "    <tr>\n",
       "      <th>2</th>\n",
       "      <td>Как я пришел за ОСАГО в Т-Банк</td>\n",
       "      <td>Т-Страхование</td>\n",
       "      <td>Здравствуйте уважаемые СММщики Т-Банка. Пришел...</td>\n",
       "      <td>1</td>\n",
       "      <td>2024-09-22</td>\n",
       "    </tr>\n",
       "    <tr>\n",
       "      <th>3</th>\n",
       "      <td>ОСАГО+КАСКОGO</td>\n",
       "      <td>АльфаСтрахование</td>\n",
       "      <td>Добрый вечер, один свой автомобиль застраховал...</td>\n",
       "      <td>5</td>\n",
       "      <td>2024-09-22</td>\n",
       "    </tr>\n",
       "    <tr>\n",
       "      <th>4</th>\n",
       "      <td>Обман сбербанк страхование семейный актив</td>\n",
       "      <td>Сбербанк страхование жизни</td>\n",
       "      <td>Дорогие человеки,ни в коем случае не связывайт...</td>\n",
       "      <td>1</td>\n",
       "      <td>2024-09-22</td>\n",
       "    </tr>\n",
       "    <tr>\n",
       "      <th>...</th>\n",
       "      <td>...</td>\n",
       "      <td>...</td>\n",
       "      <td>...</td>\n",
       "      <td>...</td>\n",
       "      <td>...</td>\n",
       "    </tr>\n",
       "    <tr>\n",
       "      <th>9556</th>\n",
       "      <td>Мне предоставили хорошую скидку на страховку ж...</td>\n",
       "      <td>Т-Страхование</td>\n",
       "      <td>Позвонили с Тинькофф Страхования. У меня оформ...</td>\n",
       "      <td>5</td>\n",
       "      <td>2024-01-20</td>\n",
       "    </tr>\n",
       "    <tr>\n",
       "      <th>9557</th>\n",
       "      <td>Мой выбор - Ренессанс</td>\n",
       "      <td>Ренессанс</td>\n",
       "      <td>Здравствуйте! Не всегда принято оставлять поло...</td>\n",
       "      <td>5</td>\n",
       "      <td>2024-01-20</td>\n",
       "    </tr>\n",
       "    <tr>\n",
       "      <th>9558</th>\n",
       "      <td>Защита в пути, КАСКО</td>\n",
       "      <td>Сбербанк страхование</td>\n",
       "      <td>26.12.23 приобрёл автомобиль в кредит в Драйв ...</td>\n",
       "      <td>1</td>\n",
       "      <td>2024-01-20</td>\n",
       "    </tr>\n",
       "    <tr>\n",
       "      <th>9559</th>\n",
       "      <td>Нет возврата по страховке</td>\n",
       "      <td>Хоум Кредит Страхование</td>\n",
       "      <td>Помогите пожалуйста , взял кредит и сразу отка...</td>\n",
       "      <td>1</td>\n",
       "      <td>2024-01-20</td>\n",
       "    </tr>\n",
       "    <tr>\n",
       "      <th>9560</th>\n",
       "      <td>Самые лучшие</td>\n",
       "      <td>Т-Страхование</td>\n",
       "      <td>20.01.24 произошло ДТП, примерно в 10.00, вызв...</td>\n",
       "      <td>5</td>\n",
       "      <td>2024-01-20</td>\n",
       "    </tr>\n",
       "  </tbody>\n",
       "</table>\n",
       "<p>8156 rows × 5 columns</p>\n",
       "</div>"
      ],
      "text/plain": [
       "                                                 header  \\\n",
       "0                            Хорошая страховая компания   \n",
       "1                                          За стразовку   \n",
       "2                        Как я пришел за ОСАГО в Т-Банк   \n",
       "3                                         ОСАГО+КАСКОGO   \n",
       "4             Обман сбербанк страхование семейный актив   \n",
       "...                                                 ...   \n",
       "9556  Мне предоставили хорошую скидку на страховку ж...   \n",
       "9557                              Мой выбор - Ренессанс   \n",
       "9558                               Защита в пути, КАСКО   \n",
       "9559                          Нет возврата по страховке   \n",
       "9560                                       Самые лучшие   \n",
       "\n",
       "                            bank  \\\n",
       "0                  Т-Страхование   \n",
       "1         Совкомбанк Страхование   \n",
       "2                  Т-Страхование   \n",
       "3               АльфаСтрахование   \n",
       "4     Сбербанк страхование жизни   \n",
       "...                          ...   \n",
       "9556               Т-Страхование   \n",
       "9557                   Ренессанс   \n",
       "9558        Сбербанк страхование   \n",
       "9559     Хоум Кредит Страхование   \n",
       "9560               Т-Страхование   \n",
       "\n",
       "                                                 review  rate       date  \n",
       "0     Оформили каско и не пожалели !  Когда случилос...     5 2024-09-22  \n",
       "1     Самая дешёвая страховка из всех, в Совкомбанк....     4 2024-09-22  \n",
       "2     Здравствуйте уважаемые СММщики Т-Банка. Пришел...     1 2024-09-22  \n",
       "3     Добрый вечер, один свой автомобиль застраховал...     5 2024-09-22  \n",
       "4     Дорогие человеки,ни в коем случае не связывайт...     1 2024-09-22  \n",
       "...                                                 ...   ...        ...  \n",
       "9556  Позвонили с Тинькофф Страхования. У меня оформ...     5 2024-01-20  \n",
       "9557  Здравствуйте! Не всегда принято оставлять поло...     5 2024-01-20  \n",
       "9558  26.12.23 приобрёл автомобиль в кредит в Драйв ...     1 2024-01-20  \n",
       "9559  Помогите пожалуйста , взял кредит и сразу отка...     1 2024-01-20  \n",
       "9560  20.01.24 произошло ДТП, примерно в 10.00, вызв...     5 2024-01-20  \n",
       "\n",
       "[8156 rows x 5 columns]"
      ]
     },
     "execution_count": 39,
     "metadata": {},
     "output_type": "execute_result"
    }
   ],
   "source": [
    "df.dropna(axis=0, subset=\"date\", inplace=True)\n",
    "df"
   ]
  },
  {
   "cell_type": "markdown",
   "metadata": {
    "id": "a1UENLq8P_PH"
   },
   "source": [
    "Проверим количество отзывов для каждой организации и удалим те, у которых количество отзывов меньше 100."
   ]
  },
  {
   "cell_type": "code",
   "execution_count": 40,
   "metadata": {
    "colab": {
     "base_uri": "https://localhost:8080/"
    },
    "id": "d1jA0tFUPaeW",
    "outputId": "ac7571d4-fd89-4454-d965-cd6b649e5e42"
   },
   "outputs": [
    {
     "data": {
      "text/plain": [
       "bank\n",
       "Ак Барс Страхование                      1\n",
       "Росбанк Страхование                      1\n",
       "РБ Страхование Жизни                     1\n",
       "Ю-Лайф                                   1\n",
       "НКО ПОВС «Страховой дом «Платинум»       1\n",
       "                                      ... \n",
       "Ренессанс Жизнь                        383\n",
       "АльфаСтрахование-Жизнь                 399\n",
       "Сбербанк страхование                   939\n",
       "Совкомбанк Страхование                 985\n",
       "Т-Страхование                         2207\n",
       "Name: review, Length: 65, dtype: int64"
      ]
     },
     "execution_count": 40,
     "metadata": {},
     "output_type": "execute_result"
    }
   ],
   "source": [
    "df_bank = df.groupby(\"bank\").review.count().sort_values()\n",
    "df_bank"
   ]
  },
  {
   "cell_type": "code",
   "execution_count": 41,
   "metadata": {
    "colab": {
     "base_uri": "https://localhost:8080/"
    },
    "id": "9lGfoP2zQcVp",
    "outputId": "a04c6378-be90-4a6c-b209-99a137725701"
   },
   "outputs": [
    {
     "data": {
      "text/plain": [
       "Index(['Ак Барс Страхование', 'Росбанк Страхование', 'РБ Страхование Жизни',\n",
       "       'Ю-Лайф', 'НКО ПОВС «Страховой дом «Платинум»',\n",
       "       'Страховая фирма «Адонис»', 'Зетта Страхование жизни',\n",
       "       'Зетта Страхование (бывшая СК «Альянс»)', 'Дефанс Страхование',\n",
       "       'ПСБ Страхование', 'Пари',\n",
       "       'Медицинская акционерная страховая компания (МАКС-М)',\n",
       "       'Капитал МС (РГС-Медицина)', 'Двадцать первый век',\n",
       "       'Русский Стандарт Страхование', 'АльфаСтрахование-ОМС',\n",
       "       'ДЕЛО ЖИЗНИ (НСГ Страхование жизни)', 'Инсайт',\n",
       "       'Русское страховое общество «Евроинс»', 'Бестиншур',\n",
       "       'Инлайф страхование жизни', 'РЕСО-Мед', 'ППФ Страхование жизни',\n",
       "       'Страховая бизнес группа', 'Газпром Страхование', 'Ингосстрах-Жизнь',\n",
       "       'Объединенная страховая компания', 'Спасские ворота',\n",
       "       'РСХБ-Страхование жизни', 'Энергогарант', 'БКС Страхование жизни',\n",
       "       'РСХБ-Страхование', 'СОГАЗ-Мед', 'ВСК-Линия жизни',\n",
       "       'Хоум Кредит Страхование', 'СК ГАЙДЕ', 'Капитал-Полис', 'Астро-Волга',\n",
       "       'МАКС-Жизнь', 'Согласие-Вита', 'СК «Пульс»', 'МАКС', 'Д2 Страхование',\n",
       "       'Гелиос', 'СОГАЗ-Жизнь', 'Абсолют Страхование', 'Зетта Страхование',\n",
       "       'Югория', 'Росгосстрах Жизнь', 'РЕСО-Гарантия', 'Согласие'],\n",
       "      dtype='object', name='bank')"
      ]
     },
     "execution_count": 41,
     "metadata": {},
     "output_type": "execute_result"
    }
   ],
   "source": [
    "# получение спсика оорганизаций, у которых меньше 100 отзывов\n",
    "organizations_less_100_reviews = df_bank.loc[df_bank.index.isin(df_bank.where(df_bank < 100).dropna().index)].index\n",
    "organizations_less_100_reviews"
   ]
  },
  {
   "cell_type": "code",
   "execution_count": 42,
   "metadata": {
    "colab": {
     "base_uri": "https://localhost:8080/"
    },
    "id": "WTXw_WY4TZLh",
    "outputId": "0cbbbabb-1f1e-4cde-f7d8-72749d6daa75"
   },
   "outputs": [
    {
     "data": {
      "text/html": [
       "<div>\n",
       "<style scoped>\n",
       "    .dataframe tbody tr th:only-of-type {\n",
       "        vertical-align: middle;\n",
       "    }\n",
       "\n",
       "    .dataframe tbody tr th {\n",
       "        vertical-align: top;\n",
       "    }\n",
       "\n",
       "    .dataframe thead th {\n",
       "        text-align: right;\n",
       "    }\n",
       "</style>\n",
       "<table border=\"1\" class=\"dataframe\">\n",
       "  <thead>\n",
       "    <tr style=\"text-align: right;\">\n",
       "      <th></th>\n",
       "      <th>header</th>\n",
       "      <th>bank</th>\n",
       "      <th>review</th>\n",
       "      <th>rate</th>\n",
       "      <th>date</th>\n",
       "    </tr>\n",
       "  </thead>\n",
       "  <tbody>\n",
       "    <tr>\n",
       "      <th>0</th>\n",
       "      <td>Хорошая страховая компания</td>\n",
       "      <td>Т-Страхование</td>\n",
       "      <td>Оформили каско и не пожалели !  Когда случилос...</td>\n",
       "      <td>5</td>\n",
       "      <td>2024-09-22</td>\n",
       "    </tr>\n",
       "    <tr>\n",
       "      <th>1</th>\n",
       "      <td>За стразовку</td>\n",
       "      <td>Совкомбанк Страхование</td>\n",
       "      <td>Самая дешёвая страховка из всех, в Совкомбанк....</td>\n",
       "      <td>4</td>\n",
       "      <td>2024-09-22</td>\n",
       "    </tr>\n",
       "    <tr>\n",
       "      <th>2</th>\n",
       "      <td>Как я пришел за ОСАГО в Т-Банк</td>\n",
       "      <td>Т-Страхование</td>\n",
       "      <td>Здравствуйте уважаемые СММщики Т-Банка. Пришел...</td>\n",
       "      <td>1</td>\n",
       "      <td>2024-09-22</td>\n",
       "    </tr>\n",
       "    <tr>\n",
       "      <th>3</th>\n",
       "      <td>ОСАГО+КАСКОGO</td>\n",
       "      <td>АльфаСтрахование</td>\n",
       "      <td>Добрый вечер, один свой автомобиль застраховал...</td>\n",
       "      <td>5</td>\n",
       "      <td>2024-09-22</td>\n",
       "    </tr>\n",
       "    <tr>\n",
       "      <th>4</th>\n",
       "      <td>Обман сбербанк страхование семейный актив</td>\n",
       "      <td>Сбербанк страхование жизни</td>\n",
       "      <td>Дорогие человеки,ни в коем случае не связывайт...</td>\n",
       "      <td>1</td>\n",
       "      <td>2024-09-22</td>\n",
       "    </tr>\n",
       "    <tr>\n",
       "      <th>...</th>\n",
       "      <td>...</td>\n",
       "      <td>...</td>\n",
       "      <td>...</td>\n",
       "      <td>...</td>\n",
       "      <td>...</td>\n",
       "    </tr>\n",
       "    <tr>\n",
       "      <th>9554</th>\n",
       "      <td>Тинькофф страхование</td>\n",
       "      <td>Т-Страхование</td>\n",
       "      <td>Все прошло быстро, деньги поступили на карту у...</td>\n",
       "      <td>5</td>\n",
       "      <td>2024-01-21</td>\n",
       "    </tr>\n",
       "    <tr>\n",
       "      <th>9556</th>\n",
       "      <td>Мне предоставили хорошую скидку на страховку ж...</td>\n",
       "      <td>Т-Страхование</td>\n",
       "      <td>Позвонили с Тинькофф Страхования. У меня оформ...</td>\n",
       "      <td>5</td>\n",
       "      <td>2024-01-20</td>\n",
       "    </tr>\n",
       "    <tr>\n",
       "      <th>9557</th>\n",
       "      <td>Мой выбор - Ренессанс</td>\n",
       "      <td>Ренессанс</td>\n",
       "      <td>Здравствуйте! Не всегда принято оставлять поло...</td>\n",
       "      <td>5</td>\n",
       "      <td>2024-01-20</td>\n",
       "    </tr>\n",
       "    <tr>\n",
       "      <th>9558</th>\n",
       "      <td>Защита в пути, КАСКО</td>\n",
       "      <td>Сбербанк страхование</td>\n",
       "      <td>26.12.23 приобрёл автомобиль в кредит в Драйв ...</td>\n",
       "      <td>1</td>\n",
       "      <td>2024-01-20</td>\n",
       "    </tr>\n",
       "    <tr>\n",
       "      <th>9560</th>\n",
       "      <td>Самые лучшие</td>\n",
       "      <td>Т-Страхование</td>\n",
       "      <td>20.01.24 произошло ДТП, примерно в 10.00, вызв...</td>\n",
       "      <td>5</td>\n",
       "      <td>2024-01-20</td>\n",
       "    </tr>\n",
       "  </tbody>\n",
       "</table>\n",
       "<p>7430 rows × 5 columns</p>\n",
       "</div>"
      ],
      "text/plain": [
       "                                                 header  \\\n",
       "0                            Хорошая страховая компания   \n",
       "1                                          За стразовку   \n",
       "2                        Как я пришел за ОСАГО в Т-Банк   \n",
       "3                                         ОСАГО+КАСКОGO   \n",
       "4             Обман сбербанк страхование семейный актив   \n",
       "...                                                 ...   \n",
       "9554                               Тинькофф страхование   \n",
       "9556  Мне предоставили хорошую скидку на страховку ж...   \n",
       "9557                              Мой выбор - Ренессанс   \n",
       "9558                               Защита в пути, КАСКО   \n",
       "9560                                       Самые лучшие   \n",
       "\n",
       "                            bank  \\\n",
       "0                  Т-Страхование   \n",
       "1         Совкомбанк Страхование   \n",
       "2                  Т-Страхование   \n",
       "3               АльфаСтрахование   \n",
       "4     Сбербанк страхование жизни   \n",
       "...                          ...   \n",
       "9554               Т-Страхование   \n",
       "9556               Т-Страхование   \n",
       "9557                   Ренессанс   \n",
       "9558        Сбербанк страхование   \n",
       "9560               Т-Страхование   \n",
       "\n",
       "                                                 review  rate       date  \n",
       "0     Оформили каско и не пожалели !  Когда случилос...     5 2024-09-22  \n",
       "1     Самая дешёвая страховка из всех, в Совкомбанк....     4 2024-09-22  \n",
       "2     Здравствуйте уважаемые СММщики Т-Банка. Пришел...     1 2024-09-22  \n",
       "3     Добрый вечер, один свой автомобиль застраховал...     5 2024-09-22  \n",
       "4     Дорогие человеки,ни в коем случае не связывайт...     1 2024-09-22  \n",
       "...                                                 ...   ...        ...  \n",
       "9554  Все прошло быстро, деньги поступили на карту у...     5 2024-01-21  \n",
       "9556  Позвонили с Тинькофф Страхования. У меня оформ...     5 2024-01-20  \n",
       "9557  Здравствуйте! Не всегда принято оставлять поло...     5 2024-01-20  \n",
       "9558  26.12.23 приобрёл автомобиль в кредит в Драйв ...     1 2024-01-20  \n",
       "9560  20.01.24 произошло ДТП, примерно в 10.00, вызв...     5 2024-01-20  \n",
       "\n",
       "[7430 rows x 5 columns]"
      ]
     },
     "execution_count": 42,
     "metadata": {},
     "output_type": "execute_result"
    }
   ],
   "source": [
    "# удаление отзывов огранизаций, у которых количество отзывов меньше 100, из датасета\n",
    "# df.bank.isin(organizations_less_100_reviews)\n",
    "# data[data.marks.isin(list1) == False]\n",
    "df = df[df.bank.isin(list(organizations_less_100_reviews)) == False]\n",
    "df"
   ]
  },
  {
   "cell_type": "code",
   "execution_count": 43,
   "metadata": {
    "colab": {
     "base_uri": "https://localhost:8080/"
    },
    "id": "wgOlKtLU1qBC",
    "outputId": "93a1850c-3bb5-4223-925b-cbe3c31ff8e8"
   },
   "outputs": [
    {
     "data": {
      "text/plain": [
       "530.71"
      ]
     },
     "execution_count": 43,
     "metadata": {},
     "output_type": "execute_result"
    }
   ],
   "source": [
    "# выведем среднее количество отзывов для организаций\n",
    "mean_number_of_reviews = round(df.groupby(\"bank\").review.count().mean(), 2)\n",
    "mean_number_of_reviews"
   ]
  },
  {
   "cell_type": "markdown",
   "metadata": {
    "id": "T0Cl0LyaTsiR"
   },
   "source": [
    "Выведем\n",
    "* размерность датасета, очищенного от дубликатов, пустых значений, некорректной даты и организаций с малым количеством отзывов;\n",
    "* количество уникальных значений для очищенного датасета;\n",
    "* описательную характеристику нового датасета.\n"
   ]
  },
  {
   "cell_type": "code",
   "execution_count": 44,
   "metadata": {
    "colab": {
     "base_uri": "https://localhost:8080/"
    },
    "id": "673C3g5lTdSX",
    "outputId": "01ae652e-bf09-436f-daab-300419103353"
   },
   "outputs": [
    {
     "data": {
      "text/plain": [
       "(7430, 5)"
      ]
     },
     "execution_count": 44,
     "metadata": {},
     "output_type": "execute_result"
    }
   ],
   "source": [
    "df.shape"
   ]
  },
  {
   "cell_type": "code",
   "execution_count": 45,
   "metadata": {
    "colab": {
     "base_uri": "https://localhost:8080/"
    },
    "id": "-N-MJzJ7TdMC",
    "outputId": "7d3f7bb4-f1ce-4ec6-8f35-5a62c6e92d3c"
   },
   "outputs": [
    {
     "data": {
      "text/plain": [
       "header    5528\n",
       "bank        14\n",
       "review    7430\n",
       "rate         5\n",
       "date       247\n",
       "dtype: int64"
      ]
     },
     "execution_count": 45,
     "metadata": {},
     "output_type": "execute_result"
    }
   ],
   "source": [
    "df.nunique()"
   ]
  },
  {
   "cell_type": "code",
   "execution_count": 46,
   "metadata": {
    "colab": {
     "base_uri": "https://localhost:8080/"
    },
    "id": "ROc986tOTdFu",
    "outputId": "c5aca4e6-561b-4694-a048-4c05fd5da3ba"
   },
   "outputs": [
    {
     "data": {
      "text/html": [
       "<div>\n",
       "<style scoped>\n",
       "    .dataframe tbody tr th:only-of-type {\n",
       "        vertical-align: middle;\n",
       "    }\n",
       "\n",
       "    .dataframe tbody tr th {\n",
       "        vertical-align: top;\n",
       "    }\n",
       "\n",
       "    .dataframe thead th {\n",
       "        text-align: right;\n",
       "    }\n",
       "</style>\n",
       "<table border=\"1\" class=\"dataframe\">\n",
       "  <thead>\n",
       "    <tr style=\"text-align: right;\">\n",
       "      <th></th>\n",
       "      <th>rate</th>\n",
       "    </tr>\n",
       "  </thead>\n",
       "  <tbody>\n",
       "    <tr>\n",
       "      <th>count</th>\n",
       "      <td>7430.000000</td>\n",
       "    </tr>\n",
       "    <tr>\n",
       "      <th>mean</th>\n",
       "      <td>3.734455</td>\n",
       "    </tr>\n",
       "    <tr>\n",
       "      <th>std</th>\n",
       "      <td>1.815010</td>\n",
       "    </tr>\n",
       "    <tr>\n",
       "      <th>min</th>\n",
       "      <td>1.000000</td>\n",
       "    </tr>\n",
       "    <tr>\n",
       "      <th>25%</th>\n",
       "      <td>1.000000</td>\n",
       "    </tr>\n",
       "    <tr>\n",
       "      <th>50%</th>\n",
       "      <td>5.000000</td>\n",
       "    </tr>\n",
       "    <tr>\n",
       "      <th>75%</th>\n",
       "      <td>5.000000</td>\n",
       "    </tr>\n",
       "    <tr>\n",
       "      <th>max</th>\n",
       "      <td>5.000000</td>\n",
       "    </tr>\n",
       "  </tbody>\n",
       "</table>\n",
       "</div>"
      ],
      "text/plain": [
       "              rate\n",
       "count  7430.000000\n",
       "mean      3.734455\n",
       "std       1.815010\n",
       "min       1.000000\n",
       "25%       1.000000\n",
       "50%       5.000000\n",
       "75%       5.000000\n",
       "max       5.000000"
      ]
     },
     "execution_count": 46,
     "metadata": {},
     "output_type": "execute_result"
    }
   ],
   "source": [
    "df.describe()"
   ]
  },
  {
   "cell_type": "code",
   "execution_count": 47,
   "metadata": {
    "colab": {
     "base_uri": "https://localhost:8080/"
    },
    "id": "ROpZc2UYXxCR",
    "outputId": "80c533aa-55c8-46bb-c008-415d2300a0f7"
   },
   "outputs": [
    {
     "data": {
      "text/plain": [
       "3.73"
      ]
     },
     "execution_count": 47,
     "metadata": {},
     "output_type": "execute_result"
    }
   ],
   "source": [
    "mean_value = round(df.describe()[\"rate\"][\"mean\"], 2)\n",
    "mean_value"
   ]
  },
  {
   "cell_type": "markdown",
   "metadata": {
    "id": "LdTwrjAxAkny"
   },
   "source": [
    "В результате обработки данных:\n",
    "* размерность датасета стала `(7430, 5)` - удалили `2131` строки;\n",
    "* средняя оценка по выборке стала `3.73` - выросла на `0,15`;\n",
    "* были удалены дубликаты отзывов;\n",
    "* были удалены строки, в котрых дата была указана неправильно;\n",
    "* были удалены организации, у которых количество отзывов было меньше 100."
   ]
  },
  {
   "cell_type": "markdown",
   "metadata": {
    "id": "KbTF0qsxYYLO"
   },
   "source": [
    "## Анализ предметной область (графики)"
   ]
  },
  {
   "cell_type": "markdown",
   "metadata": {
    "id": "Jowuy_96KNR6"
   },
   "source": [
    "### График 1\n",
    "Для первого графика мы возьмем топ 5 банков/организаций, основываясь на их средней оценке и выведем количество отзывов."
   ]
  },
  {
   "cell_type": "code",
   "execution_count": 48,
   "metadata": {
    "colab": {
     "base_uri": "https://localhost:8080/"
    },
    "id": "Ap6C4FrVYbLy",
    "outputId": "c658fd38-04bb-4fe9-a105-5924837e3e2f"
   },
   "outputs": [
    {
     "data": {
      "text/plain": [
       "bank\n",
       "Совкомбанк Страхование Жизни    4.866379\n",
       "КАПИТАЛ LIFE                    4.637755\n",
       "Совкомбанк Страхование          4.625381\n",
       "Т-Страхование                   4.429542\n",
       "Сбербанк страхование            4.064963\n",
       "Name: rate, dtype: float64"
      ]
     },
     "execution_count": 48,
     "metadata": {},
     "output_type": "execute_result"
    }
   ],
   "source": [
    "# сгруппируем данные по столбцу bank\n",
    "df_group_by_bank = df.groupby(\"bank\").rate.mean()\n",
    "df_group_by_bank\n",
    "# # отсортируем полученные данные по убыванию и возьмем первые 5\n",
    "df_group_by_bank_sort = df_group_by_bank.sort_values(ascending=False)\n",
    "df_group_by_bank_sort.head()"
   ]
  },
  {
   "cell_type": "code",
   "execution_count": 49,
   "metadata": {
    "colab": {
     "base_uri": "https://localhost:8080/"
    },
    "id": "M0TdKTeLPihe",
    "outputId": "d0feaca4-c3e3-4020-dfd1-178257162693"
   },
   "outputs": [
    {
     "data": {
      "text/plain": [
       "bank\n",
       "КАПИТАЛ LIFE                     196\n",
       "Сбербанк страхование             939\n",
       "Совкомбанк Страхование           985\n",
       "Совкомбанк Страхование Жизни     232\n",
       "Т-Страхование                   2207\n",
       "Name: review, dtype: int64"
      ]
     },
     "execution_count": 49,
     "metadata": {},
     "output_type": "execute_result"
    }
   ],
   "source": [
    "top_5_org_by_rate = list(df_group_by_bank_sort.index)[:5]\n",
    "\n",
    "# подсчитываем, сколько отзывов у каждой организации\n",
    "number_of_rates = df.groupby(\"bank\").review.count()\n",
    "\n",
    "#\n",
    "filtered_rates = number_of_rates.loc[number_of_rates.index.isin(top_5_org_by_rate)]\n",
    "filtered_rates"
   ]
  },
  {
   "cell_type": "code",
   "execution_count": 50,
   "metadata": {
    "colab": {
     "base_uri": "https://localhost:8080/"
    },
    "id": "m_Ku9Igde_tJ",
    "outputId": "cca300bc-df78-4795-fa84-64c3468a292a"
   },
   "outputs": [
    {
     "data": {
      "image/png": "[encoded data removed]",
      "text/plain": [
       "<Figure size 640x480 with 1 Axes>"
      ]
     },
     "metadata": {},
     "output_type": "display_data"
    }
   ],
   "source": [
    "filtered_rates.plot(kind = \"barh\", color = \"greenyellow\")\n",
    "plt.title(\"Количество отзывов для топ 5 организаций\")\n",
    "plt.axvline(x = mean_number_of_reviews, color = \"red\", linestyle = \"dotted\")\n",
    "plt.text(x=mean_number_of_reviews, y=-1.5, s=str(mean_number_of_reviews), rotation=\"vertical\")\n",
    "plt.grid()\n",
    "plt.show()"
   ]
  },
  {
   "cell_type": "markdown",
   "metadata": {
    "id": "Rl1ZVBMLcDxs"
   },
   "source": [
    "**Вывод:**\n",
    "\n",
    "На диаграмме(которая показывает количество отзывов об организациях с наиболее высокой средней оценкой) видно, что\n",
    "* люди чаще всего пишут отзывы про организацию `Т-Страхование` (отзывов больше 2000);\n",
    "* у банков/организаций - `Т-Страхование`, `Совкомбанк Страхование`, `Сбербанк страхование` - отзывов больше, чем среднее число отзывов по организациям выборки;\n",
    "* самый популярный банк/организация - `Т-Страхование`;\n",
    "* количество отзывов о `Совкомбн Страхование Жизни` и `КАПИТАЛ LIFE` сильно ниже среднего значения."
   ]
  },
  {
   "cell_type": "markdown",
   "metadata": {
    "id": "Xkl6kKhejM7V"
   },
   "source": [
    "### График 2\n",
    "Для второго графика мы возьмем топ 5 банков/организаций, основываясь количестве оценнок и выведем среднюю оценку по их отзывам.\n",
    "\n",
    "Данный график отражает более объективную картину, в отличие от предыдущего, так как 5 банков выбираются на основе отзывов (чем больше отзывов, тем объективнее будет средняя оценка)."
   ]
  },
  {
   "cell_type": "code",
   "execution_count": 51,
   "metadata": {
    "colab": {
     "base_uri": "https://localhost:8080/",
     "height": 289
    },
    "id": "ryKT9x1GCb7N",
    "outputId": "03a4d806-8620-4329-d664-0db8e2780114"
   },
   "outputs": [
    {
     "name": "stdout",
     "output_type": "stream",
     "text": [
      "Количество отзывов в топ 5 организаций\n"
     ]
    },
    {
     "data": {
      "text/plain": [
       "bank\n",
       "Т-Страхование             2207\n",
       "Совкомбанк Страхование     985\n",
       "Сбербанк страхование       939\n",
       "АльфаСтрахование-Жизнь     399\n",
       "Ренессанс Жизнь            383\n",
       "Name: rate, dtype: int64"
      ]
     },
     "execution_count": 51,
     "metadata": {},
     "output_type": "execute_result"
    }
   ],
   "source": [
    "# средние оценки отзывов для топ 5 банков/организаций\n",
    "# топ 5 по количеству оценок\n",
    "\n",
    "# сгруппируем данные по столбцу bank\n",
    "df_group_by_bank_2 = df.groupby(\"bank\").rate.count()\n",
    "\n",
    "# отсортируем полученные данные по убыванию и возьмем первые 5\n",
    "df_group_by_bank_sort_2 = df_group_by_bank_2.sort_values(ascending=False)\n",
    "print(\"Количество отзывов в топ 5 организаций\")\n",
    "df_group_by_bank_sort_2.head()"
   ]
  },
  {
   "cell_type": "code",
   "execution_count": 52,
   "metadata": {
    "colab": {
     "base_uri": "https://localhost:8080/"
    },
    "id": "ChjPCiO3lhLj",
    "outputId": "bdc08f3b-8018-436d-df46-37d515c4011f"
   },
   "outputs": [
    {
     "data": {
      "text/plain": [
       "['Т-Страхование',\n",
       " 'Совкомбанк Страхование',\n",
       " 'Сбербанк страхование',\n",
       " 'АльфаСтрахование-Жизнь',\n",
       " 'Ренессанс Жизнь']"
      ]
     },
     "execution_count": 52,
     "metadata": {},
     "output_type": "execute_result"
    }
   ],
   "source": [
    "top_5_org_by_rate_2 = list(df_group_by_bank_sort_2.index)[:5]\n",
    "top_5_org_by_rate_2"
   ]
  },
  {
   "cell_type": "code",
   "execution_count": 53,
   "metadata": {
    "colab": {
     "base_uri": "https://localhost:8080/",
     "height": 272
    },
    "id": "z_OJZ3zplhIy",
    "outputId": "77ec90a2-4508-4ccf-9354-0410af6dd94e"
   },
   "outputs": [
    {
     "data": {
      "text/plain": [
       "bank\n",
       "АльфаСтрахование-Жизнь    2.538847\n",
       "Ренессанс Жизнь           3.765013\n",
       "Сбербанк страхование      4.064963\n",
       "Совкомбанк Страхование    4.625381\n",
       "Т-Страхование             4.429542\n",
       "Name: rate, dtype: float64"
      ]
     },
     "execution_count": 53,
     "metadata": {},
     "output_type": "execute_result"
    }
   ],
   "source": [
    "mean_value_of_rates = df.groupby([\"bank\"]).rate.mean()\n",
    "\n",
    "filtered_rates_2 = mean_value_of_rates.loc[mean_value_of_rates.index.isin(top_5_org_by_rate_2)]\n",
    "filtered_rates_2"
   ]
  },
  {
   "cell_type": "code",
   "execution_count": 54,
   "metadata": {
    "colab": {
     "base_uri": "https://localhost:8080/",
     "height": 468
    },
    "id": "RBU-JZTGlhGb",
    "outputId": "d659f71f-1b4a-438c-8b09-58b03f7a4a93"
   },
   "outputs": [
    {
     "data": {
      "image/png": "[encoded data removed]",
      "text/plain": [
       "<Figure size 640x480 with 1 Axes>"
      ]
     },
     "metadata": {},
     "output_type": "display_data"
    }
   ],
   "source": [
    "filtered_rates_2.plot(kind = \"barh\", color = \"greenyellow\")\n",
    "plt.title(\"Средние оценки для топ 5 организаций\")\n",
    "plt.grid()\n",
    "plt.axvline(x = mean_value, color = \"red\", linestyle = \"dotted\")\n",
    "plt.text(x=mean_value, y=-1, s=str(mean_value), rotation=\"vertical\")\n",
    "plt.show()"
   ]
  },
  {
   "cell_type": "markdown",
   "metadata": {
    "id": "vTFql061qQqn"
   },
   "source": [
    "**Вывод:**\n",
    "\n",
    "На графике видно:\n",
    "* 4 организации - `Т-Страхование`, `Совкомбанк Страхование`, `Сбербанк страхование`, `Ренесанс Жизнь` - имеют оценку выше средней по общей выборке;\n",
    "* 3 организации - `Т-Страхование`, `Совкомбанк Страхование`, `Сбербанк страхование` - имеют среднюю оценку выше 4, то есть «Хорошо»;\n",
    "* самая низкая оценка (намного ниже средней - ≈2,5) у `АльфаСтрахование-Жизнь`."
   ]
  },
  {
   "cell_type": "markdown",
   "metadata": {
    "id": "AS-NUyBx5ZMB"
   },
   "source": [
    "Для более детального анализа зависимости средней оценки и количества отзывов нарисуем еще 1 график."
   ]
  },
  {
   "cell_type": "markdown",
   "metadata": {
    "id": "xF8yOrW6Oe_I"
   },
   "source": [
    "### График 3\n",
    "Для третьего графика мы возьмем топ 5 банков/организаций, основываясь количестве оценнок и выведем среднюю оценку по их отзывам."
   ]
  },
  {
   "cell_type": "code",
   "execution_count": 55,
   "metadata": {
    "colab": {
     "base_uri": "https://localhost:8080/",
     "height": 554
    },
    "id": "Ndx-yBFcOfxh",
    "outputId": "3d3c907d-f305-46c1-8c9b-08621a65c6d6"
   },
   "outputs": [
    {
     "data": {
      "text/plain": [
       "bank\n",
       "АльфаСтрахование                1.386503\n",
       "АльфаСтрахование-Жизнь          2.538847\n",
       "ВСК                             2.850000\n",
       "Ингосстрах                      3.014286\n",
       "КАПИТАЛ LIFE                    4.637755\n",
       "Ренессанс                       2.432886\n",
       "Ренессанс Жизнь                 3.765013\n",
       "Росгосстрах                     1.860825\n",
       "СОГАЗ                           3.155556\n",
       "Сбербанк страхование            4.064963\n",
       "Сбербанк страхование жизни      2.007968\n",
       "Совкомбанк Страхование          4.625381\n",
       "Совкомбанк Страхование Жизни    4.866379\n",
       "Т-Страхование                   4.429542\n",
       "Name: rate, dtype: float64"
      ]
     },
     "execution_count": 55,
     "metadata": {},
     "output_type": "execute_result"
    }
   ],
   "source": [
    "# выводим среднюю оценку всех банков/организаций\n",
    "all_mean_rates = df.groupby([\"bank\"]).rate.mean()\n",
    "all_mean_rates"
   ]
  },
  {
   "cell_type": "code",
   "execution_count": 56,
   "metadata": {
    "colab": {
     "base_uri": "https://localhost:8080/",
     "height": 554
    },
    "id": "czOgAkaLOgSx",
    "outputId": "59e58408-cc37-4ffb-a8d4-8dcb067df05d"
   },
   "outputs": [
    {
     "data": {
      "text/plain": [
       "bank\n",
       "АльфаСтрахование                 326\n",
       "АльфаСтрахование-Жизнь           399\n",
       "ВСК                              380\n",
       "Ингосстрах                       280\n",
       "КАПИТАЛ LIFE                     196\n",
       "Ренессанс                        298\n",
       "Ренессанс Жизнь                  383\n",
       "Росгосстрах                      194\n",
       "СОГАЗ                            360\n",
       "Сбербанк страхование             939\n",
       "Сбербанк страхование жизни       251\n",
       "Совкомбанк Страхование           985\n",
       "Совкомбанк Страхование Жизни     232\n",
       "Т-Страхование                   2207\n",
       "Name: review, dtype: int64"
      ]
     },
     "execution_count": 56,
     "metadata": {},
     "output_type": "execute_result"
    }
   ],
   "source": [
    "# выводим количество отзывов всех банков/организаций\n",
    "all_reviews = df.groupby([\"bank\"]).review.count()\n",
    "all_reviews"
   ]
  },
  {
   "cell_type": "code",
   "execution_count": 57,
   "metadata": {
    "colab": {
     "base_uri": "https://localhost:8080/",
     "height": 887
    },
    "id": "26iTI0mjOgO4",
    "outputId": "6dc919b8-7c30-426c-bbd8-8c304bf0fe52"
   },
   "outputs": [
    {
     "data": {
      "image/png": "[encoded data removed]",
      "text/plain": [
       "<Figure size 1000x1000 with 1 Axes>"
      ]
     },
     "metadata": {},
     "output_type": "display_data"
    }
   ],
   "source": [
    "colors = [\"red\" if rate < 3.73 else \"greenyellow\" for rate in all_mean_rates]\n",
    "\n",
    "plt.figure(figsize=(10, 10))\n",
    "all_reviews.sort_values(ascending=True).plot(kind = \"barh\", color = colors)\n",
    "plt.title(\"Зависимость отзывов и средней оценки у банков/организаций\")\n",
    "\n",
    "for i, (value, mean_value) in enumerate(zip(all_reviews.sort_values(ascending=True), all_mean_rates)):\n",
    "    plt.text(value + 5, i, f\"{mean_value:.2f}\", va='center_baseline')\n",
    "\n",
    "plt.axvline(x = 530, color = \"red\", linestyle = \"dotted\")\n",
    "plt.text(x=530, y=-1.5, s=str(530), rotation=\"vertical\")\n",
    "plt.grid()\n",
    "plt.show()"
   ]
  },
  {
   "cell_type": "markdown",
   "metadata": {
    "id": "f6yC2WZF9NyQ"
   },
   "source": [
    "**Вывод**\n",
    "\n",
    "На диаграмме отображена зависимость между количеством отзывов и средней оценки у организаци.\n",
    "\n",
    "* красная пунктирная линия - среднее количество отзывов по всем организациям;\n",
    "* у трех организаций количество отзывов выше среднего показателя: Т-Страхование,Совкомбанк Страхование и Сбербанк Страхование;\n",
    "* красным цветом выделены организации, у которых средняя оценка ниже среднего показателя;\n",
    "* чаще всего люди пользуются, оставляют отзывы и ставят положительную оценку организациям:Т-Страхование,Совкомбанк Страхование и Сбербанк Страхование"
   ]
  },
  {
   "cell_type": "code",
   "execution_count": 58,
   "metadata": {
    "id": "ENUBr0djOgH7"
   },
   "outputs": [],
   "source": [
    "# Сравнение отзывов по положительным и отрицательным оценкам"
   ]
  },
  {
   "cell_type": "code",
   "execution_count": 59,
   "metadata": {
    "id": "bjKUhHteCb47"
   },
   "outputs": [],
   "source": [
    "# топ 5 дат - дни недели - средние оценки/количество оценок"
   ]
  },
  {
   "cell_type": "code",
   "execution_count": 60,
   "metadata": {
    "id": "h-1d4N0wCb2p"
   },
   "outputs": [],
   "source": [
    "# средняя оценка по датам/месяцам"
   ]
  },
  {
   "cell_type": "markdown",
   "metadata": {
    "id": "H8o22e8HGlC3"
   },
   "source": [
    "## Сравнение классов"
   ]
  },
  {
   "cell_type": "code",
   "execution_count": 61,
   "metadata": {
    "colab": {
     "base_uri": "https://localhost:8080/",
     "height": 423
    },
    "id": "syCzLVFJCb0h",
    "outputId": "ebf83eb1-7d82-43d6-e0ed-21027626dd9c"
   },
   "outputs": [
    {
     "data": {
      "text/html": [
       "<div>\n",
       "<style scoped>\n",
       "    .dataframe tbody tr th:only-of-type {\n",
       "        vertical-align: middle;\n",
       "    }\n",
       "\n",
       "    .dataframe tbody tr th {\n",
       "        vertical-align: top;\n",
       "    }\n",
       "\n",
       "    .dataframe thead th {\n",
       "        text-align: right;\n",
       "    }\n",
       "</style>\n",
       "<table border=\"1\" class=\"dataframe\">\n",
       "  <thead>\n",
       "    <tr style=\"text-align: right;\">\n",
       "      <th></th>\n",
       "      <th>header</th>\n",
       "      <th>bank</th>\n",
       "      <th>review</th>\n",
       "      <th>rate</th>\n",
       "      <th>date</th>\n",
       "    </tr>\n",
       "  </thead>\n",
       "  <tbody>\n",
       "    <tr>\n",
       "      <th>0</th>\n",
       "      <td>Хорошая страховая компания</td>\n",
       "      <td>Т-Страхование</td>\n",
       "      <td>Оформили каско и не пожалели !  Когда случилос...</td>\n",
       "      <td>5</td>\n",
       "      <td>2024-09-22</td>\n",
       "    </tr>\n",
       "    <tr>\n",
       "      <th>1</th>\n",
       "      <td>За стразовку</td>\n",
       "      <td>Совкомбанк Страхование</td>\n",
       "      <td>Самая дешёвая страховка из всех, в Совкомбанк....</td>\n",
       "      <td>4</td>\n",
       "      <td>2024-09-22</td>\n",
       "    </tr>\n",
       "    <tr>\n",
       "      <th>2</th>\n",
       "      <td>Как я пришел за ОСАГО в Т-Банк</td>\n",
       "      <td>Т-Страхование</td>\n",
       "      <td>Здравствуйте уважаемые СММщики Т-Банка. Пришел...</td>\n",
       "      <td>1</td>\n",
       "      <td>2024-09-22</td>\n",
       "    </tr>\n",
       "    <tr>\n",
       "      <th>3</th>\n",
       "      <td>ОСАГО+КАСКОGO</td>\n",
       "      <td>АльфаСтрахование</td>\n",
       "      <td>Добрый вечер, один свой автомобиль застраховал...</td>\n",
       "      <td>5</td>\n",
       "      <td>2024-09-22</td>\n",
       "    </tr>\n",
       "    <tr>\n",
       "      <th>4</th>\n",
       "      <td>Обман сбербанк страхование семейный актив</td>\n",
       "      <td>Сбербанк страхование жизни</td>\n",
       "      <td>Дорогие человеки,ни в коем случае не связывайт...</td>\n",
       "      <td>1</td>\n",
       "      <td>2024-09-22</td>\n",
       "    </tr>\n",
       "    <tr>\n",
       "      <th>...</th>\n",
       "      <td>...</td>\n",
       "      <td>...</td>\n",
       "      <td>...</td>\n",
       "      <td>...</td>\n",
       "      <td>...</td>\n",
       "    </tr>\n",
       "    <tr>\n",
       "      <th>9554</th>\n",
       "      <td>Тинькофф страхование</td>\n",
       "      <td>Т-Страхование</td>\n",
       "      <td>Все прошло быстро, деньги поступили на карту у...</td>\n",
       "      <td>5</td>\n",
       "      <td>2024-01-21</td>\n",
       "    </tr>\n",
       "    <tr>\n",
       "      <th>9556</th>\n",
       "      <td>Мне предоставили хорошую скидку на страховку ж...</td>\n",
       "      <td>Т-Страхование</td>\n",
       "      <td>Позвонили с Тинькофф Страхования. У меня оформ...</td>\n",
       "      <td>5</td>\n",
       "      <td>2024-01-20</td>\n",
       "    </tr>\n",
       "    <tr>\n",
       "      <th>9557</th>\n",
       "      <td>Мой выбор - Ренессанс</td>\n",
       "      <td>Ренессанс</td>\n",
       "      <td>Здравствуйте! Не всегда принято оставлять поло...</td>\n",
       "      <td>5</td>\n",
       "      <td>2024-01-20</td>\n",
       "    </tr>\n",
       "    <tr>\n",
       "      <th>9558</th>\n",
       "      <td>Защита в пути, КАСКО</td>\n",
       "      <td>Сбербанк страхование</td>\n",
       "      <td>26.12.23 приобрёл автомобиль в кредит в Драйв ...</td>\n",
       "      <td>1</td>\n",
       "      <td>2024-01-20</td>\n",
       "    </tr>\n",
       "    <tr>\n",
       "      <th>9560</th>\n",
       "      <td>Самые лучшие</td>\n",
       "      <td>Т-Страхование</td>\n",
       "      <td>20.01.24 произошло ДТП, примерно в 10.00, вызв...</td>\n",
       "      <td>5</td>\n",
       "      <td>2024-01-20</td>\n",
       "    </tr>\n",
       "  </tbody>\n",
       "</table>\n",
       "<p>7430 rows × 5 columns</p>\n",
       "</div>"
      ],
      "text/plain": [
       "                                                 header  \\\n",
       "0                            Хорошая страховая компания   \n",
       "1                                          За стразовку   \n",
       "2                        Как я пришел за ОСАГО в Т-Банк   \n",
       "3                                         ОСАГО+КАСКОGO   \n",
       "4             Обман сбербанк страхование семейный актив   \n",
       "...                                                 ...   \n",
       "9554                               Тинькофф страхование   \n",
       "9556  Мне предоставили хорошую скидку на страховку ж...   \n",
       "9557                              Мой выбор - Ренессанс   \n",
       "9558                               Защита в пути, КАСКО   \n",
       "9560                                       Самые лучшие   \n",
       "\n",
       "                            bank  \\\n",
       "0                  Т-Страхование   \n",
       "1         Совкомбанк Страхование   \n",
       "2                  Т-Страхование   \n",
       "3               АльфаСтрахование   \n",
       "4     Сбербанк страхование жизни   \n",
       "...                          ...   \n",
       "9554               Т-Страхование   \n",
       "9556               Т-Страхование   \n",
       "9557                   Ренессанс   \n",
       "9558        Сбербанк страхование   \n",
       "9560               Т-Страхование   \n",
       "\n",
       "                                                 review  rate       date  \n",
       "0     Оформили каско и не пожалели !  Когда случилос...     5 2024-09-22  \n",
       "1     Самая дешёвая страховка из всех, в Совкомбанк....     4 2024-09-22  \n",
       "2     Здравствуйте уважаемые СММщики Т-Банка. Пришел...     1 2024-09-22  \n",
       "3     Добрый вечер, один свой автомобиль застраховал...     5 2024-09-22  \n",
       "4     Дорогие человеки,ни в коем случае не связывайт...     1 2024-09-22  \n",
       "...                                                 ...   ...        ...  \n",
       "9554  Все прошло быстро, деньги поступили на карту у...     5 2024-01-21  \n",
       "9556  Позвонили с Тинькофф Страхования. У меня оформ...     5 2024-01-20  \n",
       "9557  Здравствуйте! Не всегда принято оставлять поло...     5 2024-01-20  \n",
       "9558  26.12.23 приобрёл автомобиль в кредит в Драйв ...     1 2024-01-20  \n",
       "9560  20.01.24 произошло ДТП, примерно в 10.00, вызв...     5 2024-01-20  \n",
       "\n",
       "[7430 rows x 5 columns]"
      ]
     },
     "execution_count": 61,
     "metadata": {},
     "output_type": "execute_result"
    }
   ],
   "source": [
    "df"
   ]
  },
  {
   "cell_type": "code",
   "execution_count": 106,
   "metadata": {},
   "outputs": [
    {
     "data": {
      "text/plain": [
       "5    4907\n",
       "1    2128\n",
       "2     221\n",
       "4     120\n",
       "3      54\n",
       "Name: rate, dtype: int64"
      ]
     },
     "execution_count": 106,
     "metadata": {},
     "output_type": "execute_result"
    }
   ],
   "source": [
    "df[\"rate\"].value_counts()"
   ]
  },
  {
   "cell_type": "code",
   "execution_count": 62,
   "metadata": {
    "colab": {
     "base_uri": "https://localhost:8080/",
     "height": 598
    },
    "id": "5Pzh21exCbyH",
    "outputId": "727db4bd-f2cb-469a-a871-a9352f97d0ea"
   },
   "outputs": [
    {
     "data": {
      "image/png": "[encoded data removed]",
      "text/plain": [
       "<Figure size 700x700 with 1 Axes>"
      ]
     },
     "metadata": {},
     "output_type": "display_data"
    }
   ],
   "source": [
    "df[\"rate\"].value_counts().plot.pie(figsize=(7, 7), autopct='%1.1f%%')\n",
    "plt.title(\"Доли классов в несбалансированной выборке\")\n",
    "plt.show()"
   ]
  },
  {
   "cell_type": "markdown",
   "metadata": {
    "id": "zDKWGT41fIoz"
   },
   "source": [
    "На диаграмме выше видно, что имеется большой разброс в рейтинге:\n",
    "* максимальное значение - 66.0% (оценка 5)\n",
    "* минимальное значение - 0.7% (оценка 3)\n",
    "\n",
    "Поэтому необходимо провести балансировку классов с помощью метода RandomOverSampler."
   ]
  },
  {
   "cell_type": "code",
   "execution_count": 72,
   "metadata": {},
   "outputs": [
    {
     "data": {
      "text/plain": [
       "header            object\n",
       "bank              object\n",
       "review            object\n",
       "rate               int64\n",
       "date      datetime64[ns]\n",
       "dtype: object"
      ]
     },
     "execution_count": 72,
     "metadata": {},
     "output_type": "execute_result"
    }
   ],
   "source": [
    "df.dtypes"
   ]
  },
  {
   "cell_type": "code",
   "execution_count": 102,
   "metadata": {
    "id": "YTyZYccpCbvw"
   },
   "outputs": [
    {
     "data": {
      "text/html": [
       "<div>\n",
       "<style scoped>\n",
       "    .dataframe tbody tr th:only-of-type {\n",
       "        vertical-align: middle;\n",
       "    }\n",
       "\n",
       "    .dataframe tbody tr th {\n",
       "        vertical-align: top;\n",
       "    }\n",
       "\n",
       "    .dataframe thead th {\n",
       "        text-align: right;\n",
       "    }\n",
       "</style>\n",
       "<table border=\"1\" class=\"dataframe\">\n",
       "  <thead>\n",
       "    <tr style=\"text-align: right;\">\n",
       "      <th></th>\n",
       "      <th>header</th>\n",
       "      <th>bank</th>\n",
       "      <th>review</th>\n",
       "      <th>date</th>\n",
       "      <th>rate</th>\n",
       "    </tr>\n",
       "  </thead>\n",
       "  <tbody>\n",
       "    <tr>\n",
       "      <th>0</th>\n",
       "      <td>Хорошая страховая компания</td>\n",
       "      <td>Т-Страхование</td>\n",
       "      <td>Оформили каско и не пожалели !  Когда случилос...</td>\n",
       "      <td>2024-09-22</td>\n",
       "      <td>5</td>\n",
       "    </tr>\n",
       "    <tr>\n",
       "      <th>1</th>\n",
       "      <td>За стразовку</td>\n",
       "      <td>Совкомбанк Страхование</td>\n",
       "      <td>Самая дешёвая страховка из всех, в Совкомбанк....</td>\n",
       "      <td>2024-09-22</td>\n",
       "      <td>4</td>\n",
       "    </tr>\n",
       "    <tr>\n",
       "      <th>2</th>\n",
       "      <td>Как я пришел за ОСАГО в Т-Банк</td>\n",
       "      <td>Т-Страхование</td>\n",
       "      <td>Здравствуйте уважаемые СММщики Т-Банка. Пришел...</td>\n",
       "      <td>2024-09-22</td>\n",
       "      <td>1</td>\n",
       "    </tr>\n",
       "    <tr>\n",
       "      <th>3</th>\n",
       "      <td>ОСАГО+КАСКОGO</td>\n",
       "      <td>АльфаСтрахование</td>\n",
       "      <td>Добрый вечер, один свой автомобиль застраховал...</td>\n",
       "      <td>2024-09-22</td>\n",
       "      <td>5</td>\n",
       "    </tr>\n",
       "    <tr>\n",
       "      <th>4</th>\n",
       "      <td>Обман сбербанк страхование семейный актив</td>\n",
       "      <td>Сбербанк страхование жизни</td>\n",
       "      <td>Дорогие человеки,ни в коем случае не связывайт...</td>\n",
       "      <td>2024-09-22</td>\n",
       "      <td>1</td>\n",
       "    </tr>\n",
       "    <tr>\n",
       "      <th>...</th>\n",
       "      <td>...</td>\n",
       "      <td>...</td>\n",
       "      <td>...</td>\n",
       "      <td>...</td>\n",
       "      <td>...</td>\n",
       "    </tr>\n",
       "    <tr>\n",
       "      <th>24530</th>\n",
       "      <td>ОСАГО</td>\n",
       "      <td>Совкомбанк Страхование</td>\n",
       "      <td>Не мог продлить ОСАГО, выскакивала ошибка, в ч...</td>\n",
       "      <td>2024-08-14</td>\n",
       "      <td>4</td>\n",
       "    </tr>\n",
       "    <tr>\n",
       "      <th>24531</th>\n",
       "      <td>Хорошо, только очень медленно</td>\n",
       "      <td>Т-Страхование</td>\n",
       "      <td>Стало плохо с средцем в Турции. Написал в Т-Ст...</td>\n",
       "      <td>2024-09-07</td>\n",
       "      <td>4</td>\n",
       "    </tr>\n",
       "    <tr>\n",
       "      <th>24532</th>\n",
       "      <td>Выплата по ПВУ</td>\n",
       "      <td>Сбербанк страхование</td>\n",
       "      <td>У меня был застрахован автомобиль по полису ос...</td>\n",
       "      <td>2024-05-31</td>\n",
       "      <td>4</td>\n",
       "    </tr>\n",
       "    <tr>\n",
       "      <th>24533</th>\n",
       "      <td>Страхование \"Защита дома\"</td>\n",
       "      <td>Сбербанк страхование</td>\n",
       "      <td>Хочу оставить отзыв о страховании \" Защита дом...</td>\n",
       "      <td>2024-07-04</td>\n",
       "      <td>4</td>\n",
       "    </tr>\n",
       "    <tr>\n",
       "      <th>24534</th>\n",
       "      <td>ОСАГО</td>\n",
       "      <td>СОГАЗ</td>\n",
       "      <td>Здравствуйте. В компании СОГАЗ я не первый год...</td>\n",
       "      <td>2024-07-30</td>\n",
       "      <td>4</td>\n",
       "    </tr>\n",
       "  </tbody>\n",
       "</table>\n",
       "<p>24535 rows × 5 columns</p>\n",
       "</div>"
      ],
      "text/plain": [
       "                                          header                        bank  \\\n",
       "0                     Хорошая страховая компания               Т-Страхование   \n",
       "1                                   За стразовку      Совкомбанк Страхование   \n",
       "2                 Как я пришел за ОСАГО в Т-Банк               Т-Страхование   \n",
       "3                                  ОСАГО+КАСКОGO            АльфаСтрахование   \n",
       "4      Обман сбербанк страхование семейный актив  Сбербанк страхование жизни   \n",
       "...                                          ...                         ...   \n",
       "24530                                      ОСАГО      Совкомбанк Страхование   \n",
       "24531              Хорошо, только очень медленно               Т-Страхование   \n",
       "24532                             Выплата по ПВУ        Сбербанк страхование   \n",
       "24533                  Страхование \"Защита дома\"        Сбербанк страхование   \n",
       "24534                                      ОСАГО                       СОГАЗ   \n",
       "\n",
       "                                                  review       date  rate  \n",
       "0      Оформили каско и не пожалели !  Когда случилос... 2024-09-22     5  \n",
       "1      Самая дешёвая страховка из всех, в Совкомбанк.... 2024-09-22     4  \n",
       "2      Здравствуйте уважаемые СММщики Т-Банка. Пришел... 2024-09-22     1  \n",
       "3      Добрый вечер, один свой автомобиль застраховал... 2024-09-22     5  \n",
       "4      Дорогие человеки,ни в коем случае не связывайт... 2024-09-22     1  \n",
       "...                                                  ...        ...   ...  \n",
       "24530  Не мог продлить ОСАГО, выскакивала ошибка, в ч... 2024-08-14     4  \n",
       "24531  Стало плохо с средцем в Турции. Написал в Т-Ст... 2024-09-07     4  \n",
       "24532  У меня был застрахован автомобиль по полису ос... 2024-05-31     4  \n",
       "24533  Хочу оставить отзыв о страховании \" Защита дом... 2024-07-04     4  \n",
       "24534  Здравствуйте. В компании СОГАЗ я не первый год... 2024-07-30     4  \n",
       "\n",
       "[24535 rows x 5 columns]"
      ]
     },
     "execution_count": 102,
     "metadata": {},
     "output_type": "execute_result"
    }
   ],
   "source": [
    "# Создание экземпляра RandomOverSampler\n",
    "# увеличение\n",
    "ros = RandomOverSampler()\n",
    "\n",
    "y_ros =df[\"rate\"]\n",
    "X_ros = df.drop(columns = [\"rate\"])\n",
    "X_resampled_ros, y_resampled_ros = ros.fit_resample(X_ros, y_ros)\n",
    "\n",
    "df_resampled_ros = pd.DataFrame(X_resampled_ros, columns=X_ros.columns)\n",
    "df_resampled_ros[\"rate\"] = y_resampled_ros\n",
    "\n",
    "df_resampled_ros"
   ]
  },
  {
   "cell_type": "code",
   "execution_count": 103,
   "metadata": {
    "colab": {
     "base_uri": "https://localhost:8080/",
     "height": 619
    },
    "id": "DbXFOan1Cbq6",
    "outputId": "c5bfb735-4b8b-44c5-d568-e459ec7868e5"
   },
   "outputs": [
    {
     "data": {
      "image/png": "[encoded data removed]",
      "text/plain": [
       "<Figure size 700x700 with 1 Axes>"
      ]
     },
     "metadata": {},
     "output_type": "display_data"
    }
   ],
   "source": [
    "df_resampled_ros[\"rate\"].value_counts().sort_index().plot.pie(figsize=(7, 7), autopct='%1.1f%%')\n",
    "plt.title(\"Доли классов в сбалансированной выборке \\n(После применения функции RandomOverSampler)\")\n",
    "plt.show()"
   ]
  },
  {
   "cell_type": "code",
   "execution_count": 105,
   "metadata": {},
   "outputs": [
    {
     "data": {
      "text/plain": [
       "5    4907\n",
       "4    4907\n",
       "1    4907\n",
       "2    4907\n",
       "3    4907\n",
       "Name: rate, dtype: int64"
      ]
     },
     "execution_count": 105,
     "metadata": {},
     "output_type": "execute_result"
    }
   ],
   "source": [
    "df_resampled_ros[\"rate\"].value_counts()"
   ]
  },
  {
   "cell_type": "markdown",
   "metadata": {
    "id": "byRKuC9kf3fv"
   },
   "source": [
    "**Вывод**\n",
    "\n",
    "После применения метода RandomOverSampler можно заметить, что всех значений стало одинаковое количество.\n"
   ]
  },
  {
   "cell_type": "code",
   "execution_count": null,
   "metadata": {
    "id": "To19y-CwCboa"
   },
   "outputs": [],
   "source": [
    "# Создание экземпляра RandomOverSampler(уменьшение)\n",
    "rus = RandomUnderSampler()\n",
    "\n",
    "X_rus = df.drop(columns=[\"rate\"])\n",
    "y_rus = df[\"rate\"]\n",
    "\n",
    "# Применение увеличения выборки к данным\n",
    "X_resampled_rus, y_resampled_rus = rus.fit_resample(X_rus, y_rus)\n",
    "\n",
    "df_resampled_rus = pd.DataFrame(X_resampled_rus, columns=X_rus.columns)\n",
    "df_resampled_rus[\"rate\"] = y_resampled_rus"
   ]
  },
  {
   "cell_type": "code",
   "execution_count": null,
   "metadata": {
    "id": "C41JE9UwCbh0"
   },
   "outputs": [],
   "source": [
    "df_resampled_rus[\"rate\"].value_counts().plot.pie(figsize=(7, 7), autopct='%1.1f%%')\n",
    "plt.title(\"Доли классов в сбалансированной выборке \\n(После применения функции RandomUnderSampler)\")\n",
    "plt.show()"
   ]
  }
 ],
 "metadata": {
  "colab": {
   "collapsed_sections": [
    "_x8LyBgmfmYm",
    "zbwARmT1dQ4R",
    "HPwRM_m6YAW8",
    "Jowuy_96KNR6",
    "Xkl6kKhejM7V",
    "xF8yOrW6Oe_I"
   ],
   "provenance": []
  },
  "kernelspec": {
   "display_name": "Python 3 (ipykernel)",
   "language": "python",
   "name": "python3"
  },
  "language_info": {
   "codemirror_mode": {
    "name": "ipython",
    "version": 3
   },
   "file_extension": ".py",
   "mimetype": "text/x-python",
   "name": "python",
   "nbconvert_exporter": "python",
   "pygments_lexer": "ipython3",
   "version": "3.9.13"
  }
 },
 "nbformat": 4,
 "nbformat_minor": 1
}
